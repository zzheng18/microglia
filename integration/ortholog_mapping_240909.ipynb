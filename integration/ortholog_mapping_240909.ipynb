{
 "cells": [
  {
   "cell_type": "code",
   "execution_count": 2,
   "id": "84c88a80-cad8-428f-9e7f-4f65cf332019",
   "metadata": {
    "tags": []
   },
   "outputs": [],
   "source": [
    "import pandas as pd"
   ]
  },
  {
   "cell_type": "code",
   "execution_count": 3,
   "id": "8fb77599-5acb-466a-9887-c44bfa60d32b",
   "metadata": {
    "tags": []
   },
   "outputs": [],
   "source": [
    "import scanpy as sc"
   ]
  },
  {
   "cell_type": "code",
   "execution_count": 4,
   "id": "adfaff23-c79f-457d-ba89-a33e8491b189",
   "metadata": {
    "tags": []
   },
   "outputs": [
    {
     "name": "stdout",
     "output_type": "stream",
     "text": [
      "Collecting git+https://github.com/vitkl/orthologsBioMART.git\n",
      "  Cloning https://github.com/vitkl/orthologsBioMART.git to /tmp/pip-req-build-3iqrn0r3\n",
      "  Running command git clone --filter=blob:none --quiet https://github.com/vitkl/orthologsBioMART.git /tmp/pip-req-build-3iqrn0r3\n",
      "  Resolved https://github.com/vitkl/orthologsBioMART.git to commit abb98d0815973768e65782c8f910fa7df17c9e79\n",
      "  Preparing metadata (setup.py) ... \u001b[?25ldone\n",
      "\u001b[?25hRequirement already satisfied: pybiomart in /home/icb/daniel.strobl/miniconda3/lib/python3.11/site-packages (from pyorthomap==0.1) (0.2.0)\n",
      "Requirement already satisfied: pandas in /home/icb/daniel.strobl/miniconda3/lib/python3.11/site-packages (from pyorthomap==0.1) (2.1.3)\n",
      "Requirement already satisfied: tqdm in /home/icb/daniel.strobl/miniconda3/lib/python3.11/site-packages (from pyorthomap==0.1) (4.65.0)\n",
      "Requirement already satisfied: numpy<2,>=1.23.2 in /home/icb/daniel.strobl/miniconda3/lib/python3.11/site-packages (from pandas->pyorthomap==0.1) (1.26.2)\n",
      "Requirement already satisfied: python-dateutil>=2.8.2 in /home/icb/daniel.strobl/miniconda3/lib/python3.11/site-packages (from pandas->pyorthomap==0.1) (2.8.2)\n",
      "Requirement already satisfied: pytz>=2020.1 in /home/icb/daniel.strobl/miniconda3/lib/python3.11/site-packages (from pandas->pyorthomap==0.1) (2023.3.post1)\n",
      "Requirement already satisfied: tzdata>=2022.1 in /home/icb/daniel.strobl/miniconda3/lib/python3.11/site-packages (from pandas->pyorthomap==0.1) (2023.3)\n",
      "Requirement already satisfied: future in /home/icb/daniel.strobl/miniconda3/lib/python3.11/site-packages (from pybiomart->pyorthomap==0.1) (1.0.0)\n",
      "Requirement already satisfied: requests in /home/icb/daniel.strobl/miniconda3/lib/python3.11/site-packages (from pybiomart->pyorthomap==0.1) (2.31.0)\n",
      "Requirement already satisfied: requests-cache in /home/icb/daniel.strobl/miniconda3/lib/python3.11/site-packages (from pybiomart->pyorthomap==0.1) (1.2.0)\n",
      "Requirement already satisfied: six>=1.5 in /home/icb/daniel.strobl/miniconda3/lib/python3.11/site-packages (from python-dateutil>=2.8.2->pandas->pyorthomap==0.1) (1.16.0)\n",
      "Requirement already satisfied: charset-normalizer<4,>=2 in /home/icb/daniel.strobl/miniconda3/lib/python3.11/site-packages (from requests->pybiomart->pyorthomap==0.1) (2.0.4)\n",
      "Requirement already satisfied: idna<4,>=2.5 in /home/icb/daniel.strobl/miniconda3/lib/python3.11/site-packages (from requests->pybiomart->pyorthomap==0.1) (3.4)\n",
      "Requirement already satisfied: urllib3<3,>=1.21.1 in /home/icb/daniel.strobl/miniconda3/lib/python3.11/site-packages (from requests->pybiomart->pyorthomap==0.1) (1.26.16)\n",
      "Requirement already satisfied: certifi>=2017.4.17 in /home/icb/daniel.strobl/miniconda3/lib/python3.11/site-packages (from requests->pybiomart->pyorthomap==0.1) (2024.2.2)\n",
      "Requirement already satisfied: attrs>=21.2 in /home/icb/daniel.strobl/miniconda3/lib/python3.11/site-packages (from requests-cache->pybiomart->pyorthomap==0.1) (23.1.0)\n",
      "Requirement already satisfied: cattrs>=22.2 in /home/icb/daniel.strobl/miniconda3/lib/python3.11/site-packages (from requests-cache->pybiomart->pyorthomap==0.1) (23.2.3)\n",
      "Requirement already satisfied: platformdirs>=2.5 in /home/icb/daniel.strobl/miniconda3/lib/python3.11/site-packages (from requests-cache->pybiomart->pyorthomap==0.1) (3.10.0)\n",
      "Requirement already satisfied: url-normalize>=1.4 in /home/icb/daniel.strobl/miniconda3/lib/python3.11/site-packages (from requests-cache->pybiomart->pyorthomap==0.1) (1.4.3)\n",
      "\u001b[33mDEPRECATION: pytorch-lightning 1.6.5 has a non-standard dependency specifier torch>=1.8.*. pip 23.3 will enforce this behaviour change. A possible replacement is to upgrade to a newer version of pytorch-lightning or contact the author to suggest that they release a version with a conforming dependency specifiers. Discussion can be found at https://github.com/pypa/pip/issues/12063\u001b[0m\u001b[33m\n",
      "\u001b[0m"
     ]
    }
   ],
   "source": [
    "!pip install git+https://github.com/vitkl/orthologsBioMART.git"
   ]
  },
  {
   "cell_type": "code",
   "execution_count": 5,
   "id": "45b43975-d602-4817-bae0-ce3ab79c5eeb",
   "metadata": {
    "tags": []
   },
   "outputs": [
    {
     "name": "stderr",
     "output_type": "stream",
     "text": [
      "/home/icb/daniel.strobl/miniconda3/envs/scirpy/lib/python3.10/site-packages/anndata/__init__.py:51: FutureWarning: `anndata.read` is deprecated, use `anndata.read_h5ad` instead. `ad.read` will be removed in mid 2024.\n",
      "  warnings.warn(\n"
     ]
    }
   ],
   "source": [
    "human = sc.read('/lustre/groups/ml01/workspace/daniel.strobl/tcl_atlas/human_ln.h5ad')"
   ]
  },
  {
   "cell_type": "code",
   "execution_count": 6,
   "id": "957c9402-0e04-4eaf-8c60-0c0685e342d3",
   "metadata": {
    "tags": []
   },
   "outputs": [],
   "source": [
    "mouse = sc.read_h5ad('/lustre/groups/ml01/workspace/daniel.strobl/itk_syk/20240909_adata_all_normalized.h5ad')"
   ]
  },
  {
   "cell_type": "code",
   "execution_count": 7,
   "id": "aec7c09b-b55b-4c5f-95ef-734d47dd9e9b",
   "metadata": {
    "tags": []
   },
   "outputs": [],
   "source": [
    "mouse.obs['species'] = 'mouse'\n",
    "mouse.obs['publication'] = 'ruland'"
   ]
  },
  {
   "cell_type": "code",
   "execution_count": 8,
   "id": "86c6cfdf-c809-4327-ac1c-51886a0f2d4f",
   "metadata": {},
   "outputs": [
    {
     "data": {
      "text/plain": [
       "AnnData object with n_obs × n_vars = 68595 × 21217\n",
       "    obs: 'sample', 'n_genes_by_counts', 'log1p_n_genes_by_counts', 'total_counts', 'log1p_total_counts', 'pct_counts_in_top_50_genes', 'pct_counts_in_top_100_genes', 'pct_counts_in_top_200_genes', 'pct_counts_in_top_500_genes', 'total_counts_is_mt', 'log1p_total_counts_is_mt', 'pct_counts_is_mt', 'n_counts', 'n_genes', 'cond', 'tissue', 'donor'\n",
       "    var: 'is_mt', 'n_cells_by_counts', 'mean_counts', 'log1p_mean_counts', 'pct_dropout_by_counts', 'total_counts', 'log1p_total_counts', 'n_cells', 'highly_variable', 'means', 'dispersions', 'dispersions_norm', 'highly_variable_nbatches', 'highly_variable_intersection'\n",
       "    uns: 'cond_colors', 'donor_colors', 'hvg', 'neighbors', 'pca', 'sample_colors', 'tissue_colors', 'umap'\n",
       "    obsm: 'X_pca', 'X_umap'\n",
       "    varm: 'PCs'\n",
       "    layers: 'counts', 'normalized'\n",
       "    obsp: 'connectivities', 'distances'"
      ]
     },
     "execution_count": 8,
     "metadata": {},
     "output_type": "execute_result"
    }
   ],
   "source": [
    "human"
   ]
  },
  {
   "cell_type": "code",
   "execution_count": 9,
   "id": "f117ca89-f687-4af5-9b3a-3c988cfcd1d9",
   "metadata": {},
   "outputs": [
    {
     "data": {
      "text/plain": [
       "sample\n",
       "HLN_HLN7_          6573\n",
       "HLN_HLN3_          5586\n",
       "HLN_HLN5_          5247\n",
       "HLN_HLN1_          5061\n",
       "HLN_HLN6_          5058\n",
       "TFHL_LN_AITL12_    4829\n",
       "TFHL_LN_AITL11_    4297\n",
       "TFHL_LN_AITL10_    4131\n",
       "HLN_HLN2_          4130\n",
       "HLN_HLN4_          4110\n",
       "TFHL_LN_AITL5_     3820\n",
       "TFHL_LN_AITL8_     3626\n",
       "TFHL_LN_PTCL1_     3546\n",
       "TFHL_LN_AITL4_     3537\n",
       "TFHL_LN_AITL9_     3479\n",
       "TFHL_LN_AITL7_     1565\n",
       "Name: count, dtype: int64"
      ]
     },
     "execution_count": 9,
     "metadata": {},
     "output_type": "execute_result"
    }
   ],
   "source": [
    "human.obs['sample'].value_counts()"
   ]
  },
  {
   "cell_type": "code",
   "execution_count": 17,
   "id": "e5dd3fa8-bf36-4839-a44b-6c053934c4a6",
   "metadata": {},
   "outputs": [],
   "source": [
    "mouse.obs['sample'] = mouse.obs['sample'].astype('str')"
   ]
  },
  {
   "cell_type": "code",
   "execution_count": 22,
   "id": "17883701-2757-428e-a9dd-1506b7ad9fa4",
   "metadata": {},
   "outputs": [],
   "source": [
    "mouse.obs.loc[mouse.obs['sample'] == 'nan', 'sample'] = mouse.obs[mouse.obs['sample'] == 'nan'].index.str.split('-1_').str[1]"
   ]
  },
  {
   "cell_type": "code",
   "execution_count": 29,
   "id": "d5633154-12ec-4973-b71b-d23a4be26ab3",
   "metadata": {
    "scrolled": true
   },
   "outputs": [
    {
     "name": "stderr",
     "output_type": "stream",
     "text": [
      "/home/icb/daniel.strobl/miniconda3/envs/scirpy/lib/python3.10/site-packages/scanpy/preprocessing/_highly_variable_genes.py:220: FutureWarning: The default of observed=False is deprecated and will be changed to True in a future version of pandas. Pass observed=False to retain current behavior or observed=True to adopt the future default and silence this warning.\n",
      "  disp_grouped = df.groupby('mean_bin')['dispersions']\n",
      "/home/icb/daniel.strobl/miniconda3/envs/scirpy/lib/python3.10/site-packages/scanpy/preprocessing/_highly_variable_genes.py:220: FutureWarning: The default of observed=False is deprecated and will be changed to True in a future version of pandas. Pass observed=False to retain current behavior or observed=True to adopt the future default and silence this warning.\n",
      "  disp_grouped = df.groupby('mean_bin')['dispersions']\n",
      "/home/icb/daniel.strobl/miniconda3/envs/scirpy/lib/python3.10/site-packages/scanpy/preprocessing/_highly_variable_genes.py:220: FutureWarning: The default of observed=False is deprecated and will be changed to True in a future version of pandas. Pass observed=False to retain current behavior or observed=True to adopt the future default and silence this warning.\n",
      "  disp_grouped = df.groupby('mean_bin')['dispersions']\n",
      "/home/icb/daniel.strobl/miniconda3/envs/scirpy/lib/python3.10/site-packages/scanpy/preprocessing/_highly_variable_genes.py:220: FutureWarning: The default of observed=False is deprecated and will be changed to True in a future version of pandas. Pass observed=False to retain current behavior or observed=True to adopt the future default and silence this warning.\n",
      "  disp_grouped = df.groupby('mean_bin')['dispersions']\n",
      "/home/icb/daniel.strobl/miniconda3/envs/scirpy/lib/python3.10/site-packages/scanpy/preprocessing/_highly_variable_genes.py:220: FutureWarning: The default of observed=False is deprecated and will be changed to True in a future version of pandas. Pass observed=False to retain current behavior or observed=True to adopt the future default and silence this warning.\n",
      "  disp_grouped = df.groupby('mean_bin')['dispersions']\n",
      "/home/icb/daniel.strobl/miniconda3/envs/scirpy/lib/python3.10/site-packages/scanpy/preprocessing/_highly_variable_genes.py:220: FutureWarning: The default of observed=False is deprecated and will be changed to True in a future version of pandas. Pass observed=False to retain current behavior or observed=True to adopt the future default and silence this warning.\n",
      "  disp_grouped = df.groupby('mean_bin')['dispersions']\n",
      "/home/icb/daniel.strobl/miniconda3/envs/scirpy/lib/python3.10/site-packages/scanpy/preprocessing/_highly_variable_genes.py:220: FutureWarning: The default of observed=False is deprecated and will be changed to True in a future version of pandas. Pass observed=False to retain current behavior or observed=True to adopt the future default and silence this warning.\n",
      "  disp_grouped = df.groupby('mean_bin')['dispersions']\n",
      "/home/icb/daniel.strobl/miniconda3/envs/scirpy/lib/python3.10/site-packages/scanpy/preprocessing/_highly_variable_genes.py:220: FutureWarning: The default of observed=False is deprecated and will be changed to True in a future version of pandas. Pass observed=False to retain current behavior or observed=True to adopt the future default and silence this warning.\n",
      "  disp_grouped = df.groupby('mean_bin')['dispersions']\n",
      "/home/icb/daniel.strobl/miniconda3/envs/scirpy/lib/python3.10/site-packages/scanpy/preprocessing/_highly_variable_genes.py:220: FutureWarning: The default of observed=False is deprecated and will be changed to True in a future version of pandas. Pass observed=False to retain current behavior or observed=True to adopt the future default and silence this warning.\n",
      "  disp_grouped = df.groupby('mean_bin')['dispersions']\n",
      "/home/icb/daniel.strobl/miniconda3/envs/scirpy/lib/python3.10/site-packages/scanpy/preprocessing/_highly_variable_genes.py:220: FutureWarning: The default of observed=False is deprecated and will be changed to True in a future version of pandas. Pass observed=False to retain current behavior or observed=True to adopt the future default and silence this warning.\n",
      "  disp_grouped = df.groupby('mean_bin')['dispersions']\n",
      "/home/icb/daniel.strobl/miniconda3/envs/scirpy/lib/python3.10/site-packages/scanpy/preprocessing/_highly_variable_genes.py:220: FutureWarning: The default of observed=False is deprecated and will be changed to True in a future version of pandas. Pass observed=False to retain current behavior or observed=True to adopt the future default and silence this warning.\n",
      "  disp_grouped = df.groupby('mean_bin')['dispersions']\n",
      "/home/icb/daniel.strobl/miniconda3/envs/scirpy/lib/python3.10/site-packages/scanpy/preprocessing/_highly_variable_genes.py:220: FutureWarning: The default of observed=False is deprecated and will be changed to True in a future version of pandas. Pass observed=False to retain current behavior or observed=True to adopt the future default and silence this warning.\n",
      "  disp_grouped = df.groupby('mean_bin')['dispersions']\n",
      "/home/icb/daniel.strobl/miniconda3/envs/scirpy/lib/python3.10/site-packages/scanpy/preprocessing/_highly_variable_genes.py:220: FutureWarning: The default of observed=False is deprecated and will be changed to True in a future version of pandas. Pass observed=False to retain current behavior or observed=True to adopt the future default and silence this warning.\n",
      "  disp_grouped = df.groupby('mean_bin')['dispersions']\n",
      "/home/icb/daniel.strobl/miniconda3/envs/scirpy/lib/python3.10/site-packages/scanpy/preprocessing/_highly_variable_genes.py:220: FutureWarning: The default of observed=False is deprecated and will be changed to True in a future version of pandas. Pass observed=False to retain current behavior or observed=True to adopt the future default and silence this warning.\n",
      "  disp_grouped = df.groupby('mean_bin')['dispersions']\n",
      "/home/icb/daniel.strobl/miniconda3/envs/scirpy/lib/python3.10/site-packages/scanpy/preprocessing/_highly_variable_genes.py:220: FutureWarning: The default of observed=False is deprecated and will be changed to True in a future version of pandas. Pass observed=False to retain current behavior or observed=True to adopt the future default and silence this warning.\n",
      "  disp_grouped = df.groupby('mean_bin')['dispersions']\n",
      "/home/icb/daniel.strobl/miniconda3/envs/scirpy/lib/python3.10/site-packages/scanpy/preprocessing/_highly_variable_genes.py:220: FutureWarning: The default of observed=False is deprecated and will be changed to True in a future version of pandas. Pass observed=False to retain current behavior or observed=True to adopt the future default and silence this warning.\n",
      "  disp_grouped = df.groupby('mean_bin')['dispersions']\n",
      "/home/icb/daniel.strobl/miniconda3/envs/scirpy/lib/python3.10/site-packages/scanpy/preprocessing/_highly_variable_genes.py:499: FutureWarning: The provided callable <function nanmean at 0x7fbd041712d0> is currently using SeriesGroupBy.mean. In a future version of pandas, the provided callable will be used directly. To keep current behavior pass the string \"mean\" instead.\n",
      "  df = df.groupby('gene').agg(\n",
      "/home/icb/daniel.strobl/miniconda3/envs/scirpy/lib/python3.10/site-packages/scanpy/preprocessing/_highly_variable_genes.py:499: FutureWarning: The provided callable <function nanmean at 0x7fbd041712d0> is currently using SeriesGroupBy.mean. In a future version of pandas, the provided callable will be used directly. To keep current behavior pass the string \"mean\" instead.\n",
      "  df = df.groupby('gene').agg(\n",
      "/home/icb/daniel.strobl/miniconda3/envs/scirpy/lib/python3.10/site-packages/scanpy/preprocessing/_highly_variable_genes.py:499: FutureWarning: The provided callable <function nansum at 0x7fbd04170e50> is currently using SeriesGroupBy.sum. In a future version of pandas, the provided callable will be used directly. To keep current behavior pass the string \"sum\" instead.\n",
      "  df = df.groupby('gene').agg(\n"
     ]
    }
   ],
   "source": [
    "sc.pp.highly_variable_genes(human, batch_key='sample', layer='normalized', n_top_genes=2000)"
   ]
  },
  {
   "cell_type": "code",
   "execution_count": 11,
   "id": "ff4884ba-9455-4502-9849-ba310eda2af1",
   "metadata": {},
   "outputs": [],
   "source": [
    "mouse.X = mouse.layers['normalized_log1p']"
   ]
  },
  {
   "cell_type": "code",
   "execution_count": 28,
   "id": "c4ea8349-c1b4-4774-843e-e1477caf3e43",
   "metadata": {},
   "outputs": [
    {
     "data": {
      "text/plain": [
       "matrix([[0.        , 0.        , 0.        , 2.05464582, 8.64772017,\n",
       "         2.68157937, 0.        , 0.        , 0.        ],\n",
       "        [0.        , 0.        , 0.        , 1.38235846, 9.32153833,\n",
       "         2.29786015, 0.69052497, 0.        , 0.        ],\n",
       "        [0.        , 0.        , 0.        , 2.26221354, 7.88598234,\n",
       "         2.81986561, 0.        , 0.        , 0.        ],\n",
       "        [0.        , 0.        , 0.        , 1.64223426, 9.04327998,\n",
       "         3.59503441, 0.        , 0.        , 0.        ],\n",
       "        [0.        , 0.        , 0.        , 2.36706002, 8.87517813,\n",
       "         3.59572078, 0.        , 0.        , 0.        ],\n",
       "        [0.        , 0.        , 0.        , 2.85337818, 9.79484635,\n",
       "         3.38797682, 0.        , 0.        , 0.        ],\n",
       "        [0.        , 0.        , 0.        , 2.76314074, 8.94148992,\n",
       "         3.75135468, 0.        , 0.        , 0.        ],\n",
       "        [0.        , 0.        , 0.        , 3.19299696, 9.76170108,\n",
       "         4.12292316, 0.        , 0.        , 0.        ],\n",
       "        [0.        , 0.        , 0.        , 3.65486868, 7.1631249 ,\n",
       "         4.33499906, 0.        , 0.        , 0.        ]])"
      ]
     },
     "execution_count": 28,
     "metadata": {},
     "output_type": "execute_result"
    }
   ],
   "source": [
    "mouse.X[1:10,1:10].todense()"
   ]
  },
  {
   "cell_type": "code",
   "execution_count": 30,
   "id": "45a2914a-761d-42bf-8fac-cb19b1ef9118",
   "metadata": {},
   "outputs": [],
   "source": [
    "mouse.var_names_make_unique()"
   ]
  },
  {
   "cell_type": "code",
   "execution_count": 25,
   "id": "513b8c09-5f38-4bd5-8423-b4089cdcbb55",
   "metadata": {},
   "outputs": [],
   "source": [
    "sc.pp.filter_genes(mouse, min_cells=5)"
   ]
  },
  {
   "cell_type": "code",
   "execution_count": 26,
   "id": "3efe87bc-bd27-4e75-82d6-f246b7c31a19",
   "metadata": {
    "collapsed": true,
    "jupyter": {
     "outputs_hidden": true
    }
   },
   "outputs": [
    {
     "name": "stderr",
     "output_type": "stream",
     "text": [
      "/home/icb/daniel.strobl/miniconda3/envs/scirpy/lib/python3.10/site-packages/scanpy/preprocessing/_highly_variable_genes.py:220: FutureWarning: The default of observed=False is deprecated and will be changed to True in a future version of pandas. Pass observed=False to retain current behavior or observed=True to adopt the future default and silence this warning.\n",
      "  disp_grouped = df.groupby('mean_bin')['dispersions']\n",
      "/home/icb/daniel.strobl/miniconda3/envs/scirpy/lib/python3.10/site-packages/scanpy/preprocessing/_highly_variable_genes.py:220: FutureWarning: The default of observed=False is deprecated and will be changed to True in a future version of pandas. Pass observed=False to retain current behavior or observed=True to adopt the future default and silence this warning.\n",
      "  disp_grouped = df.groupby('mean_bin')['dispersions']\n",
      "/home/icb/daniel.strobl/miniconda3/envs/scirpy/lib/python3.10/site-packages/scanpy/preprocessing/_highly_variable_genes.py:220: FutureWarning: The default of observed=False is deprecated and will be changed to True in a future version of pandas. Pass observed=False to retain current behavior or observed=True to adopt the future default and silence this warning.\n",
      "  disp_grouped = df.groupby('mean_bin')['dispersions']\n",
      "/home/icb/daniel.strobl/miniconda3/envs/scirpy/lib/python3.10/site-packages/scanpy/preprocessing/_highly_variable_genes.py:220: FutureWarning: The default of observed=False is deprecated and will be changed to True in a future version of pandas. Pass observed=False to retain current behavior or observed=True to adopt the future default and silence this warning.\n",
      "  disp_grouped = df.groupby('mean_bin')['dispersions']\n",
      "/home/icb/daniel.strobl/miniconda3/envs/scirpy/lib/python3.10/site-packages/scanpy/preprocessing/_highly_variable_genes.py:220: FutureWarning: The default of observed=False is deprecated and will be changed to True in a future version of pandas. Pass observed=False to retain current behavior or observed=True to adopt the future default and silence this warning.\n",
      "  disp_grouped = df.groupby('mean_bin')['dispersions']\n",
      "/home/icb/daniel.strobl/miniconda3/envs/scirpy/lib/python3.10/site-packages/scanpy/preprocessing/_highly_variable_genes.py:220: FutureWarning: The default of observed=False is deprecated and will be changed to True in a future version of pandas. Pass observed=False to retain current behavior or observed=True to adopt the future default and silence this warning.\n",
      "  disp_grouped = df.groupby('mean_bin')['dispersions']\n",
      "/home/icb/daniel.strobl/miniconda3/envs/scirpy/lib/python3.10/site-packages/scanpy/preprocessing/_highly_variable_genes.py:220: FutureWarning: The default of observed=False is deprecated and will be changed to True in a future version of pandas. Pass observed=False to retain current behavior or observed=True to adopt the future default and silence this warning.\n",
      "  disp_grouped = df.groupby('mean_bin')['dispersions']\n",
      "/home/icb/daniel.strobl/miniconda3/envs/scirpy/lib/python3.10/site-packages/scanpy/preprocessing/_highly_variable_genes.py:220: FutureWarning: The default of observed=False is deprecated and will be changed to True in a future version of pandas. Pass observed=False to retain current behavior or observed=True to adopt the future default and silence this warning.\n",
      "  disp_grouped = df.groupby('mean_bin')['dispersions']\n",
      "/home/icb/daniel.strobl/miniconda3/envs/scirpy/lib/python3.10/site-packages/scanpy/preprocessing/_highly_variable_genes.py:220: FutureWarning: The default of observed=False is deprecated and will be changed to True in a future version of pandas. Pass observed=False to retain current behavior or observed=True to adopt the future default and silence this warning.\n",
      "  disp_grouped = df.groupby('mean_bin')['dispersions']\n",
      "/home/icb/daniel.strobl/miniconda3/envs/scirpy/lib/python3.10/site-packages/scanpy/preprocessing/_highly_variable_genes.py:220: FutureWarning: The default of observed=False is deprecated and will be changed to True in a future version of pandas. Pass observed=False to retain current behavior or observed=True to adopt the future default and silence this warning.\n",
      "  disp_grouped = df.groupby('mean_bin')['dispersions']\n",
      "/home/icb/daniel.strobl/miniconda3/envs/scirpy/lib/python3.10/site-packages/scanpy/preprocessing/_highly_variable_genes.py:220: FutureWarning: The default of observed=False is deprecated and will be changed to True in a future version of pandas. Pass observed=False to retain current behavior or observed=True to adopt the future default and silence this warning.\n",
      "  disp_grouped = df.groupby('mean_bin')['dispersions']\n",
      "/home/icb/daniel.strobl/miniconda3/envs/scirpy/lib/python3.10/site-packages/scanpy/preprocessing/_highly_variable_genes.py:220: FutureWarning: The default of observed=False is deprecated and will be changed to True in a future version of pandas. Pass observed=False to retain current behavior or observed=True to adopt the future default and silence this warning.\n",
      "  disp_grouped = df.groupby('mean_bin')['dispersions']\n",
      "/home/icb/daniel.strobl/miniconda3/envs/scirpy/lib/python3.10/site-packages/scanpy/preprocessing/_highly_variable_genes.py:220: FutureWarning: The default of observed=False is deprecated and will be changed to True in a future version of pandas. Pass observed=False to retain current behavior or observed=True to adopt the future default and silence this warning.\n",
      "  disp_grouped = df.groupby('mean_bin')['dispersions']\n",
      "/home/icb/daniel.strobl/miniconda3/envs/scirpy/lib/python3.10/site-packages/scanpy/preprocessing/_highly_variable_genes.py:220: FutureWarning: The default of observed=False is deprecated and will be changed to True in a future version of pandas. Pass observed=False to retain current behavior or observed=True to adopt the future default and silence this warning.\n",
      "  disp_grouped = df.groupby('mean_bin')['dispersions']\n",
      "/home/icb/daniel.strobl/miniconda3/envs/scirpy/lib/python3.10/site-packages/scanpy/preprocessing/_highly_variable_genes.py:220: FutureWarning: The default of observed=False is deprecated and will be changed to True in a future version of pandas. Pass observed=False to retain current behavior or observed=True to adopt the future default and silence this warning.\n",
      "  disp_grouped = df.groupby('mean_bin')['dispersions']\n",
      "/home/icb/daniel.strobl/miniconda3/envs/scirpy/lib/python3.10/site-packages/scanpy/preprocessing/_highly_variable_genes.py:220: FutureWarning: The default of observed=False is deprecated and will be changed to True in a future version of pandas. Pass observed=False to retain current behavior or observed=True to adopt the future default and silence this warning.\n",
      "  disp_grouped = df.groupby('mean_bin')['dispersions']\n",
      "/home/icb/daniel.strobl/miniconda3/envs/scirpy/lib/python3.10/site-packages/scanpy/preprocessing/_highly_variable_genes.py:220: FutureWarning: The default of observed=False is deprecated and will be changed to True in a future version of pandas. Pass observed=False to retain current behavior or observed=True to adopt the future default and silence this warning.\n",
      "  disp_grouped = df.groupby('mean_bin')['dispersions']\n",
      "/home/icb/daniel.strobl/miniconda3/envs/scirpy/lib/python3.10/site-packages/scanpy/preprocessing/_highly_variable_genes.py:220: FutureWarning: The default of observed=False is deprecated and will be changed to True in a future version of pandas. Pass observed=False to retain current behavior or observed=True to adopt the future default and silence this warning.\n",
      "  disp_grouped = df.groupby('mean_bin')['dispersions']\n",
      "/home/icb/daniel.strobl/miniconda3/envs/scirpy/lib/python3.10/site-packages/scanpy/preprocessing/_highly_variable_genes.py:220: FutureWarning: The default of observed=False is deprecated and will be changed to True in a future version of pandas. Pass observed=False to retain current behavior or observed=True to adopt the future default and silence this warning.\n",
      "  disp_grouped = df.groupby('mean_bin')['dispersions']\n",
      "/home/icb/daniel.strobl/miniconda3/envs/scirpy/lib/python3.10/site-packages/scanpy/preprocessing/_highly_variable_genes.py:220: FutureWarning: The default of observed=False is deprecated and will be changed to True in a future version of pandas. Pass observed=False to retain current behavior or observed=True to adopt the future default and silence this warning.\n",
      "  disp_grouped = df.groupby('mean_bin')['dispersions']\n",
      "/home/icb/daniel.strobl/miniconda3/envs/scirpy/lib/python3.10/site-packages/scanpy/preprocessing/_highly_variable_genes.py:220: FutureWarning: The default of observed=False is deprecated and will be changed to True in a future version of pandas. Pass observed=False to retain current behavior or observed=True to adopt the future default and silence this warning.\n",
      "  disp_grouped = df.groupby('mean_bin')['dispersions']\n",
      "/home/icb/daniel.strobl/miniconda3/envs/scirpy/lib/python3.10/site-packages/scanpy/preprocessing/_highly_variable_genes.py:220: FutureWarning: The default of observed=False is deprecated and will be changed to True in a future version of pandas. Pass observed=False to retain current behavior or observed=True to adopt the future default and silence this warning.\n",
      "  disp_grouped = df.groupby('mean_bin')['dispersions']\n",
      "/home/icb/daniel.strobl/miniconda3/envs/scirpy/lib/python3.10/site-packages/scanpy/preprocessing/_highly_variable_genes.py:220: FutureWarning: The default of observed=False is deprecated and will be changed to True in a future version of pandas. Pass observed=False to retain current behavior or observed=True to adopt the future default and silence this warning.\n",
      "  disp_grouped = df.groupby('mean_bin')['dispersions']\n",
      "/home/icb/daniel.strobl/miniconda3/envs/scirpy/lib/python3.10/site-packages/scanpy/preprocessing/_highly_variable_genes.py:220: FutureWarning: The default of observed=False is deprecated and will be changed to True in a future version of pandas. Pass observed=False to retain current behavior or observed=True to adopt the future default and silence this warning.\n",
      "  disp_grouped = df.groupby('mean_bin')['dispersions']\n",
      "/home/icb/daniel.strobl/miniconda3/envs/scirpy/lib/python3.10/site-packages/scanpy/preprocessing/_highly_variable_genes.py:220: FutureWarning: The default of observed=False is deprecated and will be changed to True in a future version of pandas. Pass observed=False to retain current behavior or observed=True to adopt the future default and silence this warning.\n",
      "  disp_grouped = df.groupby('mean_bin')['dispersions']\n",
      "/home/icb/daniel.strobl/miniconda3/envs/scirpy/lib/python3.10/site-packages/scanpy/preprocessing/_highly_variable_genes.py:220: FutureWarning: The default of observed=False is deprecated and will be changed to True in a future version of pandas. Pass observed=False to retain current behavior or observed=True to adopt the future default and silence this warning.\n",
      "  disp_grouped = df.groupby('mean_bin')['dispersions']\n",
      "/home/icb/daniel.strobl/miniconda3/envs/scirpy/lib/python3.10/site-packages/scanpy/preprocessing/_highly_variable_genes.py:220: FutureWarning: The default of observed=False is deprecated and will be changed to True in a future version of pandas. Pass observed=False to retain current behavior or observed=True to adopt the future default and silence this warning.\n",
      "  disp_grouped = df.groupby('mean_bin')['dispersions']\n",
      "/home/icb/daniel.strobl/miniconda3/envs/scirpy/lib/python3.10/site-packages/scanpy/preprocessing/_highly_variable_genes.py:220: FutureWarning: The default of observed=False is deprecated and will be changed to True in a future version of pandas. Pass observed=False to retain current behavior or observed=True to adopt the future default and silence this warning.\n",
      "  disp_grouped = df.groupby('mean_bin')['dispersions']\n",
      "/home/icb/daniel.strobl/miniconda3/envs/scirpy/lib/python3.10/site-packages/scanpy/preprocessing/_highly_variable_genes.py:220: FutureWarning: The default of observed=False is deprecated and will be changed to True in a future version of pandas. Pass observed=False to retain current behavior or observed=True to adopt the future default and silence this warning.\n",
      "  disp_grouped = df.groupby('mean_bin')['dispersions']\n",
      "/home/icb/daniel.strobl/miniconda3/envs/scirpy/lib/python3.10/site-packages/scanpy/preprocessing/_highly_variable_genes.py:220: FutureWarning: The default of observed=False is deprecated and will be changed to True in a future version of pandas. Pass observed=False to retain current behavior or observed=True to adopt the future default and silence this warning.\n",
      "  disp_grouped = df.groupby('mean_bin')['dispersions']\n",
      "/home/icb/daniel.strobl/miniconda3/envs/scirpy/lib/python3.10/site-packages/scanpy/preprocessing/_highly_variable_genes.py:220: FutureWarning: The default of observed=False is deprecated and will be changed to True in a future version of pandas. Pass observed=False to retain current behavior or observed=True to adopt the future default and silence this warning.\n",
      "  disp_grouped = df.groupby('mean_bin')['dispersions']\n",
      "/home/icb/daniel.strobl/miniconda3/envs/scirpy/lib/python3.10/site-packages/scanpy/preprocessing/_highly_variable_genes.py:220: FutureWarning: The default of observed=False is deprecated and will be changed to True in a future version of pandas. Pass observed=False to retain current behavior or observed=True to adopt the future default and silence this warning.\n",
      "  disp_grouped = df.groupby('mean_bin')['dispersions']\n",
      "/home/icb/daniel.strobl/miniconda3/envs/scirpy/lib/python3.10/site-packages/scanpy/preprocessing/_highly_variable_genes.py:220: FutureWarning: The default of observed=False is deprecated and will be changed to True in a future version of pandas. Pass observed=False to retain current behavior or observed=True to adopt the future default and silence this warning.\n",
      "  disp_grouped = df.groupby('mean_bin')['dispersions']\n",
      "/home/icb/daniel.strobl/miniconda3/envs/scirpy/lib/python3.10/site-packages/scanpy/preprocessing/_highly_variable_genes.py:220: FutureWarning: The default of observed=False is deprecated and will be changed to True in a future version of pandas. Pass observed=False to retain current behavior or observed=True to adopt the future default and silence this warning.\n",
      "  disp_grouped = df.groupby('mean_bin')['dispersions']\n",
      "/home/icb/daniel.strobl/miniconda3/envs/scirpy/lib/python3.10/site-packages/scanpy/preprocessing/_highly_variable_genes.py:220: FutureWarning: The default of observed=False is deprecated and will be changed to True in a future version of pandas. Pass observed=False to retain current behavior or observed=True to adopt the future default and silence this warning.\n",
      "  disp_grouped = df.groupby('mean_bin')['dispersions']\n",
      "/home/icb/daniel.strobl/miniconda3/envs/scirpy/lib/python3.10/site-packages/scanpy/preprocessing/_highly_variable_genes.py:220: FutureWarning: The default of observed=False is deprecated and will be changed to True in a future version of pandas. Pass observed=False to retain current behavior or observed=True to adopt the future default and silence this warning.\n",
      "  disp_grouped = df.groupby('mean_bin')['dispersions']\n",
      "/home/icb/daniel.strobl/miniconda3/envs/scirpy/lib/python3.10/site-packages/scanpy/preprocessing/_highly_variable_genes.py:220: FutureWarning: The default of observed=False is deprecated and will be changed to True in a future version of pandas. Pass observed=False to retain current behavior or observed=True to adopt the future default and silence this warning.\n",
      "  disp_grouped = df.groupby('mean_bin')['dispersions']\n",
      "/home/icb/daniel.strobl/miniconda3/envs/scirpy/lib/python3.10/site-packages/scanpy/preprocessing/_highly_variable_genes.py:220: FutureWarning: The default of observed=False is deprecated and will be changed to True in a future version of pandas. Pass observed=False to retain current behavior or observed=True to adopt the future default and silence this warning.\n",
      "  disp_grouped = df.groupby('mean_bin')['dispersions']\n",
      "/home/icb/daniel.strobl/miniconda3/envs/scirpy/lib/python3.10/site-packages/scanpy/preprocessing/_highly_variable_genes.py:220: FutureWarning: The default of observed=False is deprecated and will be changed to True in a future version of pandas. Pass observed=False to retain current behavior or observed=True to adopt the future default and silence this warning.\n",
      "  disp_grouped = df.groupby('mean_bin')['dispersions']\n",
      "/home/icb/daniel.strobl/miniconda3/envs/scirpy/lib/python3.10/site-packages/scanpy/preprocessing/_highly_variable_genes.py:220: FutureWarning: The default of observed=False is deprecated and will be changed to True in a future version of pandas. Pass observed=False to retain current behavior or observed=True to adopt the future default and silence this warning.\n",
      "  disp_grouped = df.groupby('mean_bin')['dispersions']\n",
      "/home/icb/daniel.strobl/miniconda3/envs/scirpy/lib/python3.10/site-packages/scanpy/preprocessing/_highly_variable_genes.py:220: FutureWarning: The default of observed=False is deprecated and will be changed to True in a future version of pandas. Pass observed=False to retain current behavior or observed=True to adopt the future default and silence this warning.\n",
      "  disp_grouped = df.groupby('mean_bin')['dispersions']\n",
      "/home/icb/daniel.strobl/miniconda3/envs/scirpy/lib/python3.10/site-packages/scanpy/preprocessing/_highly_variable_genes.py:220: FutureWarning: The default of observed=False is deprecated and will be changed to True in a future version of pandas. Pass observed=False to retain current behavior or observed=True to adopt the future default and silence this warning.\n",
      "  disp_grouped = df.groupby('mean_bin')['dispersions']\n",
      "/home/icb/daniel.strobl/miniconda3/envs/scirpy/lib/python3.10/site-packages/scanpy/preprocessing/_highly_variable_genes.py:220: FutureWarning: The default of observed=False is deprecated and will be changed to True in a future version of pandas. Pass observed=False to retain current behavior or observed=True to adopt the future default and silence this warning.\n",
      "  disp_grouped = df.groupby('mean_bin')['dispersions']\n",
      "/home/icb/daniel.strobl/miniconda3/envs/scirpy/lib/python3.10/site-packages/scanpy/preprocessing/_highly_variable_genes.py:220: FutureWarning: The default of observed=False is deprecated and will be changed to True in a future version of pandas. Pass observed=False to retain current behavior or observed=True to adopt the future default and silence this warning.\n",
      "  disp_grouped = df.groupby('mean_bin')['dispersions']\n",
      "/home/icb/daniel.strobl/miniconda3/envs/scirpy/lib/python3.10/site-packages/scanpy/preprocessing/_highly_variable_genes.py:220: FutureWarning: The default of observed=False is deprecated and will be changed to True in a future version of pandas. Pass observed=False to retain current behavior or observed=True to adopt the future default and silence this warning.\n",
      "  disp_grouped = df.groupby('mean_bin')['dispersions']\n",
      "/home/icb/daniel.strobl/miniconda3/envs/scirpy/lib/python3.10/site-packages/scanpy/preprocessing/_highly_variable_genes.py:220: FutureWarning: The default of observed=False is deprecated and will be changed to True in a future version of pandas. Pass observed=False to retain current behavior or observed=True to adopt the future default and silence this warning.\n",
      "  disp_grouped = df.groupby('mean_bin')['dispersions']\n",
      "/home/icb/daniel.strobl/miniconda3/envs/scirpy/lib/python3.10/site-packages/scanpy/preprocessing/_highly_variable_genes.py:220: FutureWarning: The default of observed=False is deprecated and will be changed to True in a future version of pandas. Pass observed=False to retain current behavior or observed=True to adopt the future default and silence this warning.\n",
      "  disp_grouped = df.groupby('mean_bin')['dispersions']\n",
      "/home/icb/daniel.strobl/miniconda3/envs/scirpy/lib/python3.10/site-packages/scanpy/preprocessing/_highly_variable_genes.py:220: FutureWarning: The default of observed=False is deprecated and will be changed to True in a future version of pandas. Pass observed=False to retain current behavior or observed=True to adopt the future default and silence this warning.\n",
      "  disp_grouped = df.groupby('mean_bin')['dispersions']\n",
      "/home/icb/daniel.strobl/miniconda3/envs/scirpy/lib/python3.10/site-packages/scanpy/preprocessing/_highly_variable_genes.py:220: FutureWarning: The default of observed=False is deprecated and will be changed to True in a future version of pandas. Pass observed=False to retain current behavior or observed=True to adopt the future default and silence this warning.\n",
      "  disp_grouped = df.groupby('mean_bin')['dispersions']\n",
      "/home/icb/daniel.strobl/miniconda3/envs/scirpy/lib/python3.10/site-packages/scanpy/preprocessing/_highly_variable_genes.py:220: FutureWarning: The default of observed=False is deprecated and will be changed to True in a future version of pandas. Pass observed=False to retain current behavior or observed=True to adopt the future default and silence this warning.\n",
      "  disp_grouped = df.groupby('mean_bin')['dispersions']\n",
      "/home/icb/daniel.strobl/miniconda3/envs/scirpy/lib/python3.10/site-packages/scanpy/preprocessing/_highly_variable_genes.py:220: FutureWarning: The default of observed=False is deprecated and will be changed to True in a future version of pandas. Pass observed=False to retain current behavior or observed=True to adopt the future default and silence this warning.\n",
      "  disp_grouped = df.groupby('mean_bin')['dispersions']\n",
      "/home/icb/daniel.strobl/miniconda3/envs/scirpy/lib/python3.10/site-packages/scanpy/preprocessing/_highly_variable_genes.py:220: FutureWarning: The default of observed=False is deprecated and will be changed to True in a future version of pandas. Pass observed=False to retain current behavior or observed=True to adopt the future default and silence this warning.\n",
      "  disp_grouped = df.groupby('mean_bin')['dispersions']\n",
      "/home/icb/daniel.strobl/miniconda3/envs/scirpy/lib/python3.10/site-packages/scanpy/preprocessing/_highly_variable_genes.py:220: FutureWarning: The default of observed=False is deprecated and will be changed to True in a future version of pandas. Pass observed=False to retain current behavior or observed=True to adopt the future default and silence this warning.\n",
      "  disp_grouped = df.groupby('mean_bin')['dispersions']\n",
      "/home/icb/daniel.strobl/miniconda3/envs/scirpy/lib/python3.10/site-packages/scanpy/preprocessing/_highly_variable_genes.py:220: FutureWarning: The default of observed=False is deprecated and will be changed to True in a future version of pandas. Pass observed=False to retain current behavior or observed=True to adopt the future default and silence this warning.\n",
      "  disp_grouped = df.groupby('mean_bin')['dispersions']\n",
      "/home/icb/daniel.strobl/miniconda3/envs/scirpy/lib/python3.10/site-packages/scanpy/preprocessing/_highly_variable_genes.py:220: FutureWarning: The default of observed=False is deprecated and will be changed to True in a future version of pandas. Pass observed=False to retain current behavior or observed=True to adopt the future default and silence this warning.\n",
      "  disp_grouped = df.groupby('mean_bin')['dispersions']\n",
      "/home/icb/daniel.strobl/miniconda3/envs/scirpy/lib/python3.10/site-packages/scanpy/preprocessing/_highly_variable_genes.py:220: FutureWarning: The default of observed=False is deprecated and will be changed to True in a future version of pandas. Pass observed=False to retain current behavior or observed=True to adopt the future default and silence this warning.\n",
      "  disp_grouped = df.groupby('mean_bin')['dispersions']\n",
      "/home/icb/daniel.strobl/miniconda3/envs/scirpy/lib/python3.10/site-packages/scanpy/preprocessing/_highly_variable_genes.py:220: FutureWarning: The default of observed=False is deprecated and will be changed to True in a future version of pandas. Pass observed=False to retain current behavior or observed=True to adopt the future default and silence this warning.\n",
      "  disp_grouped = df.groupby('mean_bin')['dispersions']\n",
      "/home/icb/daniel.strobl/miniconda3/envs/scirpy/lib/python3.10/site-packages/scanpy/preprocessing/_highly_variable_genes.py:220: FutureWarning: The default of observed=False is deprecated and will be changed to True in a future version of pandas. Pass observed=False to retain current behavior or observed=True to adopt the future default and silence this warning.\n",
      "  disp_grouped = df.groupby('mean_bin')['dispersions']\n",
      "/home/icb/daniel.strobl/miniconda3/envs/scirpy/lib/python3.10/site-packages/scanpy/preprocessing/_highly_variable_genes.py:220: FutureWarning: The default of observed=False is deprecated and will be changed to True in a future version of pandas. Pass observed=False to retain current behavior or observed=True to adopt the future default and silence this warning.\n",
      "  disp_grouped = df.groupby('mean_bin')['dispersions']\n",
      "/home/icb/daniel.strobl/miniconda3/envs/scirpy/lib/python3.10/site-packages/scanpy/preprocessing/_highly_variable_genes.py:220: FutureWarning: The default of observed=False is deprecated and will be changed to True in a future version of pandas. Pass observed=False to retain current behavior or observed=True to adopt the future default and silence this warning.\n",
      "  disp_grouped = df.groupby('mean_bin')['dispersions']\n",
      "/home/icb/daniel.strobl/miniconda3/envs/scirpy/lib/python3.10/site-packages/scanpy/preprocessing/_highly_variable_genes.py:220: FutureWarning: The default of observed=False is deprecated and will be changed to True in a future version of pandas. Pass observed=False to retain current behavior or observed=True to adopt the future default and silence this warning.\n",
      "  disp_grouped = df.groupby('mean_bin')['dispersions']\n",
      "/home/icb/daniel.strobl/miniconda3/envs/scirpy/lib/python3.10/site-packages/scanpy/preprocessing/_highly_variable_genes.py:499: FutureWarning: The provided callable <function nanmean at 0x7fbd041712d0> is currently using SeriesGroupBy.mean. In a future version of pandas, the provided callable will be used directly. To keep current behavior pass the string \"mean\" instead.\n",
      "  df = df.groupby('gene').agg(\n",
      "/home/icb/daniel.strobl/miniconda3/envs/scirpy/lib/python3.10/site-packages/scanpy/preprocessing/_highly_variable_genes.py:499: FutureWarning: The provided callable <function nanmean at 0x7fbd041712d0> is currently using SeriesGroupBy.mean. In a future version of pandas, the provided callable will be used directly. To keep current behavior pass the string \"mean\" instead.\n",
      "  df = df.groupby('gene').agg(\n",
      "/home/icb/daniel.strobl/miniconda3/envs/scirpy/lib/python3.10/site-packages/scanpy/preprocessing/_highly_variable_genes.py:499: FutureWarning: The provided callable <function nansum at 0x7fbd04170e50> is currently using SeriesGroupBy.sum. In a future version of pandas, the provided callable will be used directly. To keep current behavior pass the string \"sum\" instead.\n",
      "  df = df.groupby('gene').agg(\n"
     ]
    }
   ],
   "source": [
    "sc.pp.highly_variable_genes(mouse, batch_key='sample')"
   ]
  },
  {
   "cell_type": "code",
   "execution_count": 30,
   "id": "f7662ca1-6276-4948-b149-8d99bf4a1d4c",
   "metadata": {
    "tags": []
   },
   "outputs": [
    {
     "data": {
      "text/plain": [
       "View of AnnData object with n_obs × n_vars = 68595 × 2000\n",
       "    obs: 'sample', 'n_genes_by_counts', 'log1p_n_genes_by_counts', 'total_counts', 'log1p_total_counts', 'pct_counts_in_top_50_genes', 'pct_counts_in_top_100_genes', 'pct_counts_in_top_200_genes', 'pct_counts_in_top_500_genes', 'total_counts_is_mt', 'log1p_total_counts_is_mt', 'pct_counts_is_mt', 'n_counts', 'n_genes', 'cond', 'tissue', 'donor'\n",
       "    var: 'is_mt', 'n_cells_by_counts', 'mean_counts', 'log1p_mean_counts', 'pct_dropout_by_counts', 'total_counts', 'log1p_total_counts', 'n_cells', 'highly_variable', 'means', 'dispersions', 'dispersions_norm', 'highly_variable_nbatches', 'highly_variable_intersection'\n",
       "    uns: 'cond_colors', 'donor_colors', 'hvg', 'neighbors', 'pca', 'sample_colors', 'tissue_colors', 'umap'\n",
       "    obsm: 'X_pca', 'X_umap'\n",
       "    varm: 'PCs'\n",
       "    layers: 'counts', 'normalized'\n",
       "    obsp: 'connectivities', 'distances'"
      ]
     },
     "execution_count": 30,
     "metadata": {},
     "output_type": "execute_result"
    }
   ],
   "source": [
    "human[:,human.var.highly_variable]"
   ]
  },
  {
   "cell_type": "code",
   "execution_count": 28,
   "id": "9eb878fe-faa0-4ad1-816f-0cf908b5634a",
   "metadata": {},
   "outputs": [
    {
     "data": {
      "text/plain": [
       "View of AnnData object with n_obs × n_vars = 154129 × 1773\n",
       "    obs: 'sample', 'run', 'barcode', 'n_genes_by_counts', 'log1p_n_genes_by_counts', 'total_counts', 'log1p_total_counts', 'pct_counts_in_top_50_genes', 'pct_counts_in_top_100_genes', 'pct_counts_in_top_200_genes', 'pct_counts_in_top_500_genes', 'n_counts', 'size_factors', 'condition', 'day', 'genotype', 'leiden', 'doublet_scores', 'leiden_named', 'batch', 'n_genes', 'id', 'h_id', 'species', 'publication'\n",
       "    var: 'n_cells', 'highly_variable', 'means', 'dispersions', 'dispersions_norm', 'highly_variable_nbatches', 'highly_variable_intersection'\n",
       "    uns: 'hvg'\n",
       "    obsm: 'X_pca', 'X_umap'\n",
       "    layers: 'counts', 'normalized', 'normalized_log1p'"
      ]
     },
     "execution_count": 28,
     "metadata": {},
     "output_type": "execute_result"
    }
   ],
   "source": [
    "mouse[:,mouse.var.highly_variable]"
   ]
  },
  {
   "cell_type": "code",
   "execution_count": 31,
   "id": "22390ed6-6a59-4295-8462-484c20aba9f2",
   "metadata": {
    "tags": []
   },
   "outputs": [
    {
     "data": {
      "text/plain": [
       "Index(['B0301', 'B0302', 'B0303', 'B0305', 'C0301', 'C0302', 'C0303', 'C301',\n",
       "       'C302', 'C303',\n",
       "       ...\n",
       "       'ENSMUSG00000121606', 'ENSMUSG00000121607', 'ENSMUSG00000121608',\n",
       "       'ENSMUSG00000121906', 'ENSMUSG00000121914', 'ENSMUSG00002076083',\n",
       "       'eYFP-minus', 'eYFP-plus', 'gfp-minus', 'gfp-plus'],\n",
       "      dtype='object', length=17109)"
      ]
     },
     "execution_count": 31,
     "metadata": {},
     "output_type": "execute_result"
    }
   ],
   "source": [
    "mouse.var_names"
   ]
  },
  {
   "cell_type": "code",
   "execution_count": 18,
   "id": "e85cdb72-26b4-4c20-8add-6b497eefec47",
   "metadata": {
    "tags": []
   },
   "outputs": [
    {
     "data": {
      "text/html": [
       "<div>\n",
       "<style scoped>\n",
       "    .dataframe tbody tr th:only-of-type {\n",
       "        vertical-align: middle;\n",
       "    }\n",
       "\n",
       "    .dataframe tbody tr th {\n",
       "        vertical-align: top;\n",
       "    }\n",
       "\n",
       "    .dataframe thead th {\n",
       "        text-align: right;\n",
       "    }\n",
       "</style>\n",
       "<table border=\"1\" class=\"dataframe\">\n",
       "  <thead>\n",
       "    <tr style=\"text-align: right;\">\n",
       "      <th></th>\n",
       "      <th>name</th>\n",
       "      <th>display_name</th>\n",
       "    </tr>\n",
       "  </thead>\n",
       "  <tbody>\n",
       "    <tr>\n",
       "      <th>76</th>\n",
       "      <td>mmusculus_gene_ensembl</td>\n",
       "      <td>Mouse genes (GRCm39)</td>\n",
       "    </tr>\n",
       "  </tbody>\n",
       "</table>\n",
       "</div>"
      ],
      "text/plain": [
       "                      name          display_name\n",
       "76  mmusculus_gene_ensembl  Mouse genes (GRCm39)"
      ]
     },
     "execution_count": 18,
     "metadata": {},
     "output_type": "execute_result"
    }
   ],
   "source": [
    "# find correct dataset name for your species\n",
    "from pybiomart import Server\n",
    "server = Server(host='http://www.ensembl.org')\n",
    "server.marts['ENSEMBL_MART_ENSEMBL'].list_datasets()[server.marts['ENSEMBL_MART_ENSEMBL'].list_datasets()['name'].str.startswith('mmusculus')]"
   ]
  },
  {
   "cell_type": "code",
   "execution_count": 32,
   "id": "ef8d2db9-107f-401d-b24e-647f4da29d85",
   "metadata": {
    "collapsed": true,
    "jupyter": {
     "outputs_hidden": true
    },
    "tags": []
   },
   "outputs": [
    {
     "name": "stderr",
     "output_type": "stream",
     "text": [
      "/home/icb/daniel.strobl/miniconda3/envs/scirpy/lib/python3.10/site-packages/tqdm/auto.py:21: TqdmWarning: IProgress not found. Please update jupyter and ipywidgets. See https://ipywidgets.readthedocs.io/en/stable/user_install.html\n",
      "  from .autonotebook import tqdm as notebook_tqdm\n"
     ]
    }
   ],
   "source": [
    "import pyorthomap"
   ]
  },
  {
   "cell_type": "code",
   "execution_count": 33,
   "id": "a282ebcb-406b-4487-bcf4-e6acd387e8d3",
   "metadata": {
    "tags": []
   },
   "outputs": [
    {
     "name": "stderr",
     "output_type": "stream",
     "text": [
      "100%|████████████████████████████████████████████████████████████████████████████████████████████████████████████████████████████████████████████████| 343/343 [15:19<00:00,  2.68s/it]\n"
     ]
    }
   ],
   "source": [
    "mh_orth = pyorthomap.FindOrthologs(host = 'http://www.ensembl.org',\n",
    "                mart = 'ENSEMBL_MART_ENSEMBL',\n",
    "                from_dataset = 'mmusculus_gene_ensembl',\n",
    "                to_dataset = 'hsapiens_gene_ensembl',\n",
    "                from_filters = 'link_ensembl_gene_id',\n",
    "                from_values = list(mouse.var_names),\n",
    "                to_homolog_attribute = 'hsapiens_homolog_ensembl_gene',\n",
    "                from_gene_id_name = 'mouse_ensembl_gene_id',\n",
    "                to_gene_id_name = 'human_ensembl_gene_id',\n",
    "                chunk_size=50).map()"
   ]
  },
  {
   "cell_type": "code",
   "execution_count": 43,
   "id": "6d01a1fd-0b76-47d1-bda1-bf78639a1dcb",
   "metadata": {
    "tags": []
   },
   "outputs": [],
   "source": [
    "mh_orth.to_csv('orthologs.csv')"
   ]
  },
  {
   "cell_type": "code",
   "execution_count": 34,
   "id": "ed3b5a1e-bdd8-4239-ab80-dc170b09f2b4",
   "metadata": {
    "tags": []
   },
   "outputs": [],
   "source": [
    "mh_orth.index = mh_orth.mouse_ensembl_gene_id"
   ]
  },
  {
   "cell_type": "code",
   "execution_count": 35,
   "id": "387c8740-9707-4e96-8f58-11858926ef77",
   "metadata": {
    "tags": []
   },
   "outputs": [],
   "source": [
    "mh_orth = mh_orth.groupby(mh_orth.index).first()"
   ]
  },
  {
   "cell_type": "code",
   "execution_count": 36,
   "id": "27f43040-32c9-40c6-b44e-a02113c5aaaf",
   "metadata": {
    "tags": []
   },
   "outputs": [],
   "source": [
    "mouse.var = mouse.var.join(mh_orth)"
   ]
  },
  {
   "cell_type": "code",
   "execution_count": 37,
   "id": "42b88856-47c4-485d-ae35-e85314257ea0",
   "metadata": {},
   "outputs": [
    {
     "data": {
      "text/html": [
       "<div>\n",
       "<style scoped>\n",
       "    .dataframe tbody tr th:only-of-type {\n",
       "        vertical-align: middle;\n",
       "    }\n",
       "\n",
       "    .dataframe tbody tr th {\n",
       "        vertical-align: top;\n",
       "    }\n",
       "\n",
       "    .dataframe thead th {\n",
       "        text-align: right;\n",
       "    }\n",
       "</style>\n",
       "<table border=\"1\" class=\"dataframe\">\n",
       "  <thead>\n",
       "    <tr style=\"text-align: right;\">\n",
       "      <th></th>\n",
       "      <th>n_cells</th>\n",
       "      <th>highly_variable</th>\n",
       "      <th>means</th>\n",
       "      <th>dispersions</th>\n",
       "      <th>dispersions_norm</th>\n",
       "      <th>highly_variable_nbatches</th>\n",
       "      <th>highly_variable_intersection</th>\n",
       "      <th>external_gene_name</th>\n",
       "      <th>human_ensembl_gene_id</th>\n",
       "      <th>mouse_ensembl_gene_id</th>\n",
       "      <th>hgnc_symbol</th>\n",
       "    </tr>\n",
       "  </thead>\n",
       "  <tbody>\n",
       "    <tr>\n",
       "      <th>B0301</th>\n",
       "      <td>78123</td>\n",
       "      <td>True</td>\n",
       "      <td>1.907596</td>\n",
       "      <td>1.758454</td>\n",
       "      <td>0.655146</td>\n",
       "      <td>16</td>\n",
       "      <td>False</td>\n",
       "      <td>NaN</td>\n",
       "      <td>NaN</td>\n",
       "      <td>NaN</td>\n",
       "      <td>NaN</td>\n",
       "    </tr>\n",
       "    <tr>\n",
       "      <th>B0302</th>\n",
       "      <td>88194</td>\n",
       "      <td>False</td>\n",
       "      <td>2.531024</td>\n",
       "      <td>2.165750</td>\n",
       "      <td>0.399374</td>\n",
       "      <td>0</td>\n",
       "      <td>False</td>\n",
       "      <td>NaN</td>\n",
       "      <td>NaN</td>\n",
       "      <td>NaN</td>\n",
       "      <td>NaN</td>\n",
       "    </tr>\n",
       "    <tr>\n",
       "      <th>B0303</th>\n",
       "      <td>73578</td>\n",
       "      <td>True</td>\n",
       "      <td>2.029008</td>\n",
       "      <td>1.811154</td>\n",
       "      <td>0.821372</td>\n",
       "      <td>7</td>\n",
       "      <td>False</td>\n",
       "      <td>NaN</td>\n",
       "      <td>NaN</td>\n",
       "      <td>NaN</td>\n",
       "      <td>NaN</td>\n",
       "    </tr>\n",
       "    <tr>\n",
       "      <th>B0305</th>\n",
       "      <td>46</td>\n",
       "      <td>False</td>\n",
       "      <td>0.000340</td>\n",
       "      <td>0.106965</td>\n",
       "      <td>-0.038002</td>\n",
       "      <td>0</td>\n",
       "      <td>False</td>\n",
       "      <td>NaN</td>\n",
       "      <td>NaN</td>\n",
       "      <td>NaN</td>\n",
       "      <td>NaN</td>\n",
       "    </tr>\n",
       "    <tr>\n",
       "      <th>C0301</th>\n",
       "      <td>14287</td>\n",
       "      <td>False</td>\n",
       "      <td>0.625513</td>\n",
       "      <td>0.611974</td>\n",
       "      <td>0.317982</td>\n",
       "      <td>6</td>\n",
       "      <td>False</td>\n",
       "      <td>NaN</td>\n",
       "      <td>NaN</td>\n",
       "      <td>NaN</td>\n",
       "      <td>NaN</td>\n",
       "    </tr>\n",
       "    <tr>\n",
       "      <th>...</th>\n",
       "      <td>...</td>\n",
       "      <td>...</td>\n",
       "      <td>...</td>\n",
       "      <td>...</td>\n",
       "      <td>...</td>\n",
       "      <td>...</td>\n",
       "      <td>...</td>\n",
       "      <td>...</td>\n",
       "      <td>...</td>\n",
       "      <td>...</td>\n",
       "      <td>...</td>\n",
       "    </tr>\n",
       "    <tr>\n",
       "      <th>ENSMUSG00002076083</th>\n",
       "      <td>10438</td>\n",
       "      <td>False</td>\n",
       "      <td>0.061215</td>\n",
       "      <td>0.146239</td>\n",
       "      <td>-0.186766</td>\n",
       "      <td>1</td>\n",
       "      <td>False</td>\n",
       "      <td>KLHL17</td>\n",
       "      <td>ENSG00000187961</td>\n",
       "      <td>ENSMUSG00002076083</td>\n",
       "      <td>None</td>\n",
       "    </tr>\n",
       "    <tr>\n",
       "      <th>eYFP-minus</th>\n",
       "      <td>357</td>\n",
       "      <td>False</td>\n",
       "      <td>0.001858</td>\n",
       "      <td>-0.018687</td>\n",
       "      <td>-0.066808</td>\n",
       "      <td>0</td>\n",
       "      <td>False</td>\n",
       "      <td>NaN</td>\n",
       "      <td>NaN</td>\n",
       "      <td>NaN</td>\n",
       "      <td>NaN</td>\n",
       "    </tr>\n",
       "    <tr>\n",
       "      <th>eYFP-plus</th>\n",
       "      <td>444</td>\n",
       "      <td>False</td>\n",
       "      <td>0.002520</td>\n",
       "      <td>-0.002940</td>\n",
       "      <td>-0.040748</td>\n",
       "      <td>0</td>\n",
       "      <td>False</td>\n",
       "      <td>NaN</td>\n",
       "      <td>NaN</td>\n",
       "      <td>NaN</td>\n",
       "      <td>NaN</td>\n",
       "    </tr>\n",
       "    <tr>\n",
       "      <th>gfp-minus</th>\n",
       "      <td>1127</td>\n",
       "      <td>False</td>\n",
       "      <td>0.003383</td>\n",
       "      <td>-0.161605</td>\n",
       "      <td>-0.426925</td>\n",
       "      <td>0</td>\n",
       "      <td>False</td>\n",
       "      <td>NaN</td>\n",
       "      <td>NaN</td>\n",
       "      <td>NaN</td>\n",
       "      <td>NaN</td>\n",
       "    </tr>\n",
       "    <tr>\n",
       "      <th>gfp-plus</th>\n",
       "      <td>3335</td>\n",
       "      <td>False</td>\n",
       "      <td>0.011265</td>\n",
       "      <td>-0.073600</td>\n",
       "      <td>-0.351877</td>\n",
       "      <td>0</td>\n",
       "      <td>False</td>\n",
       "      <td>NaN</td>\n",
       "      <td>NaN</td>\n",
       "      <td>NaN</td>\n",
       "      <td>NaN</td>\n",
       "    </tr>\n",
       "  </tbody>\n",
       "</table>\n",
       "<p>17109 rows × 11 columns</p>\n",
       "</div>"
      ],
      "text/plain": [
       "                    n_cells  highly_variable     means  dispersions  \\\n",
       "B0301                 78123             True  1.907596     1.758454   \n",
       "B0302                 88194            False  2.531024     2.165750   \n",
       "B0303                 73578             True  2.029008     1.811154   \n",
       "B0305                    46            False  0.000340     0.106965   \n",
       "C0301                 14287            False  0.625513     0.611974   \n",
       "...                     ...              ...       ...          ...   \n",
       "ENSMUSG00002076083    10438            False  0.061215     0.146239   \n",
       "eYFP-minus              357            False  0.001858    -0.018687   \n",
       "eYFP-plus               444            False  0.002520    -0.002940   \n",
       "gfp-minus              1127            False  0.003383    -0.161605   \n",
       "gfp-plus               3335            False  0.011265    -0.073600   \n",
       "\n",
       "                    dispersions_norm  highly_variable_nbatches  \\\n",
       "B0301                       0.655146                        16   \n",
       "B0302                       0.399374                         0   \n",
       "B0303                       0.821372                         7   \n",
       "B0305                      -0.038002                         0   \n",
       "C0301                       0.317982                         6   \n",
       "...                              ...                       ...   \n",
       "ENSMUSG00002076083         -0.186766                         1   \n",
       "eYFP-minus                 -0.066808                         0   \n",
       "eYFP-plus                  -0.040748                         0   \n",
       "gfp-minus                  -0.426925                         0   \n",
       "gfp-plus                   -0.351877                         0   \n",
       "\n",
       "                    highly_variable_intersection external_gene_name  \\\n",
       "B0301                                      False                NaN   \n",
       "B0302                                      False                NaN   \n",
       "B0303                                      False                NaN   \n",
       "B0305                                      False                NaN   \n",
       "C0301                                      False                NaN   \n",
       "...                                          ...                ...   \n",
       "ENSMUSG00002076083                         False             KLHL17   \n",
       "eYFP-minus                                 False                NaN   \n",
       "eYFP-plus                                  False                NaN   \n",
       "gfp-minus                                  False                NaN   \n",
       "gfp-plus                                   False                NaN   \n",
       "\n",
       "                   human_ensembl_gene_id mouse_ensembl_gene_id hgnc_symbol  \n",
       "B0301                                NaN                   NaN         NaN  \n",
       "B0302                                NaN                   NaN         NaN  \n",
       "B0303                                NaN                   NaN         NaN  \n",
       "B0305                                NaN                   NaN         NaN  \n",
       "C0301                                NaN                   NaN         NaN  \n",
       "...                                  ...                   ...         ...  \n",
       "ENSMUSG00002076083       ENSG00000187961    ENSMUSG00002076083        None  \n",
       "eYFP-minus                           NaN                   NaN         NaN  \n",
       "eYFP-plus                            NaN                   NaN         NaN  \n",
       "gfp-minus                            NaN                   NaN         NaN  \n",
       "gfp-plus                             NaN                   NaN         NaN  \n",
       "\n",
       "[17109 rows x 11 columns]"
      ]
     },
     "execution_count": 37,
     "metadata": {},
     "output_type": "execute_result"
    }
   ],
   "source": [
    "mouse.var"
   ]
  },
  {
   "cell_type": "code",
   "execution_count": 38,
   "id": "1b2d007f-5cab-4e54-9a49-543a19988e9d",
   "metadata": {
    "tags": []
   },
   "outputs": [],
   "source": [
    "mouse.var.index = mouse.var.external_gene_name"
   ]
  },
  {
   "cell_type": "code",
   "execution_count": 21,
   "id": "97a1bc05-40a3-4510-87ae-d7396689b3af",
   "metadata": {
    "tags": []
   },
   "outputs": [],
   "source": [
    "human.obs_names = human.obs['sample'].astype('str')+'-'+human.obs_names"
   ]
  },
  {
   "cell_type": "code",
   "execution_count": 22,
   "id": "bd02d156-d108-4f25-be42-902a7d93ebdb",
   "metadata": {
    "tags": []
   },
   "outputs": [
    {
     "data": {
      "text/plain": [
       "Index(['A1BG', 'A1BG-AS1', 'A1CF', 'A2M', 'A2M-AS1', 'A2ML1', 'A2ML1-AS1',\n",
       "       'A2ML1-AS2', 'A3GALT2', 'A4GALT',\n",
       "       ...\n",
       "       'ZXDC', 'ZYG11A', 'ZYG11B', 'ZYX', 'ZZEF1', 'ZZZ3', 'bP-21264C1.2',\n",
       "       'bP-2171C21.3', 'bP-2189O9.3', 'hsa-mir-1253'],\n",
       "      dtype='object', length=45119)"
      ]
     },
     "execution_count": 22,
     "metadata": {},
     "output_type": "execute_result"
    }
   ],
   "source": [
    "human.var_names"
   ]
  },
  {
   "cell_type": "code",
   "execution_count": 103,
   "id": "2318615a-3e05-43e7-8200-95bf682a6395",
   "metadata": {
    "tags": []
   },
   "outputs": [
    {
     "data": {
      "text/plain": [
       "matrix([[0., 0., 0., ..., 0., 1., 0.],\n",
       "        [0., 0., 0., ..., 0., 0., 0.],\n",
       "        [0., 0., 0., ..., 0., 0., 0.],\n",
       "        ...,\n",
       "        [0., 0., 0., ..., 0., 0., 0.],\n",
       "        [0., 0., 0., ..., 1., 0., 0.],\n",
       "        [0., 0., 0., ..., 0., 0., 0.]], dtype=float32)"
      ]
     },
     "execution_count": 103,
     "metadata": {},
     "output_type": "execute_result"
    }
   ],
   "source": [
    "human.layers['counts'][1:49,1:49].todense()"
   ]
  },
  {
   "cell_type": "code",
   "execution_count": 39,
   "id": "a7d7b848-db3c-49e1-bc63-5c0de7549e05",
   "metadata": {},
   "outputs": [
    {
     "ename": "AttributeError",
     "evalue": "'DataFrame' object has no attribute 'gene_name'",
     "output_type": "error",
     "traceback": [
      "\u001b[0;31m---------------------------------------------------------------------------\u001b[0m",
      "\u001b[0;31mAttributeError\u001b[0m                            Traceback (most recent call last)",
      "\u001b[0;32m/tmp/ipykernel_2424209/1858304988.py\u001b[0m in \u001b[0;36m?\u001b[0;34m()\u001b[0m\n\u001b[0;32m----> 1\u001b[0;31m \u001b[0mmouse\u001b[0m \u001b[0;34m=\u001b[0m \u001b[0mmouse\u001b[0m\u001b[0;34m[\u001b[0m\u001b[0;34m:\u001b[0m\u001b[0;34m,\u001b[0m\u001b[0mmouse\u001b[0m\u001b[0;34m.\u001b[0m\u001b[0mvar\u001b[0m\u001b[0;34m.\u001b[0m\u001b[0mgene_name\u001b[0m\u001b[0;34m!=\u001b[0m\u001b[0;34m'unknown'\u001b[0m\u001b[0;34m]\u001b[0m\u001b[0;34m\u001b[0m\u001b[0;34m\u001b[0m\u001b[0m\n\u001b[0m",
      "\u001b[0;32m~/miniconda3/envs/scirpy/lib/python3.10/site-packages/pandas/core/generic.py\u001b[0m in \u001b[0;36m?\u001b[0;34m(self, name)\u001b[0m\n\u001b[1;32m   6200\u001b[0m             \u001b[0;32mand\u001b[0m \u001b[0mname\u001b[0m \u001b[0;32mnot\u001b[0m \u001b[0;32min\u001b[0m \u001b[0mself\u001b[0m\u001b[0;34m.\u001b[0m\u001b[0m_accessors\u001b[0m\u001b[0;34m\u001b[0m\u001b[0;34m\u001b[0m\u001b[0m\n\u001b[1;32m   6201\u001b[0m             \u001b[0;32mand\u001b[0m \u001b[0mself\u001b[0m\u001b[0;34m.\u001b[0m\u001b[0m_info_axis\u001b[0m\u001b[0;34m.\u001b[0m\u001b[0m_can_hold_identifiers_and_holds_name\u001b[0m\u001b[0;34m(\u001b[0m\u001b[0mname\u001b[0m\u001b[0;34m)\u001b[0m\u001b[0;34m\u001b[0m\u001b[0;34m\u001b[0m\u001b[0m\n\u001b[1;32m   6202\u001b[0m         ):\n\u001b[1;32m   6203\u001b[0m             \u001b[0;32mreturn\u001b[0m \u001b[0mself\u001b[0m\u001b[0;34m[\u001b[0m\u001b[0mname\u001b[0m\u001b[0;34m]\u001b[0m\u001b[0;34m\u001b[0m\u001b[0;34m\u001b[0m\u001b[0m\n\u001b[0;32m-> 6204\u001b[0;31m         \u001b[0;32mreturn\u001b[0m \u001b[0mobject\u001b[0m\u001b[0;34m.\u001b[0m\u001b[0m__getattribute__\u001b[0m\u001b[0;34m(\u001b[0m\u001b[0mself\u001b[0m\u001b[0;34m,\u001b[0m \u001b[0mname\u001b[0m\u001b[0;34m)\u001b[0m\u001b[0;34m\u001b[0m\u001b[0;34m\u001b[0m\u001b[0m\n\u001b[0m",
      "\u001b[0;31mAttributeError\u001b[0m: 'DataFrame' object has no attribute 'gene_name'"
     ]
    }
   ],
   "source": [
    "mouse = mouse[:,mouse.var.gene_name!='unknown']"
   ]
  },
  {
   "cell_type": "code",
   "execution_count": 44,
   "id": "fca48770-4da7-476f-ac01-7feefa5c18d7",
   "metadata": {},
   "outputs": [],
   "source": [
    "mouse = mouse[:,mouse.var.index.isna() == False]"
   ]
  },
  {
   "cell_type": "code",
   "execution_count": 45,
   "id": "8a6a6f6c-b384-4004-98b0-3e3ce199ce89",
   "metadata": {},
   "outputs": [
    {
     "name": "stderr",
     "output_type": "stream",
     "text": [
      "/home/icb/daniel.strobl/miniconda3/envs/scirpy/lib/python3.10/site-packages/anndata/_core/anndata.py:1899: UserWarning: Variable names are not unique. To make them unique, call `.var_names_make_unique`.\n",
      "  utils.warn_names_duplicates(\"var\")\n"
     ]
    }
   ],
   "source": [
    "mouse.var_names = mouse.var_names.astype('str')"
   ]
  },
  {
   "cell_type": "code",
   "execution_count": 46,
   "id": "18de18cd-055b-404c-9b5f-092981efdd7d",
   "metadata": {
    "tags": []
   },
   "outputs": [],
   "source": [
    "mouse.var_names_make_unique()"
   ]
  },
  {
   "cell_type": "code",
   "execution_count": 74,
   "id": "dd1dcd4c-c149-48bd-a04b-2ae70a7a1470",
   "metadata": {
    "tags": []
   },
   "outputs": [],
   "source": [
    "adata = sc.concat([human, mouse], join='outer')"
   ]
  },
  {
   "cell_type": "code",
   "execution_count": 75,
   "id": "cc38f035-606c-4afa-af51-291ddf3fa405",
   "metadata": {
    "tags": []
   },
   "outputs": [],
   "source": [
    "adata_small = sc.concat([human, mouse])"
   ]
  },
  {
   "cell_type": "code",
   "execution_count": 76,
   "id": "17557ba1-74b1-4ef3-a11e-3949399bb8bc",
   "metadata": {},
   "outputs": [],
   "source": [
    "adata_small.obs = adata.obs"
   ]
  },
  {
   "cell_type": "code",
   "execution_count": 50,
   "id": "ee5bfe49-4dbf-455a-9c23-7b6c0729ea54",
   "metadata": {},
   "outputs": [
    {
     "data": {
      "text/plain": [
       "AnnData object with n_obs × n_vars = 222724 × 23488\n",
       "    obs: 'sample', 'n_genes_by_counts', 'log1p_n_genes_by_counts', 'total_counts', 'log1p_total_counts', 'pct_counts_in_top_50_genes', 'pct_counts_in_top_100_genes', 'pct_counts_in_top_200_genes', 'pct_counts_in_top_500_genes', 'total_counts_is_mt', 'log1p_total_counts_is_mt', 'pct_counts_is_mt', 'n_counts', 'n_genes', 'cond', 'tissue', 'donor', 'run', 'barcode', 'size_factors', 'condition', 'day', 'genotype', 'leiden', 'doublet_scores', 'leiden_named', 'batch', 'id', 'h_id', 'species', 'publication'\n",
       "    obsm: 'X_pca', 'X_umap'\n",
       "    layers: 'counts', 'normalized', 'normalized_log1p'"
      ]
     },
     "execution_count": 50,
     "metadata": {},
     "output_type": "execute_result"
    }
   ],
   "source": [
    "adata"
   ]
  },
  {
   "cell_type": "code",
   "execution_count": 51,
   "id": "217563e4-5e59-4f84-a6c7-4d4678659a7b",
   "metadata": {
    "tags": []
   },
   "outputs": [],
   "source": [
    "adata_small.write('/lustre/groups/ml01/projects/2023_daniel.strobl_tcl_atlas/240909_ln.h5ad')"
   ]
  },
  {
   "cell_type": "code",
   "execution_count": 77,
   "id": "b2731298-cbe7-4084-8c64-f4337318eacf",
   "metadata": {},
   "outputs": [
    {
     "data": {
      "text/plain": [
       "AAACCTGAGAACTGTA-1_HLN_HLN4_     False\n",
       "AAACCTGAGTCCTCCT-1_HLN_HLN4_     False\n",
       "AAACCTGAGTGACATA-1_HLN_HLN4_     False\n",
       "AAACCTGCAAACCCAT-1_HLN_HLN4_     False\n",
       "AAACCTGCAAGCTGTT-1_HLN_HLN4_     False\n",
       "                                 ...  \n",
       "TTTGGTTTCTCTTATG-1_02_26_C303     True\n",
       "TTTGTCAAGTGCGATG-1_02_26_C303     True\n",
       "TTTGTCAGTCTCTCGT-1_02_26_C303     True\n",
       "TTTGTCAGTTTGGGCC-1_02_26_C303     True\n",
       "TTTGTCATCGGATGGA-1_02_26_C303     True\n",
       "Length: 222724, dtype: bool"
      ]
     },
     "execution_count": 77,
     "metadata": {},
     "output_type": "execute_result"
    }
   ],
   "source": [
    "(adata_small.obs.leiden_named.isna() & (adata_small.obs.species == \"mouse\"))"
   ]
  },
  {
   "cell_type": "code",
   "execution_count": 72,
   "id": "97e23672-f49c-4216-a1f7-503b79ace3ef",
   "metadata": {},
   "outputs": [
    {
     "data": {
      "text/plain": [
       "AAACCTGAGAACTGTA-1_HLN_HLN4_                       NaN\n",
       "AAACCTGAGTCCTCCT-1_HLN_HLN4_                       NaN\n",
       "AAACCTGAGTGACATA-1_HLN_HLN4_                       NaN\n",
       "AAACCTGCAAACCCAT-1_HLN_HLN4_                       NaN\n",
       "AAACCTGCAAGCTGTT-1_HLN_HLN4_                       NaN\n",
       "                                         ...          \n",
       "TTTGGTTTCTCTTATG-1_02_26_C303                  B-Cells\n",
       "TTTGTCAAGTGCGATG-1_02_26_C303                      Tfh\n",
       "TTTGTCAGTCTCTCGT-1_02_26_C303    Proliferating T-Cells\n",
       "TTTGTCAGTTTGGGCC-1_02_26_C303    Proliferating T-Cells\n",
       "TTTGTCATCGGATGGA-1_02_26_C303    Proliferating T-Cells\n",
       "Name: leiden_named, Length: 222724, dtype: category\n",
       "Categories (18, object): ['B-Cells', 'CD8 T-Cells 1', 'CD8 T-Cells 2', 'DZ GZB', ..., 'Th1 ITK-SYK', 'Tregs', 'cytotoxic T-Cells', 'pDC']"
      ]
     },
     "execution_count": 72,
     "metadata": {},
     "output_type": "execute_result"
    }
   ],
   "source": [
    "adata_small.obs.leiden_named"
   ]
  },
  {
   "cell_type": "code",
   "execution_count": 56,
   "id": "60016ade-a833-43f2-bcea-9b26c9825153",
   "metadata": {},
   "outputs": [],
   "source": [
    "tcl_itksyk = sc.read_h5ad('/lustre/groups/ml01/workspace/daniel.strobl/itk_syk/tini/adata_tini_labels.h5ad').obs"
   ]
  },
  {
   "cell_type": "code",
   "execution_count": 58,
   "id": "24f02848-2812-4d9f-9361-bde1d7542db1",
   "metadata": {},
   "outputs": [],
   "source": [
    "tcl_itksyk.index = tcl_itksyk._index"
   ]
  },
  {
   "cell_type": "code",
   "execution_count": 78,
   "id": "f1f3b417-ca37-41cd-b9b3-4a1dfc4eb571",
   "metadata": {},
   "outputs": [],
   "source": [
    "adata_small.obs.loc[(adata_small.obs.leiden_named.isna() & (adata_small.obs.species == \"mouse\")),\"leiden_named\"] = tcl_itksyk.leiden_named"
   ]
  },
  {
   "cell_type": "code",
   "execution_count": 79,
   "id": "d2284d51-5c49-431c-9e2a-31f6812b6aeb",
   "metadata": {},
   "outputs": [
    {
     "data": {
      "text/html": [
       "<div>\n",
       "<style scoped>\n",
       "    .dataframe tbody tr th:only-of-type {\n",
       "        vertical-align: middle;\n",
       "    }\n",
       "\n",
       "    .dataframe tbody tr th {\n",
       "        vertical-align: top;\n",
       "    }\n",
       "\n",
       "    .dataframe thead th {\n",
       "        text-align: right;\n",
       "    }\n",
       "</style>\n",
       "<table border=\"1\" class=\"dataframe\">\n",
       "  <thead>\n",
       "    <tr style=\"text-align: right;\">\n",
       "      <th></th>\n",
       "      <th>sample</th>\n",
       "      <th>n_genes_by_counts</th>\n",
       "      <th>log1p_n_genes_by_counts</th>\n",
       "      <th>total_counts</th>\n",
       "      <th>log1p_total_counts</th>\n",
       "      <th>pct_counts_in_top_50_genes</th>\n",
       "      <th>pct_counts_in_top_100_genes</th>\n",
       "      <th>pct_counts_in_top_200_genes</th>\n",
       "      <th>pct_counts_in_top_500_genes</th>\n",
       "      <th>total_counts_is_mt</th>\n",
       "      <th>...</th>\n",
       "      <th>day</th>\n",
       "      <th>genotype</th>\n",
       "      <th>leiden</th>\n",
       "      <th>doublet_scores</th>\n",
       "      <th>leiden_named</th>\n",
       "      <th>batch</th>\n",
       "      <th>id</th>\n",
       "      <th>h_id</th>\n",
       "      <th>species</th>\n",
       "      <th>publication</th>\n",
       "    </tr>\n",
       "  </thead>\n",
       "  <tbody>\n",
       "    <tr>\n",
       "      <th>AAACCTGCACGAAGCA-1-0</th>\n",
       "      <td>02_12_C0302</td>\n",
       "      <td>1199</td>\n",
       "      <td>7.090077</td>\n",
       "      <td>4356.0</td>\n",
       "      <td>8.379539</td>\n",
       "      <td>64.876033</td>\n",
       "      <td>68.824610</td>\n",
       "      <td>74.035813</td>\n",
       "      <td>83.953168</td>\n",
       "      <td>NaN</td>\n",
       "      <td>...</td>\n",
       "      <td>d0</td>\n",
       "      <td>ctla4_wt</td>\n",
       "      <td>NaN</td>\n",
       "      <td>NaN</td>\n",
       "      <td>LZ GZB</td>\n",
       "      <td>ref</td>\n",
       "      <td>NaN</td>\n",
       "      <td>NaN</td>\n",
       "      <td>mouse</td>\n",
       "      <td>ruland</td>\n",
       "    </tr>\n",
       "    <tr>\n",
       "      <th>AAACCTGGTGATGTCT-1-0</th>\n",
       "      <td>02_12_C0302</td>\n",
       "      <td>2639</td>\n",
       "      <td>7.878534</td>\n",
       "      <td>12927.0</td>\n",
       "      <td>9.467151</td>\n",
       "      <td>58.567340</td>\n",
       "      <td>66.511952</td>\n",
       "      <td>72.151311</td>\n",
       "      <td>79.871587</td>\n",
       "      <td>NaN</td>\n",
       "      <td>...</td>\n",
       "      <td>d0</td>\n",
       "      <td>ctla4_wt</td>\n",
       "      <td>NaN</td>\n",
       "      <td>NaN</td>\n",
       "      <td>Naive T-Cells</td>\n",
       "      <td>ref</td>\n",
       "      <td>NaN</td>\n",
       "      <td>NaN</td>\n",
       "      <td>mouse</td>\n",
       "      <td>ruland</td>\n",
       "    </tr>\n",
       "    <tr>\n",
       "      <th>AAACCTGGTGCCTGGT-1-0</th>\n",
       "      <td>02_12_C0302</td>\n",
       "      <td>2752</td>\n",
       "      <td>7.920447</td>\n",
       "      <td>19508.0</td>\n",
       "      <td>9.878632</td>\n",
       "      <td>68.551364</td>\n",
       "      <td>73.359647</td>\n",
       "      <td>78.152553</td>\n",
       "      <td>84.662702</td>\n",
       "      <td>NaN</td>\n",
       "      <td>...</td>\n",
       "      <td>d0</td>\n",
       "      <td>ctla4_wt</td>\n",
       "      <td>NaN</td>\n",
       "      <td>NaN</td>\n",
       "      <td>CD8 T-Cells 2</td>\n",
       "      <td>ref</td>\n",
       "      <td>NaN</td>\n",
       "      <td>NaN</td>\n",
       "      <td>mouse</td>\n",
       "      <td>ruland</td>\n",
       "    </tr>\n",
       "    <tr>\n",
       "      <th>AAACGGGCATACTACG-1-0</th>\n",
       "      <td>02_12_C0302</td>\n",
       "      <td>2298</td>\n",
       "      <td>7.740230</td>\n",
       "      <td>8065.0</td>\n",
       "      <td>8.995413</td>\n",
       "      <td>44.352139</td>\n",
       "      <td>53.031618</td>\n",
       "      <td>61.376317</td>\n",
       "      <td>73.230006</td>\n",
       "      <td>NaN</td>\n",
       "      <td>...</td>\n",
       "      <td>d0</td>\n",
       "      <td>ctla4_wt</td>\n",
       "      <td>NaN</td>\n",
       "      <td>NaN</td>\n",
       "      <td>B-Cells</td>\n",
       "      <td>ref</td>\n",
       "      <td>NaN</td>\n",
       "      <td>NaN</td>\n",
       "      <td>mouse</td>\n",
       "      <td>ruland</td>\n",
       "    </tr>\n",
       "    <tr>\n",
       "      <th>AAAGATGTCACCTCGT-1-0</th>\n",
       "      <td>02_12_C0302</td>\n",
       "      <td>1731</td>\n",
       "      <td>7.457032</td>\n",
       "      <td>8828.0</td>\n",
       "      <td>9.085797</td>\n",
       "      <td>63.015406</td>\n",
       "      <td>69.743996</td>\n",
       "      <td>76.189397</td>\n",
       "      <td>84.685093</td>\n",
       "      <td>NaN</td>\n",
       "      <td>...</td>\n",
       "      <td>d0</td>\n",
       "      <td>ctla4_wt</td>\n",
       "      <td>NaN</td>\n",
       "      <td>NaN</td>\n",
       "      <td>B-Cells</td>\n",
       "      <td>ref</td>\n",
       "      <td>NaN</td>\n",
       "      <td>NaN</td>\n",
       "      <td>mouse</td>\n",
       "      <td>ruland</td>\n",
       "    </tr>\n",
       "    <tr>\n",
       "      <th>...</th>\n",
       "      <td>...</td>\n",
       "      <td>...</td>\n",
       "      <td>...</td>\n",
       "      <td>...</td>\n",
       "      <td>...</td>\n",
       "      <td>...</td>\n",
       "      <td>...</td>\n",
       "      <td>...</td>\n",
       "      <td>...</td>\n",
       "      <td>...</td>\n",
       "      <td>...</td>\n",
       "      <td>...</td>\n",
       "      <td>...</td>\n",
       "      <td>...</td>\n",
       "      <td>...</td>\n",
       "      <td>...</td>\n",
       "      <td>...</td>\n",
       "      <td>...</td>\n",
       "      <td>...</td>\n",
       "      <td>...</td>\n",
       "      <td>...</td>\n",
       "    </tr>\n",
       "    <tr>\n",
       "      <th>TTTGGTTTCTCTTATG-1_02_26_C303</th>\n",
       "      <td>02_26_C303</td>\n",
       "      <td>1377</td>\n",
       "      <td>7.228388</td>\n",
       "      <td>4476.0</td>\n",
       "      <td>8.406709</td>\n",
       "      <td>47.341376</td>\n",
       "      <td>59.517426</td>\n",
       "      <td>68.722073</td>\n",
       "      <td>80.406613</td>\n",
       "      <td>NaN</td>\n",
       "      <td>...</td>\n",
       "      <td>d7</td>\n",
       "      <td>NaN</td>\n",
       "      <td>NaN</td>\n",
       "      <td>NaN</td>\n",
       "      <td>B-Cells</td>\n",
       "      <td>new</td>\n",
       "      <td>02_26</td>\n",
       "      <td>pd1ko_d7</td>\n",
       "      <td>mouse</td>\n",
       "      <td>ruland</td>\n",
       "    </tr>\n",
       "    <tr>\n",
       "      <th>TTTGTCAAGTGCGATG-1_02_26_C303</th>\n",
       "      <td>02_26_C303</td>\n",
       "      <td>3790</td>\n",
       "      <td>8.240385</td>\n",
       "      <td>17250.0</td>\n",
       "      <td>9.755626</td>\n",
       "      <td>31.675362</td>\n",
       "      <td>44.023188</td>\n",
       "      <td>54.666667</td>\n",
       "      <td>67.704348</td>\n",
       "      <td>NaN</td>\n",
       "      <td>...</td>\n",
       "      <td>d7</td>\n",
       "      <td>NaN</td>\n",
       "      <td>NaN</td>\n",
       "      <td>NaN</td>\n",
       "      <td>Tfh</td>\n",
       "      <td>new</td>\n",
       "      <td>02_26</td>\n",
       "      <td>pd1ko_d7</td>\n",
       "      <td>mouse</td>\n",
       "      <td>ruland</td>\n",
       "    </tr>\n",
       "    <tr>\n",
       "      <th>TTTGTCAGTCTCTCGT-1_02_26_C303</th>\n",
       "      <td>02_26_C303</td>\n",
       "      <td>6535</td>\n",
       "      <td>8.785081</td>\n",
       "      <td>68840.0</td>\n",
       "      <td>11.139555</td>\n",
       "      <td>27.576990</td>\n",
       "      <td>40.740848</td>\n",
       "      <td>50.607205</td>\n",
       "      <td>63.454387</td>\n",
       "      <td>NaN</td>\n",
       "      <td>...</td>\n",
       "      <td>d7</td>\n",
       "      <td>NaN</td>\n",
       "      <td>NaN</td>\n",
       "      <td>NaN</td>\n",
       "      <td>Proliferating T-Cells</td>\n",
       "      <td>new</td>\n",
       "      <td>02_26</td>\n",
       "      <td>pd1ko_d7</td>\n",
       "      <td>mouse</td>\n",
       "      <td>ruland</td>\n",
       "    </tr>\n",
       "    <tr>\n",
       "      <th>TTTGTCAGTTTGGGCC-1_02_26_C303</th>\n",
       "      <td>02_26_C303</td>\n",
       "      <td>3528</td>\n",
       "      <td>8.168770</td>\n",
       "      <td>14835.0</td>\n",
       "      <td>9.604812</td>\n",
       "      <td>29.571958</td>\n",
       "      <td>39.298955</td>\n",
       "      <td>50.192113</td>\n",
       "      <td>65.271318</td>\n",
       "      <td>NaN</td>\n",
       "      <td>...</td>\n",
       "      <td>d7</td>\n",
       "      <td>NaN</td>\n",
       "      <td>NaN</td>\n",
       "      <td>NaN</td>\n",
       "      <td>Proliferating T-Cells</td>\n",
       "      <td>new</td>\n",
       "      <td>02_26</td>\n",
       "      <td>pd1ko_d7</td>\n",
       "      <td>mouse</td>\n",
       "      <td>ruland</td>\n",
       "    </tr>\n",
       "    <tr>\n",
       "      <th>TTTGTCATCGGATGGA-1_02_26_C303</th>\n",
       "      <td>02_26_C303</td>\n",
       "      <td>5671</td>\n",
       "      <td>8.643297</td>\n",
       "      <td>41503.0</td>\n",
       "      <td>10.633545</td>\n",
       "      <td>25.827049</td>\n",
       "      <td>36.606992</td>\n",
       "      <td>47.606197</td>\n",
       "      <td>62.038889</td>\n",
       "      <td>NaN</td>\n",
       "      <td>...</td>\n",
       "      <td>d7</td>\n",
       "      <td>NaN</td>\n",
       "      <td>NaN</td>\n",
       "      <td>NaN</td>\n",
       "      <td>Proliferating T-Cells</td>\n",
       "      <td>new</td>\n",
       "      <td>02_26</td>\n",
       "      <td>pd1ko_d7</td>\n",
       "      <td>mouse</td>\n",
       "      <td>ruland</td>\n",
       "    </tr>\n",
       "  </tbody>\n",
       "</table>\n",
       "<p>154129 rows × 31 columns</p>\n",
       "</div>"
      ],
      "text/plain": [
       "                                    sample  n_genes_by_counts  \\\n",
       "AAACCTGCACGAAGCA-1-0           02_12_C0302               1199   \n",
       "AAACCTGGTGATGTCT-1-0           02_12_C0302               2639   \n",
       "AAACCTGGTGCCTGGT-1-0           02_12_C0302               2752   \n",
       "AAACGGGCATACTACG-1-0           02_12_C0302               2298   \n",
       "AAAGATGTCACCTCGT-1-0           02_12_C0302               1731   \n",
       "...                                    ...                ...   \n",
       "TTTGGTTTCTCTTATG-1_02_26_C303   02_26_C303               1377   \n",
       "TTTGTCAAGTGCGATG-1_02_26_C303   02_26_C303               3790   \n",
       "TTTGTCAGTCTCTCGT-1_02_26_C303   02_26_C303               6535   \n",
       "TTTGTCAGTTTGGGCC-1_02_26_C303   02_26_C303               3528   \n",
       "TTTGTCATCGGATGGA-1_02_26_C303   02_26_C303               5671   \n",
       "\n",
       "                               log1p_n_genes_by_counts  total_counts  \\\n",
       "AAACCTGCACGAAGCA-1-0                          7.090077        4356.0   \n",
       "AAACCTGGTGATGTCT-1-0                          7.878534       12927.0   \n",
       "AAACCTGGTGCCTGGT-1-0                          7.920447       19508.0   \n",
       "AAACGGGCATACTACG-1-0                          7.740230        8065.0   \n",
       "AAAGATGTCACCTCGT-1-0                          7.457032        8828.0   \n",
       "...                                                ...           ...   \n",
       "TTTGGTTTCTCTTATG-1_02_26_C303                 7.228388        4476.0   \n",
       "TTTGTCAAGTGCGATG-1_02_26_C303                 8.240385       17250.0   \n",
       "TTTGTCAGTCTCTCGT-1_02_26_C303                 8.785081       68840.0   \n",
       "TTTGTCAGTTTGGGCC-1_02_26_C303                 8.168770       14835.0   \n",
       "TTTGTCATCGGATGGA-1_02_26_C303                 8.643297       41503.0   \n",
       "\n",
       "                               log1p_total_counts  pct_counts_in_top_50_genes  \\\n",
       "AAACCTGCACGAAGCA-1-0                     8.379539                   64.876033   \n",
       "AAACCTGGTGATGTCT-1-0                     9.467151                   58.567340   \n",
       "AAACCTGGTGCCTGGT-1-0                     9.878632                   68.551364   \n",
       "AAACGGGCATACTACG-1-0                     8.995413                   44.352139   \n",
       "AAAGATGTCACCTCGT-1-0                     9.085797                   63.015406   \n",
       "...                                           ...                         ...   \n",
       "TTTGGTTTCTCTTATG-1_02_26_C303            8.406709                   47.341376   \n",
       "TTTGTCAAGTGCGATG-1_02_26_C303            9.755626                   31.675362   \n",
       "TTTGTCAGTCTCTCGT-1_02_26_C303           11.139555                   27.576990   \n",
       "TTTGTCAGTTTGGGCC-1_02_26_C303            9.604812                   29.571958   \n",
       "TTTGTCATCGGATGGA-1_02_26_C303           10.633545                   25.827049   \n",
       "\n",
       "                               pct_counts_in_top_100_genes  \\\n",
       "AAACCTGCACGAAGCA-1-0                             68.824610   \n",
       "AAACCTGGTGATGTCT-1-0                             66.511952   \n",
       "AAACCTGGTGCCTGGT-1-0                             73.359647   \n",
       "AAACGGGCATACTACG-1-0                             53.031618   \n",
       "AAAGATGTCACCTCGT-1-0                             69.743996   \n",
       "...                                                    ...   \n",
       "TTTGGTTTCTCTTATG-1_02_26_C303                    59.517426   \n",
       "TTTGTCAAGTGCGATG-1_02_26_C303                    44.023188   \n",
       "TTTGTCAGTCTCTCGT-1_02_26_C303                    40.740848   \n",
       "TTTGTCAGTTTGGGCC-1_02_26_C303                    39.298955   \n",
       "TTTGTCATCGGATGGA-1_02_26_C303                    36.606992   \n",
       "\n",
       "                               pct_counts_in_top_200_genes  \\\n",
       "AAACCTGCACGAAGCA-1-0                             74.035813   \n",
       "AAACCTGGTGATGTCT-1-0                             72.151311   \n",
       "AAACCTGGTGCCTGGT-1-0                             78.152553   \n",
       "AAACGGGCATACTACG-1-0                             61.376317   \n",
       "AAAGATGTCACCTCGT-1-0                             76.189397   \n",
       "...                                                    ...   \n",
       "TTTGGTTTCTCTTATG-1_02_26_C303                    68.722073   \n",
       "TTTGTCAAGTGCGATG-1_02_26_C303                    54.666667   \n",
       "TTTGTCAGTCTCTCGT-1_02_26_C303                    50.607205   \n",
       "TTTGTCAGTTTGGGCC-1_02_26_C303                    50.192113   \n",
       "TTTGTCATCGGATGGA-1_02_26_C303                    47.606197   \n",
       "\n",
       "                               pct_counts_in_top_500_genes  \\\n",
       "AAACCTGCACGAAGCA-1-0                             83.953168   \n",
       "AAACCTGGTGATGTCT-1-0                             79.871587   \n",
       "AAACCTGGTGCCTGGT-1-0                             84.662702   \n",
       "AAACGGGCATACTACG-1-0                             73.230006   \n",
       "AAAGATGTCACCTCGT-1-0                             84.685093   \n",
       "...                                                    ...   \n",
       "TTTGGTTTCTCTTATG-1_02_26_C303                    80.406613   \n",
       "TTTGTCAAGTGCGATG-1_02_26_C303                    67.704348   \n",
       "TTTGTCAGTCTCTCGT-1_02_26_C303                    63.454387   \n",
       "TTTGTCAGTTTGGGCC-1_02_26_C303                    65.271318   \n",
       "TTTGTCATCGGATGGA-1_02_26_C303                    62.038889   \n",
       "\n",
       "                               total_counts_is_mt  ...  day  genotype  leiden  \\\n",
       "AAACCTGCACGAAGCA-1-0                          NaN  ...   d0  ctla4_wt     NaN   \n",
       "AAACCTGGTGATGTCT-1-0                          NaN  ...   d0  ctla4_wt     NaN   \n",
       "AAACCTGGTGCCTGGT-1-0                          NaN  ...   d0  ctla4_wt     NaN   \n",
       "AAACGGGCATACTACG-1-0                          NaN  ...   d0  ctla4_wt     NaN   \n",
       "AAAGATGTCACCTCGT-1-0                          NaN  ...   d0  ctla4_wt     NaN   \n",
       "...                                           ...  ...  ...       ...     ...   \n",
       "TTTGGTTTCTCTTATG-1_02_26_C303                 NaN  ...   d7       NaN     NaN   \n",
       "TTTGTCAAGTGCGATG-1_02_26_C303                 NaN  ...   d7       NaN     NaN   \n",
       "TTTGTCAGTCTCTCGT-1_02_26_C303                 NaN  ...   d7       NaN     NaN   \n",
       "TTTGTCAGTTTGGGCC-1_02_26_C303                 NaN  ...   d7       NaN     NaN   \n",
       "TTTGTCATCGGATGGA-1_02_26_C303                 NaN  ...   d7       NaN     NaN   \n",
       "\n",
       "                               doublet_scores           leiden_named batch  \\\n",
       "AAACCTGCACGAAGCA-1-0                      NaN                 LZ GZB   ref   \n",
       "AAACCTGGTGATGTCT-1-0                      NaN          Naive T-Cells   ref   \n",
       "AAACCTGGTGCCTGGT-1-0                      NaN          CD8 T-Cells 2   ref   \n",
       "AAACGGGCATACTACG-1-0                      NaN                B-Cells   ref   \n",
       "AAAGATGTCACCTCGT-1-0                      NaN                B-Cells   ref   \n",
       "...                                       ...                    ...   ...   \n",
       "TTTGGTTTCTCTTATG-1_02_26_C303             NaN                B-Cells   new   \n",
       "TTTGTCAAGTGCGATG-1_02_26_C303             NaN                    Tfh   new   \n",
       "TTTGTCAGTCTCTCGT-1_02_26_C303             NaN  Proliferating T-Cells   new   \n",
       "TTTGTCAGTTTGGGCC-1_02_26_C303             NaN  Proliferating T-Cells   new   \n",
       "TTTGTCATCGGATGGA-1_02_26_C303             NaN  Proliferating T-Cells   new   \n",
       "\n",
       "                                  id      h_id species  publication  \n",
       "AAACCTGCACGAAGCA-1-0             NaN       NaN   mouse       ruland  \n",
       "AAACCTGGTGATGTCT-1-0             NaN       NaN   mouse       ruland  \n",
       "AAACCTGGTGCCTGGT-1-0             NaN       NaN   mouse       ruland  \n",
       "AAACGGGCATACTACG-1-0             NaN       NaN   mouse       ruland  \n",
       "AAAGATGTCACCTCGT-1-0             NaN       NaN   mouse       ruland  \n",
       "...                              ...       ...     ...          ...  \n",
       "TTTGGTTTCTCTTATG-1_02_26_C303  02_26  pd1ko_d7   mouse       ruland  \n",
       "TTTGTCAAGTGCGATG-1_02_26_C303  02_26  pd1ko_d7   mouse       ruland  \n",
       "TTTGTCAGTCTCTCGT-1_02_26_C303  02_26  pd1ko_d7   mouse       ruland  \n",
       "TTTGTCAGTTTGGGCC-1_02_26_C303  02_26  pd1ko_d7   mouse       ruland  \n",
       "TTTGTCATCGGATGGA-1_02_26_C303  02_26  pd1ko_d7   mouse       ruland  \n",
       "\n",
       "[154129 rows x 31 columns]"
      ]
     },
     "execution_count": 79,
     "metadata": {},
     "output_type": "execute_result"
    }
   ],
   "source": [
    "adata_small.obs.query('species==\"mouse\"')"
   ]
  },
  {
   "cell_type": "code",
   "execution_count": 83,
   "id": "6c622322-7d4c-4db5-88c3-2eb57bedb0e9",
   "metadata": {},
   "outputs": [],
   "source": [
    "adata_small = adata_small[adata_small.obs.leiden_named != \"Doublets\"]"
   ]
  },
  {
   "cell_type": "code",
   "execution_count": null,
   "id": "53a9c550-392e-4770-9961-456115f55cc9",
   "metadata": {},
   "outputs": [],
   "source": []
  },
  {
   "cell_type": "code",
   "execution_count": 84,
   "id": "180a6d1c-d6af-4cfe-bee9-664a5988cea9",
   "metadata": {
    "tags": []
   },
   "outputs": [],
   "source": [
    "adata_small.write('/lustre/groups/ml01/projects/2023_daniel.strobl_tcl_atlas/240909_ln_wo_doublets.h5ad')"
   ]
  },
  {
   "cell_type": "code",
   "execution_count": null,
   "id": "beaf5098-b3a0-4cf9-88c0-0e6c9f516c19",
   "metadata": {},
   "outputs": [],
   "source": []
  }
 ],
 "metadata": {
  "kernelspec": {
   "display_name": "scirpy",
   "language": "python",
   "name": "scirpy"
  },
  "language_info": {
   "codemirror_mode": {
    "name": "ipython",
    "version": 3
   },
   "file_extension": ".py",
   "mimetype": "text/x-python",
   "name": "python",
   "nbconvert_exporter": "python",
   "pygments_lexer": "ipython3",
   "version": "3.10.13"
  }
 },
 "nbformat": 4,
 "nbformat_minor": 5
}
