{
 "cells": [
  {
   "cell_type": "code",
   "execution_count": 1,
   "id": "5d17072d-20eb-4e40-99f8-e51e69a89f1b",
   "metadata": {},
   "outputs": [
    {
     "name": "stdout",
     "output_type": "stream",
     "text": [
      "Available Screens are: Glutamatergic Neuron-RNA-Seq-CRISPRa-2020, Glutamatergic Neuron-RNA-Seq-CRISPRi-2019, Glutamatergic Neuron-RNA-Seq-CRISPRi-2020, iPSC-RNA-Seq-CRISPRi-2019, Glutamatergic Neuron-CellRox-CRISPRi, Glutamatergic Neuron-Day-14-Survival-CRISPRi, Glutamatergic Neuron-Day-21-Survival-CRISPRi, Glutamatergic Neuron-Day-28-Survival-CRISPRi, Glutamatergic Neuron-FeRhoNox-CRISPRi, Glutamatergic Neuron-Liperfluo-CRISPRi, Glutamatergic Neuron-Lysotracker-CRISPRi, Glutamatergic Neuron-No Antioxidants-Survival-CRISPRa, Glutamatergic Neuron-No Antioxidants-Survival-CRISPRi, Glutamatergic Neuron-PSAP KO-No Antioxidants-Survival-CRISPRa, Glutamatergic Neuron-PSAP KO-No Antioxidants-Survival-CRISPRi, Glutamatergic Neuron-PSAP KO-Survival-CRISPRa, Glutamatergic Neuron-PSAP KO-Survival-CRISPRi, Glutamatergic Neuron-Survival-CRISPRa, Glutamatergic Neuron-Survival-CRISPRi, HSPC-CD34-CRISPRn, iPSC-Survival-CRISPRi, T Cell-CFSE-CRISPRn, iTF Microglia-Day-8-CROP-seq-CRISPRi, iTF-Microglia-Survival-Proliferation-CRISPRi, iTF-Microglia-Immune Activation-CRISPRi, iTF-Microglia-Phagocytosis-CRISPRi, iTF-Microglia-Phagocytosis-CRISPRa, iAstrocyte-LAMP1-ITC-CRISPRi, iAstrocyte-LAMP1-Veh-CRISPRi, iAstrocyte-LysoTracker-ITC-CRISPRi, iAstrocyte-LysoTracker-Veh-CRISPRi, iAstrocyte-Phagocytosis-ITC-CRISPRi, iAstrocyte-Phagocytosis-Veh-CRISPRi, iAstrocyte-VCAM1-ITC-CRISPRi\n"
     ]
    },
    {
     "data": {
      "text/html": [
       "<div>\n",
       "<style scoped>\n",
       "    .dataframe tbody tr th:only-of-type {\n",
       "        vertical-align: middle;\n",
       "    }\n",
       "\n",
       "    .dataframe tbody tr th {\n",
       "        vertical-align: top;\n",
       "    }\n",
       "\n",
       "    .dataframe thead th {\n",
       "        text-align: right;\n",
       "    }\n",
       "</style>\n",
       "<table border=\"1\" class=\"dataframe\">\n",
       "  <thead>\n",
       "    <tr style=\"text-align: right;\">\n",
       "      <th></th>\n",
       "      <th>Log2CPM</th>\n",
       "      <th>Log2FC</th>\n",
       "      <th>P Value</th>\n",
       "      <th>FDR</th>\n",
       "      <th>P Value (Signed -Log10)</th>\n",
       "    </tr>\n",
       "  </thead>\n",
       "  <tbody>\n",
       "    <tr>\n",
       "      <th>count</th>\n",
       "      <td>343707.000000</td>\n",
       "      <td>343707.000000</td>\n",
       "      <td>3.437070e+05</td>\n",
       "      <td>3.437070e+05</td>\n",
       "      <td>343707.000000</td>\n",
       "    </tr>\n",
       "    <tr>\n",
       "      <th>mean</th>\n",
       "      <td>0.409531</td>\n",
       "      <td>0.000860</td>\n",
       "      <td>4.440653e-01</td>\n",
       "      <td>9.871233e-01</td>\n",
       "      <td>-0.080920</td>\n",
       "    </tr>\n",
       "    <tr>\n",
       "      <th>std</th>\n",
       "      <td>0.515569</td>\n",
       "      <td>0.116081</td>\n",
       "      <td>3.054282e-01</td>\n",
       "      <td>1.085316e-01</td>\n",
       "      <td>1.551264</td>\n",
       "    </tr>\n",
       "    <tr>\n",
       "      <th>min</th>\n",
       "      <td>0.004807</td>\n",
       "      <td>-1.985508</td>\n",
       "      <td>1.111408e-115</td>\n",
       "      <td>1.861497e-111</td>\n",
       "      <td>-114.954127</td>\n",
       "    </tr>\n",
       "    <tr>\n",
       "      <th>25%</th>\n",
       "      <td>0.125833</td>\n",
       "      <td>-0.049954</td>\n",
       "      <td>1.651776e-01</td>\n",
       "      <td>1.000000e+00</td>\n",
       "      <td>-0.402264</td>\n",
       "    </tr>\n",
       "    <tr>\n",
       "      <th>50%</th>\n",
       "      <td>0.230545</td>\n",
       "      <td>-0.001553</td>\n",
       "      <td>4.264516e-01</td>\n",
       "      <td>1.000000e+00</td>\n",
       "      <td>-0.009312</td>\n",
       "    </tr>\n",
       "    <tr>\n",
       "      <th>75%</th>\n",
       "      <td>0.465631</td>\n",
       "      <td>0.046916</td>\n",
       "      <td>7.090357e-01</td>\n",
       "      <td>1.000000e+00</td>\n",
       "      <td>0.342175</td>\n",
       "    </tr>\n",
       "    <tr>\n",
       "      <th>max</th>\n",
       "      <td>5.839504</td>\n",
       "      <td>4.527915</td>\n",
       "      <td>9.999958e-01</td>\n",
       "      <td>1.000000e+00</td>\n",
       "      <td>47.918919</td>\n",
       "    </tr>\n",
       "  </tbody>\n",
       "</table>\n",
       "</div>"
      ],
      "text/plain": [
       "             Log2CPM         Log2FC        P Value            FDR  \\\n",
       "count  343707.000000  343707.000000   3.437070e+05   3.437070e+05   \n",
       "mean        0.409531       0.000860   4.440653e-01   9.871233e-01   \n",
       "std         0.515569       0.116081   3.054282e-01   1.085316e-01   \n",
       "min         0.004807      -1.985508  1.111408e-115  1.861497e-111   \n",
       "25%         0.125833      -0.049954   1.651776e-01   1.000000e+00   \n",
       "50%         0.230545      -0.001553   4.264516e-01   1.000000e+00   \n",
       "75%         0.465631       0.046916   7.090357e-01   1.000000e+00   \n",
       "max         5.839504       4.527915   9.999958e-01   1.000000e+00   \n",
       "\n",
       "       P Value (Signed -Log10)  \n",
       "count            343707.000000  \n",
       "mean                 -0.080920  \n",
       "std                   1.551264  \n",
       "min                -114.954127  \n",
       "25%                  -0.402264  \n",
       "50%                  -0.009312  \n",
       "75%                   0.342175  \n",
       "max                  47.918919  "
      ]
     },
     "execution_count": 1,
     "metadata": {},
     "output_type": "execute_result"
    }
   ],
   "source": [
    "import crisprbrain\n",
    "\n",
    "# Initialize the CRISPRbrain API Client\n",
    "client = crisprbrain.Client()\n",
    "\n",
    "# List Available Screens\n",
    "print(\"Available Screens are:\", str.join(\", \", client.screens.keys()))\n",
    "\n",
    "# Access a Screen\n",
    "screen = client.screens[\"iTF Microglia-Day-8-CROP-seq-CRISPRi\"]\n",
    "# screen_type = screen.metadata[\"Screen Type\"]\n",
    "# print(screen_type, \"RNA-seq\")\n",
    "\n",
    "# Access the Screen Data\n",
    "df = screen.to_data_frame()\n",
    "df.describe()"
   ]
  },
  {
   "cell_type": "code",
   "execution_count": 7,
   "id": "f4dd5d2d-4b38-4f0b-8c1a-d8eb3ec4b219",
   "metadata": {},
   "outputs": [
    {
     "data": {
      "text/html": [
       "<div>\n",
       "<style scoped>\n",
       "    .dataframe tbody tr th:only-of-type {\n",
       "        vertical-align: middle;\n",
       "    }\n",
       "\n",
       "    .dataframe tbody tr th {\n",
       "        vertical-align: top;\n",
       "    }\n",
       "\n",
       "    .dataframe thead th {\n",
       "        text-align: right;\n",
       "    }\n",
       "</style>\n",
       "<table border=\"1\" class=\"dataframe\">\n",
       "  <thead>\n",
       "    <tr style=\"text-align: right;\">\n",
       "      <th></th>\n",
       "      <th>Gene</th>\n",
       "      <th>Log2CPM</th>\n",
       "      <th>Log2FC</th>\n",
       "      <th>P Value</th>\n",
       "      <th>FDR</th>\n",
       "      <th>name</th>\n",
       "      <th>P Value (Signed -Log10)</th>\n",
       "    </tr>\n",
       "  </thead>\n",
       "  <tbody>\n",
       "    <tr>\n",
       "      <th>0</th>\n",
       "      <td>INPP5D</td>\n",
       "      <td>0.294415</td>\n",
       "      <td>-0.568739</td>\n",
       "      <td>2.156995e-47</td>\n",
       "      <td>3.517411e-43</td>\n",
       "      <td>INPP5D</td>\n",
       "      <td>-46.666151</td>\n",
       "    </tr>\n",
       "    <tr>\n",
       "      <th>1</th>\n",
       "      <td>FN1</td>\n",
       "      <td>2.740896</td>\n",
       "      <td>-0.493211</td>\n",
       "      <td>6.950357e-06</td>\n",
       "      <td>1.133395e-01</td>\n",
       "      <td>INPP5D</td>\n",
       "      <td>-5.157993</td>\n",
       "    </tr>\n",
       "    <tr>\n",
       "      <th>2</th>\n",
       "      <td>TPT1</td>\n",
       "      <td>3.790357</td>\n",
       "      <td>-0.247619</td>\n",
       "      <td>2.439973e-05</td>\n",
       "      <td>3.978865e-01</td>\n",
       "      <td>INPP5D</td>\n",
       "      <td>-4.612615</td>\n",
       "    </tr>\n",
       "    <tr>\n",
       "      <th>3</th>\n",
       "      <td>GPX7</td>\n",
       "      <td>0.425592</td>\n",
       "      <td>-0.185546</td>\n",
       "      <td>4.731931e-05</td>\n",
       "      <td>7.716360e-01</td>\n",
       "      <td>INPP5D</td>\n",
       "      <td>-4.324962</td>\n",
       "    </tr>\n",
       "    <tr>\n",
       "      <th>4</th>\n",
       "      <td>LGALS3</td>\n",
       "      <td>0.605125</td>\n",
       "      <td>0.329609</td>\n",
       "      <td>5.522687e-05</td>\n",
       "      <td>9.005846e-01</td>\n",
       "      <td>INPP5D</td>\n",
       "      <td>4.257850</td>\n",
       "    </tr>\n",
       "  </tbody>\n",
       "</table>\n",
       "</div>"
      ],
      "text/plain": [
       "     Gene   Log2CPM    Log2FC       P Value           FDR    name  \\\n",
       "0  INPP5D  0.294415 -0.568739  2.156995e-47  3.517411e-43  INPP5D   \n",
       "1     FN1  2.740896 -0.493211  6.950357e-06  1.133395e-01  INPP5D   \n",
       "2    TPT1  3.790357 -0.247619  2.439973e-05  3.978865e-01  INPP5D   \n",
       "3    GPX7  0.425592 -0.185546  4.731931e-05  7.716360e-01  INPP5D   \n",
       "4  LGALS3  0.605125  0.329609  5.522687e-05  9.005846e-01  INPP5D   \n",
       "\n",
       "   P Value (Signed -Log10)  \n",
       "0               -46.666151  \n",
       "1                -5.157993  \n",
       "2                -4.612615  \n",
       "3                -4.324962  \n",
       "4                 4.257850  "
      ]
     },
     "execution_count": 7,
     "metadata": {},
     "output_type": "execute_result"
    }
   ],
   "source": [
    "df.head()"
   ]
  },
  {
   "cell_type": "code",
   "execution_count": 10,
   "id": "80ef526e-21e5-490f-a878-260913476e33",
   "metadata": {},
   "outputs": [
    {
     "data": {
      "text/plain": [
       "10549"
      ]
     },
     "execution_count": 10,
     "metadata": {},
     "output_type": "execute_result"
    }
   ],
   "source": [
    "len(df.Gene.unique())"
   ]
  },
  {
   "cell_type": "code",
   "execution_count": 11,
   "id": "e601767d-acd3-4f8e-bdb6-986a02ff2254",
   "metadata": {},
   "outputs": [
    {
     "data": {
      "text/plain": [
       "39"
      ]
     },
     "execution_count": 11,
     "metadata": {},
     "output_type": "execute_result"
    }
   ],
   "source": [
    "len(df.name.unique())"
   ]
  },
  {
   "cell_type": "code",
   "execution_count": 12,
   "id": "2cd251a6-dab8-4c8e-9027-5180182703a3",
   "metadata": {},
   "outputs": [
    {
     "data": {
      "text/plain": [
       "array(['INPP5D', 'IFNAR2', 'ZMYND8', 'DDX39B', 'PKM', 'RIOK2', 'MED1',\n",
       "       'STK40', 'DBF4', 'NDUFA8', 'NDUFV2', 'CSF1R', 'CDK12', 'TRIM24',\n",
       "       'RPS6KA6', 'CDK8', 'TRAPPC3', 'ATP1A1', 'MTHFD2', 'TGFBR2', 'LSM6',\n",
       "       'TGFBR1', 'CDC25B', 'RPS6KB2', 'CSF2RA', 'SPTLC2', 'PLK1',\n",
       "       'RPS6KB1', 'CSF2RB', 'DCPS', 'NDUFS5', 'EPOR', 'MAP2K6', 'MAPK14',\n",
       "       'PFN2', 'PPM1D', 'AARS', 'CSNK2A1', 'AURKB'], dtype=object)"
      ]
     },
     "execution_count": 12,
     "metadata": {},
     "output_type": "execute_result"
    }
   ],
   "source": [
    "df.name.unique()"
   ]
  },
  {
   "cell_type": "code",
   "execution_count": 13,
   "id": "60cd21b4-83d8-4472-a87e-5ba46ca2f4a2",
   "metadata": {},
   "outputs": [
    {
     "data": {
      "text/plain": [
       "270.4871794871795"
      ]
     },
     "execution_count": 13,
     "metadata": {},
     "output_type": "execute_result"
    }
   ],
   "source": [
    "10549/39"
   ]
  },
  {
   "cell_type": "code",
   "execution_count": null,
   "id": "b8211e4c-d8be-4f7a-bc79-b8886a9776b0",
   "metadata": {},
   "outputs": [],
   "source": []
  }
 ],
 "metadata": {
  "kernelspec": {
   "display_name": "hotspot",
   "language": "python",
   "name": "hotspot"
  },
  "language_info": {
   "codemirror_mode": {
    "name": "ipython",
    "version": 3
   },
   "file_extension": ".py",
   "mimetype": "text/x-python",
   "name": "python",
   "nbconvert_exporter": "python",
   "pygments_lexer": "ipython3",
   "version": "3.11.9"
  }
 },
 "nbformat": 4,
 "nbformat_minor": 5
}
