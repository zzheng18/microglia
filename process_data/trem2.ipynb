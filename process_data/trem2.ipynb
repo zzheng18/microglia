{
 "cells": [
  {
   "cell_type": "code",
   "execution_count": 1,
   "id": "92e63f8c-191a-4071-9567-99ef5221162b",
   "metadata": {},
   "outputs": [],
   "source": [
    "import GEOparse\n",
    "import pandas as pd\n",
    "import scanpy as sc"
   ]
  },
  {
   "cell_type": "code",
   "execution_count": 1,
   "id": "95d7d6a3-9378-4e1e-b3df-84a46b01e44c",
   "metadata": {},
   "outputs": [],
   "source": [
    "import scanpy as sc\n",
    "import os\n",
    "from glob import glob"
   ]
  },
  {
   "cell_type": "code",
   "execution_count": 32,
   "id": "7511da6b-4172-4e32-b4df-ebc8132d482b",
   "metadata": {},
   "outputs": [
    {
     "name": "stderr",
     "output_type": "stream",
     "text": [
      "/tmp/ipykernel_4080470/4011898620.py:34: FutureWarning: Use anndata.concat instead of AnnData.concatenate, AnnData.concatenate is deprecated and will be removed in the future. See the tutorial for concat at: https://anndata.readthedocs.io/en/latest/concatenation.html\n",
      "  merged_adata = adata_list[0].concatenate(*adata_list[1:], join='outer', batch_key='sample')\n"
     ]
    }
   ],
   "source": [
    "import os\n",
    "import scanpy as sc\n",
    "from scipy import io\n",
    "import pandas as pd\n",
    "\n",
    "# Define the directory where the files are stored\n",
    "data_dir = \"/lustre/groups/ml01/projects/2024_microglia_zihe.zheng/trem2/GSE183068_RAW\"\n",
    "\n",
    "# Initialize an empty list to store individual AnnData objects\n",
    "adata_list = []\n",
    "\n",
    "# Loop through each sample by identifying unique sample prefixes (like `GSM5550450_Gan_1`)\n",
    "for sample_prefix in set(f.split('.')[0] for f in os.listdir(data_dir) if f.endswith('.gz')):\n",
    "    # Construct file paths for matrix, barcodes, and features for each sample\n",
    "    matrix_path = os.path.join(data_dir, f\"{sample_prefix}.matrix.mtx.gz\")\n",
    "    barcodes_path = os.path.join(data_dir, f\"{sample_prefix}.barcodes.tsv.gz\")\n",
    "    features_path = os.path.join(data_dir, f\"{sample_prefix}.features.tsv.gz\")\n",
    "    \n",
    "    # Load matrix, barcodes, and features\n",
    "    matrix = io.mmread(matrix_path).tocsr()  # Read the matrix.mtx file as a sparse matrix\n",
    "    barcodes = pd.read_csv(barcodes_path, header=None).values.flatten()  # Read barcodes as cell identifiers\n",
    "    features = pd.read_csv(features_path, header=None, sep = '\\t')[1].values  # Read features as gene names\n",
    "    \n",
    "    # Create AnnData object for the sample\n",
    "    adata = sc.AnnData(matrix.T)\n",
    "    adata.obs['cell_ids'] = barcodes\n",
    "    adata.var['gene_symbols'] = features\n",
    "    adata.obs['sample'] = sample_prefix  # Track the sample name\n",
    "    \n",
    "    # Append to the list\n",
    "    adata_list.append(adata)\n",
    "\n",
    "# Concatenate all AnnData objects into one\n",
    "merged_adata = adata_list[0].concatenate(*adata_list[1:], join='outer', batch_key='sample')\n",
    "\n",
    "# Save the merged AnnData to a .h5ad file\n",
    "# merged_adata.write_h5ad(\"merged_data.h5ad\")"
   ]
  },
  {
   "cell_type": "code",
   "execution_count": 33,
   "id": "9d1346a8-778a-41e0-bb8f-e96811a78f18",
   "metadata": {},
   "outputs": [
    {
     "data": {
      "text/plain": [
       "AnnData object with n_obs × n_vars = 386118 × 33538\n",
       "    obs: 'cell_ids', 'sample'\n",
       "    var: 'gene_symbols'"
      ]
     },
     "execution_count": 33,
     "metadata": {},
     "output_type": "execute_result"
    }
   ],
   "source": [
    "merged_adata"
   ]
  },
  {
   "cell_type": "code",
   "execution_count": 43,
   "id": "e0a07eeb-a38e-4de7-954f-9dab54382edd",
   "metadata": {
    "collapsed": true,
    "jupyter": {
     "outputs_hidden": true
    },
    "scrolled": true
   },
   "outputs": [
    {
     "name": "stderr",
     "output_type": "stream",
     "text": [
      "/home/icb/zihe.zheng/miniconda3/envs/scanpy2/lib/python3.9/site-packages/anndata/_core/anndata.py:841: UserWarning: \n",
      "AnnData expects .obs.index to contain strings, but got values like:\n",
      "    ['AAACCCAAGCTGTTCA-1', 'AAACCCACAGTTCTAG-1', 'AAACCCAGTAGGAGGG-1', 'AAACCCAGTATGCAAA-1', 'AAACCCAGTCGGTAAG-1']\n",
      "\n",
      "    Inferred to be: categorical\n",
      "\n",
      "  names = self._prep_dim_index(names, \"obs\")\n"
     ]
    }
   ],
   "source": [
    "merged_adata.obs_names = merged_adata.obs.cell_ids\n",
    "merged_adata.obs.cell_ids.index.name = None\n",
    "\n",
    "merged_adata.var_names = merged_adata.var.gene_symbols\n",
    "merged_adata.var.index.name = None"
   ]
  },
  {
   "cell_type": "code",
   "execution_count": 41,
   "id": "9ddfc4ec-978a-4e47-abf6-1c99673b146f",
   "metadata": {},
   "outputs": [
    {
     "data": {
      "text/html": [
       "<div>\n",
       "<style scoped>\n",
       "    .dataframe tbody tr th:only-of-type {\n",
       "        vertical-align: middle;\n",
       "    }\n",
       "\n",
       "    .dataframe tbody tr th {\n",
       "        vertical-align: top;\n",
       "    }\n",
       "\n",
       "    .dataframe thead th {\n",
       "        text-align: right;\n",
       "    }\n",
       "</style>\n",
       "<table border=\"1\" class=\"dataframe\">\n",
       "  <thead>\n",
       "    <tr style=\"text-align: right;\">\n",
       "      <th></th>\n",
       "      <th>gene_symbols</th>\n",
       "    </tr>\n",
       "  </thead>\n",
       "  <tbody>\n",
       "    <tr>\n",
       "      <th>MIR1302-2HG</th>\n",
       "      <td>MIR1302-2HG</td>\n",
       "    </tr>\n",
       "    <tr>\n",
       "      <th>FAM138A</th>\n",
       "      <td>FAM138A</td>\n",
       "    </tr>\n",
       "    <tr>\n",
       "      <th>OR4F5</th>\n",
       "      <td>OR4F5</td>\n",
       "    </tr>\n",
       "    <tr>\n",
       "      <th>AL627309.1</th>\n",
       "      <td>AL627309.1</td>\n",
       "    </tr>\n",
       "    <tr>\n",
       "      <th>AL627309.3</th>\n",
       "      <td>AL627309.3</td>\n",
       "    </tr>\n",
       "    <tr>\n",
       "      <th>...</th>\n",
       "      <td>...</td>\n",
       "    </tr>\n",
       "    <tr>\n",
       "      <th>AC233755.2</th>\n",
       "      <td>AC233755.2</td>\n",
       "    </tr>\n",
       "    <tr>\n",
       "      <th>AC233755.1</th>\n",
       "      <td>AC233755.1</td>\n",
       "    </tr>\n",
       "    <tr>\n",
       "      <th>AC240274.1</th>\n",
       "      <td>AC240274.1</td>\n",
       "    </tr>\n",
       "    <tr>\n",
       "      <th>AC213203.1</th>\n",
       "      <td>AC213203.1</td>\n",
       "    </tr>\n",
       "    <tr>\n",
       "      <th>FAM231C</th>\n",
       "      <td>FAM231C</td>\n",
       "    </tr>\n",
       "  </tbody>\n",
       "</table>\n",
       "<p>33538 rows × 1 columns</p>\n",
       "</div>"
      ],
      "text/plain": [
       "            gene_symbols\n",
       "MIR1302-2HG  MIR1302-2HG\n",
       "FAM138A          FAM138A\n",
       "OR4F5              OR4F5\n",
       "AL627309.1    AL627309.1\n",
       "AL627309.3    AL627309.3\n",
       "...                  ...\n",
       "AC233755.2    AC233755.2\n",
       "AC233755.1    AC233755.1\n",
       "AC240274.1    AC240274.1\n",
       "AC213203.1    AC213203.1\n",
       "FAM231C          FAM231C\n",
       "\n",
       "[33538 rows x 1 columns]"
      ]
     },
     "execution_count": 41,
     "metadata": {},
     "output_type": "execute_result"
    }
   ],
   "source": [
    "merged_adata.var"
   ]
  },
  {
   "cell_type": "code",
   "execution_count": 46,
   "id": "71ec6eea-c589-4b7a-aa99-3f6b3023bb62",
   "metadata": {},
   "outputs": [],
   "source": [
    "merged_adata.write_h5ad(\"/lustre/groups/ml01/projects/2024_microglia_zihe.zheng/trem2/human.h5ad\")"
   ]
  },
  {
   "cell_type": "code",
   "execution_count": null,
   "id": "b4272da4-fa17-4d8a-a525-d500269fd139",
   "metadata": {},
   "outputs": [],
   "source": []
  }
 ],
 "metadata": {
  "kernelspec": {
   "display_name": "scanpy2",
   "language": "python",
   "name": "scanpy2"
  },
  "language_info": {
   "codemirror_mode": {
    "name": "ipython",
    "version": 3
   },
   "file_extension": ".py",
   "mimetype": "text/x-python",
   "name": "python",
   "nbconvert_exporter": "python",
   "pygments_lexer": "ipython3",
   "version": "3.9.19"
  }
 },
 "nbformat": 4,
 "nbformat_minor": 5
}
