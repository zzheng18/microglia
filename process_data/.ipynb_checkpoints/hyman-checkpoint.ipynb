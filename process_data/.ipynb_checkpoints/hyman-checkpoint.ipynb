{
 "cells": [
  {
   "cell_type": "code",
   "execution_count": 2,
   "id": "7a43a38c-ce34-4859-9b93-b0b4926f5e73",
   "metadata": {},
   "outputs": [],
   "source": [
    "import scanpy as sc\n",
    "import os\n",
    "import pandas as pd\n",
    "import numpy as np\n",
    "import scipy.io\n",
    "import anndata as ad"
   ]
  },
  {
   "cell_type": "code",
   "execution_count": null,
   "id": "c841fb08-7653-4389-815c-4f7be9502f41",
   "metadata": {},
   "outputs": [],
   "source": [
    "# Step 1: Load the data\n",
    "# Load the metadata\n",
    "path = '/lustre/groups/ml01/projects/2024_microglia_zihe.zheng/hyman/microglia/EC'\n",
    "\n",
    "metadata = pd.read_csv(path + '2024-10-29_Microglia_metadata.csv')\n",
    "\n",
    "# Load the expression matrix (assuming it's in Matrix Market format)\n",
    "matrix = scipy.io.mmread(path + '2024-10-29_Microglia_matrix.mtx').tocsc()\n",
    "\n",
    "# Load the row annotations\n",
    "row_annotations = pd.read_csv('2024-10-29_Microglia_row-annotation.txt', sep=\"\\t\", header=None)\n",
    "\n",
    "# Load the cell annotations\n",
    "cell_annotations = pd.read_csv('2024-10-29_Microglia_cell-annotation.txt', sep=\"\\t\", header=None)\n",
    "\n",
    "# Step 2: Prepare AnnData object\n",
    "# Create AnnData object\n",
    "adata = ad.AnnData(X=matrix)\n",
    "\n",
    "# Assign the observation (cell) metadata\n",
    "adata.obs['cell_annotations'] = cell_annotations.values.flatten()  # Adjust this if necessary\n",
    "for key, value in metadata.items():\n",
    "    adata.obs[key] = value.values  # Add other metadata as needed\n",
    "\n",
    "# Assign the variable (gene) annotations\n",
    "adata.var['gene_annotations'] = row_annotations.values.flatten()  # Adjust if necessary\n",
    "\n",
    "# Step 3: Save to H5AD format\n",
    "adata.write('2024-10-29_Microglia_data.h5ad')\n"
   ]
  }
 ],
 "metadata": {
  "kernelspec": {
   "display_name": "scanpy2",
   "language": "python",
   "name": "scanpy2"
  },
  "language_info": {
   "codemirror_mode": {
    "name": "ipython",
    "version": 3
   },
   "file_extension": ".py",
   "mimetype": "text/x-python",
   "name": "python",
   "nbconvert_exporter": "python",
   "pygments_lexer": "ipython3",
   "version": "3.9.19"
  }
 },
 "nbformat": 4,
 "nbformat_minor": 5
}
