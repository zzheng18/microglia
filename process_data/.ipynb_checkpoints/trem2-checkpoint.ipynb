{
 "cells": [
  {
   "cell_type": "code",
   "execution_count": 1,
   "id": "92e63f8c-191a-4071-9567-99ef5221162b",
   "metadata": {},
   "outputs": [],
   "source": [
    "import GEOparse\n",
    "import pandas as pd\n",
    "import scanpy as sc"
   ]
  },
  {
   "cell_type": "code",
   "execution_count": 1,
   "id": "95d7d6a3-9378-4e1e-b3df-84a46b01e44c",
   "metadata": {},
   "outputs": [],
   "source": [
    "import scanpy as sc\n",
    "import os\n",
    "from glob import glob"
   ]
  },
  {
   "cell_type": "code",
   "execution_count": null,
   "id": "7511da6b-4172-4e32-b4df-ebc8132d482b",
   "metadata": {},
   "outputs": [],
   "source": [
    "import os\n",
    "import scanpy as sc\n",
    "from scipy import io\n",
    "import pandas as pd\n",
    "\n",
    "# Define the directory where the files are stored\n",
    "data_dir = \"/lustre/groups/ml01/projects/2024_microglia_zihe.zheng/trem2/GSE183068_RAW\"\n",
    "\n",
    "# Initialize an empty list to store individual AnnData objects\n",
    "adata_list = []\n",
    "\n",
    "# Loop through each sample by identifying unique sample prefixes (like `GSM5550450_Gan_1`)\n",
    "for sample_prefix in set(f.split('.')[0] for f in os.listdir(data_dir) if f.endswith('.gz')):\n",
    "    # Construct file paths for matrix, barcodes, and features for each sample\n",
    "    matrix_path = os.path.join(data_dir, f\"{sample_prefix}.matrix.mtx.gz\")\n",
    "    barcodes_path = os.path.join(data_dir, f\"{sample_prefix}.barcodes.tsv.gz\")\n",
    "    features_path = os.path.join(data_dir, f\"{sample_prefix}.features.tsv.gz\")\n",
    "    \n",
    "    # Load matrix, barcodes, and features\n",
    "    matrix = io.mmread(matrix_path).tocsr()  # Read the matrix.mtx file as a sparse matrix\n",
    "    barcodes = pd.read_csv(barcodes_path, header=None).values.flatten()  # Read barcodes as cell identifiers\n",
    "    features = pd.read_csv(features_path, header=None, sep = '\\t')[1]  # Read features as gene names\n",
    "    \n",
    "    # Create AnnData object for the sample\n",
    "    adata = sc.AnnData(matrix.T)\n",
    "    adata.obs['cell_ids'] = barcodes\n",
    "    adata.var['gene_symbols'] = features\n",
    "    adata.obs['sample'] = sample_prefix  # Track the sample name\n",
    "    \n",
    "    # Append to the list\n",
    "    adata_list.append(adata)\n",
    "\n",
    "# Concatenate all AnnData objects into one\n",
    "merged_adata = adata_list[0].concatenate(*adata_list[1:], join='outer', batch_key='sample')\n",
    "\n",
    "# Save the merged AnnData to a .h5ad file\n",
    "# merged_adata.write_h5ad(\"merged_data.h5ad\")"
   ]
  },
  {
   "cell_type": "code",
   "execution_count": 8,
   "id": "a3406e74-3946-4bc1-a59c-e8ce4e9899bd",
   "metadata": {},
   "outputs": [
    {
     "data": {
      "text/plain": [
       "array([1, 1, 1, ..., 1, 1, 1])"
      ]
     },
     "execution_count": 8,
     "metadata": {},
     "output_type": "execute_result"
    }
   ],
   "source": [
    "merged_adata.X.data"
   ]
  },
  {
   "cell_type": "code",
   "execution_count": 9,
   "id": "c4afe9f6-5737-4fcc-ae74-b89522c840fc",
   "metadata": {},
   "outputs": [
    {
     "data": {
      "text/plain": [
       "array(['AAACCCAAGGCGCTCT-1', 'AAACCCAGTAAGCTCT-1', 'AAACCCAGTTTCCAAG-1',\n",
       "       ..., 'TTTGTTGTCGACATCA-1', 'TTTGTTGTCGCAGTCG-1',\n",
       "       'TTTGTTGTCGTTAGAC-1'], dtype=object)"
      ]
     },
     "execution_count": 9,
     "metadata": {},
     "output_type": "execute_result"
    }
   ],
   "source": [
    "barcodes"
   ]
  },
  {
   "cell_type": "code",
   "execution_count": 10,
   "id": "bff40bae-1dc6-4e3f-b946-fb3917639b10",
   "metadata": {},
   "outputs": [
    {
     "data": {
      "text/plain": [
       "array(['ENSG00000243485\\tMIR1302-2HG\\tGene Expression',\n",
       "       'ENSG00000237613\\tFAM138A\\tGene Expression',\n",
       "       'ENSG00000186092\\tOR4F5\\tGene Expression', ...,\n",
       "       'ENSG00000271254\\tAC240274.1\\tGene Expression',\n",
       "       'ENSG00000277475\\tAC213203.1\\tGene Expression',\n",
       "       'ENSG00000268674\\tFAM231C\\tGene Expression'], dtype=object)"
      ]
     },
     "execution_count": 10,
     "metadata": {},
     "output_type": "execute_result"
    }
   ],
   "source": [
    "features"
   ]
  },
  {
   "cell_type": "code",
   "execution_count": 14,
   "id": "6fe79cad-bb4d-4346-bedc-6ecb9fd11f6a",
   "metadata": {},
   "outputs": [
    {
     "data": {
      "text/plain": [
       "0        MIR1302-2HG\n",
       "1            FAM138A\n",
       "2              OR4F5\n",
       "3         AL627309.1\n",
       "4         AL627309.3\n",
       "            ...     \n",
       "33533     AC233755.2\n",
       "33534     AC233755.1\n",
       "33535     AC240274.1\n",
       "33536     AC213203.1\n",
       "33537        FAM231C\n",
       "Name: 1, Length: 33538, dtype: object"
      ]
     },
     "execution_count": 14,
     "metadata": {},
     "output_type": "execute_result"
    }
   ],
   "source": [
    "features_path = os.path.join(data_dir, f\"{sample_prefix}.features.tsv.gz\")\n",
    "pd.read_csv(features_path, header=None, sep = '\\t')[1]"
   ]
  },
  {
   "cell_type": "code",
   "execution_count": null,
   "id": "9d1346a8-778a-41e0-bb8f-e96811a78f18",
   "metadata": {},
   "outputs": [],
   "source": [
    "merged_adata"
   ]
  },
  {
   "cell_type": "code",
   "execution_count": null,
   "id": "e0a07eeb-a38e-4de7-954f-9dab54382edd",
   "metadata": {},
   "outputs": [],
   "source": []
  }
 ],
 "metadata": {
  "kernelspec": {
   "display_name": "scanpy2",
   "language": "python",
   "name": "scanpy2"
  },
  "language_info": {
   "codemirror_mode": {
    "name": "ipython",
    "version": 3
   },
   "file_extension": ".py",
   "mimetype": "text/x-python",
   "name": "python",
   "nbconvert_exporter": "python",
   "pygments_lexer": "ipython3",
   "version": "3.9.19"
  }
 },
 "nbformat": 4,
 "nbformat_minor": 5
}
