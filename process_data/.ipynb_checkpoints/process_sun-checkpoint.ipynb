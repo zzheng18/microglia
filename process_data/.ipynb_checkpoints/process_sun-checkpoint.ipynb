{
 "cells": [
  {
   "cell_type": "code",
   "execution_count": 1,
   "id": "09197cd0-b156-4b63-8a89-1934649ff91c",
   "metadata": {},
   "outputs": [],
   "source": [
    "import scanpy as sc"
   ]
  },
  {
   "cell_type": "code",
   "execution_count": 2,
   "id": "0d85b2d7-2b0d-4d6d-abe5-1b6eefa7c646",
   "metadata": {},
   "outputs": [],
   "source": [
    "rna = sc.read_h5ad('/home/icb/zihe.zheng/projects/microglia/data/SUN/MIT_ROSMAP_RNA.h5ad')"
   ]
  },
  {
   "cell_type": "code",
   "execution_count": 5,
   "id": "d953f491-3241-4253-bb1d-ef4c300d373a",
   "metadata": {},
   "outputs": [
    {
     "data": {
      "text/plain": [
       "array([ 2,  5,  6,  1, 10,  4, 13,  9,  0,  8, 11,  3, 14, 15, 12,  7],\n",
       "      dtype=int32)"
      ]
     },
     "execution_count": 5,
     "metadata": {},
     "output_type": "execute_result"
    }
   ],
   "source": [
    "rna.obs.seurat_clusters.unique()"
   ]
  },
  {
   "cell_type": "code",
   "execution_count": null,
   "id": "3ec7b604-46c9-44dc-b9bb-800c54be470f",
   "metadata": {},
   "outputs": [
    {
     "name": "stderr",
     "output_type": "stream",
     "text": [
      "/home/icb/zihe.zheng/miniconda3/envs/scanpy2/lib/python3.9/site-packages/scanpy/preprocessing/_pca.py:374: FutureWarning: Argument `use_highly_variable` is deprecated, consider using the mask argument. Use_highly_variable=True can be called through mask_var=\"highly_variable\". Use_highly_variable=False can be called through mask_var=None\n",
      "  warn(msg, FutureWarning)\n"
     ]
    }
   ],
   "source": [
    "sc.pp.normalize_total(rna)\n",
    "sc.pp.log1p(rna)\n",
    "sc.pp.highly_variable_genes(rna)\n",
    "sc.pp.pca(rna, use_highly_variable=True)\n",
    "sc.pp.neighbors(rna)\n",
    "sc.tl.umap(rna)"
   ]
  },
  {
   "cell_type": "code",
   "execution_count": null,
   "id": "b2ddb593-88f6-4dce-b6ee-e4fc666c85a3",
   "metadata": {},
   "outputs": [],
   "source": [
    "sc.pl.umap(rna, color = ['seurat_clusters'])"
   ]
  }
 ],
 "metadata": {
  "kernelspec": {
   "display_name": "scanpy2",
   "language": "python",
   "name": "scanpy2"
  },
  "language_info": {
   "codemirror_mode": {
    "name": "ipython",
    "version": 3
   },
   "file_extension": ".py",
   "mimetype": "text/x-python",
   "name": "python",
   "nbconvert_exporter": "python",
   "pygments_lexer": "ipython3",
   "version": "3.9.19"
  }
 },
 "nbformat": 4,
 "nbformat_minor": 5
}
