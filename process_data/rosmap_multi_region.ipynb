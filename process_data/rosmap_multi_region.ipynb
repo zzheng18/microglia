{
 "cells": [
  {
   "cell_type": "code",
   "execution_count": 1,
   "id": "0832fad4-2fb9-41ce-a5bc-06f40c05eb12",
   "metadata": {},
   "outputs": [],
   "source": [
    "import scanpy as sc\n",
    "import pandas as pd\n",
    "import anndata as ad\n",
    "import numpy as np\n",
    "import matplotlib.pyplot as plt\n",
    "import seaborn as sns"
   ]
  },
  {
   "cell_type": "code",
   "execution_count": 2,
   "id": "36882772-ad2c-438d-a840-5330a999e5bb",
   "metadata": {},
   "outputs": [
    {
     "name": "stderr",
     "output_type": "stream",
     "text": [
      "/home/icb/zihe.zheng/miniconda3/envs/scanpy_dask/lib/python3.13/site-packages/anndata/_core/aligned_df.py:68: ImplicitModificationWarning: Transforming to str index.\n",
      "  warnings.warn(\"Transforming to str index.\", ImplicitModificationWarning)\n"
     ]
    }
   ],
   "source": [
    "adata = sc.read_h5ad('/lustre/groups/ml01/projects/2024_microglia_zihe.zheng/rosmap_multiome/all_brain_regions_filt_preprocessed_scanpy_fullmatrix_annot.h5ad')"
   ]
  },
  {
   "cell_type": "code",
   "execution_count": 3,
   "id": "19c663f8-6846-41d6-a8e0-b9bc34fe9faa",
   "metadata": {},
   "outputs": [
    {
     "data": {
      "text/plain": [
       "['AG', 'EC', 'HC', 'MT', 'PFC', 'TH']\n",
       "Categories (6, object): ['AG', 'EC', 'HC', 'MT', 'PFC', 'TH']"
      ]
     },
     "execution_count": 3,
     "metadata": {},
     "output_type": "execute_result"
    }
   ],
   "source": [
    "adata.obs['region'].unique()"
   ]
  },
  {
   "cell_type": "code",
   "execution_count": 3,
   "id": "e443b75f-32f8-419d-8bad-76d3233816d6",
   "metadata": {},
   "outputs": [],
   "source": [
    "hippo = adata[adata.obs['region'] == 'HC']"
   ]
  },
  {
   "cell_type": "code",
   "execution_count": 4,
   "id": "995728c6-fdfc-4bee-af79-7e66b8dd31e7",
   "metadata": {},
   "outputs": [
    {
     "data": {
      "text/plain": [
       "View of AnnData object with n_obs × n_vars = 221415 × 18914\n",
       "    obs: 'obsnames', 'lbl', 'U1', 'U2', 'barcode', 'rind', 'region', 'projid', 'is.doublet', 'col', 'tspcol', 'hcluster', 'hcelltype', 'hsubclass', 'major.celltype', 'minor.celltype', 'neuronal.layer', 'inh.subtype', 'neuronal.exttype', 'full.exttype', 'cell_type_high_resolution'\n",
       "    var: 'varnames'"
      ]
     },
     "execution_count": 4,
     "metadata": {},
     "output_type": "execute_result"
    }
   ],
   "source": [
    "hippo"
   ]
  },
  {
   "cell_type": "code",
   "execution_count": 5,
   "id": "7841ee65-0abc-4503-9a92-10060520e4e0",
   "metadata": {},
   "outputs": [],
   "source": [
    "hippo.raw = hippo.copy()"
   ]
  },
  {
   "cell_type": "code",
   "execution_count": 6,
   "id": "1e0d48c5-6a0c-43bc-9542-ec03cab7fbca",
   "metadata": {},
   "outputs": [
    {
     "data": {
      "text/plain": [
       "array([1., 1., 1., ..., 1., 1., 1.], dtype=float32)"
      ]
     },
     "execution_count": 6,
     "metadata": {},
     "output_type": "execute_result"
    }
   ],
   "source": [
    "hippo.raw.X.data"
   ]
  },
  {
   "cell_type": "code",
   "execution_count": 7,
   "id": "1d6215ce-0e45-4c14-9d0b-629d2d9d9e6d",
   "metadata": {},
   "outputs": [],
   "source": [
    "del adata"
   ]
  },
  {
   "cell_type": "code",
   "execution_count": 10,
   "id": "bb5ebbab-115e-423e-b1e1-04c6b53cb8dd",
   "metadata": {},
   "outputs": [
    {
     "data": {
      "text/plain": [
       "Index(['obsnames', 'lbl', 'U1', 'U2', 'barcode', 'rind', 'region', 'projid',\n",
       "       'is.doublet', 'col', 'tspcol', 'hcluster', 'hcelltype', 'hsubclass',\n",
       "       'major.celltype', 'minor.celltype', 'neuronal.layer', 'inh.subtype',\n",
       "       'neuronal.exttype', 'full.exttype', 'cell_type_high_resolution'],\n",
       "      dtype='object')"
      ]
     },
     "execution_count": 10,
     "metadata": {},
     "output_type": "execute_result"
    }
   ],
   "source": [
    "hippo.obs.columns"
   ]
  },
  {
   "cell_type": "code",
   "execution_count": 11,
   "id": "f99e11d1-736a-461b-bb68-8ed0964a4ea3",
   "metadata": {},
   "outputs": [],
   "source": [
    "hippo.write_h5ad('/lustre/groups/ml01/projects/2024_microglia_zihe.zheng/rosmap_multi_region/hippocampus.h5ad')"
   ]
  },
  {
   "cell_type": "code",
   "execution_count": null,
   "id": "18b7c7a8-dc07-4323-b16b-0af335e9e1bc",
   "metadata": {},
   "outputs": [],
   "source": [
    "sc.pp.normalize_total(adata)\n",
    "sc.pp.log1p(adata)\n",
    "sc.pp.highly_variable_genes(adata)\n",
    "sc.pp.pca(adata, mask_var=\"highly_variable\")\n",
    "sc.pp.neighbors(adata)\n",
    "sc.tl.umap(adata)"
   ]
  },
  {
   "cell_type": "code",
   "execution_count": null,
   "id": "c8f00678-6bf3-4e01-9b15-990efd3c4de9",
   "metadata": {},
   "outputs": [],
   "source": []
  },
  {
   "cell_type": "code",
   "execution_count": null,
   "id": "34f05c5d-b9ce-415d-a0b5-cbcb3a7229fe",
   "metadata": {},
   "outputs": [],
   "source": []
  },
  {
   "cell_type": "code",
   "execution_count": null,
   "id": "7a579c3e-3833-403f-b43c-553793d3dede",
   "metadata": {},
   "outputs": [],
   "source": []
  },
  {
   "cell_type": "code",
   "execution_count": null,
   "id": "e59f9c88-92c8-489d-a266-2f1a239b9cf7",
   "metadata": {},
   "outputs": [],
   "source": []
  },
  {
   "cell_type": "code",
   "execution_count": null,
   "id": "9b6ce1ac-ab7e-4164-83d7-3e7d3f6daf0c",
   "metadata": {},
   "outputs": [],
   "source": []
  },
  {
   "cell_type": "code",
   "execution_count": null,
   "id": "fa160020-5725-489a-b7ef-ced63381bc3e",
   "metadata": {},
   "outputs": [],
   "source": []
  },
  {
   "cell_type": "code",
   "execution_count": null,
   "id": "64b305e5-7944-4513-9d0f-448aed4b6af2",
   "metadata": {},
   "outputs": [],
   "source": []
  },
  {
   "cell_type": "code",
   "execution_count": null,
   "id": "baa9c2f5-ba8d-414d-aa86-706b6b3469ef",
   "metadata": {},
   "outputs": [],
   "source": []
  },
  {
   "cell_type": "code",
   "execution_count": null,
   "id": "bfe18f55-2576-4d2d-b992-a3c9c2c05f45",
   "metadata": {},
   "outputs": [],
   "source": []
  }
 ],
 "metadata": {
  "kernelspec": {
   "display_name": "scanpy_dask",
   "language": "python",
   "name": "scanpy_dask"
  },
  "language_info": {
   "codemirror_mode": {
    "name": "ipython",
    "version": 3
   },
   "file_extension": ".py",
   "mimetype": "text/x-python",
   "name": "python",
   "nbconvert_exporter": "python",
   "pygments_lexer": "ipython3",
   "version": "3.13.1"
  }
 },
 "nbformat": 4,
 "nbformat_minor": 5
}
