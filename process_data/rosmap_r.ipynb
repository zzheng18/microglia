{
 "cells": [
  {
   "cell_type": "code",
   "execution_count": 1,
   "id": "9a844548-89d6-4d47-80df-81726d40b8ce",
   "metadata": {},
   "outputs": [
    {
     "name": "stderr",
     "output_type": "stream",
     "text": [
      "Attaching SeuratObject\n",
      "\n",
      "Attaching sp\n",
      "\n",
      "Registered S3 method overwritten by 'SeuratDisk':\n",
      "  method            from  \n",
      "  as.sparse.H5Group Seurat\n",
      "\n"
     ]
    }
   ],
   "source": [
    "library(Seurat)\n",
    "library(SeuratDisk)"
   ]
  },
  {
   "cell_type": "code",
   "execution_count": 2,
   "id": "be02cce1-1fa2-436b-97e5-8a1de8f0b019",
   "metadata": {},
   "outputs": [
    {
     "name": "stderr",
     "output_type": "stream",
     "text": [
      "Validating h5Seurat file\n",
      "\n",
      "Adding scale.data from SCT as X\n",
      "\n",
      "Adding data from SCT as raw\n",
      "\n",
      "Transfering meta.data to obs\n",
      "\n",
      "Adding dimensional reduction information for pca\n",
      "\n",
      "Adding feature loadings for pca\n",
      "\n",
      "Adding dimensional reduction information for umap\n",
      "\n",
      "Adding SCT_snn as neighbors\n",
      "\n"
     ]
    }
   ],
   "source": [
    "Convert(\"/lustre/groups/ml01/projects/2024_microglia_zihe.zheng/rosmap/dlpfc2/astrocytes.h5Seurat\", dest = \"h5ad\")\n"
   ]
  },
  {
   "cell_type": "code",
   "execution_count": 3,
   "id": "2835bc06-82d9-401b-aaec-a2e137f4b0f3",
   "metadata": {},
   "outputs": [
    {
     "name": "stderr",
     "output_type": "stream",
     "text": [
      "Validating h5Seurat file\n",
      "\n",
      "Adding scale.data from SCT as X\n",
      "\n",
      "Adding data from SCT as raw\n",
      "\n",
      "Transfering meta.data to obs\n",
      "\n",
      "Adding dimensional reduction information for pca\n",
      "\n",
      "Adding feature loadings for pca\n",
      "\n",
      "Adding dimensional reduction information for umap\n",
      "\n",
      "Adding SCT_snn as neighbors\n",
      "\n",
      "Validating h5Seurat file\n",
      "\n",
      "Adding scale.data from SCT as X\n",
      "\n",
      "Adding data from SCT as raw\n",
      "\n",
      "Transfering meta.data to obs\n",
      "\n",
      "Adding dimensional reduction information for pca\n",
      "\n",
      "Adding feature loadings for pca\n",
      "\n",
      "Adding dimensional reduction information for umap\n",
      "\n",
      "Adding SCT_snn as neighbors\n",
      "\n",
      "Validating h5Seurat file\n",
      "\n",
      "Adding scale.data from SCT as X\n",
      "\n",
      "Adding data from SCT as raw\n",
      "\n",
      "Transfering meta.data to obs\n",
      "\n",
      "Adding dimensional reduction information for pca\n",
      "\n",
      "Adding feature loadings for pca\n",
      "\n",
      "Adding dimensional reduction information for umap\n",
      "\n",
      "Adding SCT_snn as neighbors\n",
      "\n",
      "Validating h5Seurat file\n",
      "\n",
      "Adding scale.data from SCT as X\n",
      "\n",
      "Adding data from SCT as raw\n",
      "\n",
      "Transfering meta.data to obs\n",
      "\n",
      "Adding dimensional reduction information for pca\n",
      "\n",
      "Adding feature loadings for pca\n",
      "\n",
      "Adding dimensional reduction information for umap\n",
      "\n",
      "Adding SCT_snn as neighbors\n",
      "\n",
      "Validating h5Seurat file\n",
      "\n",
      "Adding scale.data from SCT as X\n",
      "\n",
      "Adding data from SCT as raw\n",
      "\n",
      "Transfering meta.data to obs\n",
      "\n",
      "Adding dimensional reduction information for pca\n",
      "\n",
      "Adding feature loadings for pca\n",
      "\n",
      "Adding dimensional reduction information for umap\n",
      "\n",
      "Validating h5Seurat file\n",
      "\n",
      "Adding scale.data from SCT as X\n",
      "\n",
      "Adding data from SCT as raw\n",
      "\n",
      "Transfering meta.data to obs\n",
      "\n",
      "Adding dimensional reduction information for pca\n",
      "\n",
      "Adding feature loadings for pca\n",
      "\n",
      "Adding dimensional reduction information for umap\n",
      "\n",
      "Adding SCT_snn as neighbors\n",
      "\n"
     ]
    }
   ],
   "source": [
    "Convert(\"/lustre/groups/ml01/projects/2024_microglia_zihe.zheng/rosmap/dlpfc2/inhibitory.h5Seurat\", dest = \"h5ad\")\n",
    "Convert(\"/lustre/groups/ml01/projects/2024_microglia_zihe.zheng/rosmap/dlpfc2/cux2+.h5Seurat\", dest = \"h5ad\")\n",
    "Convert(\"/lustre/groups/ml01/projects/2024_microglia_zihe.zheng/rosmap/dlpfc2/cux2-.h5Seurat\", dest = \"h5ad\")\n",
    "Convert(\"/lustre/groups/ml01/projects/2024_microglia_zihe.zheng/rosmap/dlpfc2/microglia.h5Seurat\", dest = \"h5ad\")\n",
    "Convert(\"/lustre/groups/ml01/projects/2024_microglia_zihe.zheng/rosmap/dlpfc2/oligodendroglia.h5Seurat\", dest = \"h5ad\")\n",
    "Convert(\"/lustre/groups/ml01/projects/2024_microglia_zihe.zheng/rosmap/dlpfc2/vascular.niche.h5Seurat\", dest = \"h5ad\")"
   ]
  },
  {
   "cell_type": "code",
   "execution_count": null,
   "id": "efd07b18-ba62-447e-b70a-ae40aac04a27",
   "metadata": {},
   "outputs": [],
   "source": []
  },
  {
   "cell_type": "code",
   "execution_count": null,
   "id": "db4ef303-4a44-4f5b-8f25-696e1eb73c71",
   "metadata": {},
   "outputs": [],
   "source": []
  },
  {
   "cell_type": "code",
   "execution_count": null,
   "id": "3fb90c93-6a1b-4e1e-9cc2-8a5406bda0ba",
   "metadata": {},
   "outputs": [],
   "source": []
  }
 ],
 "metadata": {
  "kernelspec": {
   "display_name": "rseuratdisk_backup",
   "language": "R",
   "name": "rseuratdisk_backup"
  },
  "language_info": {
   "codemirror_mode": "r",
   "file_extension": ".r",
   "mimetype": "text/x-r-source",
   "name": "R",
   "pygments_lexer": "r",
   "version": "4.0.5"
  }
 },
 "nbformat": 4,
 "nbformat_minor": 5
}
