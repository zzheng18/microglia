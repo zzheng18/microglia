{
 "cells": [
  {
   "cell_type": "code",
   "execution_count": 1,
   "id": "9a844548-89d6-4d47-80df-81726d40b8ce",
   "metadata": {},
   "outputs": [
    {
     "name": "stderr",
     "output_type": "stream",
     "text": [
      "Attaching SeuratObject\n",
      "\n",
      "Attaching sp\n",
      "\n",
      "Registered S3 method overwritten by 'SeuratDisk':\n",
      "  method            from  \n",
      "  as.sparse.H5Group Seurat\n",
      "\n"
     ]
    }
   ],
   "source": [
    "library(Seurat)\n",
    "library(SeuratDisk)"
   ]
  },
  {
   "cell_type": "code",
   "execution_count": 2,
   "id": "fcbb4164-cf05-41c2-ade7-ec0290158f33",
   "metadata": {
    "collapsed": true,
    "jupyter": {
     "outputs_hidden": true
    },
    "scrolled": true
   },
   "outputs": [
    {
     "name": "stderr",
     "output_type": "stream",
     "text": [
      "Validating h5Seurat file\n",
      "\n",
      "Initializing RNA with data\n",
      "\n",
      "Adding counts for RNA\n",
      "\n",
      "Adding miscellaneous information for RNA\n",
      "\n",
      "Initializing SCT with data\n",
      "\n",
      "Adding counts for SCT\n",
      "\n",
      "Adding scale.data for SCT\n",
      "\n",
      "Adding variable feature information for SCT\n",
      "\n",
      "Adding miscellaneous information for SCT\n",
      "\n",
      "Adding reduction pca\n",
      "\n",
      "Adding cell embeddings for pca\n",
      "\n",
      "Adding feature loadings for pca\n",
      "\n",
      "Adding miscellaneous information for pca\n",
      "\n",
      "Adding reduction umap\n",
      "\n",
      "Adding cell embeddings for umap\n",
      "\n",
      "Adding miscellaneous information for umap\n",
      "\n",
      "Adding graph SCT_nn\n",
      "\n",
      "Adding graph SCT_snn\n",
      "\n",
      "Adding command information\n",
      "\n",
      "Adding cell-level metadata\n",
      "\n",
      "Adding miscellaneous information\n",
      "\n",
      "Adding tool-specific results\n",
      "\n"
     ]
    }
   ],
   "source": [
    "seurat_object_s <- LoadH5Seurat(\"/lustre/groups/ml01/projects/2024_microglia_zihe.zheng/rosmap/dlpfc2/astrocytes.h5Seurat\")"
   ]
  },
  {
   "cell_type": "code",
   "execution_count": 3,
   "id": "7598e1be-268f-4aa6-80a2-9ffaf8cee39d",
   "metadata": {},
   "outputs": [
    {
     "data": {
      "text/plain": [
       "An object of class Seurat \n",
       "39745 features across 228925 samples within 2 assays \n",
       "Active assay: SCT (19871 features, 4000 variable features)\n",
       " 1 other assay present: RNA\n",
       " 2 dimensional reductions calculated: pca, umap"
      ]
     },
     "metadata": {},
     "output_type": "display_data"
    }
   ],
   "source": [
    "seurat_object_s"
   ]
  },
  {
   "cell_type": "code",
   "execution_count": null,
   "id": "12b5d489-ecb1-4701-9f18-ff6932272a29",
   "metadata": {},
   "outputs": [],
   "source": [
    "rna_counts <- GetAssayData(seurat_object_s, assay = \"RNA\", slot = \"counts\")\n",
    "sct_data <- GetAssayData(seurat_object_s, assay = \"SCT\", slot = \"data\")"
   ]
  },
  {
   "cell_type": "code",
   "execution_count": 18,
   "id": "cdfec1c7-6db2-49a2-8bab-4f214ef0cfe8",
   "metadata": {
    "collapsed": true,
    "jupyter": {
     "outputs_hidden": true
    },
    "scrolled": true
   },
   "outputs": [
    {
     "name": "stderr",
     "output_type": "stream",
     "text": [
      "   [[ suppressing 50 column names ‘190403-B4-A_AACCTGACACGTCATA-1’, ‘190403-B4-A_CACTGGGGTAGTGGCA-1’, ‘190403-B4-A_AAACGCTCAGTCGGTC-1’ ... ]]\n",
      "\n"
     ]
    },
    {
     "data": {
      "text/plain": [
       "5 x 50 sparse Matrix of class \"dgCMatrix\"\n",
       "                                                                              \n",
       "FAM87B . . . . . .         .         . .         . . .         . . .         .\n",
       "FAM41C . . . . . .         .         . .         . . .         . . .         .\n",
       "SAMD11 . . . . . .         .         . 0.6931472 . . .         . . 0.6931472 .\n",
       "NOC2L  . . . . . .         0.6931472 . .         . . .         . . .         .\n",
       "KLHL17 . . . . . 0.6931472 .         . .         . . 0.6931472 . . .         .\n",
       "                                                                          \n",
       "FAM87B . . . . . . . . . .         . . . . . .         . . . . . . . . . .\n",
       "FAM41C . . . . . . . . . .         . . . . . .         . . . . . . . . . .\n",
       "SAMD11 . . . . . . . . . 0.6931472 . . . . . .         . . . . . . . . . .\n",
       "NOC2L  . . . . . . . . . .         . . . . . .         . . . . . . . . . .\n",
       "KLHL17 . . . . . . . . . .         . . . . . 0.6931472 . . . . . . . . . .\n",
       "                                      \n",
       "FAM87B .         . . . .         . . .\n",
       "FAM41C .         . . . .         . . .\n",
       "SAMD11 .         . . . .         . . .\n",
       "NOC2L  0.6931472 . . . 0.6931472 . . .\n",
       "KLHL17 .         . . . .         . . ."
      ]
     },
     "metadata": {},
     "output_type": "display_data"
    },
    {
     "name": "stderr",
     "output_type": "stream",
     "text": [
      "   [[ suppressing 50 column names ‘190403-B4-A_AACCTGACACGTCATA-1’, ‘190403-B4-A_CACTGGGGTAGTGGCA-1’, ‘190403-B4-A_AAACGCTCAGTCGGTC-1’ ... ]]\n",
      "\n"
     ]
    },
    {
     "data": {
      "text/plain": [
       "5 x 50 sparse Matrix of class \"dgCMatrix\"\n",
       "                                                                              \n",
       "FAM87B . . . . . . . . . . . . . . . . . . . . . . . . . . . . . . . . . . . .\n",
       "FAM41C . . . . . . . . . . . . . . . . . . . . . . . . . . . . . . . . . . . .\n",
       "SAMD11 . . . . . . . . 1 . . . . . 1 . . . . . . . . . . 1 . . . . . . . . . .\n",
       "NOC2L  . . . . . . 1 . . . . . . . . . . . . . . . . . . . . . . . . . . . . .\n",
       "KLHL17 . . . . . 1 . . . . . 1 . . . . . . . . . . . . . . . . . . . 1 . . . .\n",
       "                                  \n",
       "FAM87B . . . . . . . . . . . . . .\n",
       "FAM41C . . . . . . . . . . . . . .\n",
       "SAMD11 . . . . . . . . . . . . . .\n",
       "NOC2L  . . . . . . 1 . . . 1 . . .\n",
       "KLHL17 . . . . . . . . . . . . . ."
      ]
     },
     "metadata": {},
     "output_type": "display_data"
    }
   ],
   "source": [
    "sct_data[1:5, 1:50]\n",
    "rna_counts[1:5, 1:50]"
   ]
  },
  {
   "cell_type": "code",
   "execution_count": 20,
   "id": "2835bc06-82d9-401b-aaec-a2e137f4b0f3",
   "metadata": {},
   "outputs": [
    {
     "name": "stderr",
     "output_type": "stream",
     "text": [
      "Validating h5Seurat file\n",
      "\n",
      "Adding scale.data from SCT as X\n",
      "\n",
      "Adding data from SCT as raw\n",
      "\n",
      "Transfering meta.data to obs\n",
      "\n",
      "Adding dimensional reduction information for pca\n",
      "\n",
      "Adding feature loadings for pca\n",
      "\n",
      "Adding dimensional reduction information for umap\n",
      "\n",
      "Adding SCT_snn as neighbors\n",
      "\n",
      "Validating h5Seurat file\n",
      "\n",
      "Adding scale.data from SCT as X\n",
      "\n",
      "Adding data from SCT as raw\n",
      "\n",
      "Transfering meta.data to obs\n",
      "\n",
      "Adding dimensional reduction information for pca\n",
      "\n",
      "Adding feature loadings for pca\n",
      "\n",
      "Adding dimensional reduction information for umap\n",
      "\n",
      "Adding SCT_snn as neighbors\n",
      "\n",
      "Validating h5Seurat file\n",
      "\n",
      "Adding scale.data from SCT as X\n",
      "\n",
      "Adding data from SCT as raw\n",
      "\n",
      "Transfering meta.data to obs\n",
      "\n",
      "Adding dimensional reduction information for pca\n",
      "\n",
      "Adding feature loadings for pca\n",
      "\n",
      "Adding dimensional reduction information for umap\n",
      "\n",
      "Adding SCT_snn as neighbors\n",
      "\n",
      "Validating h5Seurat file\n",
      "\n",
      "Adding scale.data from SCT as X\n",
      "\n",
      "Adding data from SCT as raw\n",
      "\n",
      "Transfering meta.data to obs\n",
      "\n",
      "Adding dimensional reduction information for pca\n",
      "\n",
      "Adding feature loadings for pca\n",
      "\n",
      "Adding dimensional reduction information for umap\n",
      "\n",
      "Adding SCT_snn as neighbors\n",
      "\n",
      "Validating h5Seurat file\n",
      "\n",
      "Adding scale.data from SCT as X\n",
      "\n",
      "Adding data from SCT as raw\n",
      "\n",
      "Transfering meta.data to obs\n",
      "\n",
      "Adding dimensional reduction information for pca\n",
      "\n",
      "Adding feature loadings for pca\n",
      "\n",
      "Adding dimensional reduction information for umap\n",
      "\n",
      "Adding SCT_snn as neighbors\n",
      "\n",
      "Validating h5Seurat file\n",
      "\n",
      "Adding scale.data from SCT as X\n",
      "\n",
      "Adding data from SCT as raw\n",
      "\n",
      "Transfering meta.data to obs\n",
      "\n",
      "Adding dimensional reduction information for pca\n",
      "\n",
      "Adding feature loadings for pca\n",
      "\n",
      "Adding dimensional reduction information for umap\n",
      "\n",
      "Validating h5Seurat file\n",
      "\n",
      "Adding scale.data from SCT as X\n",
      "\n",
      "Adding data from SCT as raw\n",
      "\n",
      "Transfering meta.data to obs\n",
      "\n",
      "Adding dimensional reduction information for pca\n",
      "\n",
      "Adding feature loadings for pca\n",
      "\n",
      "Adding dimensional reduction information for umap\n",
      "\n",
      "Adding SCT_snn as neighbors\n",
      "\n"
     ]
    }
   ],
   "source": [
    "Convert(\"/lustre/groups/ml01/projects/2024_microglia_zihe.zheng/rosmap/dlpfc2/astrocytes.h5Seurat\", dest = \"h5ad\")\n",
    "Convert(\"/lustre/groups/ml01/projects/2024_microglia_zihe.zheng/rosmap/dlpfc2/inhibitory.h5Seurat\", dest = \"h5ad\")\n",
    "Convert(\"/lustre/groups/ml01/projects/2024_microglia_zihe.zheng/rosmap/dlpfc2/cux2+.h5Seurat\", dest = \"h5ad\")\n",
    "Convert(\"/lustre/groups/ml01/projects/2024_microglia_zihe.zheng/rosmap/dlpfc2/cux2-.h5Seurat\", dest = \"h5ad\")\n",
    "Convert(\"/lustre/groups/ml01/projects/2024_microglia_zihe.zheng/rosmap/dlpfc2/microglia.h5Seurat\", dest = \"h5ad\")\n",
    "Convert(\"/lustre/groups/ml01/projects/2024_microglia_zihe.zheng/rosmap/dlpfc2/oligodendroglia.h5Seurat\", dest = \"h5ad\")\n",
    "Convert(\"/lustre/groups/ml01/projects/2024_microglia_zihe.zheng/rosmap/dlpfc2/vascular.niche.h5Seurat\", dest = \"h5ad\")"
   ]
  },
  {
   "cell_type": "code",
   "execution_count": 19,
   "id": "efd07b18-ba62-447e-b70a-ae40aac04a27",
   "metadata": {},
   "outputs": [
    {
     "name": "stderr",
     "output_type": "stream",
     "text": [
      "Validating h5Seurat file\n",
      "\n",
      "Adding data from RNA as X\n",
      "\n",
      "Adding counts from RNA as raw\n",
      "\n",
      "Transfering meta.data to obs\n",
      "\n",
      "Adding dimensional reduction information for umap (global)\n",
      "\n",
      "Validating h5Seurat file\n",
      "\n",
      "Adding data from RNA as X\n",
      "\n",
      "Adding counts from RNA as raw\n",
      "\n",
      "Transfering meta.data to obs\n",
      "\n",
      "Adding dimensional reduction information for umap (global)\n",
      "\n",
      "Validating h5Seurat file\n",
      "\n",
      "Adding data from RNA as X\n",
      "\n",
      "Adding counts from RNA as raw\n",
      "\n",
      "Transfering meta.data to obs\n",
      "\n",
      "Adding dimensional reduction information for umap (global)\n",
      "\n",
      "Validating h5Seurat file\n",
      "\n",
      "Adding data from RNA as X\n",
      "\n",
      "Adding counts from RNA as raw\n",
      "\n",
      "Transfering meta.data to obs\n",
      "\n",
      "Adding dimensional reduction information for umap (global)\n",
      "\n",
      "Validating h5Seurat file\n",
      "\n",
      "Adding data from RNA as X\n",
      "\n",
      "Adding counts from RNA as raw\n",
      "\n",
      "Transfering meta.data to obs\n",
      "\n",
      "Adding dimensional reduction information for umap (global)\n",
      "\n",
      "Validating h5Seurat file\n",
      "\n",
      "Adding data from RNA as X\n",
      "\n",
      "Adding counts from RNA as raw\n",
      "\n",
      "Transfering meta.data to obs\n",
      "\n",
      "Adding dimensional reduction information for umap (global)\n",
      "\n",
      "Validating h5Seurat file\n",
      "\n",
      "Adding data from RNA as X\n",
      "\n",
      "Adding counts from RNA as raw\n",
      "\n",
      "Transfering meta.data to obs\n",
      "\n",
      "Adding dimensional reduction information for umap (global)\n",
      "\n"
     ]
    }
   ],
   "source": [
    "Convert(\"/lustre/groups/ml01/projects/2024_microglia_zihe.zheng/rosmap/dlpfc2/astrocytes.h5Seurat\", assay = 'RNA', dest = \"h5ad\")\n",
    "Convert(\"/lustre/groups/ml01/projects/2024_microglia_zihe.zheng/rosmap/dlpfc2/inhibitory.h5Seurat\", assay = 'RNA', dest = \"h5ad\")\n",
    "Convert(\"/lustre/groups/ml01/projects/2024_microglia_zihe.zheng/rosmap/dlpfc2/cux2+.h5Seurat\", assay = 'RNA', dest = \"h5ad\")\n",
    "Convert(\"/lustre/groups/ml01/projects/2024_microglia_zihe.zheng/rosmap/dlpfc2/cux2-.h5Seurat\", assay = 'RNA', dest = \"h5ad\")\n",
    "Convert(\"/lustre/groups/ml01/projects/2024_microglia_zihe.zheng/rosmap/dlpfc2/microglia.h5Seurat\", assay = 'RNA', dest = \"h5ad\")\n",
    "Convert(\"/lustre/groups/ml01/projects/2024_microglia_zihe.zheng/rosmap/dlpfc2/oligodendroglia.h5Seurat\", assay = 'RNA', dest = \"h5ad\")\n",
    "Convert(\"/lustre/groups/ml01/projects/2024_microglia_zihe.zheng/rosmap/dlpfc2/vascular.niche.h5Seurat\", assay = 'RNA', dest = \"h5ad\")"
   ]
  },
  {
   "cell_type": "code",
   "execution_count": null,
   "id": "db4ef303-4a44-4f5b-8f25-696e1eb73c71",
   "metadata": {},
   "outputs": [],
   "source": []
  },
  {
   "cell_type": "code",
   "execution_count": null,
   "id": "3fb90c93-6a1b-4e1e-9cc2-8a5406bda0ba",
   "metadata": {},
   "outputs": [],
   "source": []
  }
 ],
 "metadata": {
  "kernelspec": {
   "display_name": "rseuratdisk_backup",
   "language": "R",
   "name": "rseuratdisk_backup"
  },
  "language_info": {
   "codemirror_mode": "r",
   "file_extension": ".r",
   "mimetype": "text/x-r-source",
   "name": "R",
   "pygments_lexer": "r",
   "version": "4.0.5"
  }
 },
 "nbformat": 4,
 "nbformat_minor": 5
}
