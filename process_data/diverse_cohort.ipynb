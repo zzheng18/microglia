{
 "cells": [
  {
   "cell_type": "code",
   "execution_count": 2,
   "id": "3cc7a7cc-5b91-4f46-aa0c-36c0fd253981",
   "metadata": {},
   "outputs": [],
   "source": [
    "import scanpy as sc\n",
    "import pandas as pd\n",
    "import anndata as ad\n",
    "import numpy as np\n",
    "import matplotlib.pyplot as plt\n",
    "import seaborn as sns\n",
    "import os"
   ]
  },
  {
   "cell_type": "code",
   "execution_count": 4,
   "id": "e012ea3c-7e63-4f1e-8f9f-04b57d797850",
   "metadata": {},
   "outputs": [],
   "source": [
    "base_path = '/lustre/groups/ml01/projects/2024_microglia_zihe.zheng/diverse_cohort/'\n",
    "cell_types = ['Astro', 'Endo', 'Epend', 'Gaba', 'Glut', 'Micro', 'Olig', 'Opc', 'OtherImmune']\n",
    "adatas = []\n",
    "\n",
    "for cell_type in cell_types:\n",
    "    file_path = os.path.join(base_path, f'counts_{cell_type}_filtered.h5ad')\n",
    "    adata = sc.read_h5ad(file_path)\n",
    "    adata.obs['cell_type'] = cell_type\n",
    "    adatas.append(adata)\n",
    "\n",
    "combined = ad.concat(adatas, axis=0)\n",
    "combined.write(os.path.join(base_path, 'diverse_cohort.h5ad'))"
   ]
  },
  {
   "cell_type": "code",
   "execution_count": 5,
   "id": "f0dba044-6d35-46f0-9a17-0bf5d12549d5",
   "metadata": {},
   "outputs": [
    {
     "data": {
      "text/plain": [
       "AnnData object with n_obs × n_vars = 1914581 × 22009\n",
       "    obs: 'orig.ident', 'nCount_RNA', 'nFeature_RNA', 'cell_type'"
      ]
     },
     "execution_count": 5,
     "metadata": {},
     "output_type": "execute_result"
    }
   ],
   "source": [
    "combined"
   ]
  },
  {
   "cell_type": "code",
   "execution_count": 7,
   "id": "84fbf3f9-3865-48f6-a291-afa62a8bc663",
   "metadata": {},
   "outputs": [],
   "source": [
    "base_path = '/lustre/groups/ml01/projects/2024_microglia_zihe.zheng/diverse_cohort/'\n",
    "cell_types = ['Astro', 'Endo', 'Epend', 'Gaba', 'Glut', 'Micro', 'Olig', 'Opc', 'OtherImmune']\n",
    "adatas = []\n",
    "\n",
    "# Load the first file and store its var_names for reference\n",
    "ref_adata = sc.read_h5ad(os.path.join(base_path, f'counts_{cell_types[0]}_filtered.h5ad'))\n",
    "ref_var = ref_adata.var_names.copy()\n",
    "adatas.append(ref_adata)\n",
    "\n",
    "# Load and align the rest\n",
    "for cell_type in cell_types[1:]:\n",
    "    file_path = os.path.join(base_path, f'counts_{cell_type}_filtered.h5ad')\n",
    "    adata = sc.read_h5ad(file_path)\n",
    "    adata.obs['cell_type'] = cell_type\n",
    "\n",
    "    # Ensure .var_names match exactly (and in the same order)\n",
    "    adata = adata[:, ref_var]\n",
    "    adatas.append(adata)\n",
    "\n",
    "# Now concatenate\n",
    "combined = ad.concat(adatas, axis=0, join=\"inner\", merge=\"same\")"
   ]
  },
  {
   "cell_type": "code",
   "execution_count": 12,
   "id": "647ac934-27a2-40cc-afe4-3624c991d4fb",
   "metadata": {},
   "outputs": [],
   "source": [
    "combined.var_names = combined.var.features"
   ]
  },
  {
   "cell_type": "code",
   "execution_count": 14,
   "id": "187a2994-de4e-4199-a4f2-210f04340df6",
   "metadata": {},
   "outputs": [],
   "source": [
    "combined.var = combined.var.drop(columns = '_index')"
   ]
  },
  {
   "cell_type": "code",
   "execution_count": 15,
   "id": "529e8d8c-fdf1-46d8-a1a5-18dbd996670d",
   "metadata": {},
   "outputs": [],
   "source": [
    "combined.write(os.path.join(base_path, 'diverse_cohort.h5ad'))"
   ]
  },
  {
   "cell_type": "code",
   "execution_count": 8,
   "id": "f714bac8-e2de-4d4f-b6c1-220465f8f62c",
   "metadata": {},
   "outputs": [
    {
     "data": {
      "text/plain": [
       "AnnData object with n_obs × n_vars = 1914581 × 22009\n",
       "    obs: 'orig.ident', 'nCount_RNA', 'nFeature_RNA'\n",
       "    var: '_index', 'features'"
      ]
     },
     "execution_count": 8,
     "metadata": {},
     "output_type": "execute_result"
    }
   ],
   "source": [
    "combined"
   ]
  },
  {
   "cell_type": "markdown",
   "id": "6bb884c0-5eac-4524-a1f3-6d28477b6381",
   "metadata": {
    "jp-MarkdownHeadingCollapsed": true
   },
   "source": [
    "## process metadata"
   ]
  },
  {
   "cell_type": "code",
   "execution_count": 44,
   "id": "d98c68a9-fef8-49ab-b7d2-4e4b53860761",
   "metadata": {},
   "outputs": [
    {
     "name": "stderr",
     "output_type": "stream",
     "text": [
      "/tmp/ipykernel_3050144/2967890742.py:1: DtypeWarning: Columns (15) have mixed types. Specify dtype option on import or set low_memory=False.\n",
      "  cell_type = pd.read_csv('/lustre/groups/ml01/projects/2024_microglia_zihe.zheng/diverse_cohort/rosmap_diversity_snmultiome_celltypes_metadata_20230410.csv')\n"
     ]
    }
   ],
   "source": [
    "cell_type = pd.read_csv('/lustre/groups/ml01/projects/2024_microglia_zihe.zheng/diverse_cohort/rosmap_diversity_snmultiome_celltypes_metadata_20230410.csv')\n",
    "individual = pd.read_csv('/lustre/groups/ml01/projects/2024_microglia_zihe.zheng/diverse_cohort/AMP-AD_DiverseCohorts_individual_metadata.csv')\n",
    "mapping = pd.read_csv('/lustre/groups/ml01/projects/2024_microglia_zihe.zheng/diverse_cohort/AMP-AD_DiverseCohorts_Rush_projid_mapping.csv')"
   ]
  },
  {
   "cell_type": "code",
   "execution_count": 45,
   "id": "c48428f5-aec5-457a-851d-9377384a0901",
   "metadata": {},
   "outputs": [],
   "source": [
    "merged_df = pd.merge(cell_type, individual, on='individualID')\n",
    "merged_df = pd.merge(merged_df, mapping, on='individualID', how = 'left')"
   ]
  },
  {
   "cell_type": "code",
   "execution_count": 46,
   "id": "6c99c764-1336-43de-9d54-c0dd084852e0",
   "metadata": {},
   "outputs": [
    {
     "data": {
      "text/html": [
       "<div>\n",
       "<style scoped>\n",
       "    .dataframe tbody tr th:only-of-type {\n",
       "        vertical-align: middle;\n",
       "    }\n",
       "\n",
       "    .dataframe tbody tr th {\n",
       "        vertical-align: top;\n",
       "    }\n",
       "\n",
       "    .dataframe thead th {\n",
       "        text-align: right;\n",
       "    }\n",
       "</style>\n",
       "<table border=\"1\" class=\"dataframe\">\n",
       "  <thead>\n",
       "    <tr style=\"text-align: right;\">\n",
       "      <th></th>\n",
       "      <th>Unnamed: 0</th>\n",
       "      <th>individualID</th>\n",
       "      <th>specimenID</th>\n",
       "      <th>region</th>\n",
       "      <th>batch</th>\n",
       "      <th>barcode</th>\n",
       "      <th>nCount_RNA</th>\n",
       "      <th>nFeature_RNA</th>\n",
       "      <th>mt_percent</th>\n",
       "      <th>broadcellclass</th>\n",
       "      <th>...</th>\n",
       "      <th>Braak</th>\n",
       "      <th>mayoDx</th>\n",
       "      <th>amyAny</th>\n",
       "      <th>bScore</th>\n",
       "      <th>reag</th>\n",
       "      <th>ADoutcome</th>\n",
       "      <th>derivedOutcomeBasedOnMayoDx</th>\n",
       "      <th>clinicalMetadataSource</th>\n",
       "      <th>individualID_AMPAD_1.0</th>\n",
       "      <th>projid</th>\n",
       "    </tr>\n",
       "  </thead>\n",
       "  <tbody>\n",
       "    <tr>\n",
       "      <th>0</th>\n",
       "      <td>1</td>\n",
       "      <td>R5534945</td>\n",
       "      <td>R5534945_AC</td>\n",
       "      <td>caudate nucleus</td>\n",
       "      <td>VR001</td>\n",
       "      <td>AAACAGCCACCAGCAT-1</td>\n",
       "      <td>10849</td>\n",
       "      <td>3956</td>\n",
       "      <td>0.156696</td>\n",
       "      <td>Gaba</td>\n",
       "      <td>...</td>\n",
       "      <td>Stage IV</td>\n",
       "      <td>not applicable</td>\n",
       "      <td>0</td>\n",
       "      <td>Braak Stage III-IV</td>\n",
       "      <td>Low Likelihood</td>\n",
       "      <td>Other</td>\n",
       "      <td>False</td>\n",
       "      <td>AMP-AD_DiverseCohorts</td>\n",
       "      <td>NaN</td>\n",
       "      <td>57342872.0</td>\n",
       "    </tr>\n",
       "    <tr>\n",
       "      <th>1</th>\n",
       "      <td>2</td>\n",
       "      <td>R7200691</td>\n",
       "      <td>R7200691_ST</td>\n",
       "      <td>superior temporal gyrus</td>\n",
       "      <td>VR001</td>\n",
       "      <td>AAACAGCCACTTACAG-1</td>\n",
       "      <td>5656</td>\n",
       "      <td>2745</td>\n",
       "      <td>0.106082</td>\n",
       "      <td>Gaba</td>\n",
       "      <td>...</td>\n",
       "      <td>Stage III</td>\n",
       "      <td>not applicable</td>\n",
       "      <td>1</td>\n",
       "      <td>Braak Stage III-IV</td>\n",
       "      <td>Intermediate Likelihood</td>\n",
       "      <td>Other</td>\n",
       "      <td>False</td>\n",
       "      <td>AMP-AD_DiverseCohorts</td>\n",
       "      <td>NaN</td>\n",
       "      <td>71514280.0</td>\n",
       "    </tr>\n",
       "    <tr>\n",
       "      <th>2</th>\n",
       "      <td>3</td>\n",
       "      <td>R5534945</td>\n",
       "      <td>R5534945_AC</td>\n",
       "      <td>caudate nucleus</td>\n",
       "      <td>VR001</td>\n",
       "      <td>AAACAGCCAGGCATGA-1</td>\n",
       "      <td>19162</td>\n",
       "      <td>4987</td>\n",
       "      <td>0.031312</td>\n",
       "      <td>Gaba</td>\n",
       "      <td>...</td>\n",
       "      <td>Stage IV</td>\n",
       "      <td>not applicable</td>\n",
       "      <td>0</td>\n",
       "      <td>Braak Stage III-IV</td>\n",
       "      <td>Low Likelihood</td>\n",
       "      <td>Other</td>\n",
       "      <td>False</td>\n",
       "      <td>AMP-AD_DiverseCohorts</td>\n",
       "      <td>NaN</td>\n",
       "      <td>57342872.0</td>\n",
       "    </tr>\n",
       "    <tr>\n",
       "      <th>3</th>\n",
       "      <td>4</td>\n",
       "      <td>R7200691</td>\n",
       "      <td>R7200691_ST</td>\n",
       "      <td>superior temporal gyrus</td>\n",
       "      <td>VR001</td>\n",
       "      <td>AAACATGCAGGCGATA-1</td>\n",
       "      <td>646</td>\n",
       "      <td>537</td>\n",
       "      <td>0.773994</td>\n",
       "      <td>Gaba</td>\n",
       "      <td>...</td>\n",
       "      <td>Stage III</td>\n",
       "      <td>not applicable</td>\n",
       "      <td>1</td>\n",
       "      <td>Braak Stage III-IV</td>\n",
       "      <td>Intermediate Likelihood</td>\n",
       "      <td>Other</td>\n",
       "      <td>False</td>\n",
       "      <td>AMP-AD_DiverseCohorts</td>\n",
       "      <td>NaN</td>\n",
       "      <td>71514280.0</td>\n",
       "    </tr>\n",
       "    <tr>\n",
       "      <th>4</th>\n",
       "      <td>5</td>\n",
       "      <td>R5534945</td>\n",
       "      <td>R5534945_AC</td>\n",
       "      <td>caudate nucleus</td>\n",
       "      <td>VR001</td>\n",
       "      <td>AAACATGCAGGCTGTT-1</td>\n",
       "      <td>5388</td>\n",
       "      <td>2613</td>\n",
       "      <td>0.148478</td>\n",
       "      <td>Gaba</td>\n",
       "      <td>...</td>\n",
       "      <td>Stage IV</td>\n",
       "      <td>not applicable</td>\n",
       "      <td>0</td>\n",
       "      <td>Braak Stage III-IV</td>\n",
       "      <td>Low Likelihood</td>\n",
       "      <td>Other</td>\n",
       "      <td>False</td>\n",
       "      <td>AMP-AD_DiverseCohorts</td>\n",
       "      <td>NaN</td>\n",
       "      <td>57342872.0</td>\n",
       "    </tr>\n",
       "  </tbody>\n",
       "</table>\n",
       "<p>5 rows × 39 columns</p>\n",
       "</div>"
      ],
      "text/plain": [
       "   Unnamed: 0 individualID   specimenID                   region  batch  \\\n",
       "0           1     R5534945  R5534945_AC          caudate nucleus  VR001   \n",
       "1           2     R7200691  R7200691_ST  superior temporal gyrus  VR001   \n",
       "2           3     R5534945  R5534945_AC          caudate nucleus  VR001   \n",
       "3           4     R7200691  R7200691_ST  superior temporal gyrus  VR001   \n",
       "4           5     R5534945  R5534945_AC          caudate nucleus  VR001   \n",
       "\n",
       "              barcode  nCount_RNA  nFeature_RNA  mt_percent broadcellclass  \\\n",
       "0  AAACAGCCACCAGCAT-1       10849          3956    0.156696           Gaba   \n",
       "1  AAACAGCCACTTACAG-1        5656          2745    0.106082           Gaba   \n",
       "2  AAACAGCCAGGCATGA-1       19162          4987    0.031312           Gaba   \n",
       "3  AAACATGCAGGCGATA-1         646           537    0.773994           Gaba   \n",
       "4  AAACATGCAGGCTGTT-1        5388          2613    0.148478           Gaba   \n",
       "\n",
       "   ...      Braak          mayoDx  amyAny              bScore  \\\n",
       "0  ...   Stage IV  not applicable       0  Braak Stage III-IV   \n",
       "1  ...  Stage III  not applicable       1  Braak Stage III-IV   \n",
       "2  ...   Stage IV  not applicable       0  Braak Stage III-IV   \n",
       "3  ...  Stage III  not applicable       1  Braak Stage III-IV   \n",
       "4  ...   Stage IV  not applicable       0  Braak Stage III-IV   \n",
       "\n",
       "                      reag ADoutcome  derivedOutcomeBasedOnMayoDx  \\\n",
       "0           Low Likelihood     Other                        False   \n",
       "1  Intermediate Likelihood     Other                        False   \n",
       "2           Low Likelihood     Other                        False   \n",
       "3  Intermediate Likelihood     Other                        False   \n",
       "4           Low Likelihood     Other                        False   \n",
       "\n",
       "   clinicalMetadataSource individualID_AMPAD_1.0      projid  \n",
       "0   AMP-AD_DiverseCohorts                    NaN  57342872.0  \n",
       "1   AMP-AD_DiverseCohorts                    NaN  71514280.0  \n",
       "2   AMP-AD_DiverseCohorts                    NaN  57342872.0  \n",
       "3   AMP-AD_DiverseCohorts                    NaN  71514280.0  \n",
       "4   AMP-AD_DiverseCohorts                    NaN  57342872.0  \n",
       "\n",
       "[5 rows x 39 columns]"
      ]
     },
     "execution_count": 46,
     "metadata": {},
     "output_type": "execute_result"
    }
   ],
   "source": [
    "merged_df.head()"
   ]
  },
  {
   "cell_type": "code",
   "execution_count": 47,
   "id": "59b45e11-54cf-430d-8006-92a186a9e2c7",
   "metadata": {},
   "outputs": [
    {
     "data": {
      "text/plain": [
       "167"
      ]
     },
     "execution_count": 47,
     "metadata": {},
     "output_type": "execute_result"
    }
   ],
   "source": [
    "len(merged_df.individualID.unique())"
   ]
  },
  {
   "cell_type": "code",
   "execution_count": 48,
   "id": "55955b12-1f88-4933-a5dc-fd154036c042",
   "metadata": {},
   "outputs": [],
   "source": [
    "merged_df['batch_barcode'] = merged_df.batch + '_' + merged_df.barcode"
   ]
  },
  {
   "cell_type": "code",
   "execution_count": 52,
   "id": "34802243-d8bd-4932-a706-b37595a7cc9a",
   "metadata": {},
   "outputs": [],
   "source": [
    "merged_df.drop(columns = 'Unnamed: 0', inplace = True)"
   ]
  },
  {
   "cell_type": "markdown",
   "id": "9f1f023e-b2cb-4216-b5a9-1d98cf9e94af",
   "metadata": {},
   "source": [
    "## add metadata"
   ]
  },
  {
   "cell_type": "code",
   "execution_count": 5,
   "id": "139eb8d2-1818-486c-aa0a-e6784bf3b0d9",
   "metadata": {},
   "outputs": [],
   "source": [
    "combined = sc.read_h5ad('/lustre/groups/ml01/projects/2024_microglia_zihe.zheng/diverse_cohort/counts_Gaba_filtered.h5ad')"
   ]
  },
  {
   "cell_type": "code",
   "execution_count": 6,
   "id": "9651732a-7cf5-4e44-812d-d035fe48504b",
   "metadata": {},
   "outputs": [
    {
     "data": {
      "text/html": [
       "<div>\n",
       "<style scoped>\n",
       "    .dataframe tbody tr th:only-of-type {\n",
       "        vertical-align: middle;\n",
       "    }\n",
       "\n",
       "    .dataframe tbody tr th {\n",
       "        vertical-align: top;\n",
       "    }\n",
       "\n",
       "    .dataframe thead th {\n",
       "        text-align: right;\n",
       "    }\n",
       "</style>\n",
       "<table border=\"1\" class=\"dataframe\">\n",
       "  <thead>\n",
       "    <tr style=\"text-align: right;\">\n",
       "      <th></th>\n",
       "      <th>_index</th>\n",
       "      <th>features</th>\n",
       "    </tr>\n",
       "  </thead>\n",
       "  <tbody>\n",
       "    <tr>\n",
       "      <th>0</th>\n",
       "      <td>MIR1302-2HG</td>\n",
       "      <td>MIR1302-2HG</td>\n",
       "    </tr>\n",
       "    <tr>\n",
       "      <th>1</th>\n",
       "      <td>FAM138A</td>\n",
       "      <td>FAM138A</td>\n",
       "    </tr>\n",
       "    <tr>\n",
       "      <th>2</th>\n",
       "      <td>OR4F5</td>\n",
       "      <td>OR4F5</td>\n",
       "    </tr>\n",
       "    <tr>\n",
       "      <th>3</th>\n",
       "      <td>OR4F29</td>\n",
       "      <td>OR4F29</td>\n",
       "    </tr>\n",
       "    <tr>\n",
       "      <th>4</th>\n",
       "      <td>OR4F16</td>\n",
       "      <td>OR4F16</td>\n",
       "    </tr>\n",
       "    <tr>\n",
       "      <th>...</th>\n",
       "      <td>...</td>\n",
       "      <td>...</td>\n",
       "    </tr>\n",
       "    <tr>\n",
       "      <th>22004</th>\n",
       "      <td>DIP2A</td>\n",
       "      <td>DIP2A</td>\n",
       "    </tr>\n",
       "    <tr>\n",
       "      <th>22005</th>\n",
       "      <td>S100B</td>\n",
       "      <td>S100B</td>\n",
       "    </tr>\n",
       "    <tr>\n",
       "      <th>22006</th>\n",
       "      <td>PRMT2</td>\n",
       "      <td>PRMT2</td>\n",
       "    </tr>\n",
       "    <tr>\n",
       "      <th>22007</th>\n",
       "      <td>MAFIP</td>\n",
       "      <td>MAFIP</td>\n",
       "    </tr>\n",
       "    <tr>\n",
       "      <th>22008</th>\n",
       "      <td>FAM231D</td>\n",
       "      <td>FAM231D</td>\n",
       "    </tr>\n",
       "  </tbody>\n",
       "</table>\n",
       "<p>22009 rows × 2 columns</p>\n",
       "</div>"
      ],
      "text/plain": [
       "            _index     features\n",
       "0      MIR1302-2HG  MIR1302-2HG\n",
       "1          FAM138A      FAM138A\n",
       "2            OR4F5        OR4F5\n",
       "3           OR4F29       OR4F29\n",
       "4           OR4F16       OR4F16\n",
       "...            ...          ...\n",
       "22004        DIP2A        DIP2A\n",
       "22005        S100B        S100B\n",
       "22006        PRMT2        PRMT2\n",
       "22007        MAFIP        MAFIP\n",
       "22008      FAM231D      FAM231D\n",
       "\n",
       "[22009 rows x 2 columns]"
      ]
     },
     "execution_count": 6,
     "metadata": {},
     "output_type": "execute_result"
    }
   ],
   "source": [
    "combined.var"
   ]
  },
  {
   "cell_type": "code",
   "execution_count": 31,
   "id": "8a03ff72-56e1-47cc-8ea5-a36946dc669a",
   "metadata": {},
   "outputs": [
    {
     "data": {
      "text/plain": [
       "AnnData object with n_obs × n_vars = 1914581 × 22009\n",
       "    obs: 'orig.ident', 'nCount_RNA', 'nFeature_RNA', 'cell_type'"
      ]
     },
     "execution_count": 31,
     "metadata": {},
     "output_type": "execute_result"
    }
   ],
   "source": [
    "combined"
   ]
  },
  {
   "cell_type": "code",
   "execution_count": 33,
   "id": "1cae8d77-f34d-416c-bdbf-7a617d192914",
   "metadata": {},
   "outputs": [
    {
     "data": {
      "text/plain": [
       "array([1., 2., 8., ..., 1., 1., 1.])"
      ]
     },
     "execution_count": 33,
     "metadata": {},
     "output_type": "execute_result"
    }
   ],
   "source": [
    "combined.X.data"
   ]
  },
  {
   "cell_type": "code",
   "execution_count": 32,
   "id": "6c5f239d-1172-4448-ab49-3d376296d11f",
   "metadata": {
    "collapsed": true,
    "jupyter": {
     "outputs_hidden": true
    },
    "scrolled": true
   },
   "outputs": [
    {
     "data": {
      "text/html": [
       "<div>\n",
       "<style scoped>\n",
       "    .dataframe tbody tr th:only-of-type {\n",
       "        vertical-align: middle;\n",
       "    }\n",
       "\n",
       "    .dataframe tbody tr th {\n",
       "        vertical-align: top;\n",
       "    }\n",
       "\n",
       "    .dataframe thead th {\n",
       "        text-align: right;\n",
       "    }\n",
       "</style>\n",
       "<table border=\"1\" class=\"dataframe\">\n",
       "  <thead>\n",
       "    <tr style=\"text-align: right;\">\n",
       "      <th></th>\n",
       "      <th>orig.ident</th>\n",
       "      <th>nCount_RNA</th>\n",
       "      <th>nFeature_RNA</th>\n",
       "      <th>cell_type</th>\n",
       "    </tr>\n",
       "  </thead>\n",
       "  <tbody>\n",
       "    <tr>\n",
       "      <th>VR001_AAACAGCCAACTGGGA-1</th>\n",
       "      <td>0</td>\n",
       "      <td>4964.0</td>\n",
       "      <td>2279</td>\n",
       "      <td>Astro</td>\n",
       "    </tr>\n",
       "    <tr>\n",
       "      <th>VR001_AAACAGCCAGGCCATT-1</th>\n",
       "      <td>0</td>\n",
       "      <td>7364.0</td>\n",
       "      <td>2880</td>\n",
       "      <td>Astro</td>\n",
       "    </tr>\n",
       "    <tr>\n",
       "      <th>VR001_AAACAGCCATTAGCCA-1</th>\n",
       "      <td>0</td>\n",
       "      <td>6940.0</td>\n",
       "      <td>2704</td>\n",
       "      <td>Astro</td>\n",
       "    </tr>\n",
       "    <tr>\n",
       "      <th>VR001_AAACCGAAGCACCACA-1</th>\n",
       "      <td>0</td>\n",
       "      <td>4471.0</td>\n",
       "      <td>2152</td>\n",
       "      <td>Astro</td>\n",
       "    </tr>\n",
       "    <tr>\n",
       "      <th>VR001_AAACCGAAGCCTGTTC-1</th>\n",
       "      <td>0</td>\n",
       "      <td>4052.0</td>\n",
       "      <td>1957</td>\n",
       "      <td>Astro</td>\n",
       "    </tr>\n",
       "    <tr>\n",
       "      <th>...</th>\n",
       "      <td>...</td>\n",
       "      <td>...</td>\n",
       "      <td>...</td>\n",
       "      <td>...</td>\n",
       "    </tr>\n",
       "    <tr>\n",
       "      <th>VR134_TTTCCACCAGCTTAGC-1</th>\n",
       "      <td>0</td>\n",
       "      <td>1268.0</td>\n",
       "      <td>838</td>\n",
       "      <td>OtherImmune</td>\n",
       "    </tr>\n",
       "    <tr>\n",
       "      <th>VR134_TTTGCGACAGGCTTCG-1</th>\n",
       "      <td>0</td>\n",
       "      <td>6597.0</td>\n",
       "      <td>2322</td>\n",
       "      <td>OtherImmune</td>\n",
       "    </tr>\n",
       "    <tr>\n",
       "      <th>VR134_TTTGCGGAGGCAACAA-1</th>\n",
       "      <td>0</td>\n",
       "      <td>1040.0</td>\n",
       "      <td>793</td>\n",
       "      <td>OtherImmune</td>\n",
       "    </tr>\n",
       "    <tr>\n",
       "      <th>VR134_TTTGTCCCAAACTGCC-1</th>\n",
       "      <td>0</td>\n",
       "      <td>5017.0</td>\n",
       "      <td>1885</td>\n",
       "      <td>OtherImmune</td>\n",
       "    </tr>\n",
       "    <tr>\n",
       "      <th>VR134_TTTGTGAAGTGAGGGT-1</th>\n",
       "      <td>0</td>\n",
       "      <td>959.0</td>\n",
       "      <td>626</td>\n",
       "      <td>OtherImmune</td>\n",
       "    </tr>\n",
       "  </tbody>\n",
       "</table>\n",
       "<p>1914581 rows × 4 columns</p>\n",
       "</div>"
      ],
      "text/plain": [
       "                          orig.ident  nCount_RNA  nFeature_RNA    cell_type\n",
       "VR001_AAACAGCCAACTGGGA-1           0      4964.0          2279        Astro\n",
       "VR001_AAACAGCCAGGCCATT-1           0      7364.0          2880        Astro\n",
       "VR001_AAACAGCCATTAGCCA-1           0      6940.0          2704        Astro\n",
       "VR001_AAACCGAAGCACCACA-1           0      4471.0          2152        Astro\n",
       "VR001_AAACCGAAGCCTGTTC-1           0      4052.0          1957        Astro\n",
       "...                              ...         ...           ...          ...\n",
       "VR134_TTTCCACCAGCTTAGC-1           0      1268.0           838  OtherImmune\n",
       "VR134_TTTGCGACAGGCTTCG-1           0      6597.0          2322  OtherImmune\n",
       "VR134_TTTGCGGAGGCAACAA-1           0      1040.0           793  OtherImmune\n",
       "VR134_TTTGTCCCAAACTGCC-1           0      5017.0          1885  OtherImmune\n",
       "VR134_TTTGTGAAGTGAGGGT-1           0       959.0           626  OtherImmune\n",
       "\n",
       "[1914581 rows x 4 columns]"
      ]
     },
     "execution_count": 32,
     "metadata": {},
     "output_type": "execute_result"
    }
   ],
   "source": [
    "combined.obs"
   ]
  },
  {
   "cell_type": "code",
   "execution_count": 53,
   "id": "0efc66f3-a056-4883-aecd-5c82e76d9962",
   "metadata": {},
   "outputs": [],
   "source": [
    "metadata = pd.merge(combined.obs, merged_df, left_index = True, right_on = 'batch_barcode')"
   ]
  },
  {
   "cell_type": "code",
   "execution_count": 57,
   "id": "8decfc7b-7f96-429e-a143-a98d34f6a655",
   "metadata": {},
   "outputs": [],
   "source": [
    "metadata.set_index('batch_barcode', inplace = True)"
   ]
  },
  {
   "cell_type": "code",
   "execution_count": 66,
   "id": "07afaed0-695b-4a4a-8f8d-be06d9e7539c",
   "metadata": {},
   "outputs": [],
   "source": [
    "metadata.rename_axis(None, axis=0, inplace = True)"
   ]
  },
  {
   "cell_type": "code",
   "execution_count": 67,
   "id": "5edb5263-4514-4aeb-ab71-67413f503757",
   "metadata": {},
   "outputs": [],
   "source": [
    "combined.obs = metadata"
   ]
  },
  {
   "cell_type": "code",
   "execution_count": 68,
   "id": "8d1c4a89-a26d-4c23-9eb0-fff6b5991b2d",
   "metadata": {},
   "outputs": [
    {
     "data": {
      "text/plain": [
       "AnnData object with n_obs × n_vars = 1914581 × 22009\n",
       "    obs: 'orig.ident', 'nCount_RNA_x', 'nFeature_RNA_x', 'cell_type', 'individualID', 'specimenID', 'region', 'batch', 'barcode', 'nCount_RNA_y', 'nFeature_RNA_y', 'mt_percent', 'broadcellclass', 'subcellclass', 'cogdx_rush', 'braak_rush', 'cerad_rush', 'sex_x', 'allen_m1_azimuth_subclass', 'allen_m1_azimuth_subclass.score', 'allen_m1_azimuth_mapping.score', 'dataContributionGroup', 'cohort', 'sex_y', 'race', 'isHispanic', 'ageDeath', 'PMI', 'apoeGenotype', 'amyThal', 'amyA', 'amyCerad', 'Braak', 'mayoDx', 'amyAny', 'bScore', 'reag', 'ADoutcome', 'derivedOutcomeBasedOnMayoDx', 'clinicalMetadataSource', 'individualID_AMPAD_1.0', 'projid'"
      ]
     },
     "execution_count": 68,
     "metadata": {},
     "output_type": "execute_result"
    }
   ],
   "source": [
    "combined"
   ]
  },
  {
   "cell_type": "code",
   "execution_count": 70,
   "id": "b3495155-2103-462b-9738-7992d3dd6f65",
   "metadata": {},
   "outputs": [],
   "source": [
    "combined.obs = combined.obs.drop(columns = 'individualID_AMPAD_1.0')"
   ]
  },
  {
   "cell_type": "code",
   "execution_count": 71,
   "id": "45110a34-250f-47c4-904b-fa690d0cd2b1",
   "metadata": {},
   "outputs": [],
   "source": [
    "combined.write_h5ad('/lustre/groups/ml01/projects/2024_microglia_zihe.zheng/diverse_cohort/diverse_cohort.h5ad')"
   ]
  },
  {
   "cell_type": "markdown",
   "id": "7e71bc15-6402-4576-a7d1-dc7b3621c81f",
   "metadata": {},
   "source": [
    "## check overlap with rosmap"
   ]
  },
  {
   "cell_type": "code",
   "execution_count": 2,
   "id": "4cfe3999-db3e-44b4-be7d-b93f05fb2d37",
   "metadata": {},
   "outputs": [],
   "source": [
    "adata = sc.read_h5ad('/lustre/groups/ml01/projects/2024_microglia_zihe.zheng/diverse_cohort/diverse_cohort.h5ad')"
   ]
  },
  {
   "cell_type": "code",
   "execution_count": 3,
   "id": "76d424c0-e7ba-453d-8185-1bdc162afde4",
   "metadata": {},
   "outputs": [
    {
     "data": {
      "text/plain": [
       "AnnData object with n_obs × n_vars = 1914581 × 22009\n",
       "    obs: 'orig.ident', 'nCount_RNA_x', 'nFeature_RNA_x', 'cell_type', 'individualID', 'specimenID', 'region', 'batch', 'barcode', 'nCount_RNA_y', 'nFeature_RNA_y', 'mt_percent', 'broadcellclass', 'subcellclass', 'cogdx_rush', 'braak_rush', 'cerad_rush', 'sex_x', 'allen_m1_azimuth_subclass', 'allen_m1_azimuth_subclass.score', 'allen_m1_azimuth_mapping.score', 'dataContributionGroup', 'cohort', 'sex_y', 'race', 'isHispanic', 'ageDeath', 'PMI', 'apoeGenotype', 'amyThal', 'amyA', 'amyCerad', 'Braak', 'mayoDx', 'amyAny', 'bScore', 'reag', 'ADoutcome', 'derivedOutcomeBasedOnMayoDx', 'clinicalMetadataSource', 'projid'"
      ]
     },
     "execution_count": 3,
     "metadata": {},
     "output_type": "execute_result"
    }
   ],
   "source": [
    "adata"
   ]
  },
  {
   "cell_type": "code",
   "execution_count": 22,
   "id": "2d66b76f-5257-4ad7-8bc0-7f4252d521bd",
   "metadata": {},
   "outputs": [],
   "source": [
    "adata = adata[~adata.obs.projid.isna()]"
   ]
  },
  {
   "cell_type": "code",
   "execution_count": 5,
   "id": "6cde9dc2-0b6f-4062-a91e-44d6cfeb46cf",
   "metadata": {},
   "outputs": [],
   "source": [
    "clinical = pd.read_csv('/lustre/groups/ml01/projects/2024_microglia_zihe.zheng/rosmap/metadata/ROSMAP_clinical.csv')"
   ]
  },
  {
   "cell_type": "code",
   "execution_count": 23,
   "id": "9a6c1e59-35f1-4b3f-bfbd-637a36bb25a6",
   "metadata": {},
   "outputs": [
    {
     "data": {
      "text/plain": [
       "projid\n",
       "37744074.0    18855\n",
       "71514280.0    18534\n",
       "10459674.0    18324\n",
       "91684359.0    18167\n",
       "54396902.0    18016\n",
       "              ...  \n",
       "20934591.0     3378\n",
       "34748028.0     3152\n",
       "49295635.0     2528\n",
       "22202022.0     1887\n",
       "25823625.0     1448\n",
       "Name: count, Length: 90, dtype: int64"
      ]
     },
     "execution_count": 23,
     "metadata": {},
     "output_type": "execute_result"
    }
   ],
   "source": [
    "adata.obs['projid'].value_counts()"
   ]
  },
  {
   "cell_type": "code",
   "execution_count": 24,
   "id": "c6391c6e-22bc-4ab2-a6f2-aab039ddb1af",
   "metadata": {},
   "outputs": [
    {
     "data": {
      "text/plain": [
       "array([57342872., 10100150., 71514280., 63105434., 45307098., 33334378.,\n",
       "       35913453., 29903274., 69982407., 86464152., 52692199., 45635549.,\n",
       "        4871863., 34748028., 42560037., 10574690., 10275252., 70636113.,\n",
       "       54056119., 20237131., 28363718., 86712535., 11609672., 54396902.,\n",
       "       37744074.,  2602916., 37125649., 74024679., 49295635., 82441989.,\n",
       "       10459674., 56607358., 49040290., 21131938., 25823625., 62367972.,\n",
       "       74718818., 10288185., 37065652., 20917568., 22101716., 42589954.,\n",
       "       87038802., 11150132., 95442315., 20046260., 19415550., 76496027.,\n",
       "       53315923., 20849279., 20510687., 87101984., 62656124., 90613980.,\n",
       "       81313710., 99126836., 68879403., 22200264., 11318248., 20912775.,\n",
       "       42592599., 21196129., 33137549., 74564064., 11648421., 48111294.,\n",
       "        3817943., 22100413., 57291516.,  3052480., 62578487., 47354365.,\n",
       "       52225174., 16741095., 14266701., 18500138., 22202022., 91684359.,\n",
       "       87567672., 22202446., 60278494.,  1026348.,  4514209., 48415713.,\n",
       "         756793., 11630705., 99859950., 20934591., 20036948., 65861241.])"
      ]
     },
     "execution_count": 24,
     "metadata": {},
     "output_type": "execute_result"
    }
   ],
   "source": [
    "adata.obs['projid'].unique()"
   ]
  },
  {
   "cell_type": "code",
   "execution_count": 20,
   "id": "4ea391d4-74e8-4395-9f8c-0a0d552639a4",
   "metadata": {},
   "outputs": [
    {
     "data": {
      "text/plain": [
       "3584"
      ]
     },
     "execution_count": 20,
     "metadata": {},
     "output_type": "execute_result"
    }
   ],
   "source": [
    "len(set(clinical.projid.unique()))"
   ]
  },
  {
   "cell_type": "code",
   "execution_count": 26,
   "id": "510a036f-61d4-4c49-90ee-d233c52d41ee",
   "metadata": {},
   "outputs": [
    {
     "data": {
      "text/plain": [
       "51"
      ]
     },
     "execution_count": 26,
     "metadata": {},
     "output_type": "execute_result"
    }
   ],
   "source": [
    "len(set(adata.obs['projid'].unique()).intersection(clinical.projid.unique()))"
   ]
  },
  {
   "cell_type": "code",
   "execution_count": null,
   "id": "27f80672-6884-48b9-978c-208fc0f1cb7e",
   "metadata": {},
   "outputs": [],
   "source": []
  }
 ],
 "metadata": {
  "kernelspec": {
   "display_name": "scanpy_dask",
   "language": "python",
   "name": "scanpy_dask"
  },
  "language_info": {
   "codemirror_mode": {
    "name": "ipython",
    "version": 3
   },
   "file_extension": ".py",
   "mimetype": "text/x-python",
   "name": "python",
   "nbconvert_exporter": "python",
   "pygments_lexer": "ipython3",
   "version": "3.13.1"
  }
 },
 "nbformat": 4,
 "nbformat_minor": 5
}
