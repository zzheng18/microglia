{
 "cells": [
  {
   "cell_type": "code",
   "execution_count": 1,
   "id": "d88db253-a1d8-4b05-beaa-3c653d0f24d8",
   "metadata": {},
   "outputs": [],
   "source": [
    "import scanpy as sc\n",
    "import pandas as pd"
   ]
  },
  {
   "cell_type": "markdown",
   "id": "7b2141a0-5a8c-4270-9cd4-d7819c40359d",
   "metadata": {
    "jp-MarkdownHeadingCollapsed": true
   },
   "source": [
    "## put count layer into adata.X"
   ]
  },
  {
   "cell_type": "code",
   "execution_count": 2,
   "id": "f1949425-ada0-4283-8ad4-4fc0be60883a",
   "metadata": {},
   "outputs": [],
   "source": [
    "rna = sc.read_h5ad('/lustre/groups/ml01/projects/2024_microglia_zihe.zheng/SEAAD/SEAAD_MTG_RNAseq_final-nuclei.2024-02-13.h5ad')"
   ]
  },
  {
   "cell_type": "code",
   "execution_count": 4,
   "id": "e6a0d3e5-2726-4446-9b17-3a20a92c2307",
   "metadata": {},
   "outputs": [],
   "source": [
    "rna.X = rna.layers['UMIs']"
   ]
  },
  {
   "cell_type": "code",
   "execution_count": 5,
   "id": "42ddf6ee-0f2c-4870-bbd5-1f2206e96e7f",
   "metadata": {},
   "outputs": [
    {
     "data": {
      "text/plain": [
       "array([1., 1., 1., ..., 1., 1., 2.], dtype=float32)"
      ]
     },
     "execution_count": 5,
     "metadata": {},
     "output_type": "execute_result"
    }
   ],
   "source": [
    "rna.X.data"
   ]
  },
  {
   "cell_type": "code",
   "execution_count": 6,
   "id": "e0f3198b-5951-4cdf-a9bd-bf8a83073702",
   "metadata": {},
   "outputs": [],
   "source": [
    "rna.write_h5ad('/lustre/groups/ml01/projects/2024_microglia_zihe.zheng/SEAAD/SEAAD_MTG_RNAseq_final-nuclei.2024-02-13_count.h5ad')"
   ]
  },
  {
   "cell_type": "code",
   "execution_count": 2,
   "id": "e507e50e-77d2-47e8-8b4e-af6345350552",
   "metadata": {},
   "outputs": [],
   "source": [
    "rna_dlpfc = sc.read_h5ad('/lustre/groups/ml01/projects/2024_microglia_zihe.zheng/SEAAD/SEAAD_DLPFC_RNAseq_final-nuclei.2024-02-13.h5ad')"
   ]
  },
  {
   "cell_type": "code",
   "execution_count": 3,
   "id": "58228783-aac0-4e2b-bf7c-17bb0907fce0",
   "metadata": {},
   "outputs": [],
   "source": [
    "rna_dlpfc.X = rna_dlpfc.layers['UMIs']"
   ]
  },
  {
   "cell_type": "code",
   "execution_count": 4,
   "id": "3d56a1d3-16c0-46cf-b290-7a83fc2d0d8a",
   "metadata": {},
   "outputs": [
    {
     "data": {
      "text/plain": [
       "array([1., 2., 1., ..., 1., 1., 1.], dtype=float32)"
      ]
     },
     "execution_count": 4,
     "metadata": {},
     "output_type": "execute_result"
    }
   ],
   "source": [
    "rna_dlpfc.X.data"
   ]
  },
  {
   "cell_type": "code",
   "execution_count": 5,
   "id": "765f9253-9df5-4cbf-a556-599e79d22575",
   "metadata": {},
   "outputs": [],
   "source": [
    "rna_dlpfc.write_h5ad('/lustre/groups/ml01/projects/2024_microglia_zihe.zheng/SEAAD/SEAAD_DLPFC_RNAseq_final-nuclei.2024-02-13_count.h5ad')"
   ]
  },
  {
   "cell_type": "markdown",
   "id": "facda84d-c77c-4f06-9d63-c681c5ba6da9",
   "metadata": {
    "jp-MarkdownHeadingCollapsed": true
   },
   "source": [
    "## concatenating rosmap data together"
   ]
  },
  {
   "cell_type": "code",
   "execution_count": null,
   "id": "734d084b-b994-4313-8f58-bbe1dbd833c2",
   "metadata": {},
   "outputs": [],
   "source": [
    "def read_with_dask(path):\n",
    "    with h5py.File(path, \"r\") as f:\n",
    "        adata = ad.AnnData(\n",
    "            obs=ad.io.read_elem(f[\"obs\"]),\n",
    "            var=ad.io.read_elem(f[\"var\"]),\n",
    "        )\n",
    "        adata.X = ad.experimental.read_elem_as_dask(\n",
    "            f[\"X\"], chunks=(SPARSE_CHUNK_SIZE, adata.shape[1])\n",
    "        )\n",
    "    adata.var = adata.var.set_index('_index')\n",
    "    return adata"
   ]
  },
  {
   "cell_type": "code",
   "execution_count": null,
   "id": "bc2229d4-8af5-4cf1-83dd-6fda7b6bc96d",
   "metadata": {},
   "outputs": [],
   "source": [
    "microglia = read_with_dask('/lustre/groups/ml01/projects/2024_microglia_zihe.zheng/rosmap/dlpfc2/raw_h5ad/microglia.h5ad')\n",
    "inhibitory = read_with_dask('/lustre/groups/ml01/projects/2024_microglia_zihe.zheng/rosmap/dlpfc2/raw_h5ad/inhibitory.h5ad')\n",
    "cux2_1 = read_with_dask('/lustre/groups/ml01/projects/2024_microglia_zihe.zheng/rosmap/dlpfc2/raw_h5ad/cux2+.h5ad')\n",
    "cux2_2 = read_with_dask('/lustre/groups/ml01/projects/2024_microglia_zihe.zheng/rosmap/dlpfc2/raw_h5ad/cux2-.h5ad')\n",
    "astrocytes = read_with_dask('/lustre/groups/ml01/projects/2024_microglia_zihe.zheng/rosmap/dlpfc2/raw_h5ad/astrocytes.h5ad')\n",
    "oligo = read_with_dask('/lustre/groups/ml01/projects/2024_microglia_zihe.zheng/rosmap/dlpfc2/raw_h5ad/oligodendroglia.h5ad')\n",
    "vascular = read_with_dask('/lustre/groups/ml01/projects/2024_microglia_zihe.zheng/rosmap/dlpfc2/raw_h5ad/vascular.niche.h5ad')\n"
   ]
  },
  {
   "cell_type": "code",
   "execution_count": null,
   "id": "61e9eb4e-f059-42d7-9680-e391e025120a",
   "metadata": {},
   "outputs": [],
   "source": [
    "all = ad.concat([microglia, inhibitory, cux2_1, cux2_2, astrocytes, oligo, vascular])\n",
    "clinical = pd.read_csv('/lustre/groups/ml01/projects/2024_microglia_zihe.zheng/rosmap/metadata/ROSMAP_clinical.csv')\n",
    "all.obs = pd.merge(all.obs, clinical, on = 'individualID', how = 'left')\n",
    "all.obs['class'] = all.obs['class'].astype(str)\n",
    "all.write_h5ad('/lustre/groups/ml01/projects/2024_microglia_zihe.zheng/rosmap/dlpfc2/raw_h5ad/all.h5ad')"
   ]
  },
  {
   "cell_type": "markdown",
   "id": "56f94a6f-0b9a-45e5-88fd-3dd823dc1612",
   "metadata": {
    "jp-MarkdownHeadingCollapsed": true
   },
   "source": [
    "## dask process to merge seaad and rosmap, and finding hvg"
   ]
  },
  {
   "cell_type": "code",
   "execution_count": 1,
   "id": "689147c9-e39e-4798-a548-26b5409bb34f",
   "metadata": {},
   "outputs": [
    {
     "name": "stderr",
     "output_type": "stream",
     "text": [
      "/home/icb/zihe.zheng/miniconda3/envs/scanpy_dask/lib/python3.13/site-packages/tqdm/auto.py:21: TqdmWarning: IProgress not found. Please update jupyter and ipywidgets. See https://ipywidgets.readthedocs.io/en/stable/user_install.html\n",
      "  from .autonotebook import tqdm as notebook_tqdm\n"
     ]
    },
    {
     "name": "stdout",
     "output_type": "stream",
     "text": [
      "scanpy==1.10.4 anndata==0.11.3 umap==0.5.7 numpy==2.1.3 scipy==1.15.1 pandas==2.2.3 scikit-learn==1.6.1 statsmodels==0.14.4 pynndescent==0.5.13\n"
     ]
    }
   ],
   "source": [
    "import dask.distributed as dd\n",
    "import scanpy as sc\n",
    "import anndata as ad\n",
    "import h5py\n",
    "\n",
    "sc.logging.print_header()"
   ]
  },
  {
   "cell_type": "code",
   "execution_count": 2,
   "id": "31b57fb7-d135-463f-ab6c-283245d80d15",
   "metadata": {},
   "outputs": [
    {
     "data": {
      "text/html": [
       "<div>\n",
       "    <div style=\"width: 24px; height: 24px; background-color: #e1e1e1; border: 3px solid #9D9D9D; border-radius: 5px; position: absolute;\"> </div>\n",
       "    <div style=\"margin-left: 48px;\">\n",
       "        <h3 style=\"margin-bottom: 0px;\">Client</h3>\n",
       "        <p style=\"color: #9D9D9D; margin-bottom: 0px;\">Client-fdb1a9ce-10c0-11f0-9a74-00001029fe80</p>\n",
       "        <table style=\"width: 100%; text-align: left;\">\n",
       "\n",
       "        <tr>\n",
       "        \n",
       "            <td style=\"text-align: left;\"><strong>Connection method:</strong> Cluster object</td>\n",
       "            <td style=\"text-align: left;\"><strong>Cluster type:</strong> distributed.LocalCluster</td>\n",
       "        \n",
       "        </tr>\n",
       "\n",
       "        \n",
       "            <tr>\n",
       "                <td style=\"text-align: left;\">\n",
       "                    <strong>Dashboard: </strong> <a href=\"http://127.0.0.1:8787/status\" target=\"_blank\">http://127.0.0.1:8787/status</a>\n",
       "                </td>\n",
       "                <td style=\"text-align: left;\"></td>\n",
       "            </tr>\n",
       "        \n",
       "\n",
       "        </table>\n",
       "\n",
       "        \n",
       "\n",
       "        \n",
       "            <details>\n",
       "            <summary style=\"margin-bottom: 20px;\"><h3 style=\"display: inline;\">Cluster Info</h3></summary>\n",
       "            <div class=\"jp-RenderedHTMLCommon jp-RenderedHTML jp-mod-trusted jp-OutputArea-output\">\n",
       "    <div style=\"width: 24px; height: 24px; background-color: #e1e1e1; border: 3px solid #9D9D9D; border-radius: 5px; position: absolute;\">\n",
       "    </div>\n",
       "    <div style=\"margin-left: 48px;\">\n",
       "        <h3 style=\"margin-bottom: 0px; margin-top: 0px;\">LocalCluster</h3>\n",
       "        <p style=\"color: #9D9D9D; margin-bottom: 0px;\">631ee066</p>\n",
       "        <table style=\"width: 100%; text-align: left;\">\n",
       "            <tr>\n",
       "                <td style=\"text-align: left;\">\n",
       "                    <strong>Dashboard:</strong> <a href=\"http://127.0.0.1:8787/status\" target=\"_blank\">http://127.0.0.1:8787/status</a>\n",
       "                </td>\n",
       "                <td style=\"text-align: left;\">\n",
       "                    <strong>Workers:</strong> 2\n",
       "                </td>\n",
       "            </tr>\n",
       "            <tr>\n",
       "                <td style=\"text-align: left;\">\n",
       "                    <strong>Total threads:</strong> 20\n",
       "                </td>\n",
       "                <td style=\"text-align: left;\">\n",
       "                    <strong>Total memory:</strong> 500.00 GiB\n",
       "                </td>\n",
       "            </tr>\n",
       "            \n",
       "            <tr>\n",
       "    <td style=\"text-align: left;\"><strong>Status:</strong> running</td>\n",
       "    <td style=\"text-align: left;\"><strong>Using processes:</strong> True</td>\n",
       "</tr>\n",
       "\n",
       "            \n",
       "        </table>\n",
       "\n",
       "        <details>\n",
       "            <summary style=\"margin-bottom: 20px;\">\n",
       "                <h3 style=\"display: inline;\">Scheduler Info</h3>\n",
       "            </summary>\n",
       "\n",
       "            <div style=\"\">\n",
       "    <div>\n",
       "        <div style=\"width: 24px; height: 24px; background-color: #FFF7E5; border: 3px solid #FF6132; border-radius: 5px; position: absolute;\"> </div>\n",
       "        <div style=\"margin-left: 48px;\">\n",
       "            <h3 style=\"margin-bottom: 0px;\">Scheduler</h3>\n",
       "            <p style=\"color: #9D9D9D; margin-bottom: 0px;\">Scheduler-d29ae8db-2af8-4855-ab3f-3eee46cda791</p>\n",
       "            <table style=\"width: 100%; text-align: left;\">\n",
       "                <tr>\n",
       "                    <td style=\"text-align: left;\">\n",
       "                        <strong>Comm:</strong> tcp://127.0.0.1:8241\n",
       "                    </td>\n",
       "                    <td style=\"text-align: left;\">\n",
       "                        <strong>Workers:</strong> 2\n",
       "                    </td>\n",
       "                </tr>\n",
       "                <tr>\n",
       "                    <td style=\"text-align: left;\">\n",
       "                        <strong>Dashboard:</strong> <a href=\"http://127.0.0.1:8787/status\" target=\"_blank\">http://127.0.0.1:8787/status</a>\n",
       "                    </td>\n",
       "                    <td style=\"text-align: left;\">\n",
       "                        <strong>Total threads:</strong> 20\n",
       "                    </td>\n",
       "                </tr>\n",
       "                <tr>\n",
       "                    <td style=\"text-align: left;\">\n",
       "                        <strong>Started:</strong> Just now\n",
       "                    </td>\n",
       "                    <td style=\"text-align: left;\">\n",
       "                        <strong>Total memory:</strong> 500.00 GiB\n",
       "                    </td>\n",
       "                </tr>\n",
       "            </table>\n",
       "        </div>\n",
       "    </div>\n",
       "\n",
       "    <details style=\"margin-left: 48px;\">\n",
       "        <summary style=\"margin-bottom: 20px;\">\n",
       "            <h3 style=\"display: inline;\">Workers</h3>\n",
       "        </summary>\n",
       "\n",
       "        \n",
       "        <div style=\"margin-bottom: 20px;\">\n",
       "            <div style=\"width: 24px; height: 24px; background-color: #DBF5FF; border: 3px solid #4CC9FF; border-radius: 5px; position: absolute;\"> </div>\n",
       "            <div style=\"margin-left: 48px;\">\n",
       "            <details>\n",
       "                <summary>\n",
       "                    <h4 style=\"margin-bottom: 0px; display: inline;\">Worker: 0</h4>\n",
       "                </summary>\n",
       "                <table style=\"width: 100%; text-align: left;\">\n",
       "                    <tr>\n",
       "                        <td style=\"text-align: left;\">\n",
       "                            <strong>Comm: </strong> tcp://127.0.0.1:8027\n",
       "                        </td>\n",
       "                        <td style=\"text-align: left;\">\n",
       "                            <strong>Total threads: </strong> 10\n",
       "                        </td>\n",
       "                    </tr>\n",
       "                    <tr>\n",
       "                        <td style=\"text-align: left;\">\n",
       "                            <strong>Dashboard: </strong> <a href=\"http://127.0.0.1:8071/status\" target=\"_blank\">http://127.0.0.1:8071/status</a>\n",
       "                        </td>\n",
       "                        <td style=\"text-align: left;\">\n",
       "                            <strong>Memory: </strong> 250.00 GiB\n",
       "                        </td>\n",
       "                    </tr>\n",
       "                    <tr>\n",
       "                        <td style=\"text-align: left;\">\n",
       "                            <strong>Nanny: </strong> tcp://127.0.0.1:8049\n",
       "                        </td>\n",
       "                        <td style=\"text-align: left;\"></td>\n",
       "                    </tr>\n",
       "                    <tr>\n",
       "                        <td colspan=\"2\" style=\"text-align: left;\">\n",
       "                            <strong>Local directory: </strong> /tmp/dask-scratch-space/worker-0m84dihc\n",
       "                        </td>\n",
       "                    </tr>\n",
       "\n",
       "                    \n",
       "\n",
       "                    \n",
       "\n",
       "                </table>\n",
       "            </details>\n",
       "            </div>\n",
       "        </div>\n",
       "        \n",
       "        <div style=\"margin-bottom: 20px;\">\n",
       "            <div style=\"width: 24px; height: 24px; background-color: #DBF5FF; border: 3px solid #4CC9FF; border-radius: 5px; position: absolute;\"> </div>\n",
       "            <div style=\"margin-left: 48px;\">\n",
       "            <details>\n",
       "                <summary>\n",
       "                    <h4 style=\"margin-bottom: 0px; display: inline;\">Worker: 1</h4>\n",
       "                </summary>\n",
       "                <table style=\"width: 100%; text-align: left;\">\n",
       "                    <tr>\n",
       "                        <td style=\"text-align: left;\">\n",
       "                            <strong>Comm: </strong> tcp://127.0.0.1:8333\n",
       "                        </td>\n",
       "                        <td style=\"text-align: left;\">\n",
       "                            <strong>Total threads: </strong> 10\n",
       "                        </td>\n",
       "                    </tr>\n",
       "                    <tr>\n",
       "                        <td style=\"text-align: left;\">\n",
       "                            <strong>Dashboard: </strong> <a href=\"http://127.0.0.1:8301/status\" target=\"_blank\">http://127.0.0.1:8301/status</a>\n",
       "                        </td>\n",
       "                        <td style=\"text-align: left;\">\n",
       "                            <strong>Memory: </strong> 250.00 GiB\n",
       "                        </td>\n",
       "                    </tr>\n",
       "                    <tr>\n",
       "                        <td style=\"text-align: left;\">\n",
       "                            <strong>Nanny: </strong> tcp://127.0.0.1:8411\n",
       "                        </td>\n",
       "                        <td style=\"text-align: left;\"></td>\n",
       "                    </tr>\n",
       "                    <tr>\n",
       "                        <td colspan=\"2\" style=\"text-align: left;\">\n",
       "                            <strong>Local directory: </strong> /tmp/dask-scratch-space/worker-jwg9lo16\n",
       "                        </td>\n",
       "                    </tr>\n",
       "\n",
       "                    \n",
       "\n",
       "                    \n",
       "\n",
       "                </table>\n",
       "            </details>\n",
       "            </div>\n",
       "        </div>\n",
       "        \n",
       "\n",
       "    </details>\n",
       "</div>\n",
       "\n",
       "        </details>\n",
       "    </div>\n",
       "</div>\n",
       "            </details>\n",
       "        \n",
       "\n",
       "    </div>\n",
       "</div>"
      ],
      "text/plain": [
       "<Client: 'tcp://127.0.0.1:8241' processes=2 threads=20, memory=500.00 GiB>"
      ]
     },
     "execution_count": 2,
     "metadata": {},
     "output_type": "execute_result"
    }
   ],
   "source": [
    "cluster = dd.LocalCluster(n_workers=2)\n",
    "client = dd.Client(cluster)\n",
    "SPARSE_CHUNK_SIZE = 10_000\n",
    "client"
   ]
  },
  {
   "cell_type": "code",
   "execution_count": 14,
   "id": "842105ee-1a68-40c7-ad76-bae558905fe3",
   "metadata": {
    "jupyter": {
     "source_hidden": true
    }
   },
   "outputs": [
    {
     "name": "stderr",
     "output_type": "stream",
     "text": [
      "/home/icb/zihe.zheng/miniconda3/envs/scanpy_dask/lib/python3.13/site-packages/anndata/_core/aligned_df.py:68: ImplicitModificationWarning: Transforming to str index.\n",
      "  warnings.warn(\"Transforming to str index.\", ImplicitModificationWarning)\n"
     ]
    },
    {
     "name": "stdout",
     "output_type": "stream",
     "text": [
      "CPU times: user 6.59 s, sys: 4.11 s, total: 10.7 s\n",
      "Wall time: 24.8 s\n"
     ]
    }
   ],
   "source": [
    "%%time\n",
    "# read RNA data from MTG SEAAD\n",
    "cell_atlas_path = '/lustre/groups/ml01/projects/2024_microglia_zihe.zheng/SEAAD/SEAAD_MTG_RNAseq_final-nuclei.2024-02-13_count.h5ad'\n",
    "\n",
    "with h5py.File(cell_atlas_path, \"r\") as f:\n",
    "    mtg = ad.AnnData(\n",
    "        obs=ad.io.read_elem(f[\"obs\"]),\n",
    "        var=ad.io.read_elem(f[\"var\"]),\n",
    "    )\n",
    "    mtg.X = ad.experimental.read_elem_as_dask(\n",
    "        f[\"X\"], chunks=(SPARSE_CHUNK_SIZE, mtg.shape[1])\n",
    "    )\n",
    "\n",
    "mtg.layers[\"counts\"] = mtg.X.copy()  # Making sure we keep access to the raw counts\n",
    "\n",
    "# read RNA data from DLPFC SEAAD\n",
    "cell_atlas_path = '/lustre/groups/ml01/projects/2024_microglia_zihe.zheng/SEAAD/SEAAD_DLPFC_RNAseq_final-nuclei.2024-02-13_count.h5ad'\n",
    "with h5py.File(cell_atlas_path, \"r\") as f:\n",
    "    dlpfc = ad.AnnData(\n",
    "        obs=ad.io.read_elem(f[\"obs\"]),\n",
    "        var=ad.io.read_elem(f[\"var\"]),\n",
    "    )\n",
    "    dlpfc.X = ad.experimental.read_elem_as_dask(\n",
    "        f[\"X\"], chunks=(SPARSE_CHUNK_SIZE, dlpfc.shape[1])\n",
    "    )\n",
    "\n",
    "dlpfc.layers[\"counts\"] = dlpfc.X.copy()  # Making sure we keep access to the raw counts\n",
    "\n",
    "# read RNA data from ROSMAP\n",
    "cell_atlas_path = '/lustre/groups/ml01/projects/2024_microglia_zihe.zheng/rosmap/dlpfc2/raw_h5ad/all.h5ad'\n",
    "with h5py.File(cell_atlas_path, \"r\") as f:\n",
    "    rosmap = ad.AnnData(\n",
    "        obs=ad.io.read_elem(f[\"obs\"]),\n",
    "        var=ad.io.read_elem(f[\"var\"]),\n",
    "    )\n",
    "    rosmap.X = ad.experimental.read_elem_as_dask(\n",
    "        f[\"X\"], chunks=(SPARSE_CHUNK_SIZE, rosmap.shape[1])\n",
    "    )\n",
    "\n",
    "rosmap.layers[\"counts\"] = rosmap.X.copy()  # Making sure we keep access to the raw counts\n",
    "\n"
   ]
  },
  {
   "cell_type": "code",
   "execution_count": null,
   "id": "662c9efe-1dea-4912-a73a-df27a9ff506a",
   "metadata": {},
   "outputs": [],
   "source": [
    "mtg.obs = mtg.obs[[]]  \n",
    "mtg.var = mtg.var[[]]  \n",
    "mtg.write_h5ad('/lustre/groups/ml01/projects/2024_microglia_zihe.zheng/SEAAD/SEAAD_MTG_RNAseq_final-nuclei.2024-02-13_count_empty.h5ad')"
   ]
  },
  {
   "cell_type": "code",
   "execution_count": 15,
   "id": "9f5441a3-7a72-42b9-aab9-448bfd9099d1",
   "metadata": {},
   "outputs": [],
   "source": [
    "dlpfc.obs = dlpfc.obs[[]]  \n",
    "dlpfc.var = dlpfc.var[[]] \n",
    "dlpfc.write_h5ad('/lustre/groups/ml01/projects/2024_microglia_zihe.zheng/SEAAD/SEAAD_DLPFC_RNAseq_final-nuclei.2024-02-13_count_empty.h5ad')"
   ]
  },
  {
   "cell_type": "code",
   "execution_count": 17,
   "id": "be705214-fefe-4793-80cb-f766c188a3bc",
   "metadata": {},
   "outputs": [],
   "source": [
    "rosmap.obs = rosmap.obs[[]]  \n",
    "rosmap.var = rosmap.var[[]] \n",
    "rosmap.write_h5ad('/lustre/groups/ml01/projects/2024_microglia_zihe.zheng/rosmap/dlpfc2/raw_h5ad/all_empty.h5ad')"
   ]
  },
  {
   "cell_type": "code",
   "execution_count": null,
   "id": "3b9fb650-c53f-4ff5-9516-91e7aff09951",
   "metadata": {},
   "outputs": [],
   "source": []
  },
  {
   "cell_type": "code",
   "execution_count": 3,
   "id": "0ee45309-9ede-48bd-bd5a-b02664af05a7",
   "metadata": {},
   "outputs": [
    {
     "name": "stdout",
     "output_type": "stream",
     "text": [
      "CPU times: user 9min 53s, sys: 11min 32s, total: 21min 25s\n",
      "Wall time: 25min 12s\n"
     ]
    }
   ],
   "source": [
    "%%time\n",
    "data_dict = {\n",
    "    'SEAAD_MTG': '/lustre/groups/ml01/projects/2024_microglia_zihe.zheng/SEAAD/SEAAD_MTG_RNAseq_final-nuclei.2024-02-13_count_empty.h5ad',\n",
    "    'SEAAD_DLPFC': '/lustre/groups/ml01/projects/2024_microglia_zihe.zheng/SEAAD/SEAAD_DLPFC_RNAseq_final-nuclei.2024-02-13_count_empty.h5ad',\n",
    "    'rosmap': '/lustre/groups/ml01/projects/2024_microglia_zihe.zheng/rosmap/dlpfc2/raw_h5ad/all_empty.h5ad'\n",
    "}\n",
    "\n",
    "ad.experimental.concat_on_disk(\n",
    "    data_dict,\n",
    "    '/lustre/groups/ml01/projects/2024_microglia_zihe.zheng/integrated_data/seaad_rosmap_rna.h5ad',\n",
    "    join=\"inner\", \n",
    "    merge = 'unique',\n",
    "    label='dataset',\n",
    ")"
   ]
  },
  {
   "cell_type": "code",
   "execution_count": 3,
   "id": "1369d083-6abd-443e-8d20-4e2a14967116",
   "metadata": {},
   "outputs": [],
   "source": [
    "cell_atlas_path = '/lustre/groups/ml01/projects/2024_microglia_zihe.zheng/integrated_data/seaad_rosmap_rna.h5ad'\n",
    "\n",
    "with h5py.File(cell_atlas_path, \"r\") as f:\n",
    "    merged = ad.AnnData(\n",
    "        obs=ad.io.read_elem(f[\"obs\"]),\n",
    "        var=ad.io.read_elem(f[\"var\"]),\n",
    "    )\n",
    "    merged.X = ad.experimental.read_elem_as_dask(\n",
    "        f[\"X\"], chunks=(SPARSE_CHUNK_SIZE, merged.shape[1])\n",
    "    )\n",
    "\n",
    "merged.layers[\"counts\"] = merged.X.copy()  # Making sure we keep access to the raw counts"
   ]
  },
  {
   "cell_type": "code",
   "execution_count": 4,
   "id": "47a48e4e-423f-497b-9d53-5a76f2397d8a",
   "metadata": {},
   "outputs": [
    {
     "name": "stdout",
     "output_type": "stream",
     "text": [
      "CPU times: user 39.2 s, sys: 2.6 s, total: 41.8 s\n",
      "Wall time: 6min 46s\n"
     ]
    }
   ],
   "source": [
    "%%time\n",
    "sc.pp.normalize_total(merged)\n",
    "sc.pp.log1p(merged)\n",
    "sc.pp.highly_variable_genes(merged, n_top_genes=2000, subset = True)"
   ]
  },
  {
   "cell_type": "code",
   "execution_count": 7,
   "id": "9dec39f6-9f4b-4fcb-b42a-24db325b67fc",
   "metadata": {},
   "outputs": [
    {
     "data": {
      "text/html": [
       "<div>\n",
       "<style scoped>\n",
       "    .dataframe tbody tr th:only-of-type {\n",
       "        vertical-align: middle;\n",
       "    }\n",
       "\n",
       "    .dataframe tbody tr th {\n",
       "        vertical-align: top;\n",
       "    }\n",
       "\n",
       "    .dataframe thead th {\n",
       "        text-align: right;\n",
       "    }\n",
       "</style>\n",
       "<table border=\"1\" class=\"dataframe\">\n",
       "  <thead>\n",
       "    <tr style=\"text-align: right;\">\n",
       "      <th></th>\n",
       "      <th>highly_variable</th>\n",
       "      <th>means</th>\n",
       "      <th>dispersions</th>\n",
       "      <th>dispersions_norm</th>\n",
       "    </tr>\n",
       "  </thead>\n",
       "  <tbody>\n",
       "    <tr>\n",
       "      <th>HES4</th>\n",
       "      <td>True</td>\n",
       "      <td>0.167952</td>\n",
       "      <td>1.215583</td>\n",
       "      <td>1.335504</td>\n",
       "    </tr>\n",
       "    <tr>\n",
       "      <th>VWA1</th>\n",
       "      <td>True</td>\n",
       "      <td>0.168614</td>\n",
       "      <td>1.414559</td>\n",
       "      <td>1.813780</td>\n",
       "    </tr>\n",
       "    <tr>\n",
       "      <th>HES5</th>\n",
       "      <td>True</td>\n",
       "      <td>0.030614</td>\n",
       "      <td>1.359211</td>\n",
       "      <td>1.680742</td>\n",
       "    </tr>\n",
       "    <tr>\n",
       "      <th>PRDM16-DT</th>\n",
       "      <td>True</td>\n",
       "      <td>0.097127</td>\n",
       "      <td>1.281577</td>\n",
       "      <td>1.494134</td>\n",
       "    </tr>\n",
       "    <tr>\n",
       "      <th>PRDM16</th>\n",
       "      <td>True</td>\n",
       "      <td>0.297813</td>\n",
       "      <td>1.812314</td>\n",
       "      <td>2.830228</td>\n",
       "    </tr>\n",
       "    <tr>\n",
       "      <th>...</th>\n",
       "      <td>...</td>\n",
       "      <td>...</td>\n",
       "      <td>...</td>\n",
       "      <td>...</td>\n",
       "    </tr>\n",
       "    <tr>\n",
       "      <th>MT-ND3</th>\n",
       "      <td>True</td>\n",
       "      <td>2.200129</td>\n",
       "      <td>3.349776</td>\n",
       "      <td>1.944375</td>\n",
       "    </tr>\n",
       "    <tr>\n",
       "      <th>MT-ND4L</th>\n",
       "      <td>True</td>\n",
       "      <td>0.620945</td>\n",
       "      <td>1.370025</td>\n",
       "      <td>1.316078</td>\n",
       "    </tr>\n",
       "    <tr>\n",
       "      <th>MT-ND4</th>\n",
       "      <td>True</td>\n",
       "      <td>1.969133</td>\n",
       "      <td>2.876593</td>\n",
       "      <td>1.593346</td>\n",
       "    </tr>\n",
       "    <tr>\n",
       "      <th>MT-ND5</th>\n",
       "      <td>True</td>\n",
       "      <td>0.967328</td>\n",
       "      <td>1.685301</td>\n",
       "      <td>1.532243</td>\n",
       "    </tr>\n",
       "    <tr>\n",
       "      <th>MT-ND6</th>\n",
       "      <td>True</td>\n",
       "      <td>0.165447</td>\n",
       "      <td>1.185826</td>\n",
       "      <td>1.263979</td>\n",
       "    </tr>\n",
       "  </tbody>\n",
       "</table>\n",
       "<p>2000 rows × 4 columns</p>\n",
       "</div>"
      ],
      "text/plain": [
       "           highly_variable     means  dispersions  dispersions_norm\n",
       "HES4                  True  0.167952     1.215583          1.335504\n",
       "VWA1                  True  0.168614     1.414559          1.813780\n",
       "HES5                  True  0.030614     1.359211          1.680742\n",
       "PRDM16-DT             True  0.097127     1.281577          1.494134\n",
       "PRDM16                True  0.297813     1.812314          2.830228\n",
       "...                    ...       ...          ...               ...\n",
       "MT-ND3                True  2.200129     3.349776          1.944375\n",
       "MT-ND4L               True  0.620945     1.370025          1.316078\n",
       "MT-ND4                True  1.969133     2.876593          1.593346\n",
       "MT-ND5                True  0.967328     1.685301          1.532243\n",
       "MT-ND6                True  0.165447     1.185826          1.263979\n",
       "\n",
       "[2000 rows x 4 columns]"
      ]
     },
     "execution_count": 7,
     "metadata": {},
     "output_type": "execute_result"
    }
   ],
   "source": [
    "merged.var"
   ]
  },
  {
   "cell_type": "code",
   "execution_count": 6,
   "id": "25ee27a2-6f61-4c4a-879e-7404fee2eeb0",
   "metadata": {},
   "outputs": [],
   "source": [
    "merged.var.to_csv('hvg.csv')"
   ]
  },
  {
   "cell_type": "code",
   "execution_count": null,
   "id": "7743e0de-2adb-4d1e-9b7c-f0f8437b572d",
   "metadata": {},
   "outputs": [],
   "source": [
    "%%time\n",
    "merged.write_h5ad('/lustre/groups/ml01/projects/2024_microglia_zihe.zheng/integrated_data/seaad_rosmap_rna_hvg.h5ad')"
   ]
  },
  {
   "cell_type": "markdown",
   "id": "9ac55a50-c4cc-4d63-b288-8a7a2c8c79ef",
   "metadata": {},
   "source": [
    "## calculating PCA and visualize a subset"
   ]
  },
  {
   "cell_type": "code",
   "execution_count": 7,
   "id": "3b10178e-9c8f-4e0b-9a3a-444c4dd12526",
   "metadata": {},
   "outputs": [
    {
     "data": {
      "text/plain": [
       "AnnData object with n_obs × n_vars = 4423484 × 2000\n",
       "    obs: 'dataset'\n",
       "    var: 'highly_variable', 'means', 'dispersions', 'dispersions_norm'\n",
       "    uns: 'log1p', 'hvg'\n",
       "    layers: 'counts'"
      ]
     },
     "execution_count": 7,
     "metadata": {},
     "output_type": "execute_result"
    }
   ],
   "source": [
    "merged"
   ]
  },
  {
   "cell_type": "code",
   "execution_count": 9,
   "id": "d2117745-e3d1-409e-bfd8-74a65fa3cf6c",
   "metadata": {
    "scrolled": true
   },
   "outputs": [
    {
     "ename": "IndexError",
     "evalue": "Index dimension must be 1 or 2",
     "output_type": "error",
     "traceback": [
      "\u001b[0;31m---------------------------------------------------------------------------\u001b[0m",
      "\u001b[0;31mTypeError\u001b[0m                                 Traceback (most recent call last)",
      "File \u001b[0;32m~/miniconda3/envs/scanpy_dask/lib/python3.13/site-packages/dask/array/reductions.py:365\u001b[0m, in \u001b[0;36mpartial_reduce\u001b[0;34m(func, x, split_every, keepdims, dtype, name, reduced_meta)\u001b[0m\n\u001b[1;32m    364\u001b[0m \u001b[38;5;28;01mtry\u001b[39;00m:\n\u001b[0;32m--> 365\u001b[0m     meta \u001b[38;5;241m=\u001b[39m \u001b[43mfunc\u001b[49m\u001b[43m(\u001b[49m\u001b[43mreduced_meta\u001b[49m\u001b[43m,\u001b[49m\u001b[43m \u001b[49m\u001b[43mcomputing_meta\u001b[49m\u001b[38;5;241;43m=\u001b[39;49m\u001b[38;5;28;43;01mTrue\u001b[39;49;00m\u001b[43m)\u001b[49m\n\u001b[1;32m    366\u001b[0m \u001b[38;5;66;03m# no meta keyword argument exists for func, and it isn't required\u001b[39;00m\n",
      "File \u001b[0;32m~/miniconda3/envs/scanpy_dask/lib/python3.13/site-packages/dask/array/reductions.py:687\u001b[0m, in \u001b[0;36mmean_combine\u001b[0;34m(pairs, sum, numel, dtype, axis, computing_meta, **kwargs)\u001b[0m\n\u001b[1;32m    686\u001b[0m ns \u001b[38;5;241m=\u001b[39m deepmap(\u001b[38;5;28;01mlambda\u001b[39;00m pair: pair[\u001b[38;5;124m\"\u001b[39m\u001b[38;5;124mn\u001b[39m\u001b[38;5;124m\"\u001b[39m], pairs) \u001b[38;5;28;01mif\u001b[39;00m \u001b[38;5;129;01mnot\u001b[39;00m computing_meta \u001b[38;5;28;01melse\u001b[39;00m pairs\n\u001b[0;32m--> 687\u001b[0m n \u001b[38;5;241m=\u001b[39m \u001b[43m_concatenate2\u001b[49m\u001b[43m(\u001b[49m\u001b[43mns\u001b[49m\u001b[43m,\u001b[49m\u001b[43m \u001b[49m\u001b[43maxes\u001b[49m\u001b[38;5;241;43m=\u001b[39;49m\u001b[43maxis\u001b[49m\u001b[43m)\u001b[49m\u001b[38;5;241;43m.\u001b[39;49m\u001b[43msum\u001b[49m\u001b[43m(\u001b[49m\u001b[43maxis\u001b[49m\u001b[38;5;241;43m=\u001b[39;49m\u001b[43maxis\u001b[49m\u001b[43m,\u001b[49m\u001b[43m \u001b[49m\u001b[38;5;241;43m*\u001b[39;49m\u001b[38;5;241;43m*\u001b[39;49m\u001b[43mkwargs\u001b[49m\u001b[43m)\u001b[49m\n\u001b[1;32m    689\u001b[0m \u001b[38;5;28;01mif\u001b[39;00m computing_meta:\n",
      "\u001b[0;31mTypeError\u001b[0m: _cs_matrix.sum() got an unexpected keyword argument 'keepdims'",
      "\nDuring handling of the above exception, another exception occurred:\n",
      "\u001b[0;31mIndexError\u001b[0m                                Traceback (most recent call last)",
      "File \u001b[0;32m<timed eval>:1\u001b[0m\n",
      "File \u001b[0;32m~/miniconda3/envs/scanpy_dask/lib/python3.13/site-packages/scanpy/preprocessing/_pca.py:278\u001b[0m, in \u001b[0;36mpca\u001b[0;34m(***failed resolving arguments***)\u001b[0m\n\u001b[1;32m    274\u001b[0m         X \u001b[38;5;241m=\u001b[39m X\u001b[38;5;241m.\u001b[39mtoarray()\n\u001b[1;32m    275\u001b[0m     pca_ \u001b[38;5;241m=\u001b[39m PCA(\n\u001b[1;32m    276\u001b[0m         n_components\u001b[38;5;241m=\u001b[39mn_comps, svd_solver\u001b[38;5;241m=\u001b[39msvd_solver, random_state\u001b[38;5;241m=\u001b[39mrandom_state\n\u001b[1;32m    277\u001b[0m     )\n\u001b[0;32m--> 278\u001b[0m     X_pca \u001b[38;5;241m=\u001b[39m \u001b[43mpca_\u001b[49m\u001b[38;5;241;43m.\u001b[39;49m\u001b[43mfit_transform\u001b[49m\u001b[43m(\u001b[49m\u001b[43mX\u001b[49m\u001b[43m)\u001b[49m\n\u001b[1;32m    279\u001b[0m \u001b[38;5;28;01melif\u001b[39;00m issparse(X) \u001b[38;5;129;01mand\u001b[39;00m zero_center:\n\u001b[1;32m    280\u001b[0m     svd_solver \u001b[38;5;241m=\u001b[39m _handle_sklearn_args(svd_solver, \u001b[38;5;124m\"\u001b[39m\u001b[38;5;124mPCA (with sparse input)\u001b[39m\u001b[38;5;124m\"\u001b[39m)\n",
      "File \u001b[0;32m~/miniconda3/envs/scanpy_dask/lib/python3.13/site-packages/sklearn/utils/_set_output.py:319\u001b[0m, in \u001b[0;36m_wrap_method_output.<locals>.wrapped\u001b[0;34m(self, X, *args, **kwargs)\u001b[0m\n\u001b[1;32m    317\u001b[0m \u001b[38;5;129m@wraps\u001b[39m(f)\n\u001b[1;32m    318\u001b[0m \u001b[38;5;28;01mdef\u001b[39;00m\u001b[38;5;250m \u001b[39m\u001b[38;5;21mwrapped\u001b[39m(\u001b[38;5;28mself\u001b[39m, X, \u001b[38;5;241m*\u001b[39margs, \u001b[38;5;241m*\u001b[39m\u001b[38;5;241m*\u001b[39mkwargs):\n\u001b[0;32m--> 319\u001b[0m     data_to_wrap \u001b[38;5;241m=\u001b[39m \u001b[43mf\u001b[49m\u001b[43m(\u001b[49m\u001b[38;5;28;43mself\u001b[39;49m\u001b[43m,\u001b[49m\u001b[43m \u001b[49m\u001b[43mX\u001b[49m\u001b[43m,\u001b[49m\u001b[43m \u001b[49m\u001b[38;5;241;43m*\u001b[39;49m\u001b[43margs\u001b[49m\u001b[43m,\u001b[49m\u001b[43m \u001b[49m\u001b[38;5;241;43m*\u001b[39;49m\u001b[38;5;241;43m*\u001b[39;49m\u001b[43mkwargs\u001b[49m\u001b[43m)\u001b[49m\n\u001b[1;32m    320\u001b[0m     \u001b[38;5;28;01mif\u001b[39;00m \u001b[38;5;28misinstance\u001b[39m(data_to_wrap, \u001b[38;5;28mtuple\u001b[39m):\n\u001b[1;32m    321\u001b[0m         \u001b[38;5;66;03m# only wrap the first output for cross decomposition\u001b[39;00m\n\u001b[1;32m    322\u001b[0m         return_tuple \u001b[38;5;241m=\u001b[39m (\n\u001b[1;32m    323\u001b[0m             _wrap_data_with_container(method, data_to_wrap[\u001b[38;5;241m0\u001b[39m], X, \u001b[38;5;28mself\u001b[39m),\n\u001b[1;32m    324\u001b[0m             \u001b[38;5;241m*\u001b[39mdata_to_wrap[\u001b[38;5;241m1\u001b[39m:],\n\u001b[1;32m    325\u001b[0m         )\n",
      "File \u001b[0;32m~/miniconda3/envs/scanpy_dask/lib/python3.13/site-packages/dask_ml/decomposition/pca.py:402\u001b[0m, in \u001b[0;36mPCA.fit_transform\u001b[0;34m(self, X, y)\u001b[0m\n\u001b[1;32m    400\u001b[0m \u001b[38;5;28;01mif\u001b[39;00m \u001b[38;5;129;01mnot\u001b[39;00m dask\u001b[38;5;241m.\u001b[39mis_dask_collection(X):\n\u001b[1;32m    401\u001b[0m     \u001b[38;5;28;01mraise\u001b[39;00m \u001b[38;5;167;01mTypeError\u001b[39;00m(_TYPE_MSG\u001b[38;5;241m.\u001b[39mformat(\u001b[38;5;28mtype\u001b[39m(X)))\n\u001b[0;32m--> 402\u001b[0m U, S, V \u001b[38;5;241m=\u001b[39m \u001b[38;5;28;43mself\u001b[39;49m\u001b[38;5;241;43m.\u001b[39;49m\u001b[43m_fit\u001b[49m\u001b[43m(\u001b[49m\u001b[43mX\u001b[49m\u001b[43m)\u001b[49m\n\u001b[1;32m    403\u001b[0m U \u001b[38;5;241m=\u001b[39m U[:, : \u001b[38;5;28mself\u001b[39m\u001b[38;5;241m.\u001b[39mn_components_]\n\u001b[1;32m    405\u001b[0m \u001b[38;5;28;01mif\u001b[39;00m \u001b[38;5;28mself\u001b[39m\u001b[38;5;241m.\u001b[39mwhiten:\n\u001b[1;32m    406\u001b[0m     \u001b[38;5;66;03m# X_new = X * V / S * sqrt(n_samples) = U * sqrt(n_samples)\u001b[39;00m\n",
      "File \u001b[0;32m~/miniconda3/envs/scanpy_dask/lib/python3.13/site-packages/dask_ml/decomposition/pca.py:269\u001b[0m, in \u001b[0;36mPCA._fit\u001b[0;34m(self, X)\u001b[0m\n\u001b[1;32m    265\u001b[0m     n_components \u001b[38;5;241m=\u001b[39m \u001b[38;5;28mself\u001b[39m\u001b[38;5;241m.\u001b[39mn_components\n\u001b[1;32m    267\u001b[0m solver \u001b[38;5;241m=\u001b[39m \u001b[38;5;28mself\u001b[39m\u001b[38;5;241m.\u001b[39m_get_solver(X, n_components)\n\u001b[0;32m--> 269\u001b[0m \u001b[38;5;28mself\u001b[39m\u001b[38;5;241m.\u001b[39mmean_ \u001b[38;5;241m=\u001b[39m \u001b[43mX\u001b[49m\u001b[38;5;241;43m.\u001b[39;49m\u001b[43mmean\u001b[49m\u001b[43m(\u001b[49m\u001b[38;5;241;43m0\u001b[39;49m\u001b[43m)\u001b[49m\n\u001b[1;32m    270\u001b[0m X \u001b[38;5;241m-\u001b[39m\u001b[38;5;241m=\u001b[39m \u001b[38;5;28mself\u001b[39m\u001b[38;5;241m.\u001b[39mmean_\n\u001b[1;32m    272\u001b[0m \u001b[38;5;28;01mif\u001b[39;00m solver \u001b[38;5;129;01min\u001b[39;00m {\u001b[38;5;124m\"\u001b[39m\u001b[38;5;124mfull\u001b[39m\u001b[38;5;124m\"\u001b[39m, \u001b[38;5;124m\"\u001b[39m\u001b[38;5;124mtsqr\u001b[39m\u001b[38;5;124m\"\u001b[39m}:\n",
      "File \u001b[0;32m~/miniconda3/envs/scanpy_dask/lib/python3.13/site-packages/dask/array/core.py:2634\u001b[0m, in \u001b[0;36mArray.mean\u001b[0;34m(self, axis, dtype, keepdims, split_every, out)\u001b[0m\n\u001b[1;32m   2624\u001b[0m \u001b[38;5;250m\u001b[39m\u001b[38;5;124;03m\"\"\"Returns the average of the array elements along given axis.\u001b[39;00m\n\u001b[1;32m   2625\u001b[0m \n\u001b[1;32m   2626\u001b[0m \u001b[38;5;124;03mRefer to :func:`dask.array.mean` for full documentation.\u001b[39;00m\n\u001b[0;32m   (...)\u001b[0m\n\u001b[1;32m   2630\u001b[0m \u001b[38;5;124;03mdask.array.mean : equivalent function\u001b[39;00m\n\u001b[1;32m   2631\u001b[0m \u001b[38;5;124;03m\"\"\"\u001b[39;00m\n\u001b[1;32m   2632\u001b[0m \u001b[38;5;28;01mfrom\u001b[39;00m\u001b[38;5;250m \u001b[39m\u001b[38;5;21;01mdask\u001b[39;00m\u001b[38;5;21;01m.\u001b[39;00m\u001b[38;5;21;01marray\u001b[39;00m\u001b[38;5;21;01m.\u001b[39;00m\u001b[38;5;21;01mreductions\u001b[39;00m\u001b[38;5;250m \u001b[39m\u001b[38;5;28;01mimport\u001b[39;00m mean\n\u001b[0;32m-> 2634\u001b[0m \u001b[38;5;28;01mreturn\u001b[39;00m \u001b[43mmean\u001b[49m\u001b[43m(\u001b[49m\n\u001b[1;32m   2635\u001b[0m \u001b[43m    \u001b[49m\u001b[38;5;28;43mself\u001b[39;49m\u001b[43m,\u001b[49m\n\u001b[1;32m   2636\u001b[0m \u001b[43m    \u001b[49m\u001b[43maxis\u001b[49m\u001b[38;5;241;43m=\u001b[39;49m\u001b[43maxis\u001b[49m\u001b[43m,\u001b[49m\n\u001b[1;32m   2637\u001b[0m \u001b[43m    \u001b[49m\u001b[43mdtype\u001b[49m\u001b[38;5;241;43m=\u001b[39;49m\u001b[43mdtype\u001b[49m\u001b[43m,\u001b[49m\n\u001b[1;32m   2638\u001b[0m \u001b[43m    \u001b[49m\u001b[43mkeepdims\u001b[49m\u001b[38;5;241;43m=\u001b[39;49m\u001b[43mkeepdims\u001b[49m\u001b[43m,\u001b[49m\n\u001b[1;32m   2639\u001b[0m \u001b[43m    \u001b[49m\u001b[43msplit_every\u001b[49m\u001b[38;5;241;43m=\u001b[39;49m\u001b[43msplit_every\u001b[49m\u001b[43m,\u001b[49m\n\u001b[1;32m   2640\u001b[0m \u001b[43m    \u001b[49m\u001b[43mout\u001b[49m\u001b[38;5;241;43m=\u001b[39;49m\u001b[43mout\u001b[49m\u001b[43m,\u001b[49m\n\u001b[1;32m   2641\u001b[0m \u001b[43m\u001b[49m\u001b[43m)\u001b[49m\n",
      "File \u001b[0;32m~/miniconda3/envs/scanpy_dask/lib/python3.13/site-packages/dask/array/reductions.py:721\u001b[0m, in \u001b[0;36mmean\u001b[0;34m(a, axis, dtype, keepdims, split_every, out)\u001b[0m\n\u001b[1;32m    719\u001b[0m \u001b[38;5;28;01melse\u001b[39;00m:\n\u001b[1;32m    720\u001b[0m     dt \u001b[38;5;241m=\u001b[39m \u001b[38;5;28mgetattr\u001b[39m(np\u001b[38;5;241m.\u001b[39mmean(np\u001b[38;5;241m.\u001b[39mzeros(shape\u001b[38;5;241m=\u001b[39m(\u001b[38;5;241m1\u001b[39m,), dtype\u001b[38;5;241m=\u001b[39ma\u001b[38;5;241m.\u001b[39mdtype)), \u001b[38;5;124m\"\u001b[39m\u001b[38;5;124mdtype\u001b[39m\u001b[38;5;124m\"\u001b[39m, \u001b[38;5;28mobject\u001b[39m)\n\u001b[0;32m--> 721\u001b[0m \u001b[38;5;28;01mreturn\u001b[39;00m \u001b[43mreduction\u001b[49m\u001b[43m(\u001b[49m\n\u001b[1;32m    722\u001b[0m \u001b[43m    \u001b[49m\u001b[43ma\u001b[49m\u001b[43m,\u001b[49m\n\u001b[1;32m    723\u001b[0m \u001b[43m    \u001b[49m\u001b[43mmean_chunk\u001b[49m\u001b[43m,\u001b[49m\n\u001b[1;32m    724\u001b[0m \u001b[43m    \u001b[49m\u001b[43mmean_agg\u001b[49m\u001b[43m,\u001b[49m\n\u001b[1;32m    725\u001b[0m \u001b[43m    \u001b[49m\u001b[43maxis\u001b[49m\u001b[38;5;241;43m=\u001b[39;49m\u001b[43maxis\u001b[49m\u001b[43m,\u001b[49m\n\u001b[1;32m    726\u001b[0m \u001b[43m    \u001b[49m\u001b[43mkeepdims\u001b[49m\u001b[38;5;241;43m=\u001b[39;49m\u001b[43mkeepdims\u001b[49m\u001b[43m,\u001b[49m\n\u001b[1;32m    727\u001b[0m \u001b[43m    \u001b[49m\u001b[43mdtype\u001b[49m\u001b[38;5;241;43m=\u001b[39;49m\u001b[43mdt\u001b[49m\u001b[43m,\u001b[49m\n\u001b[1;32m    728\u001b[0m \u001b[43m    \u001b[49m\u001b[43msplit_every\u001b[49m\u001b[38;5;241;43m=\u001b[39;49m\u001b[43msplit_every\u001b[49m\u001b[43m,\u001b[49m\n\u001b[1;32m    729\u001b[0m \u001b[43m    \u001b[49m\u001b[43mcombine\u001b[49m\u001b[38;5;241;43m=\u001b[39;49m\u001b[43mmean_combine\u001b[49m\u001b[43m,\u001b[49m\n\u001b[1;32m    730\u001b[0m \u001b[43m    \u001b[49m\u001b[43mout\u001b[49m\u001b[38;5;241;43m=\u001b[39;49m\u001b[43mout\u001b[49m\u001b[43m,\u001b[49m\n\u001b[1;32m    731\u001b[0m \u001b[43m    \u001b[49m\u001b[43mconcatenate\u001b[49m\u001b[38;5;241;43m=\u001b[39;49m\u001b[38;5;28;43;01mFalse\u001b[39;49;00m\u001b[43m,\u001b[49m\n\u001b[1;32m    732\u001b[0m \u001b[43m\u001b[49m\u001b[43m)\u001b[49m\n",
      "File \u001b[0;32m~/miniconda3/envs/scanpy_dask/lib/python3.13/site-packages/dask/array/reductions.py:237\u001b[0m, in \u001b[0;36mreduction\u001b[0;34m(x, chunk, aggregate, axis, keepdims, dtype, split_every, combine, name, out, concatenate, output_size, meta, weights)\u001b[0m\n\u001b[1;32m    234\u001b[0m \u001b[38;5;28;01melse\u001b[39;00m:\n\u001b[1;32m    235\u001b[0m     reduced_meta \u001b[38;5;241m=\u001b[39m \u001b[38;5;28;01mNone\u001b[39;00m\n\u001b[0;32m--> 237\u001b[0m result \u001b[38;5;241m=\u001b[39m \u001b[43m_tree_reduce\u001b[49m\u001b[43m(\u001b[49m\n\u001b[1;32m    238\u001b[0m \u001b[43m    \u001b[49m\u001b[43mtmp\u001b[49m\u001b[43m,\u001b[49m\n\u001b[1;32m    239\u001b[0m \u001b[43m    \u001b[49m\u001b[43maggregate\u001b[49m\u001b[43m,\u001b[49m\n\u001b[1;32m    240\u001b[0m \u001b[43m    \u001b[49m\u001b[43maxis\u001b[49m\u001b[43m,\u001b[49m\n\u001b[1;32m    241\u001b[0m \u001b[43m    \u001b[49m\u001b[43mkeepdims\u001b[49m\u001b[43m,\u001b[49m\n\u001b[1;32m    242\u001b[0m \u001b[43m    \u001b[49m\u001b[43mdtype\u001b[49m\u001b[43m,\u001b[49m\n\u001b[1;32m    243\u001b[0m \u001b[43m    \u001b[49m\u001b[43msplit_every\u001b[49m\u001b[43m,\u001b[49m\n\u001b[1;32m    244\u001b[0m \u001b[43m    \u001b[49m\u001b[43mcombine\u001b[49m\u001b[43m,\u001b[49m\n\u001b[1;32m    245\u001b[0m \u001b[43m    \u001b[49m\u001b[43mname\u001b[49m\u001b[38;5;241;43m=\u001b[39;49m\u001b[43mname\u001b[49m\u001b[43m,\u001b[49m\n\u001b[1;32m    246\u001b[0m \u001b[43m    \u001b[49m\u001b[43mconcatenate\u001b[49m\u001b[38;5;241;43m=\u001b[39;49m\u001b[43mconcatenate\u001b[49m\u001b[43m,\u001b[49m\n\u001b[1;32m    247\u001b[0m \u001b[43m    \u001b[49m\u001b[43mreduced_meta\u001b[49m\u001b[38;5;241;43m=\u001b[39;49m\u001b[43mreduced_meta\u001b[49m\u001b[43m,\u001b[49m\n\u001b[1;32m    248\u001b[0m \u001b[43m\u001b[49m\u001b[43m)\u001b[49m\n\u001b[1;32m    249\u001b[0m \u001b[38;5;28;01mif\u001b[39;00m keepdims \u001b[38;5;129;01mand\u001b[39;00m output_size \u001b[38;5;241m!=\u001b[39m \u001b[38;5;241m1\u001b[39m:\n\u001b[1;32m    250\u001b[0m     result\u001b[38;5;241m.\u001b[39m_chunks \u001b[38;5;241m=\u001b[39m \u001b[38;5;28mtuple\u001b[39m(\n\u001b[1;32m    251\u001b[0m         (output_size,) \u001b[38;5;28;01mif\u001b[39;00m i \u001b[38;5;129;01min\u001b[39;00m axis \u001b[38;5;28;01melse\u001b[39;00m c \u001b[38;5;28;01mfor\u001b[39;00m i, c \u001b[38;5;129;01min\u001b[39;00m \u001b[38;5;28menumerate\u001b[39m(tmp\u001b[38;5;241m.\u001b[39mchunks)\n\u001b[1;32m    252\u001b[0m     )\n",
      "File \u001b[0;32m~/miniconda3/envs/scanpy_dask/lib/python3.13/site-packages/dask/array/reductions.py:293\u001b[0m, in \u001b[0;36m_tree_reduce\u001b[0;34m(x, aggregate, axis, keepdims, dtype, split_every, combine, name, concatenate, reduced_meta)\u001b[0m\n\u001b[1;32m    291\u001b[0m     func \u001b[38;5;241m=\u001b[39m compose(func, partial(_concatenate2, axes\u001b[38;5;241m=\u001b[39m\u001b[38;5;28msorted\u001b[39m(axis)))\n\u001b[1;32m    292\u001b[0m \u001b[38;5;28;01mfor\u001b[39;00m _ \u001b[38;5;129;01min\u001b[39;00m \u001b[38;5;28mrange\u001b[39m(depth \u001b[38;5;241m-\u001b[39m \u001b[38;5;241m1\u001b[39m):\n\u001b[0;32m--> 293\u001b[0m     x \u001b[38;5;241m=\u001b[39m \u001b[43mpartial_reduce\u001b[49m\u001b[43m(\u001b[49m\n\u001b[1;32m    294\u001b[0m \u001b[43m        \u001b[49m\u001b[43mfunc\u001b[49m\u001b[43m,\u001b[49m\n\u001b[1;32m    295\u001b[0m \u001b[43m        \u001b[49m\u001b[43mx\u001b[49m\u001b[43m,\u001b[49m\n\u001b[1;32m    296\u001b[0m \u001b[43m        \u001b[49m\u001b[43msplit_every\u001b[49m\u001b[43m,\u001b[49m\n\u001b[1;32m    297\u001b[0m \u001b[43m        \u001b[49m\u001b[38;5;28;43;01mTrue\u001b[39;49;00m\u001b[43m,\u001b[49m\n\u001b[1;32m    298\u001b[0m \u001b[43m        \u001b[49m\u001b[43mdtype\u001b[49m\u001b[38;5;241;43m=\u001b[39;49m\u001b[43mdtype\u001b[49m\u001b[43m,\u001b[49m\n\u001b[1;32m    299\u001b[0m \u001b[43m        \u001b[49m\u001b[43mname\u001b[49m\u001b[38;5;241;43m=\u001b[39;49m\u001b[43m(\u001b[49m\u001b[43mname\u001b[49m\u001b[43m \u001b[49m\u001b[38;5;129;43;01mor\u001b[39;49;00m\u001b[43m \u001b[49m\u001b[43mfuncname\u001b[49m\u001b[43m(\u001b[49m\u001b[43mcombine\u001b[49m\u001b[43m \u001b[49m\u001b[38;5;129;43;01mor\u001b[39;49;00m\u001b[43m \u001b[49m\u001b[43maggregate\u001b[49m\u001b[43m)\u001b[49m\u001b[43m)\u001b[49m\u001b[43m \u001b[49m\u001b[38;5;241;43m+\u001b[39;49m\u001b[43m \u001b[49m\u001b[38;5;124;43m\"\u001b[39;49m\u001b[38;5;124;43m-partial\u001b[39;49m\u001b[38;5;124;43m\"\u001b[39;49m\u001b[43m,\u001b[49m\n\u001b[1;32m    300\u001b[0m \u001b[43m        \u001b[49m\u001b[43mreduced_meta\u001b[49m\u001b[38;5;241;43m=\u001b[39;49m\u001b[43mreduced_meta\u001b[49m\u001b[43m,\u001b[49m\n\u001b[1;32m    301\u001b[0m \u001b[43m    \u001b[49m\u001b[43m)\u001b[49m\n\u001b[1;32m    302\u001b[0m func \u001b[38;5;241m=\u001b[39m partial(aggregate, axis\u001b[38;5;241m=\u001b[39maxis, keepdims\u001b[38;5;241m=\u001b[39mkeepdims)\n\u001b[1;32m    303\u001b[0m \u001b[38;5;28;01mif\u001b[39;00m concatenate:\n",
      "File \u001b[0;32m~/miniconda3/envs/scanpy_dask/lib/python3.13/site-packages/dask/array/reductions.py:369\u001b[0m, in \u001b[0;36mpartial_reduce\u001b[0;34m(func, x, split_every, keepdims, dtype, name, reduced_meta)\u001b[0m\n\u001b[1;32m    367\u001b[0m \u001b[38;5;28;01mexcept\u001b[39;00m \u001b[38;5;167;01mTypeError\u001b[39;00m:\n\u001b[1;32m    368\u001b[0m     \u001b[38;5;28;01mtry\u001b[39;00m:\n\u001b[0;32m--> 369\u001b[0m         meta \u001b[38;5;241m=\u001b[39m \u001b[43mfunc\u001b[49m\u001b[43m(\u001b[49m\u001b[43mreduced_meta\u001b[49m\u001b[43m)\u001b[49m\n\u001b[1;32m    370\u001b[0m     \u001b[38;5;28;01mexcept\u001b[39;00m \u001b[38;5;167;01mValueError\u001b[39;00m \u001b[38;5;28;01mas\u001b[39;00m e:\n\u001b[1;32m    371\u001b[0m         \u001b[38;5;66;03m# min/max functions have no identity, don't apply function to meta\u001b[39;00m\n\u001b[1;32m    372\u001b[0m         \u001b[38;5;28;01mif\u001b[39;00m \u001b[38;5;124m\"\u001b[39m\u001b[38;5;124mzero-size array to reduction operation\u001b[39m\u001b[38;5;124m\"\u001b[39m \u001b[38;5;129;01min\u001b[39;00m \u001b[38;5;28mstr\u001b[39m(e):\n",
      "File \u001b[0;32m~/miniconda3/envs/scanpy_dask/lib/python3.13/site-packages/dask/array/reductions.py:686\u001b[0m, in \u001b[0;36mmean_combine\u001b[0;34m(pairs, sum, numel, dtype, axis, computing_meta, **kwargs)\u001b[0m\n\u001b[1;32m    683\u001b[0m \u001b[38;5;28;01mif\u001b[39;00m \u001b[38;5;129;01mnot\u001b[39;00m \u001b[38;5;28misinstance\u001b[39m(pairs, \u001b[38;5;28mlist\u001b[39m):\n\u001b[1;32m    684\u001b[0m     pairs \u001b[38;5;241m=\u001b[39m [pairs]\n\u001b[0;32m--> 686\u001b[0m ns \u001b[38;5;241m=\u001b[39m \u001b[43mdeepmap\u001b[49m\u001b[43m(\u001b[49m\u001b[38;5;28;43;01mlambda\u001b[39;49;00m\u001b[43m \u001b[49m\u001b[43mpair\u001b[49m\u001b[43m:\u001b[49m\u001b[43m \u001b[49m\u001b[43mpair\u001b[49m\u001b[43m[\u001b[49m\u001b[38;5;124;43m\"\u001b[39;49m\u001b[38;5;124;43mn\u001b[39;49m\u001b[38;5;124;43m\"\u001b[39;49m\u001b[43m]\u001b[49m\u001b[43m,\u001b[49m\u001b[43m \u001b[49m\u001b[43mpairs\u001b[49m\u001b[43m)\u001b[49m \u001b[38;5;28;01mif\u001b[39;00m \u001b[38;5;129;01mnot\u001b[39;00m computing_meta \u001b[38;5;28;01melse\u001b[39;00m pairs\n\u001b[1;32m    687\u001b[0m n \u001b[38;5;241m=\u001b[39m _concatenate2(ns, axes\u001b[38;5;241m=\u001b[39maxis)\u001b[38;5;241m.\u001b[39msum(axis\u001b[38;5;241m=\u001b[39maxis, \u001b[38;5;241m*\u001b[39m\u001b[38;5;241m*\u001b[39mkwargs)\n\u001b[1;32m    689\u001b[0m \u001b[38;5;28;01mif\u001b[39;00m computing_meta:\n",
      "File \u001b[0;32m~/miniconda3/envs/scanpy_dask/lib/python3.13/site-packages/dask/utils.py:283\u001b[0m, in \u001b[0;36mdeepmap\u001b[0;34m(func, *seqs)\u001b[0m\n\u001b[1;32m    272\u001b[0m \u001b[38;5;250m\u001b[39m\u001b[38;5;124;03m\"\"\"Apply function inside nested lists\u001b[39;00m\n\u001b[1;32m    273\u001b[0m \n\u001b[1;32m    274\u001b[0m \u001b[38;5;124;03m>>> inc = lambda x: x + 1\u001b[39;00m\n\u001b[0;32m   (...)\u001b[0m\n\u001b[1;32m    280\u001b[0m \u001b[38;5;124;03m[[11, 22], [33, 44]]\u001b[39;00m\n\u001b[1;32m    281\u001b[0m \u001b[38;5;124;03m\"\"\"\u001b[39;00m\n\u001b[1;32m    282\u001b[0m \u001b[38;5;28;01mif\u001b[39;00m \u001b[38;5;28misinstance\u001b[39m(seqs[\u001b[38;5;241m0\u001b[39m], (\u001b[38;5;28mlist\u001b[39m, Iterator)):\n\u001b[0;32m--> 283\u001b[0m     \u001b[38;5;28;01mreturn\u001b[39;00m [\u001b[43mdeepmap\u001b[49m\u001b[43m(\u001b[49m\u001b[43mfunc\u001b[49m\u001b[43m,\u001b[49m\u001b[43m \u001b[49m\u001b[38;5;241;43m*\u001b[39;49m\u001b[43mitems\u001b[49m\u001b[43m)\u001b[49m \u001b[38;5;28;01mfor\u001b[39;00m items \u001b[38;5;129;01min\u001b[39;00m \u001b[38;5;28mzip\u001b[39m(\u001b[38;5;241m*\u001b[39mseqs)]\n\u001b[1;32m    284\u001b[0m \u001b[38;5;28;01melse\u001b[39;00m:\n\u001b[1;32m    285\u001b[0m     \u001b[38;5;28;01mreturn\u001b[39;00m func(\u001b[38;5;241m*\u001b[39mseqs)\n",
      "File \u001b[0;32m~/miniconda3/envs/scanpy_dask/lib/python3.13/site-packages/dask/utils.py:285\u001b[0m, in \u001b[0;36mdeepmap\u001b[0;34m(func, *seqs)\u001b[0m\n\u001b[1;32m    283\u001b[0m     \u001b[38;5;28;01mreturn\u001b[39;00m [deepmap(func, \u001b[38;5;241m*\u001b[39mitems) \u001b[38;5;28;01mfor\u001b[39;00m items \u001b[38;5;129;01min\u001b[39;00m \u001b[38;5;28mzip\u001b[39m(\u001b[38;5;241m*\u001b[39mseqs)]\n\u001b[1;32m    284\u001b[0m \u001b[38;5;28;01melse\u001b[39;00m:\n\u001b[0;32m--> 285\u001b[0m     \u001b[38;5;28;01mreturn\u001b[39;00m \u001b[43mfunc\u001b[49m\u001b[43m(\u001b[49m\u001b[38;5;241;43m*\u001b[39;49m\u001b[43mseqs\u001b[49m\u001b[43m)\u001b[49m\n",
      "File \u001b[0;32m~/miniconda3/envs/scanpy_dask/lib/python3.13/site-packages/dask/array/reductions.py:686\u001b[0m, in \u001b[0;36mmean_combine.<locals>.<lambda>\u001b[0;34m(pair)\u001b[0m\n\u001b[1;32m    683\u001b[0m \u001b[38;5;28;01mif\u001b[39;00m \u001b[38;5;129;01mnot\u001b[39;00m \u001b[38;5;28misinstance\u001b[39m(pairs, \u001b[38;5;28mlist\u001b[39m):\n\u001b[1;32m    684\u001b[0m     pairs \u001b[38;5;241m=\u001b[39m [pairs]\n\u001b[0;32m--> 686\u001b[0m ns \u001b[38;5;241m=\u001b[39m deepmap(\u001b[38;5;28;01mlambda\u001b[39;00m pair: \u001b[43mpair\u001b[49m\u001b[43m[\u001b[49m\u001b[38;5;124;43m\"\u001b[39;49m\u001b[38;5;124;43mn\u001b[39;49m\u001b[38;5;124;43m\"\u001b[39;49m\u001b[43m]\u001b[49m, pairs) \u001b[38;5;28;01mif\u001b[39;00m \u001b[38;5;129;01mnot\u001b[39;00m computing_meta \u001b[38;5;28;01melse\u001b[39;00m pairs\n\u001b[1;32m    687\u001b[0m n \u001b[38;5;241m=\u001b[39m _concatenate2(ns, axes\u001b[38;5;241m=\u001b[39maxis)\u001b[38;5;241m.\u001b[39msum(axis\u001b[38;5;241m=\u001b[39maxis, \u001b[38;5;241m*\u001b[39m\u001b[38;5;241m*\u001b[39mkwargs)\n\u001b[1;32m    689\u001b[0m \u001b[38;5;28;01mif\u001b[39;00m computing_meta:\n",
      "File \u001b[0;32m~/miniconda3/envs/scanpy_dask/lib/python3.13/site-packages/scipy/sparse/_index.py:30\u001b[0m, in \u001b[0;36mIndexMixin.__getitem__\u001b[0;34m(self, key)\u001b[0m\n\u001b[1;32m     29\u001b[0m \u001b[38;5;28;01mdef\u001b[39;00m\u001b[38;5;250m \u001b[39m\u001b[38;5;21m__getitem__\u001b[39m(\u001b[38;5;28mself\u001b[39m, key):\n\u001b[0;32m---> 30\u001b[0m     index, new_shape \u001b[38;5;241m=\u001b[39m \u001b[38;5;28;43mself\u001b[39;49m\u001b[38;5;241;43m.\u001b[39;49m\u001b[43m_validate_indices\u001b[49m\u001b[43m(\u001b[49m\u001b[43mkey\u001b[49m\u001b[43m)\u001b[49m\n\u001b[1;32m     32\u001b[0m     \u001b[38;5;66;03m# 1D array\u001b[39;00m\n\u001b[1;32m     33\u001b[0m     \u001b[38;5;28;01mif\u001b[39;00m \u001b[38;5;28mlen\u001b[39m(index) \u001b[38;5;241m==\u001b[39m \u001b[38;5;241m1\u001b[39m:\n",
      "File \u001b[0;32m~/miniconda3/envs/scanpy_dask/lib/python3.13/site-packages/scipy/sparse/_index.py:274\u001b[0m, in \u001b[0;36mIndexMixin._validate_indices\u001b[0;34m(self, key)\u001b[0m\n\u001b[1;32m    272\u001b[0m \u001b[38;5;28;01melse\u001b[39;00m:  \u001b[38;5;66;03m# dense array\u001b[39;00m\n\u001b[1;32m    273\u001b[0m     N \u001b[38;5;241m=\u001b[39m \u001b[38;5;28mself\u001b[39m\u001b[38;5;241m.\u001b[39m_shape[index_ndim]\n\u001b[0;32m--> 274\u001b[0m     idx \u001b[38;5;241m=\u001b[39m \u001b[38;5;28;43mself\u001b[39;49m\u001b[38;5;241;43m.\u001b[39;49m\u001b[43m_asindices\u001b[49m\u001b[43m(\u001b[49m\u001b[43midx\u001b[49m\u001b[43m,\u001b[49m\u001b[43m \u001b[49m\u001b[43mN\u001b[49m\u001b[43m)\u001b[49m\n\u001b[1;32m    275\u001b[0m     index\u001b[38;5;241m.\u001b[39mappend(idx)\n\u001b[1;32m    276\u001b[0m     array_indices\u001b[38;5;241m.\u001b[39mappend(index_ndim)\n",
      "File \u001b[0;32m~/miniconda3/envs/scanpy_dask/lib/python3.13/site-packages/scipy/sparse/_index.py:310\u001b[0m, in \u001b[0;36mIndexMixin._asindices\u001b[0;34m(self, idx, length)\u001b[0m\n\u001b[1;32m    307\u001b[0m     \u001b[38;5;28;01mraise\u001b[39;00m \u001b[38;5;167;01mIndexError\u001b[39;00m(\u001b[38;5;124m'\u001b[39m\u001b[38;5;124minvalid index\u001b[39m\u001b[38;5;124m'\u001b[39m) \u001b[38;5;28;01mfrom\u001b[39;00m\u001b[38;5;250m \u001b[39m\u001b[38;5;21;01me\u001b[39;00m\n\u001b[1;32m    309\u001b[0m \u001b[38;5;28;01mif\u001b[39;00m x\u001b[38;5;241m.\u001b[39mndim \u001b[38;5;129;01mnot\u001b[39;00m \u001b[38;5;129;01min\u001b[39;00m (\u001b[38;5;241m1\u001b[39m, \u001b[38;5;241m2\u001b[39m):\n\u001b[0;32m--> 310\u001b[0m     \u001b[38;5;28;01mraise\u001b[39;00m \u001b[38;5;167;01mIndexError\u001b[39;00m(\u001b[38;5;124m'\u001b[39m\u001b[38;5;124mIndex dimension must be 1 or 2\u001b[39m\u001b[38;5;124m'\u001b[39m)\n\u001b[1;32m    312\u001b[0m \u001b[38;5;28;01mif\u001b[39;00m x\u001b[38;5;241m.\u001b[39msize \u001b[38;5;241m==\u001b[39m \u001b[38;5;241m0\u001b[39m:\n\u001b[1;32m    313\u001b[0m     \u001b[38;5;28;01mreturn\u001b[39;00m x\n",
      "\u001b[0;31mIndexError\u001b[0m: Index dimension must be 1 or 2"
     ]
    }
   ],
   "source": [
    "%%time\n",
    "sc.pp.pca(merged, n_comps=300, mask_var=None)"
   ]
  },
  {
   "cell_type": "code",
   "execution_count": null,
   "id": "981dde32-774b-4670-ac09-d11d57d9466d",
   "metadata": {},
   "outputs": [],
   "source": []
  },
  {
   "cell_type": "code",
   "execution_count": null,
   "id": "c741e5cc-5be9-452d-9659-7f11cc5335a7",
   "metadata": {},
   "outputs": [],
   "source": []
  },
  {
   "cell_type": "code",
   "execution_count": null,
   "id": "8e62a476-ab13-4269-9c6b-330efa5364bc",
   "metadata": {},
   "outputs": [],
   "source": []
  },
  {
   "cell_type": "code",
   "execution_count": null,
   "id": "c519e718-75d8-4ce9-b342-b83afae20a12",
   "metadata": {},
   "outputs": [],
   "source": []
  },
  {
   "cell_type": "code",
   "execution_count": null,
   "id": "0db76200-1b26-4e60-9991-354f2e8c1fea",
   "metadata": {},
   "outputs": [],
   "source": []
  },
  {
   "cell_type": "code",
   "execution_count": null,
   "id": "7433a459-f7bf-467b-8fcd-3c3a08730df9",
   "metadata": {},
   "outputs": [],
   "source": []
  },
  {
   "cell_type": "code",
   "execution_count": null,
   "id": "d71af686-ef0e-4034-b68d-006a3957271d",
   "metadata": {},
   "outputs": [],
   "source": []
  },
  {
   "cell_type": "code",
   "execution_count": null,
   "id": "bf230e47-202e-4706-939a-34a7b840a7ef",
   "metadata": {},
   "outputs": [],
   "source": []
  },
  {
   "cell_type": "code",
   "execution_count": null,
   "id": "c4d95b11-2779-414d-b056-68c8f673117d",
   "metadata": {},
   "outputs": [],
   "source": []
  },
  {
   "cell_type": "code",
   "execution_count": null,
   "id": "bafb104d-270a-4564-a7ba-5f091731aa70",
   "metadata": {},
   "outputs": [],
   "source": []
  }
 ],
 "metadata": {
  "kernelspec": {
   "display_name": "scanpy_dask",
   "language": "python",
   "name": "scanpy_dask"
  },
  "language_info": {
   "codemirror_mode": {
    "name": "ipython",
    "version": 3
   },
   "file_extension": ".py",
   "mimetype": "text/x-python",
   "name": "python",
   "nbconvert_exporter": "python",
   "pygments_lexer": "ipython3",
   "version": "3.13.1"
  }
 },
 "nbformat": 4,
 "nbformat_minor": 5
}
