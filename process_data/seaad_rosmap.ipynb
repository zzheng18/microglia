{
 "cells": [
  {
   "cell_type": "code",
   "execution_count": 1,
   "id": "d88db253-a1d8-4b05-beaa-3c653d0f24d8",
   "metadata": {},
   "outputs": [],
   "source": [
    "import scanpy as sc\n",
    "import pandas as pd"
   ]
  },
  {
   "cell_type": "markdown",
   "id": "7b2141a0-5a8c-4270-9cd4-d7819c40359d",
   "metadata": {},
   "source": [
    "## put count layer into adata.X"
   ]
  },
  {
   "cell_type": "code",
   "execution_count": 2,
   "id": "f1949425-ada0-4283-8ad4-4fc0be60883a",
   "metadata": {},
   "outputs": [],
   "source": [
    "rna = sc.read_h5ad('/lustre/groups/ml01/projects/2024_microglia_zihe.zheng/SEAAD/SEAAD_MTG_RNAseq_final-nuclei.2024-02-13.h5ad')"
   ]
  },
  {
   "cell_type": "code",
   "execution_count": 4,
   "id": "e6a0d3e5-2726-4446-9b17-3a20a92c2307",
   "metadata": {},
   "outputs": [],
   "source": [
    "rna.X = rna.layers['UMIs']"
   ]
  },
  {
   "cell_type": "code",
   "execution_count": 5,
   "id": "42ddf6ee-0f2c-4870-bbd5-1f2206e96e7f",
   "metadata": {},
   "outputs": [
    {
     "data": {
      "text/plain": [
       "array([1., 1., 1., ..., 1., 1., 2.], dtype=float32)"
      ]
     },
     "execution_count": 5,
     "metadata": {},
     "output_type": "execute_result"
    }
   ],
   "source": [
    "rna.X.data"
   ]
  },
  {
   "cell_type": "code",
   "execution_count": 6,
   "id": "e0f3198b-5951-4cdf-a9bd-bf8a83073702",
   "metadata": {},
   "outputs": [],
   "source": [
    "rna.write_h5ad('/lustre/groups/ml01/projects/2024_microglia_zihe.zheng/SEAAD/SEAAD_MTG_RNAseq_final-nuclei.2024-02-13_count.h5ad')"
   ]
  },
  {
   "cell_type": "code",
   "execution_count": 2,
   "id": "e507e50e-77d2-47e8-8b4e-af6345350552",
   "metadata": {},
   "outputs": [],
   "source": [
    "rna_dlpfc = sc.read_h5ad('/lustre/groups/ml01/projects/2024_microglia_zihe.zheng/SEAAD/SEAAD_DLPFC_RNAseq_final-nuclei.2024-02-13.h5ad')"
   ]
  },
  {
   "cell_type": "code",
   "execution_count": 3,
   "id": "58228783-aac0-4e2b-bf7c-17bb0907fce0",
   "metadata": {},
   "outputs": [],
   "source": [
    "rna_dlpfc.X = rna_dlpfc.layers['UMIs']"
   ]
  },
  {
   "cell_type": "code",
   "execution_count": 4,
   "id": "3d56a1d3-16c0-46cf-b290-7a83fc2d0d8a",
   "metadata": {},
   "outputs": [
    {
     "data": {
      "text/plain": [
       "array([1., 2., 1., ..., 1., 1., 1.], dtype=float32)"
      ]
     },
     "execution_count": 4,
     "metadata": {},
     "output_type": "execute_result"
    }
   ],
   "source": [
    "rna_dlpfc.X.data"
   ]
  },
  {
   "cell_type": "code",
   "execution_count": 5,
   "id": "765f9253-9df5-4cbf-a556-599e79d22575",
   "metadata": {},
   "outputs": [],
   "source": [
    "rna_dlpfc.write_h5ad('/lustre/groups/ml01/projects/2024_microglia_zihe.zheng/SEAAD/SEAAD_DLPFC_RNAseq_final-nuclei.2024-02-13_count.h5ad')"
   ]
  },
  {
   "cell_type": "markdown",
   "id": "facda84d-c77c-4f06-9d63-c681c5ba6da9",
   "metadata": {},
   "source": [
    "## concatenating rosmap data together"
   ]
  },
  {
   "cell_type": "code",
   "execution_count": null,
   "id": "734d084b-b994-4313-8f58-bbe1dbd833c2",
   "metadata": {},
   "outputs": [],
   "source": [
    "def read_with_dask(path):\n",
    "    with h5py.File(path, \"r\") as f:\n",
    "        adata = ad.AnnData(\n",
    "            obs=ad.io.read_elem(f[\"obs\"]),\n",
    "            var=ad.io.read_elem(f[\"var\"]),\n",
    "        )\n",
    "        adata.X = ad.experimental.read_elem_as_dask(\n",
    "            f[\"X\"], chunks=(SPARSE_CHUNK_SIZE, adata.shape[1])\n",
    "        )\n",
    "    adata.var = adata.var.set_index('_index')\n",
    "    return adata"
   ]
  },
  {
   "cell_type": "code",
   "execution_count": null,
   "id": "bc2229d4-8af5-4cf1-83dd-6fda7b6bc96d",
   "metadata": {},
   "outputs": [],
   "source": [
    "microglia = read_with_dask('/lustre/groups/ml01/projects/2024_microglia_zihe.zheng/rosmap/dlpfc2/raw_h5ad/microglia.h5ad')\n",
    "inhibitory = read_with_dask('/lustre/groups/ml01/projects/2024_microglia_zihe.zheng/rosmap/dlpfc2/raw_h5ad/inhibitory.h5ad')\n",
    "cux2_1 = read_with_dask('/lustre/groups/ml01/projects/2024_microglia_zihe.zheng/rosmap/dlpfc2/raw_h5ad/cux2+.h5ad')\n",
    "cux2_2 = read_with_dask('/lustre/groups/ml01/projects/2024_microglia_zihe.zheng/rosmap/dlpfc2/raw_h5ad/cux2-.h5ad')\n",
    "astrocytes = read_with_dask('/lustre/groups/ml01/projects/2024_microglia_zihe.zheng/rosmap/dlpfc2/raw_h5ad/astrocytes.h5ad')\n",
    "oligo = read_with_dask('/lustre/groups/ml01/projects/2024_microglia_zihe.zheng/rosmap/dlpfc2/raw_h5ad/oligodendroglia.h5ad')\n",
    "vascular = read_with_dask('/lustre/groups/ml01/projects/2024_microglia_zihe.zheng/rosmap/dlpfc2/raw_h5ad/vascular.niche.h5ad')\n"
   ]
  },
  {
   "cell_type": "code",
   "execution_count": null,
   "id": "61e9eb4e-f059-42d7-9680-e391e025120a",
   "metadata": {},
   "outputs": [],
   "source": [
    "all = ad.concat([microglia, inhibitory, cux2_1, cux2_2, astrocytes, oligo, vascular])\n",
    "clinical = pd.read_csv('/lustre/groups/ml01/projects/2024_microglia_zihe.zheng/rosmap/metadata/ROSMAP_clinical.csv')\n",
    "all.obs = pd.merge(all.obs, clinical, on = 'individualID', how = 'left')\n",
    "all.obs['class'] = all.obs['class'].astype(str)\n",
    "all.write_h5ad('/lustre/groups/ml01/projects/2024_microglia_zihe.zheng/rosmap/dlpfc2/raw_h5ad/all.h5ad')"
   ]
  },
  {
   "cell_type": "markdown",
   "id": "56f94a6f-0b9a-45e5-88fd-3dd823dc1612",
   "metadata": {},
   "source": [
    "## dask process to merge seaad and rosmap, and finding hvg"
   ]
  },
  {
   "cell_type": "code",
   "execution_count": 1,
   "id": "689147c9-e39e-4798-a548-26b5409bb34f",
   "metadata": {},
   "outputs": [
    {
     "name": "stderr",
     "output_type": "stream",
     "text": [
      "/home/icb/zihe.zheng/miniconda3/envs/scanpy_dask/lib/python3.13/site-packages/tqdm/auto.py:21: TqdmWarning: IProgress not found. Please update jupyter and ipywidgets. See https://ipywidgets.readthedocs.io/en/stable/user_install.html\n",
      "  from .autonotebook import tqdm as notebook_tqdm\n"
     ]
    },
    {
     "name": "stdout",
     "output_type": "stream",
     "text": [
      "scanpy==1.10.4 anndata==0.11.3 umap==0.5.7 numpy==2.1.3 scipy==1.15.1 pandas==2.2.3 scikit-learn==1.6.1 statsmodels==0.14.4 pynndescent==0.5.13\n"
     ]
    }
   ],
   "source": [
    "import dask.distributed as dd\n",
    "import scanpy as sc\n",
    "import anndata as ad\n",
    "import h5py\n",
    "\n",
    "sc.logging.print_header()"
   ]
  },
  {
   "cell_type": "code",
   "execution_count": 2,
   "id": "31b57fb7-d135-463f-ab6c-283245d80d15",
   "metadata": {},
   "outputs": [
    {
     "data": {
      "text/html": [
       "<div>\n",
       "    <div style=\"width: 24px; height: 24px; background-color: #e1e1e1; border: 3px solid #9D9D9D; border-radius: 5px; position: absolute;\"> </div>\n",
       "    <div style=\"margin-left: 48px;\">\n",
       "        <h3 style=\"margin-bottom: 0px;\">Client</h3>\n",
       "        <p style=\"color: #9D9D9D; margin-bottom: 0px;\">Client-fdb1a9ce-10c0-11f0-9a74-00001029fe80</p>\n",
       "        <table style=\"width: 100%; text-align: left;\">\n",
       "\n",
       "        <tr>\n",
       "        \n",
       "            <td style=\"text-align: left;\"><strong>Connection method:</strong> Cluster object</td>\n",
       "            <td style=\"text-align: left;\"><strong>Cluster type:</strong> distributed.LocalCluster</td>\n",
       "        \n",
       "        </tr>\n",
       "\n",
       "        \n",
       "            <tr>\n",
       "                <td style=\"text-align: left;\">\n",
       "                    <strong>Dashboard: </strong> <a href=\"http://127.0.0.1:8787/status\" target=\"_blank\">http://127.0.0.1:8787/status</a>\n",
       "                </td>\n",
       "                <td style=\"text-align: left;\"></td>\n",
       "            </tr>\n",
       "        \n",
       "\n",
       "        </table>\n",
       "\n",
       "        \n",
       "\n",
       "        \n",
       "            <details>\n",
       "            <summary style=\"margin-bottom: 20px;\"><h3 style=\"display: inline;\">Cluster Info</h3></summary>\n",
       "            <div class=\"jp-RenderedHTMLCommon jp-RenderedHTML jp-mod-trusted jp-OutputArea-output\">\n",
       "    <div style=\"width: 24px; height: 24px; background-color: #e1e1e1; border: 3px solid #9D9D9D; border-radius: 5px; position: absolute;\">\n",
       "    </div>\n",
       "    <div style=\"margin-left: 48px;\">\n",
       "        <h3 style=\"margin-bottom: 0px; margin-top: 0px;\">LocalCluster</h3>\n",
       "        <p style=\"color: #9D9D9D; margin-bottom: 0px;\">631ee066</p>\n",
       "        <table style=\"width: 100%; text-align: left;\">\n",
       "            <tr>\n",
       "                <td style=\"text-align: left;\">\n",
       "                    <strong>Dashboard:</strong> <a href=\"http://127.0.0.1:8787/status\" target=\"_blank\">http://127.0.0.1:8787/status</a>\n",
       "                </td>\n",
       "                <td style=\"text-align: left;\">\n",
       "                    <strong>Workers:</strong> 2\n",
       "                </td>\n",
       "            </tr>\n",
       "            <tr>\n",
       "                <td style=\"text-align: left;\">\n",
       "                    <strong>Total threads:</strong> 20\n",
       "                </td>\n",
       "                <td style=\"text-align: left;\">\n",
       "                    <strong>Total memory:</strong> 500.00 GiB\n",
       "                </td>\n",
       "            </tr>\n",
       "            \n",
       "            <tr>\n",
       "    <td style=\"text-align: left;\"><strong>Status:</strong> running</td>\n",
       "    <td style=\"text-align: left;\"><strong>Using processes:</strong> True</td>\n",
       "</tr>\n",
       "\n",
       "            \n",
       "        </table>\n",
       "\n",
       "        <details>\n",
       "            <summary style=\"margin-bottom: 20px;\">\n",
       "                <h3 style=\"display: inline;\">Scheduler Info</h3>\n",
       "            </summary>\n",
       "\n",
       "            <div style=\"\">\n",
       "    <div>\n",
       "        <div style=\"width: 24px; height: 24px; background-color: #FFF7E5; border: 3px solid #FF6132; border-radius: 5px; position: absolute;\"> </div>\n",
       "        <div style=\"margin-left: 48px;\">\n",
       "            <h3 style=\"margin-bottom: 0px;\">Scheduler</h3>\n",
       "            <p style=\"color: #9D9D9D; margin-bottom: 0px;\">Scheduler-d29ae8db-2af8-4855-ab3f-3eee46cda791</p>\n",
       "            <table style=\"width: 100%; text-align: left;\">\n",
       "                <tr>\n",
       "                    <td style=\"text-align: left;\">\n",
       "                        <strong>Comm:</strong> tcp://127.0.0.1:8241\n",
       "                    </td>\n",
       "                    <td style=\"text-align: left;\">\n",
       "                        <strong>Workers:</strong> 2\n",
       "                    </td>\n",
       "                </tr>\n",
       "                <tr>\n",
       "                    <td style=\"text-align: left;\">\n",
       "                        <strong>Dashboard:</strong> <a href=\"http://127.0.0.1:8787/status\" target=\"_blank\">http://127.0.0.1:8787/status</a>\n",
       "                    </td>\n",
       "                    <td style=\"text-align: left;\">\n",
       "                        <strong>Total threads:</strong> 20\n",
       "                    </td>\n",
       "                </tr>\n",
       "                <tr>\n",
       "                    <td style=\"text-align: left;\">\n",
       "                        <strong>Started:</strong> Just now\n",
       "                    </td>\n",
       "                    <td style=\"text-align: left;\">\n",
       "                        <strong>Total memory:</strong> 500.00 GiB\n",
       "                    </td>\n",
       "                </tr>\n",
       "            </table>\n",
       "        </div>\n",
       "    </div>\n",
       "\n",
       "    <details style=\"margin-left: 48px;\">\n",
       "        <summary style=\"margin-bottom: 20px;\">\n",
       "            <h3 style=\"display: inline;\">Workers</h3>\n",
       "        </summary>\n",
       "\n",
       "        \n",
       "        <div style=\"margin-bottom: 20px;\">\n",
       "            <div style=\"width: 24px; height: 24px; background-color: #DBF5FF; border: 3px solid #4CC9FF; border-radius: 5px; position: absolute;\"> </div>\n",
       "            <div style=\"margin-left: 48px;\">\n",
       "            <details>\n",
       "                <summary>\n",
       "                    <h4 style=\"margin-bottom: 0px; display: inline;\">Worker: 0</h4>\n",
       "                </summary>\n",
       "                <table style=\"width: 100%; text-align: left;\">\n",
       "                    <tr>\n",
       "                        <td style=\"text-align: left;\">\n",
       "                            <strong>Comm: </strong> tcp://127.0.0.1:8027\n",
       "                        </td>\n",
       "                        <td style=\"text-align: left;\">\n",
       "                            <strong>Total threads: </strong> 10\n",
       "                        </td>\n",
       "                    </tr>\n",
       "                    <tr>\n",
       "                        <td style=\"text-align: left;\">\n",
       "                            <strong>Dashboard: </strong> <a href=\"http://127.0.0.1:8071/status\" target=\"_blank\">http://127.0.0.1:8071/status</a>\n",
       "                        </td>\n",
       "                        <td style=\"text-align: left;\">\n",
       "                            <strong>Memory: </strong> 250.00 GiB\n",
       "                        </td>\n",
       "                    </tr>\n",
       "                    <tr>\n",
       "                        <td style=\"text-align: left;\">\n",
       "                            <strong>Nanny: </strong> tcp://127.0.0.1:8049\n",
       "                        </td>\n",
       "                        <td style=\"text-align: left;\"></td>\n",
       "                    </tr>\n",
       "                    <tr>\n",
       "                        <td colspan=\"2\" style=\"text-align: left;\">\n",
       "                            <strong>Local directory: </strong> /tmp/dask-scratch-space/worker-0m84dihc\n",
       "                        </td>\n",
       "                    </tr>\n",
       "\n",
       "                    \n",
       "\n",
       "                    \n",
       "\n",
       "                </table>\n",
       "            </details>\n",
       "            </div>\n",
       "        </div>\n",
       "        \n",
       "        <div style=\"margin-bottom: 20px;\">\n",
       "            <div style=\"width: 24px; height: 24px; background-color: #DBF5FF; border: 3px solid #4CC9FF; border-radius: 5px; position: absolute;\"> </div>\n",
       "            <div style=\"margin-left: 48px;\">\n",
       "            <details>\n",
       "                <summary>\n",
       "                    <h4 style=\"margin-bottom: 0px; display: inline;\">Worker: 1</h4>\n",
       "                </summary>\n",
       "                <table style=\"width: 100%; text-align: left;\">\n",
       "                    <tr>\n",
       "                        <td style=\"text-align: left;\">\n",
       "                            <strong>Comm: </strong> tcp://127.0.0.1:8333\n",
       "                        </td>\n",
       "                        <td style=\"text-align: left;\">\n",
       "                            <strong>Total threads: </strong> 10\n",
       "                        </td>\n",
       "                    </tr>\n",
       "                    <tr>\n",
       "                        <td style=\"text-align: left;\">\n",
       "                            <strong>Dashboard: </strong> <a href=\"http://127.0.0.1:8301/status\" target=\"_blank\">http://127.0.0.1:8301/status</a>\n",
       "                        </td>\n",
       "                        <td style=\"text-align: left;\">\n",
       "                            <strong>Memory: </strong> 250.00 GiB\n",
       "                        </td>\n",
       "                    </tr>\n",
       "                    <tr>\n",
       "                        <td style=\"text-align: left;\">\n",
       "                            <strong>Nanny: </strong> tcp://127.0.0.1:8411\n",
       "                        </td>\n",
       "                        <td style=\"text-align: left;\"></td>\n",
       "                    </tr>\n",
       "                    <tr>\n",
       "                        <td colspan=\"2\" style=\"text-align: left;\">\n",
       "                            <strong>Local directory: </strong> /tmp/dask-scratch-space/worker-jwg9lo16\n",
       "                        </td>\n",
       "                    </tr>\n",
       "\n",
       "                    \n",
       "\n",
       "                    \n",
       "\n",
       "                </table>\n",
       "            </details>\n",
       "            </div>\n",
       "        </div>\n",
       "        \n",
       "\n",
       "    </details>\n",
       "</div>\n",
       "\n",
       "        </details>\n",
       "    </div>\n",
       "</div>\n",
       "            </details>\n",
       "        \n",
       "\n",
       "    </div>\n",
       "</div>"
      ],
      "text/plain": [
       "<Client: 'tcp://127.0.0.1:8241' processes=2 threads=20, memory=500.00 GiB>"
      ]
     },
     "execution_count": 2,
     "metadata": {},
     "output_type": "execute_result"
    }
   ],
   "source": [
    "cluster = dd.LocalCluster(n_workers=2)\n",
    "client = dd.Client(cluster)\n",
    "SPARSE_CHUNK_SIZE = 10_000\n",
    "client"
   ]
  },
  {
   "cell_type": "code",
   "execution_count": 14,
   "id": "842105ee-1a68-40c7-ad76-bae558905fe3",
   "metadata": {},
   "outputs": [
    {
     "name": "stderr",
     "output_type": "stream",
     "text": [
      "/home/icb/zihe.zheng/miniconda3/envs/scanpy_dask/lib/python3.13/site-packages/anndata/_core/aligned_df.py:68: ImplicitModificationWarning: Transforming to str index.\n",
      "  warnings.warn(\"Transforming to str index.\", ImplicitModificationWarning)\n"
     ]
    },
    {
     "name": "stdout",
     "output_type": "stream",
     "text": [
      "CPU times: user 6.59 s, sys: 4.11 s, total: 10.7 s\n",
      "Wall time: 24.8 s\n"
     ]
    }
   ],
   "source": [
    "%%time\n",
    "# read RNA data from MTG SEAAD\n",
    "cell_atlas_path = '/lustre/groups/ml01/projects/2024_microglia_zihe.zheng/SEAAD/SEAAD_MTG_RNAseq_final-nuclei.2024-02-13_count.h5ad'\n",
    "\n",
    "with h5py.File(cell_atlas_path, \"r\") as f:\n",
    "    mtg = ad.AnnData(\n",
    "        obs=ad.io.read_elem(f[\"obs\"]),\n",
    "        var=ad.io.read_elem(f[\"var\"]),\n",
    "    )\n",
    "    mtg.X = ad.experimental.read_elem_as_dask(\n",
    "        f[\"X\"], chunks=(SPARSE_CHUNK_SIZE, mtg.shape[1])\n",
    "    )\n",
    "\n",
    "mtg.layers[\"counts\"] = mtg.X.copy()  # Making sure we keep access to the raw counts\n",
    "\n",
    "# read RNA data from DLPFC SEAAD\n",
    "cell_atlas_path = '/lustre/groups/ml01/projects/2024_microglia_zihe.zheng/SEAAD/SEAAD_DLPFC_RNAseq_final-nuclei.2024-02-13_count.h5ad'\n",
    "with h5py.File(cell_atlas_path, \"r\") as f:\n",
    "    dlpfc = ad.AnnData(\n",
    "        obs=ad.io.read_elem(f[\"obs\"]),\n",
    "        var=ad.io.read_elem(f[\"var\"]),\n",
    "    )\n",
    "    dlpfc.X = ad.experimental.read_elem_as_dask(\n",
    "        f[\"X\"], chunks=(SPARSE_CHUNK_SIZE, dlpfc.shape[1])\n",
    "    )\n",
    "\n",
    "dlpfc.layers[\"counts\"] = dlpfc.X.copy()  # Making sure we keep access to the raw counts\n",
    "\n",
    "# read RNA data from ROSMAP\n",
    "cell_atlas_path = '/lustre/groups/ml01/projects/2024_microglia_zihe.zheng/rosmap/dlpfc2/raw_h5ad/all.h5ad'\n",
    "with h5py.File(cell_atlas_path, \"r\") as f:\n",
    "    rosmap = ad.AnnData(\n",
    "        obs=ad.io.read_elem(f[\"obs\"]),\n",
    "        var=ad.io.read_elem(f[\"var\"]),\n",
    "    )\n",
    "    rosmap.X = ad.experimental.read_elem_as_dask(\n",
    "        f[\"X\"], chunks=(SPARSE_CHUNK_SIZE, rosmap.shape[1])\n",
    "    )\n",
    "\n",
    "rosmap.layers[\"counts\"] = rosmap.X.copy()  # Making sure we keep access to the raw counts\n",
    "\n"
   ]
  },
  {
   "cell_type": "code",
   "execution_count": null,
   "id": "662c9efe-1dea-4912-a73a-df27a9ff506a",
   "metadata": {},
   "outputs": [],
   "source": [
    "mtg.obs = mtg.obs[[]]  \n",
    "mtg.var = mtg.var[[]]  \n",
    "mtg.write_h5ad('/lustre/groups/ml01/projects/2024_microglia_zihe.zheng/SEAAD/SEAAD_MTG_RNAseq_final-nuclei.2024-02-13_count_empty.h5ad')"
   ]
  },
  {
   "cell_type": "code",
   "execution_count": 15,
   "id": "9f5441a3-7a72-42b9-aab9-448bfd9099d1",
   "metadata": {},
   "outputs": [],
   "source": [
    "dlpfc.obs = dlpfc.obs[[]]  \n",
    "dlpfc.var = dlpfc.var[[]] \n",
    "dlpfc.write_h5ad('/lustre/groups/ml01/projects/2024_microglia_zihe.zheng/SEAAD/SEAAD_DLPFC_RNAseq_final-nuclei.2024-02-13_count_empty.h5ad')"
   ]
  },
  {
   "cell_type": "code",
   "execution_count": 17,
   "id": "be705214-fefe-4793-80cb-f766c188a3bc",
   "metadata": {},
   "outputs": [],
   "source": [
    "rosmap.obs = rosmap.obs[[]]  \n",
    "rosmap.var = rosmap.var[[]] \n",
    "rosmap.write_h5ad('/lustre/groups/ml01/projects/2024_microglia_zihe.zheng/rosmap/dlpfc2/raw_h5ad/all_empty.h5ad')"
   ]
  },
  {
   "cell_type": "code",
   "execution_count": null,
   "id": "3b9fb650-c53f-4ff5-9516-91e7aff09951",
   "metadata": {},
   "outputs": [],
   "source": []
  },
  {
   "cell_type": "code",
   "execution_count": 3,
   "id": "0ee45309-9ede-48bd-bd5a-b02664af05a7",
   "metadata": {},
   "outputs": [
    {
     "name": "stdout",
     "output_type": "stream",
     "text": [
      "CPU times: user 9min 53s, sys: 11min 32s, total: 21min 25s\n",
      "Wall time: 25min 12s\n"
     ]
    }
   ],
   "source": [
    "%%time\n",
    "data_dict = {\n",
    "    'SEAAD_MTG': '/lustre/groups/ml01/projects/2024_microglia_zihe.zheng/SEAAD/SEAAD_MTG_RNAseq_final-nuclei.2024-02-13_count_empty.h5ad',\n",
    "    'SEAAD_DLPFC': '/lustre/groups/ml01/projects/2024_microglia_zihe.zheng/SEAAD/SEAAD_DLPFC_RNAseq_final-nuclei.2024-02-13_count_empty.h5ad',\n",
    "    'rosmap': '/lustre/groups/ml01/projects/2024_microglia_zihe.zheng/rosmap/dlpfc2/raw_h5ad/all_empty.h5ad'\n",
    "}\n",
    "\n",
    "ad.experimental.concat_on_disk(\n",
    "    data_dict,\n",
    "    '/lustre/groups/ml01/projects/2024_microglia_zihe.zheng/integrated_data/seaad_rosmap_rna.h5ad',\n",
    "    join=\"inner\", \n",
    "    merge = 'unique',\n",
    "    label='dataset',\n",
    ")"
   ]
  },
  {
   "cell_type": "code",
   "execution_count": 3,
   "id": "1369d083-6abd-443e-8d20-4e2a14967116",
   "metadata": {},
   "outputs": [],
   "source": [
    "cell_atlas_path = '/lustre/groups/ml01/projects/2024_microglia_zihe.zheng/integrated_data/seaad_rosmap_rna.h5ad'\n",
    "\n",
    "with h5py.File(cell_atlas_path, \"r\") as f:\n",
    "    merged = ad.AnnData(\n",
    "        obs=ad.io.read_elem(f[\"obs\"]),\n",
    "        var=ad.io.read_elem(f[\"var\"]),\n",
    "    )\n",
    "    merged.X = ad.experimental.read_elem_as_dask(\n",
    "        f[\"X\"], chunks=(SPARSE_CHUNK_SIZE, merged.shape[1])\n",
    "    )\n",
    "\n",
    "merged.layers[\"counts\"] = merged.X.copy()  # Making sure we keep access to the raw counts"
   ]
  },
  {
   "cell_type": "code",
   "execution_count": 4,
   "id": "47a48e4e-423f-497b-9d53-5a76f2397d8a",
   "metadata": {},
   "outputs": [
    {
     "name": "stdout",
     "output_type": "stream",
     "text": [
      "CPU times: user 39.2 s, sys: 2.6 s, total: 41.8 s\n",
      "Wall time: 6min 46s\n"
     ]
    }
   ],
   "source": [
    "%%time\n",
    "sc.pp.normalize_total(merged)\n",
    "sc.pp.log1p(merged)\n",
    "sc.pp.highly_variable_genes(merged, n_top_genes=2000, subset = True)"
   ]
  },
  {
   "cell_type": "code",
   "execution_count": 7,
   "id": "9dec39f6-9f4b-4fcb-b42a-24db325b67fc",
   "metadata": {},
   "outputs": [
    {
     "data": {
      "text/html": [
       "<div>\n",
       "<style scoped>\n",
       "    .dataframe tbody tr th:only-of-type {\n",
       "        vertical-align: middle;\n",
       "    }\n",
       "\n",
       "    .dataframe tbody tr th {\n",
       "        vertical-align: top;\n",
       "    }\n",
       "\n",
       "    .dataframe thead th {\n",
       "        text-align: right;\n",
       "    }\n",
       "</style>\n",
       "<table border=\"1\" class=\"dataframe\">\n",
       "  <thead>\n",
       "    <tr style=\"text-align: right;\">\n",
       "      <th></th>\n",
       "      <th>highly_variable</th>\n",
       "      <th>means</th>\n",
       "      <th>dispersions</th>\n",
       "      <th>dispersions_norm</th>\n",
       "    </tr>\n",
       "  </thead>\n",
       "  <tbody>\n",
       "    <tr>\n",
       "      <th>HES4</th>\n",
       "      <td>True</td>\n",
       "      <td>0.167952</td>\n",
       "      <td>1.215583</td>\n",
       "      <td>1.335504</td>\n",
       "    </tr>\n",
       "    <tr>\n",
       "      <th>VWA1</th>\n",
       "      <td>True</td>\n",
       "      <td>0.168614</td>\n",
       "      <td>1.414559</td>\n",
       "      <td>1.813780</td>\n",
       "    </tr>\n",
       "    <tr>\n",
       "      <th>HES5</th>\n",
       "      <td>True</td>\n",
       "      <td>0.030614</td>\n",
       "      <td>1.359211</td>\n",
       "      <td>1.680742</td>\n",
       "    </tr>\n",
       "    <tr>\n",
       "      <th>PRDM16-DT</th>\n",
       "      <td>True</td>\n",
       "      <td>0.097127</td>\n",
       "      <td>1.281577</td>\n",
       "      <td>1.494134</td>\n",
       "    </tr>\n",
       "    <tr>\n",
       "      <th>PRDM16</th>\n",
       "      <td>True</td>\n",
       "      <td>0.297813</td>\n",
       "      <td>1.812314</td>\n",
       "      <td>2.830228</td>\n",
       "    </tr>\n",
       "    <tr>\n",
       "      <th>...</th>\n",
       "      <td>...</td>\n",
       "      <td>...</td>\n",
       "      <td>...</td>\n",
       "      <td>...</td>\n",
       "    </tr>\n",
       "    <tr>\n",
       "      <th>MT-ND3</th>\n",
       "      <td>True</td>\n",
       "      <td>2.200129</td>\n",
       "      <td>3.349776</td>\n",
       "      <td>1.944375</td>\n",
       "    </tr>\n",
       "    <tr>\n",
       "      <th>MT-ND4L</th>\n",
       "      <td>True</td>\n",
       "      <td>0.620945</td>\n",
       "      <td>1.370025</td>\n",
       "      <td>1.316078</td>\n",
       "    </tr>\n",
       "    <tr>\n",
       "      <th>MT-ND4</th>\n",
       "      <td>True</td>\n",
       "      <td>1.969133</td>\n",
       "      <td>2.876593</td>\n",
       "      <td>1.593346</td>\n",
       "    </tr>\n",
       "    <tr>\n",
       "      <th>MT-ND5</th>\n",
       "      <td>True</td>\n",
       "      <td>0.967328</td>\n",
       "      <td>1.685301</td>\n",
       "      <td>1.532243</td>\n",
       "    </tr>\n",
       "    <tr>\n",
       "      <th>MT-ND6</th>\n",
       "      <td>True</td>\n",
       "      <td>0.165447</td>\n",
       "      <td>1.185826</td>\n",
       "      <td>1.263979</td>\n",
       "    </tr>\n",
       "  </tbody>\n",
       "</table>\n",
       "<p>2000 rows × 4 columns</p>\n",
       "</div>"
      ],
      "text/plain": [
       "           highly_variable     means  dispersions  dispersions_norm\n",
       "HES4                  True  0.167952     1.215583          1.335504\n",
       "VWA1                  True  0.168614     1.414559          1.813780\n",
       "HES5                  True  0.030614     1.359211          1.680742\n",
       "PRDM16-DT             True  0.097127     1.281577          1.494134\n",
       "PRDM16                True  0.297813     1.812314          2.830228\n",
       "...                    ...       ...          ...               ...\n",
       "MT-ND3                True  2.200129     3.349776          1.944375\n",
       "MT-ND4L               True  0.620945     1.370025          1.316078\n",
       "MT-ND4                True  1.969133     2.876593          1.593346\n",
       "MT-ND5                True  0.967328     1.685301          1.532243\n",
       "MT-ND6                True  0.165447     1.185826          1.263979\n",
       "\n",
       "[2000 rows x 4 columns]"
      ]
     },
     "execution_count": 7,
     "metadata": {},
     "output_type": "execute_result"
    }
   ],
   "source": [
    "merged.var"
   ]
  },
  {
   "cell_type": "code",
   "execution_count": 6,
   "id": "25ee27a2-6f61-4c4a-879e-7404fee2eeb0",
   "metadata": {},
   "outputs": [],
   "source": [
    "merged.var.to_csv('hvg.csv')"
   ]
  },
  {
   "cell_type": "code",
   "execution_count": null,
   "id": "7743e0de-2adb-4d1e-9b7c-f0f8437b572d",
   "metadata": {},
   "outputs": [],
   "source": [
    "%%time\n",
    "merged.write_h5ad('/lustre/groups/ml01/projects/2024_microglia_zihe.zheng/integrated_data/seaad_rosmap_rna_hvg.h5ad')"
   ]
  },
  {
   "cell_type": "code",
   "execution_count": null,
   "id": "981dde32-774b-4670-ac09-d11d57d9466d",
   "metadata": {},
   "outputs": [],
   "source": []
  },
  {
   "cell_type": "code",
   "execution_count": null,
   "id": "c741e5cc-5be9-452d-9659-7f11cc5335a7",
   "metadata": {},
   "outputs": [],
   "source": []
  },
  {
   "cell_type": "code",
   "execution_count": null,
   "id": "8e62a476-ab13-4269-9c6b-330efa5364bc",
   "metadata": {},
   "outputs": [],
   "source": []
  },
  {
   "cell_type": "code",
   "execution_count": null,
   "id": "c519e718-75d8-4ce9-b342-b83afae20a12",
   "metadata": {},
   "outputs": [],
   "source": []
  },
  {
   "cell_type": "code",
   "execution_count": null,
   "id": "0db76200-1b26-4e60-9991-354f2e8c1fea",
   "metadata": {},
   "outputs": [],
   "source": []
  },
  {
   "cell_type": "code",
   "execution_count": null,
   "id": "7433a459-f7bf-467b-8fcd-3c3a08730df9",
   "metadata": {},
   "outputs": [],
   "source": []
  },
  {
   "cell_type": "code",
   "execution_count": null,
   "id": "d71af686-ef0e-4034-b68d-006a3957271d",
   "metadata": {},
   "outputs": [],
   "source": []
  },
  {
   "cell_type": "code",
   "execution_count": null,
   "id": "bf230e47-202e-4706-939a-34a7b840a7ef",
   "metadata": {},
   "outputs": [],
   "source": []
  },
  {
   "cell_type": "code",
   "execution_count": null,
   "id": "c4d95b11-2779-414d-b056-68c8f673117d",
   "metadata": {},
   "outputs": [],
   "source": []
  },
  {
   "cell_type": "code",
   "execution_count": null,
   "id": "bafb104d-270a-4564-a7ba-5f091731aa70",
   "metadata": {},
   "outputs": [],
   "source": []
  }
 ],
 "metadata": {
  "kernelspec": {
   "display_name": "scanpy_dask",
   "language": "python",
   "name": "scanpy_dask"
  },
  "language_info": {
   "codemirror_mode": {
    "name": "ipython",
    "version": 3
   },
   "file_extension": ".py",
   "mimetype": "text/x-python",
   "name": "python",
   "nbconvert_exporter": "python",
   "pygments_lexer": "ipython3",
   "version": "3.13.1"
  }
 },
 "nbformat": 4,
 "nbformat_minor": 5
}
