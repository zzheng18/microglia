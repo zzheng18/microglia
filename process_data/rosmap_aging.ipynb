{
 "cells": [
  {
   "cell_type": "code",
   "execution_count": 1,
   "id": "0832fad4-2fb9-41ce-a5bc-06f40c05eb12",
   "metadata": {},
   "outputs": [],
   "source": [
    "import scanpy as sc\n",
    "import pandas as pd\n",
    "import anndata as ad\n",
    "import numpy as np\n",
    "import matplotlib.pyplot as plt\n",
    "import seaborn as sns"
   ]
  },
  {
   "cell_type": "code",
   "execution_count": 2,
   "id": "332e7df2-6f4d-4f4d-b5f0-d0781089361f",
   "metadata": {},
   "outputs": [],
   "source": [
    "adata = sc.read_h5ad('/lustre/groups/ml01/projects/2024_microglia_zihe.zheng/rosmap_aging/PFC427_raw_data.h5ad')"
   ]
  },
  {
   "cell_type": "code",
   "execution_count": 3,
   "id": "13e243e0-37f6-43f0-87cf-b23a0ca62d85",
   "metadata": {},
   "outputs": [
    {
     "data": {
      "text/plain": [
       "AnnData object with n_obs × n_vars = 2663736 × 33538\n",
       "    obs: 'projid', 'individual_ID', 'cell_type_high_resolution', 'major_cell_type'\n",
       "    var: 'gene_ids', 'feature_types', 'gene_names'"
      ]
     },
     "execution_count": 3,
     "metadata": {},
     "output_type": "execute_result"
    }
   ],
   "source": [
    "adata"
   ]
  },
  {
   "cell_type": "code",
   "execution_count": 4,
   "id": "f1632d6b-0b94-4eb5-af1f-82bf154498e0",
   "metadata": {},
   "outputs": [
    {
     "data": {
      "text/plain": [
       "cell_type_high_resolution\n",
       "Oli                           645142\n",
       "Exc L2-3 CBLN2 LINC02306      296936\n",
       "Exc L3-4 RORB CUX2            184784\n",
       "Exc L4-5 RORB IL1RAPL2        119435\n",
       "Exc RELN CHD7                 102687\n",
       "Ast GRM3                       92527\n",
       "OPC                            90502\n",
       "Exc L4-5 RORB GABRG1           79361\n",
       "Mic P2RY12                     73061\n",
       "Exc L6 THEMIS NFIA             66676\n",
       "Exc NRGN                       45859\n",
       "Inh PVALB HTR4                 42032\n",
       "Exc L3-5 RORB PLCH1            37949\n",
       "Ast DPP10                      32779\n",
       "Inh LAMP5 NRG1 (Rosehip)       26065\n",
       "Exc L6b                        25055\n",
       "Inh CUX2 MSR1                  24885\n",
       "Ast CHI3L1                     24252\n",
       "Inh RYR3 TSHZ2                 24230\n",
       "Inh L3-5 SST MAFB              23294\n",
       "Exc L6 CT                      23073\n",
       "Exc L5-6 RORB LINC02196        22343\n",
       "Inh PVALB SULF1                21231\n",
       "Exc L5/6 IT Car3               18371\n",
       "Inh VIP CLSTN2                 17631\n",
       "Exc L5/6 NP                    17247\n",
       "Inh L1-6 LAMP5 CA13            15060\n",
       "Inh PVALB CA8 (Chandelier)     14644\n",
       "Inh VIP ABI3BP                 14448\n",
       "Inh ENOX2 SPHKAP               12396\n",
       "Inh VIP TSHZ2                  12348\n",
       "Inh ALCAM TRPM3                10897\n",
       "Inh PTPRK FAM19A1              10438\n",
       "Inh SORCS1 TTN                  9610\n",
       "Inh LAMP5 RELN                  8813\n",
       "Inh VIP THSD7B                  8211\n",
       "Inh FBN2 EPB41L4A               6769\n",
       "End                             6514\n",
       "Per                             5308\n",
       "Inh L5-6 PVALB STON2            5286\n",
       "Mic TPT1                        5261\n",
       "Inh L1 PAX6 CA4                 5070\n",
       "Inh GPC5 RIT2                   4788\n",
       "Inh L5-6 SST TH                 4502\n",
       "Inh SGCD PDE3A                  4030\n",
       "Fib FLRT2                       3728\n",
       "Exc L5 ET                       3454\n",
       "T cells                         2534\n",
       "CAMs                            2167\n",
       "Inh L1-2 PAX6 SCGN              1617\n",
       "SMC                             1605\n",
       "Inh L6 SST NPY                  1404\n",
       "Mic MKI67                        866\n",
       "Fib SLC4A4                       819\n",
       "Name: count, dtype: int64"
      ]
     },
     "execution_count": 4,
     "metadata": {},
     "output_type": "execute_result"
    }
   ],
   "source": [
    "adata.obs.cell_type_high_resolution.value_counts()"
   ]
  },
  {
   "cell_type": "code",
   "execution_count": null,
   "id": "78c49934-0171-401b-bc72-1c2ed6c54b3a",
   "metadata": {},
   "outputs": [],
   "source": []
  }
 ],
 "metadata": {
  "kernelspec": {
   "display_name": "scanpy_dask",
   "language": "python",
   "name": "scanpy_dask"
  },
  "language_info": {
   "codemirror_mode": {
    "name": "ipython",
    "version": 3
   },
   "file_extension": ".py",
   "mimetype": "text/x-python",
   "name": "python",
   "nbconvert_exporter": "python",
   "pygments_lexer": "ipython3",
   "version": "3.13.1"
  }
 },
 "nbformat": 4,
 "nbformat_minor": 5
}
