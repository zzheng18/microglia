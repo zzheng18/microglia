{
 "cells": [
  {
   "cell_type": "code",
   "execution_count": 3,
   "id": "e24d2838-5c56-431a-a5b9-95d779a3fc9e",
   "metadata": {},
   "outputs": [],
   "source": [
    "# https://molecularneurodegeneration.biomedcentral.com/articles/10.1186/s13024-022-00589-x\n",
    "# https://www.ncbi.nlm.nih.gov/geo/query/acc.cgi?acc=GSE175546"
   ]
  },
  {
   "cell_type": "code",
   "execution_count": 1,
   "id": "b22b4bce-3725-4f97-9d62-7e621b44b1c1",
   "metadata": {},
   "outputs": [],
   "source": [
    "import scanpy as sc\n",
    "import os\n",
    "import glob"
   ]
  },
  {
   "cell_type": "code",
   "execution_count": 2,
   "id": "a097f133-36c7-4406-9ca1-652540e5e626",
   "metadata": {},
   "outputs": [],
   "source": [
    "data_dir = \"/lustre/groups/ml01/projects/2024_microglia_zihe.zheng/mouse_abtau\"\n",
    "h5_files = sorted(glob.glob(os.path.join(data_dir, \"*.h5\")))"
   ]
  },
  {
   "cell_type": "code",
   "execution_count": 4,
   "id": "478df6be-2fb3-4878-b47f-ce8078ea3df0",
   "metadata": {},
   "outputs": [
    {
     "data": {
      "text/plain": [
       "['/lustre/groups/ml01/projects/2024_microglia_zihe.zheng/mouse_abtau/GSM5341444_TL1_raw_feature_bc_matrix.h5',\n",
       " '/lustre/groups/ml01/projects/2024_microglia_zihe.zheng/mouse_abtau/GSM5341445_TL2_raw_feature_bc_matrix.h5',\n",
       " '/lustre/groups/ml01/projects/2024_microglia_zihe.zheng/mouse_abtau/GSM5341446_TL3_raw_feature_bc_matrix.h5',\n",
       " '/lustre/groups/ml01/projects/2024_microglia_zihe.zheng/mouse_abtau/GSM5341447_TL4_raw_feature_bc_matrix.h5',\n",
       " '/lustre/groups/ml01/projects/2024_microglia_zihe.zheng/mouse_abtau/GSM5341448_TL9_raw_feature_bc_matrix.h5',\n",
       " '/lustre/groups/ml01/projects/2024_microglia_zihe.zheng/mouse_abtau/GSM5341449_TL10_raw_feature_bc_matrix.h5',\n",
       " '/lustre/groups/ml01/projects/2024_microglia_zihe.zheng/mouse_abtau/GSM5341450_TL11_raw_feature_bc_matrix.h5',\n",
       " '/lustre/groups/ml01/projects/2024_microglia_zihe.zheng/mouse_abtau/GSM5341451_TL12_raw_feature_bc_matrix.h5',\n",
       " '/lustre/groups/ml01/projects/2024_microglia_zihe.zheng/mouse_abtau/GSM5341452_TL13_raw_feature_bc_matrix.h5',\n",
       " '/lustre/groups/ml01/projects/2024_microglia_zihe.zheng/mouse_abtau/GSM5341453_TL14_raw_feature_bc_matrix.h5',\n",
       " '/lustre/groups/ml01/projects/2024_microglia_zihe.zheng/mouse_abtau/GSM5341454_TL15_raw_feature_bc_matrix.h5',\n",
       " '/lustre/groups/ml01/projects/2024_microglia_zihe.zheng/mouse_abtau/GSM5341455_TL16_raw_feature_bc_matrix.h5']"
      ]
     },
     "execution_count": 4,
     "metadata": {},
     "output_type": "execute_result"
    }
   ],
   "source": [
    "h5_files"
   ]
  },
  {
   "cell_type": "code",
   "execution_count": 5,
   "id": "5c695907-1b6b-4cd5-a0ce-08c20dd7bdaa",
   "metadata": {},
   "outputs": [],
   "source": [
    "tl_mapping = {\n",
    "    'TL1':  {'age': '12 months', 'area': 'Cortex', 'condition': 'WT',          'sex': 'Female'},\n",
    "    'TL2':  {'age': '12 months', 'area': 'Cortex', 'condition': 'Tau4RΔK',     'sex': 'Female'},\n",
    "    'TL3':  {'age': '12 months', 'area': 'Cortex', 'condition': 'APP;PS1',     'sex': 'Female'},\n",
    "    'TL4':  {'age': '12 months', 'area': 'Cortex', 'condition': 'Tau4RΔK-AP',  'sex': 'Female'},\n",
    "    'TL9':  {'age': '12 months', 'area': 'Cortex', 'condition': 'WT',          'sex': 'Female'},\n",
    "    'TL10': {'age': '12 months', 'area': 'Cortex', 'condition': 'Tau4RΔK',     'sex': 'Female'},\n",
    "    'TL11': {'age': '12 months', 'area': 'Cortex', 'condition': 'APP;PS1',     'sex': 'Female'},\n",
    "    'TL12': {'age': '12 months', 'area': 'Cortex', 'condition': 'Tau4RΔK-AP',  'sex': 'Female'},\n",
    "    'TL13': {'age': '6 months',  'area': 'Cortex', 'condition': 'WT',          'sex': 'Female'},\n",
    "    'TL14': {'age': '6 months',  'area': 'Cortex', 'condition': 'Tau4RΔK',     'sex': 'Female'},\n",
    "    'TL15': {'age': '6 months',  'area': 'Cortex', 'condition': 'APP;PS1',     'sex': 'Female'},\n",
    "    'TL16': {'age': '6 months',  'area': 'Cortex', 'condition': 'Tau4RΔK-AP',  'sex': 'Female'},\n",
    "}"
   ]
  },
  {
   "cell_type": "code",
   "execution_count": 13,
   "id": "0c325207-9084-4cb4-a77a-e2150520e9ff",
   "metadata": {},
   "outputs": [
    {
     "data": {
      "text/plain": [
       "'TL16'"
      ]
     },
     "execution_count": 13,
     "metadata": {},
     "output_type": "execute_result"
    }
   ],
   "source": [
    "os.path.basename(file).split('_')[1].replace('.h5', '')"
   ]
  },
  {
   "cell_type": "code",
   "execution_count": 14,
   "id": "ef37a201-727f-4498-b265-27b2f3632ea9",
   "metadata": {
    "collapsed": true,
    "jupyter": {
     "outputs_hidden": true
    },
    "scrolled": true
   },
   "outputs": [
    {
     "name": "stderr",
     "output_type": "stream",
     "text": [
      "/home/icb/zihe.zheng/miniconda3/envs/scanpy_dask/lib/python3.13/site-packages/anndata/_core/anndata.py:1758: UserWarning: Variable names are not unique. To make them unique, call `.var_names_make_unique`.\n",
      "  utils.warn_names_duplicates(\"var\")\n",
      "/home/icb/zihe.zheng/miniconda3/envs/scanpy_dask/lib/python3.13/site-packages/anndata/_core/anndata.py:1758: UserWarning: Variable names are not unique. To make them unique, call `.var_names_make_unique`.\n",
      "  utils.warn_names_duplicates(\"var\")\n",
      "/home/icb/zihe.zheng/miniconda3/envs/scanpy_dask/lib/python3.13/site-packages/anndata/_core/anndata.py:1758: UserWarning: Variable names are not unique. To make them unique, call `.var_names_make_unique`.\n",
      "  utils.warn_names_duplicates(\"var\")\n",
      "/home/icb/zihe.zheng/miniconda3/envs/scanpy_dask/lib/python3.13/site-packages/anndata/_core/anndata.py:1758: UserWarning: Variable names are not unique. To make them unique, call `.var_names_make_unique`.\n",
      "  utils.warn_names_duplicates(\"var\")\n",
      "/home/icb/zihe.zheng/miniconda3/envs/scanpy_dask/lib/python3.13/site-packages/anndata/_core/anndata.py:1758: UserWarning: Variable names are not unique. To make them unique, call `.var_names_make_unique`.\n",
      "  utils.warn_names_duplicates(\"var\")\n",
      "/home/icb/zihe.zheng/miniconda3/envs/scanpy_dask/lib/python3.13/site-packages/anndata/_core/anndata.py:1758: UserWarning: Variable names are not unique. To make them unique, call `.var_names_make_unique`.\n",
      "  utils.warn_names_duplicates(\"var\")\n",
      "/home/icb/zihe.zheng/miniconda3/envs/scanpy_dask/lib/python3.13/site-packages/anndata/_core/anndata.py:1758: UserWarning: Variable names are not unique. To make them unique, call `.var_names_make_unique`.\n",
      "  utils.warn_names_duplicates(\"var\")\n",
      "/home/icb/zihe.zheng/miniconda3/envs/scanpy_dask/lib/python3.13/site-packages/anndata/_core/anndata.py:1758: UserWarning: Variable names are not unique. To make them unique, call `.var_names_make_unique`.\n",
      "  utils.warn_names_duplicates(\"var\")\n",
      "/home/icb/zihe.zheng/miniconda3/envs/scanpy_dask/lib/python3.13/site-packages/anndata/_core/anndata.py:1758: UserWarning: Variable names are not unique. To make them unique, call `.var_names_make_unique`.\n",
      "  utils.warn_names_duplicates(\"var\")\n",
      "/home/icb/zihe.zheng/miniconda3/envs/scanpy_dask/lib/python3.13/site-packages/anndata/_core/anndata.py:1758: UserWarning: Variable names are not unique. To make them unique, call `.var_names_make_unique`.\n",
      "  utils.warn_names_duplicates(\"var\")\n",
      "/home/icb/zihe.zheng/miniconda3/envs/scanpy_dask/lib/python3.13/site-packages/anndata/_core/anndata.py:1758: UserWarning: Variable names are not unique. To make them unique, call `.var_names_make_unique`.\n",
      "  utils.warn_names_duplicates(\"var\")\n",
      "/home/icb/zihe.zheng/miniconda3/envs/scanpy_dask/lib/python3.13/site-packages/anndata/_core/anndata.py:1758: UserWarning: Variable names are not unique. To make them unique, call `.var_names_make_unique`.\n",
      "  utils.warn_names_duplicates(\"var\")\n",
      "/home/icb/zihe.zheng/miniconda3/envs/scanpy_dask/lib/python3.13/site-packages/anndata/_core/anndata.py:1758: UserWarning: Variable names are not unique. To make them unique, call `.var_names_make_unique`.\n",
      "  utils.warn_names_duplicates(\"var\")\n",
      "/home/icb/zihe.zheng/miniconda3/envs/scanpy_dask/lib/python3.13/site-packages/anndata/_core/anndata.py:1758: UserWarning: Variable names are not unique. To make them unique, call `.var_names_make_unique`.\n",
      "  utils.warn_names_duplicates(\"var\")\n",
      "/home/icb/zihe.zheng/miniconda3/envs/scanpy_dask/lib/python3.13/site-packages/anndata/_core/anndata.py:1758: UserWarning: Variable names are not unique. To make them unique, call `.var_names_make_unique`.\n",
      "  utils.warn_names_duplicates(\"var\")\n",
      "/home/icb/zihe.zheng/miniconda3/envs/scanpy_dask/lib/python3.13/site-packages/anndata/_core/anndata.py:1758: UserWarning: Variable names are not unique. To make them unique, call `.var_names_make_unique`.\n",
      "  utils.warn_names_duplicates(\"var\")\n",
      "/home/icb/zihe.zheng/miniconda3/envs/scanpy_dask/lib/python3.13/site-packages/anndata/_core/anndata.py:1758: UserWarning: Variable names are not unique. To make them unique, call `.var_names_make_unique`.\n",
      "  utils.warn_names_duplicates(\"var\")\n",
      "/home/icb/zihe.zheng/miniconda3/envs/scanpy_dask/lib/python3.13/site-packages/anndata/_core/anndata.py:1758: UserWarning: Variable names are not unique. To make them unique, call `.var_names_make_unique`.\n",
      "  utils.warn_names_duplicates(\"var\")\n",
      "/home/icb/zihe.zheng/miniconda3/envs/scanpy_dask/lib/python3.13/site-packages/anndata/_core/anndata.py:1758: UserWarning: Variable names are not unique. To make them unique, call `.var_names_make_unique`.\n",
      "  utils.warn_names_duplicates(\"var\")\n",
      "/home/icb/zihe.zheng/miniconda3/envs/scanpy_dask/lib/python3.13/site-packages/anndata/_core/anndata.py:1758: UserWarning: Variable names are not unique. To make them unique, call `.var_names_make_unique`.\n",
      "  utils.warn_names_duplicates(\"var\")\n",
      "/home/icb/zihe.zheng/miniconda3/envs/scanpy_dask/lib/python3.13/site-packages/anndata/_core/anndata.py:1758: UserWarning: Variable names are not unique. To make them unique, call `.var_names_make_unique`.\n",
      "  utils.warn_names_duplicates(\"var\")\n",
      "/home/icb/zihe.zheng/miniconda3/envs/scanpy_dask/lib/python3.13/site-packages/anndata/_core/anndata.py:1758: UserWarning: Variable names are not unique. To make them unique, call `.var_names_make_unique`.\n",
      "  utils.warn_names_duplicates(\"var\")\n",
      "/home/icb/zihe.zheng/miniconda3/envs/scanpy_dask/lib/python3.13/site-packages/anndata/_core/anndata.py:1758: UserWarning: Variable names are not unique. To make them unique, call `.var_names_make_unique`.\n",
      "  utils.warn_names_duplicates(\"var\")\n",
      "/home/icb/zihe.zheng/miniconda3/envs/scanpy_dask/lib/python3.13/site-packages/anndata/_core/anndata.py:1758: UserWarning: Variable names are not unique. To make them unique, call `.var_names_make_unique`.\n",
      "  utils.warn_names_duplicates(\"var\")\n"
     ]
    }
   ],
   "source": [
    "adatas = []\n",
    "\n",
    "for file in h5_files:\n",
    "    tl_id = os.path.basename(file).split('_')[1].replace('.h5', '')\n",
    "\n",
    "    # Load data\n",
    "    adata = sc.read_10x_h5(file)\n",
    "    adata.var_names_make_unique()\n",
    "    adata.obs['sample'] = tl_id\n",
    "\n",
    "    # Add metadata\n",
    "    meta = tl_mapping.get(tl_id, {})\n",
    "    for key in ['age', 'area', 'condition', 'sex']:\n",
    "        adata.obs[key] = meta.get(key, 'unknown')\n",
    "\n",
    "    adatas.append(adata)"
   ]
  },
  {
   "cell_type": "code",
   "execution_count": 16,
   "id": "6122b957-666a-4092-a68a-02729b77f6f4",
   "metadata": {
    "scrolled": true
   },
   "outputs": [
    {
     "name": "stderr",
     "output_type": "stream",
     "text": [
      "/tmp/ipykernel_1133905/2940053776.py:4: FutureWarning: Series.__getitem__ treating keys as positions is deprecated. In a future version, integer keys will always be treated as labels (consistent with DataFrame behavior). To access a value by position, use `ser.iloc[pos]`\n",
      "  batch_categories=[adata.obs['sample'][0] for adata in adatas]\n",
      "/tmp/ipykernel_1133905/2940053776.py:1: FutureWarning: Use anndata.concat instead of AnnData.concatenate, AnnData.concatenate is deprecated and will be removed in the future. See the tutorial for concat at: https://anndata.readthedocs.io/en/latest/concatenation.html\n",
      "  combined_adata = adatas[0].concatenate(\n"
     ]
    }
   ],
   "source": [
    "combined_adata = adatas[0].concatenate(\n",
    "    adatas[1:], \n",
    "    batch_key='batch', \n",
    "    batch_categories=[adata.obs['sample'][0] for adata in adatas]\n",
    ")\n",
    "\n",
    "combined_adata.write(\"/lustre/groups/ml01/projects/2024_microglia_zihe.zheng/mouse_abtau/combined_data.h5ad\")"
   ]
  },
  {
   "cell_type": "code",
   "execution_count": 18,
   "id": "0245eb89-0f1f-4376-a0fd-20bb0aba967d",
   "metadata": {},
   "outputs": [
    {
     "data": {
      "text/html": [
       "<div>\n",
       "<style scoped>\n",
       "    .dataframe tbody tr th:only-of-type {\n",
       "        vertical-align: middle;\n",
       "    }\n",
       "\n",
       "    .dataframe tbody tr th {\n",
       "        vertical-align: top;\n",
       "    }\n",
       "\n",
       "    .dataframe thead th {\n",
       "        text-align: right;\n",
       "    }\n",
       "</style>\n",
       "<table border=\"1\" class=\"dataframe\">\n",
       "  <thead>\n",
       "    <tr style=\"text-align: right;\">\n",
       "      <th></th>\n",
       "      <th>sample</th>\n",
       "      <th>age</th>\n",
       "      <th>area</th>\n",
       "      <th>condition</th>\n",
       "      <th>sex</th>\n",
       "      <th>batch</th>\n",
       "    </tr>\n",
       "  </thead>\n",
       "  <tbody>\n",
       "    <tr>\n",
       "      <th>AAACCCAAGAAACACT-1-TL1</th>\n",
       "      <td>TL1</td>\n",
       "      <td>12 months</td>\n",
       "      <td>Cortex</td>\n",
       "      <td>WT</td>\n",
       "      <td>Female</td>\n",
       "      <td>TL1</td>\n",
       "    </tr>\n",
       "    <tr>\n",
       "      <th>AAACCCAAGAAACCAT-1-TL1</th>\n",
       "      <td>TL1</td>\n",
       "      <td>12 months</td>\n",
       "      <td>Cortex</td>\n",
       "      <td>WT</td>\n",
       "      <td>Female</td>\n",
       "      <td>TL1</td>\n",
       "    </tr>\n",
       "    <tr>\n",
       "      <th>AAACCCAAGAAACCCA-1-TL1</th>\n",
       "      <td>TL1</td>\n",
       "      <td>12 months</td>\n",
       "      <td>Cortex</td>\n",
       "      <td>WT</td>\n",
       "      <td>Female</td>\n",
       "      <td>TL1</td>\n",
       "    </tr>\n",
       "    <tr>\n",
       "      <th>AAACCCAAGAAACCCG-1-TL1</th>\n",
       "      <td>TL1</td>\n",
       "      <td>12 months</td>\n",
       "      <td>Cortex</td>\n",
       "      <td>WT</td>\n",
       "      <td>Female</td>\n",
       "      <td>TL1</td>\n",
       "    </tr>\n",
       "    <tr>\n",
       "      <th>AAACCCAAGAAACCTG-1-TL1</th>\n",
       "      <td>TL1</td>\n",
       "      <td>12 months</td>\n",
       "      <td>Cortex</td>\n",
       "      <td>WT</td>\n",
       "      <td>Female</td>\n",
       "      <td>TL1</td>\n",
       "    </tr>\n",
       "    <tr>\n",
       "      <th>...</th>\n",
       "      <td>...</td>\n",
       "      <td>...</td>\n",
       "      <td>...</td>\n",
       "      <td>...</td>\n",
       "      <td>...</td>\n",
       "      <td>...</td>\n",
       "    </tr>\n",
       "    <tr>\n",
       "      <th>TTTGTTGTCTTTGCTA-1-TL16</th>\n",
       "      <td>TL16</td>\n",
       "      <td>6 months</td>\n",
       "      <td>Cortex</td>\n",
       "      <td>Tau4RΔK-AP</td>\n",
       "      <td>Female</td>\n",
       "      <td>TL16</td>\n",
       "    </tr>\n",
       "    <tr>\n",
       "      <th>TTTGTTGTCTTTGCTG-1-TL16</th>\n",
       "      <td>TL16</td>\n",
       "      <td>6 months</td>\n",
       "      <td>Cortex</td>\n",
       "      <td>Tau4RΔK-AP</td>\n",
       "      <td>Female</td>\n",
       "      <td>TL16</td>\n",
       "    </tr>\n",
       "    <tr>\n",
       "      <th>TTTGTTGTCTTTGGAG-1-TL16</th>\n",
       "      <td>TL16</td>\n",
       "      <td>6 months</td>\n",
       "      <td>Cortex</td>\n",
       "      <td>Tau4RΔK-AP</td>\n",
       "      <td>Female</td>\n",
       "      <td>TL16</td>\n",
       "    </tr>\n",
       "    <tr>\n",
       "      <th>TTTGTTGTCTTTGGCT-1-TL16</th>\n",
       "      <td>TL16</td>\n",
       "      <td>6 months</td>\n",
       "      <td>Cortex</td>\n",
       "      <td>Tau4RΔK-AP</td>\n",
       "      <td>Female</td>\n",
       "      <td>TL16</td>\n",
       "    </tr>\n",
       "    <tr>\n",
       "      <th>TTTGTTGTCTTTGTCG-1-TL16</th>\n",
       "      <td>TL16</td>\n",
       "      <td>6 months</td>\n",
       "      <td>Cortex</td>\n",
       "      <td>Tau4RΔK-AP</td>\n",
       "      <td>Female</td>\n",
       "      <td>TL16</td>\n",
       "    </tr>\n",
       "  </tbody>\n",
       "</table>\n",
       "<p>81538560 rows × 6 columns</p>\n",
       "</div>"
      ],
      "text/plain": [
       "                        sample        age    area   condition     sex batch\n",
       "AAACCCAAGAAACACT-1-TL1     TL1  12 months  Cortex          WT  Female   TL1\n",
       "AAACCCAAGAAACCAT-1-TL1     TL1  12 months  Cortex          WT  Female   TL1\n",
       "AAACCCAAGAAACCCA-1-TL1     TL1  12 months  Cortex          WT  Female   TL1\n",
       "AAACCCAAGAAACCCG-1-TL1     TL1  12 months  Cortex          WT  Female   TL1\n",
       "AAACCCAAGAAACCTG-1-TL1     TL1  12 months  Cortex          WT  Female   TL1\n",
       "...                        ...        ...     ...         ...     ...   ...\n",
       "TTTGTTGTCTTTGCTA-1-TL16   TL16   6 months  Cortex  Tau4RΔK-AP  Female  TL16\n",
       "TTTGTTGTCTTTGCTG-1-TL16   TL16   6 months  Cortex  Tau4RΔK-AP  Female  TL16\n",
       "TTTGTTGTCTTTGGAG-1-TL16   TL16   6 months  Cortex  Tau4RΔK-AP  Female  TL16\n",
       "TTTGTTGTCTTTGGCT-1-TL16   TL16   6 months  Cortex  Tau4RΔK-AP  Female  TL16\n",
       "TTTGTTGTCTTTGTCG-1-TL16   TL16   6 months  Cortex  Tau4RΔK-AP  Female  TL16\n",
       "\n",
       "[81538560 rows x 6 columns]"
      ]
     },
     "execution_count": 18,
     "metadata": {},
     "output_type": "execute_result"
    }
   ],
   "source": [
    "combined_adata.obs"
   ]
  },
  {
   "cell_type": "code",
   "execution_count": 21,
   "id": "e9b4116d-7d27-44f9-9cbb-0c1ae6a42d3e",
   "metadata": {},
   "outputs": [
    {
     "data": {
      "text/plain": [
       "condition\n",
       "APP;PS1       20384640\n",
       "Tau4RΔK       20384640\n",
       "Tau4RΔK-AP    20384640\n",
       "WT            20384640\n",
       "Name: count, dtype: int64"
      ]
     },
     "execution_count": 21,
     "metadata": {},
     "output_type": "execute_result"
    }
   ],
   "source": [
    "combined_adata.obs.condition.value_counts()"
   ]
  },
  {
   "cell_type": "code",
   "execution_count": null,
   "id": "6d0960e9-02a7-4d81-a127-7dbe1feb2fd2",
   "metadata": {},
   "outputs": [],
   "source": []
  },
  {
   "cell_type": "code",
   "execution_count": 24,
   "id": "b8e21ac4-53d7-4c36-b57d-264525552c1f",
   "metadata": {},
   "outputs": [
    {
     "data": {
      "text/plain": [
       "sample\n",
       "TL1     6794880\n",
       "TL2     6794880\n",
       "TL3     6794880\n",
       "TL4     6794880\n",
       "TL9     6794880\n",
       "TL10    6794880\n",
       "TL11    6794880\n",
       "TL12    6794880\n",
       "TL13    6794880\n",
       "TL14    6794880\n",
       "TL15    6794880\n",
       "TL16    6794880\n",
       "Name: count, dtype: int64"
      ]
     },
     "execution_count": 24,
     "metadata": {},
     "output_type": "execute_result"
    }
   ],
   "source": [
    "combined_adata.obs['sample'].value_counts()"
   ]
  },
  {
   "cell_type": "code",
   "execution_count": 19,
   "id": "9cb0db52-1ef4-4dd4-adf3-67d67e692462",
   "metadata": {},
   "outputs": [
    {
     "data": {
      "text/plain": [
       "array([1., 1., 1., ..., 1., 1., 1.], dtype=float32)"
      ]
     },
     "execution_count": 19,
     "metadata": {},
     "output_type": "execute_result"
    }
   ],
   "source": [
    "combined_adata.X.data"
   ]
  },
  {
   "cell_type": "code",
   "execution_count": 20,
   "id": "741c490a-ea6c-47c2-a613-c8cbc45829c6",
   "metadata": {},
   "outputs": [
    {
     "data": {
      "text/plain": [
       "AnnData object with n_obs × n_vars = 81538560 × 31053\n",
       "    obs: 'sample', 'age', 'area', 'condition', 'sex', 'batch'\n",
       "    var: 'gene_ids', 'feature_types', 'genome'"
      ]
     },
     "execution_count": 20,
     "metadata": {},
     "output_type": "execute_result"
    }
   ],
   "source": [
    "combined_adata"
   ]
  },
  {
   "cell_type": "code",
   "execution_count": null,
   "id": "dfc23b1b-85b0-4782-a1e7-9526fc9dc477",
   "metadata": {},
   "outputs": [],
   "source": []
  }
 ],
 "metadata": {
  "kernelspec": {
   "display_name": "scanpy_dask",
   "language": "python",
   "name": "scanpy_dask"
  },
  "language_info": {
   "codemirror_mode": {
    "name": "ipython",
    "version": 3
   },
   "file_extension": ".py",
   "mimetype": "text/x-python",
   "name": "python",
   "nbconvert_exporter": "python",
   "pygments_lexer": "ipython3",
   "version": "3.13.1"
  }
 },
 "nbformat": 4,
 "nbformat_minor": 5
}
