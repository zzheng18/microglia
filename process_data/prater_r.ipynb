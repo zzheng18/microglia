{
 "cells": [
  {
   "cell_type": "code",
   "execution_count": 1,
   "id": "01e04fc8-ec3e-4103-94fd-130cf43ba089",
   "metadata": {},
   "outputs": [
    {
     "name": "stderr",
     "output_type": "stream",
     "text": [
      "Attaching SeuratObject\n",
      "\n",
      "Attaching sp\n",
      "\n",
      "Registered S3 method overwritten by 'SeuratDisk':\n",
      "  method            from  \n",
      "  as.sparse.H5Group Seurat\n",
      "\n"
     ]
    }
   ],
   "source": [
    "library(Seurat)\n",
    "library(SeuratDisk)"
   ]
  },
  {
   "cell_type": "markdown",
   "id": "0e14a96d-7e5e-4094-ba85-33578489c110",
   "metadata": {
    "jp-MarkdownHeadingCollapsed": true
   },
   "source": [
    "## all celltypes"
   ]
  },
  {
   "cell_type": "code",
   "execution_count": 2,
   "id": "859a9869-6923-466e-9d3e-e9ee90f34955",
   "metadata": {},
   "outputs": [],
   "source": [
    "load(\"/lustre/groups/ml01/projects/2024_microglia_zihe.zheng/prater/Prater_Green_PU1_All_Celltypes_17clusters_DeID.rdata\")"
   ]
  },
  {
   "cell_type": "code",
   "execution_count": 3,
   "id": "77793ffa-a026-4ea4-afc6-ffa0d46186e1",
   "metadata": {},
   "outputs": [
    {
     "data": {
      "text/html": [
       "<style>\n",
       ".list-inline {list-style: none; margin:0; padding: 0}\n",
       ".list-inline>li {display: inline-block}\n",
       ".list-inline>li:not(:last-child)::after {content: \"\\00b7\"; padding: 0 .5ex}\n",
       "</style>\n",
       "<ol class=list-inline><li>'assay'</li><li>'cell_type'</li><li>'chose_resolution'</li><li>'datapath'</li><li>'find_variable'</li><li>'Ifeatures'</li><li>'nfeatures'</li><li>'normalize'</li><li>'numsubs'</li><li>'plot_clusters'</li><li>'projdir'</li><li>'res_name'</li><li>'rfiles_path'</li><li>'sample_dir'</li><li>'sample_type'</li><li>'samples'</li><li>'ss_data_norm'</li></ol>\n"
      ],
      "text/latex": [
       "\\begin{enumerate*}\n",
       "\\item 'assay'\n",
       "\\item 'cell\\_type'\n",
       "\\item 'chose\\_resolution'\n",
       "\\item 'datapath'\n",
       "\\item 'find\\_variable'\n",
       "\\item 'Ifeatures'\n",
       "\\item 'nfeatures'\n",
       "\\item 'normalize'\n",
       "\\item 'numsubs'\n",
       "\\item 'plot\\_clusters'\n",
       "\\item 'projdir'\n",
       "\\item 'res\\_name'\n",
       "\\item 'rfiles\\_path'\n",
       "\\item 'sample\\_dir'\n",
       "\\item 'sample\\_type'\n",
       "\\item 'samples'\n",
       "\\item 'ss\\_data\\_norm'\n",
       "\\end{enumerate*}\n"
      ],
      "text/markdown": [
       "1. 'assay'\n",
       "2. 'cell_type'\n",
       "3. 'chose_resolution'\n",
       "4. 'datapath'\n",
       "5. 'find_variable'\n",
       "6. 'Ifeatures'\n",
       "7. 'nfeatures'\n",
       "8. 'normalize'\n",
       "9. 'numsubs'\n",
       "10. 'plot_clusters'\n",
       "11. 'projdir'\n",
       "12. 'res_name'\n",
       "13. 'rfiles_path'\n",
       "14. 'sample_dir'\n",
       "15. 'sample_type'\n",
       "16. 'samples'\n",
       "17. 'ss_data_norm'\n",
       "\n",
       "\n"
      ],
      "text/plain": [
       " [1] \"assay\"            \"cell_type\"        \"chose_resolution\" \"datapath\"        \n",
       " [5] \"find_variable\"    \"Ifeatures\"        \"nfeatures\"        \"normalize\"       \n",
       " [9] \"numsubs\"          \"plot_clusters\"    \"projdir\"          \"res_name\"        \n",
       "[13] \"rfiles_path\"      \"sample_dir\"       \"sample_type\"      \"samples\"         \n",
       "[17] \"ss_data_norm\"    "
      ]
     },
     "metadata": {},
     "output_type": "display_data"
    }
   ],
   "source": [
    "ls()"
   ]
  },
  {
   "cell_type": "code",
   "execution_count": 4,
   "id": "5cb5433f-6341-4ad6-af90-7d7c0fbe8aca",
   "metadata": {},
   "outputs": [
    {
     "data": {
      "text/html": [
       "'nuclei'"
      ],
      "text/latex": [
       "'nuclei'"
      ],
      "text/markdown": [
       "'nuclei'"
      ],
      "text/plain": [
       "[1] \"nuclei\""
      ]
     },
     "metadata": {},
     "output_type": "display_data"
    }
   ],
   "source": [
    "cell_type"
   ]
  },
  {
   "cell_type": "code",
   "execution_count": 5,
   "id": "30ea9006-cb8d-4cbd-82dc-394b91f18ccf",
   "metadata": {},
   "outputs": [
    {
     "data": {
      "text/plain": [
       "An object of class Seurat \n",
       "35706 features across 190970 samples within 2 assays \n",
       "Active assay: integrated (5000 features, 5000 variable features)\n",
       " 1 other assay present: RNA"
      ]
     },
     "metadata": {},
     "output_type": "display_data"
    }
   ],
   "source": [
    "ss_data_norm"
   ]
  },
  {
   "cell_type": "code",
   "execution_count": 6,
   "id": "2a78638f-ee3c-4366-bd3b-83aa06c44a47",
   "metadata": {},
   "outputs": [],
   "source": [
    "DefaultAssay(ss_data_norm) <- \"RNA\""
   ]
  },
  {
   "cell_type": "code",
   "execution_count": 8,
   "id": "4474cc0e-a40e-46e2-8104-8f4bae50f843",
   "metadata": {},
   "outputs": [
    {
     "name": "stderr",
     "output_type": "stream",
     "text": [
      "Creating h5Seurat file for version 3.1.5.9900\n",
      "\n",
      "Adding counts for RNA\n",
      "\n",
      "Adding data for RNA\n",
      "\n",
      "No variable features found for RNA\n",
      "\n",
      "No feature-level metadata found for RNA\n",
      "\n",
      "Adding data for integrated\n",
      "\n",
      "Adding scale.data for integrated\n",
      "\n",
      "Adding variable features for integrated\n",
      "\n",
      "No feature-level metadata found for integrated\n",
      "\n"
     ]
    }
   ],
   "source": [
    "SaveH5Seurat(ss_data_norm, filename = \"/lustre/groups/ml01/projects/2024_microglia_zihe.zheng/prater/Prater_Green_PU1_All_Celltypes_17clusters_DeID.h5Seurat\")"
   ]
  },
  {
   "cell_type": "code",
   "execution_count": 9,
   "id": "7bd66131-82e5-46aa-9a99-bc9f67522bdf",
   "metadata": {},
   "outputs": [
    {
     "name": "stderr",
     "output_type": "stream",
     "text": [
      "Validating h5Seurat file\n",
      "\n",
      "Adding data from RNA as X\n",
      "\n",
      "Adding counts from RNA as raw\n",
      "\n",
      "Transfering meta.data to obs\n",
      "\n"
     ]
    }
   ],
   "source": [
    "Convert(\"/lustre/groups/ml01/projects/2024_microglia_zihe.zheng/prater/Prater_Green_PU1_All_Celltypes_17clusters_DeID.h5Seurat\", dest = \"h5ad\")"
   ]
  },
  {
   "cell_type": "markdown",
   "id": "36edee51-7f6d-435f-83ab-25af5cb16727",
   "metadata": {},
   "source": [
    "## microglia"
   ]
  },
  {
   "cell_type": "code",
   "execution_count": 10,
   "id": "583beaac-a38b-4f6d-bf44-5247342f124d",
   "metadata": {},
   "outputs": [],
   "source": [
    "load(\"/lustre/groups/ml01/projects/2024_microglia_zihe.zheng/prater/Prater_Green_PU1_MGsubset_10clusters_DeID.rdata\")"
   ]
  },
  {
   "cell_type": "code",
   "execution_count": 11,
   "id": "7e513f12-ce70-479f-82dd-2bc2f7e869ac",
   "metadata": {},
   "outputs": [
    {
     "data": {
      "text/html": [
       "<style>\n",
       ".list-inline {list-style: none; margin:0; padding: 0}\n",
       ".list-inline>li {display: inline-block}\n",
       ".list-inline>li:not(:last-child)::after {content: \"\\00b7\"; padding: 0 .5ex}\n",
       "</style>\n",
       "<ol class=list-inline><li>'assay'</li><li>'cell_type'</li><li>'change_path'</li><li>'chose_resolution'</li><li>'datapath'</li><li>'find_variable'</li><li>'ID'</li><li>'Ifeatures'</li><li>'nfeatures'</li><li>'normalize'</li><li>'nPCs'</li><li>'numsubs'</li><li>'plot_clusters'</li><li>'projdir'</li><li>'red'</li><li>'res_name'</li><li>'rfiles_path'</li><li>'sample_dir'</li><li>'sample_type'</li><li>'samples'</li><li>'ss_data_norm'</li></ol>\n"
      ],
      "text/latex": [
       "\\begin{enumerate*}\n",
       "\\item 'assay'\n",
       "\\item 'cell\\_type'\n",
       "\\item 'change\\_path'\n",
       "\\item 'chose\\_resolution'\n",
       "\\item 'datapath'\n",
       "\\item 'find\\_variable'\n",
       "\\item 'ID'\n",
       "\\item 'Ifeatures'\n",
       "\\item 'nfeatures'\n",
       "\\item 'normalize'\n",
       "\\item 'nPCs'\n",
       "\\item 'numsubs'\n",
       "\\item 'plot\\_clusters'\n",
       "\\item 'projdir'\n",
       "\\item 'red'\n",
       "\\item 'res\\_name'\n",
       "\\item 'rfiles\\_path'\n",
       "\\item 'sample\\_dir'\n",
       "\\item 'sample\\_type'\n",
       "\\item 'samples'\n",
       "\\item 'ss\\_data\\_norm'\n",
       "\\end{enumerate*}\n"
      ],
      "text/markdown": [
       "1. 'assay'\n",
       "2. 'cell_type'\n",
       "3. 'change_path'\n",
       "4. 'chose_resolution'\n",
       "5. 'datapath'\n",
       "6. 'find_variable'\n",
       "7. 'ID'\n",
       "8. 'Ifeatures'\n",
       "9. 'nfeatures'\n",
       "10. 'normalize'\n",
       "11. 'nPCs'\n",
       "12. 'numsubs'\n",
       "13. 'plot_clusters'\n",
       "14. 'projdir'\n",
       "15. 'red'\n",
       "16. 'res_name'\n",
       "17. 'rfiles_path'\n",
       "18. 'sample_dir'\n",
       "19. 'sample_type'\n",
       "20. 'samples'\n",
       "21. 'ss_data_norm'\n",
       "\n",
       "\n"
      ],
      "text/plain": [
       " [1] \"assay\"            \"cell_type\"        \"change_path\"      \"chose_resolution\"\n",
       " [5] \"datapath\"         \"find_variable\"    \"ID\"               \"Ifeatures\"       \n",
       " [9] \"nfeatures\"        \"normalize\"        \"nPCs\"             \"numsubs\"         \n",
       "[13] \"plot_clusters\"    \"projdir\"          \"red\"              \"res_name\"        \n",
       "[17] \"rfiles_path\"      \"sample_dir\"       \"sample_type\"      \"samples\"         \n",
       "[21] \"ss_data_norm\"    "
      ]
     },
     "metadata": {},
     "output_type": "display_data"
    }
   ],
   "source": [
    "ls()"
   ]
  },
  {
   "cell_type": "code",
   "execution_count": 12,
   "id": "97f58d88-fef3-42db-9f1b-7f64ab52bb93",
   "metadata": {},
   "outputs": [],
   "source": [
    "DefaultAssay(ss_data_norm) <- \"RNA\""
   ]
  },
  {
   "cell_type": "code",
   "execution_count": 13,
   "id": "61653c26-6c4e-4353-9f9b-f2a0ad6c3717",
   "metadata": {},
   "outputs": [
    {
     "name": "stderr",
     "output_type": "stream",
     "text": [
      "Creating h5Seurat file for version 3.1.5.9900\n",
      "\n",
      "Adding counts for RNA\n",
      "\n",
      "Adding data for RNA\n",
      "\n",
      "No variable features found for RNA\n",
      "\n",
      "No feature-level metadata found for RNA\n",
      "\n",
      "Adding data for integrated\n",
      "\n",
      "Adding scale.data for integrated\n",
      "\n",
      "Adding variable features for integrated\n",
      "\n",
      "No feature-level metadata found for integrated\n",
      "\n"
     ]
    }
   ],
   "source": [
    "SaveH5Seurat(ss_data_norm, filename = \"/lustre/groups/ml01/projects/2024_microglia_zihe.zheng/prater/Prater_Green_PU1_MGsubset_10clusters_DeID.h5Seurat\")"
   ]
  },
  {
   "cell_type": "code",
   "execution_count": 14,
   "id": "6b1bdbbc-4d54-4c51-a65e-ac1eb36222f8",
   "metadata": {},
   "outputs": [
    {
     "name": "stderr",
     "output_type": "stream",
     "text": [
      "Validating h5Seurat file\n",
      "\n",
      "Adding data from RNA as X\n",
      "\n",
      "Adding counts from RNA as raw\n",
      "\n",
      "Transfering meta.data to obs\n",
      "\n"
     ]
    }
   ],
   "source": [
    "Convert(\"/lustre/groups/ml01/projects/2024_microglia_zihe.zheng/prater/Prater_Green_PU1_MGsubset_10clusters_DeID.h5Seurat\", dest = \"h5ad\")"
   ]
  },
  {
   "cell_type": "code",
   "execution_count": null,
   "id": "b9244688-a3a4-4c21-b2fb-f29afdfc484f",
   "metadata": {},
   "outputs": [],
   "source": []
  },
  {
   "cell_type": "code",
   "execution_count": 27,
   "id": "b2dbaeee-1871-42f7-8127-81924dfb85ba",
   "metadata": {},
   "outputs": [
    {
     "data": {
      "text/plain": [
       "An object of class Seurat \n",
       "35706 features across 127367 samples within 2 assays \n",
       "Active assay: RNA (30706 features, 0 variable features)\n",
       " 1 other assay present: integrated"
      ]
     },
     "metadata": {},
     "output_type": "display_data"
    }
   ],
   "source": [
    "ss_data_norm"
   ]
  },
  {
   "cell_type": "code",
   "execution_count": null,
   "id": "6eb1611b-a837-4638-b62c-7e14166851f4",
   "metadata": {},
   "outputs": [],
   "source": []
  }
 ],
 "metadata": {
  "kernelspec": {
   "display_name": "rseuratdisk_backup",
   "language": "R",
   "name": "rseuratdisk_backup"
  },
  "language_info": {
   "codemirror_mode": "r",
   "file_extension": ".r",
   "mimetype": "text/x-r-source",
   "name": "R",
   "pygments_lexer": "r",
   "version": "4.0.5"
  }
 },
 "nbformat": 4,
 "nbformat_minor": 5
}
