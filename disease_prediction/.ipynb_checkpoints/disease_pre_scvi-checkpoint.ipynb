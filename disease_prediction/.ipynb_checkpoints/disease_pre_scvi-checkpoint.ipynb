{
 "cells": [
  {
   "cell_type": "code",
   "execution_count": 2,
   "id": "d3ab1f22-f3f8-4c17-b409-6b7ced39dee8",
   "metadata": {},
   "outputs": [
    {
     "name": "stderr",
     "output_type": "stream",
     "text": [
      "[rank: 0] Global seed set to 0\n",
      "/home/icb/zihe.zheng/miniconda3/envs/multimil/lib/python3.10/site-packages/tqdm/auto.py:21: TqdmWarning: IProgress not found. Please update jupyter and ipywidgets. See https://ipywidgets.readthedocs.io/en/stable/user_install.html\n",
      "  from .autonotebook import tqdm as notebook_tqdm\n",
      "/home/icb/zihe.zheng/miniconda3/envs/multimil/lib/python3.10/site-packages/scanpy/_settings.py:488: DeprecationWarning: `set_matplotlib_formats` is deprecated since IPython 7.23, directly use `matplotlib_inline.backend_inline.set_matplotlib_formats()`\n",
      "  IPython.display.set_matplotlib_formats(*ipython_format)\n"
     ]
    }
   ],
   "source": [
    "import scanpy as sc\n",
    "import multimil as mtm\n",
    "import anndata as ad\n",
    "import numpy as np\n",
    "import scib\n",
    "\n",
    "sc.set_figure_params(dpi=100, frameon=False, facecolor=None, transparent=True)"
   ]
  },
  {
   "cell_type": "code",
   "execution_count": 3,
   "id": "ebc43626-dcf1-4695-9830-2e4f246e60a7",
   "metadata": {},
   "outputs": [],
   "source": [
    "%load_ext autoreload\n",
    "%autoreload 2"
   ]
  },
  {
   "cell_type": "markdown",
   "id": "81a5d846-217d-4a0b-9491-d170ce136f31",
   "metadata": {},
   "source": [
    "## Try disease prediction"
   ]
  },
  {
   "cell_type": "markdown",
   "id": "c35a738a-2f0d-42e2-973c-938c0339ce14",
   "metadata": {},
   "source": [
    "### MultiMIL without single atac"
   ]
  },
  {
   "cell_type": "code",
   "execution_count": 4,
   "id": "d76b09da-2066-4e6e-b29c-a393080dddce",
   "metadata": {},
   "outputs": [],
   "source": [
    "adata = sc.read_h5ad('/home/icb/zihe.zheng/projects/microglia/data/integrated_all_5000atac_no_single_atac.h5ad')"
   ]
  },
  {
   "cell_type": "code",
   "execution_count": 5,
   "id": "c020c167-ba27-4622-bc79-e3826f0d78b4",
   "metadata": {},
   "outputs": [],
   "source": [
    "sc.pp.neighbors(adata, use_rep=\"X_multiMIL\")\n",
    "sc.tl.umap(adata)"
   ]
  },
  {
   "cell_type": "code",
   "execution_count": 6,
   "id": "2b97bf5f-c9a6-47a3-bcc3-85ea9bac8503",
   "metadata": {},
   "outputs": [],
   "source": [
    "adata.obs['AD'] = np.where(\n",
    "    (adata.obs['ADdiag3types'] == 'nonAD') | (adata.obs['Overall AD neuropathological Change'].isin(['Not AD', 'Reference'])),\n",
    "    'healthy',  # Value if condition is True\n",
    "    'AD'  # Value if condition is False, adjust this as necessary\n",
    ")"
   ]
  },
  {
   "cell_type": "code",
   "execution_count": 7,
   "id": "d5042238-09b6-4fe6-8a00-a9ee83a26fdb",
   "metadata": {},
   "outputs": [],
   "source": [
    "# Ensure both categorical columns have the same categories\n",
    "combined_categories = adata.obs['Donor ID'].cat.categories.union(adata.obs['subject'].cat.categories)\n",
    "\n",
    "# Set the combined categories for both columns\n",
    "adata.obs['Donor ID'] = adata.obs['Donor ID'].cat.set_categories(combined_categories)\n",
    "adata.obs['subject'] = adata.obs['subject'].cat.set_categories(combined_categories)\n",
    "\n",
    "# Fill NaN values in 'Brain Region' with values from 'brainRegion'\n",
    "# adata.obs['Donor ID'] = adata.obs['Donor ID'].replace('nan', np.nan)  # Ensure real NaN values\n",
    "# adata.obs['Donor ID'] = adata.obs['Donor ID'].fillna(adata.obs['subject'])\n",
    "adata.obs['Donor ID'] = adata.obs['Donor ID'].mask(adata.obs['Donor ID'] == 'nan', adata.obs['subject'])\n"
   ]
  },
  {
   "cell_type": "code",
   "execution_count": 8,
   "id": "8b061f9b-85ff-4dba-9d13-0dbfdc8dff9c",
   "metadata": {
    "scrolled": true
   },
   "outputs": [],
   "source": [
    "new_adata = ad.AnnData(X=adata.obsm['X_multiMIL'])\n",
    "new_adata.obs = adata.obs.copy()"
   ]
  },
  {
   "cell_type": "code",
   "execution_count": 9,
   "id": "5cb70b3b-48f3-484b-a620-bb5a76f2054c",
   "metadata": {},
   "outputs": [],
   "source": [
    "new_adata.obsm = adata.obsm.copy()"
   ]
  },
  {
   "cell_type": "code",
   "execution_count": 10,
   "id": "bf1b626b-f702-443e-a823-883127838a77",
   "metadata": {
    "scrolled": true
   },
   "outputs": [
    {
     "data": {
      "text/plain": [
       "(array([360.,  39.,  34.,  33.,  19.,  15.,  10.,   0.,   2.,   3.]),\n",
       " array([   0. ,  344.9,  689.8, 1034.7, 1379.6, 1724.5, 2069.4, 2414.3,\n",
       "        2759.2, 3104.1, 3449. ]),\n",
       " <BarContainer object of 10 artists>)"
      ]
     },
     "execution_count": 10,
     "metadata": {},
     "output_type": "execute_result"
    },
    {
     "data": {
      "image/png": "[encoded data removed]",
      "text/plain": [
       "<Figure size 400x400 with 1 Axes>"
      ]
     },
     "metadata": {
      "image/png": {
       "height": 360,
       "width": 386
      }
     },
     "output_type": "display_data"
    }
   ],
   "source": [
    "# number of cells per donor varies a lot\n",
    "import matplotlib.pyplot as plt\n",
    "plt.hist(adata.obs['Donor ID'].value_counts())"
   ]
  },
  {
   "cell_type": "code",
   "execution_count": 11,
   "id": "3ca124e3-101b-467a-b9a2-ea0b1b4af766",
   "metadata": {},
   "outputs": [],
   "source": [
    "mask = adata.obs['Donor ID'].value_counts() > 100\n",
    "samples = list(mask[mask].index)"
   ]
  },
  {
   "cell_type": "code",
   "execution_count": 12,
   "id": "2fb7ac2c-6f61-4742-b613-d1547e933419",
   "metadata": {},
   "outputs": [],
   "source": [
    "sample_key = 'Donor ID'"
   ]
  },
  {
   "cell_type": "code",
   "execution_count": 13,
   "id": "55ddcf7e-9593-4253-a139-8cbef4e1efa8",
   "metadata": {},
   "outputs": [],
   "source": [
    "# samples = np.unique(adata.obs[sample_key])\n",
    "n_samples = len(samples)\n",
    "query_proportion = 0.2"
   ]
  },
  {
   "cell_type": "code",
   "execution_count": 14,
   "id": "e6c20887-8267-4b58-b314-7f6afca39e78",
   "metadata": {},
   "outputs": [],
   "source": [
    "rng = np.random.default_rng(0)\n",
    "query_samples = rng.choice(samples, int(n_samples * query_proportion), replace=False)"
   ]
  },
  {
   "cell_type": "code",
   "execution_count": 15,
   "id": "9f47cc15-565e-4429-8305-1c8e641ae684",
   "metadata": {},
   "outputs": [],
   "source": [
    "query = new_adata[new_adata.obs[sample_key].isin(query_samples)].copy()\n",
    "adata = new_adata[~new_adata.obs[sample_key].isin(query_samples)].copy()\n",
    "\n",
    "query.obs[\"ref\"] = \"query\"\n",
    "adata.obs[\"ref\"] = \"reference\""
   ]
  },
  {
   "cell_type": "code",
   "execution_count": 16,
   "id": "d3e8621e-e8d3-4eaa-8363-4b70680d6c1b",
   "metadata": {},
   "outputs": [],
   "source": [
    "classification_keys = [\"AD\"]\n",
    "z_dim = 16\n",
    "sample_key = 'Donor ID'\n",
    "categorical_covariate_keys = classification_keys + [sample_key]"
   ]
  },
  {
   "cell_type": "code",
   "execution_count": 17,
   "id": "e72d0c8f-9c7d-4d75-88a5-9b7e6b65c160",
   "metadata": {},
   "outputs": [],
   "source": [
    "idx = adata.obs[sample_key].sort_values().index\n",
    "adata = adata[idx].copy()\n",
    "\n",
    "idx = query.obs[sample_key].sort_values().index\n",
    "query = query[idx].copy()"
   ]
  },
  {
   "cell_type": "code",
   "execution_count": 18,
   "id": "8f461309-fdb1-49f1-91d3-2c94e1e4f893",
   "metadata": {},
   "outputs": [
    {
     "name": "stderr",
     "output_type": "stream",
     "text": [
      "/home/icb/zihe.zheng/miniconda3/envs/multimil/lib/python3.10/abc.py:119: FutureWarning: SparseDataset is deprecated and will be removed in late 2024. It has been replaced by the public classes CSRDataset and CSCDataset.\n",
      "\n",
      "For instance checks, use `isinstance(X, (anndata.experimental.CSRDataset, anndata.experimental.CSCDataset))` instead.\n",
      "\n",
      "For creation, use `anndata.experimental.sparse_dataset(X)` instead.\n",
      "\n",
      "  return _abc_instancecheck(cls, instance)\n",
      "An NVIDIA GPU may be present on this machine, but a CUDA-enabled jaxlib is not installed. Falling back to cpu.\n",
      "/home/icb/zihe.zheng/miniconda3/envs/multimil/lib/python3.10/site-packages/scvi/data/fields/_layer_field.py:90: UserWarning: adata.X does not contain unnormalized count data. Are you sure this is what you want?\n",
      "  warnings.warn(\n",
      "/home/icb/zihe.zheng/miniconda3/envs/multimil/lib/python3.10/site-packages/scvi/data/_utils.py:172: UserWarning: Category 0 in adata.obs['Donor ID'] has fewer than 3 cells. Models may not train properly.\n",
      "  warnings.warn(\n"
     ]
    }
   ],
   "source": [
    "mtm.model.MILClassifier.setup_anndata(\n",
    "    adata,\n",
    "    categorical_covariate_keys=categorical_covariate_keys,\n",
    ")"
   ]
  },
  {
   "cell_type": "code",
   "execution_count": 19,
   "id": "968ea54d-0a95-488b-a65c-a183645ccc25",
   "metadata": {},
   "outputs": [],
   "source": [
    "mil = mtm.model.MILClassifier(\n",
    "    adata,\n",
    "    classification=classification_keys,\n",
    "    z_dim=z_dim,\n",
    "    sample_key=sample_key,\n",
    "    class_loss_coef=0.1,\n",
    ")"
   ]
  },
  {
   "cell_type": "code",
   "execution_count": null,
   "id": "c49a9a5b-7914-4c96-a1c7-4a25f22fb96d",
   "metadata": {
    "scrolled": true
   },
   "outputs": [
    {
     "name": "stderr",
     "output_type": "stream",
     "text": [
      "/home/icb/zihe.zheng/miniconda3/envs/multimil/lib/python3.10/site-packages/lightning_fabric/plugins/environments/slurm.py:165: PossibleUserWarning: The `srun` command is available on your system but is not used. HINT: If your intention is to run Lightning on SLURM, prepend your python command with `srun` like so: srun python /home/icb/zihe.zheng/miniconda3/envs/multimil/lib/py ...\n",
      "  rank_zero_warn(\n",
      "GPU available: True (cuda), used: True\n",
      "TPU available: False, using: 0 TPU cores\n",
      "IPU available: False, using: 0 IPUs\n",
      "HPU available: False, using: 0 HPUs\n",
      "/home/icb/zihe.zheng/miniconda3/envs/multimil/lib/python3.10/site-packages/lightning_fabric/plugins/environments/slurm.py:165: PossibleUserWarning: The `srun` command is available on your system but is not used. HINT: If your intention is to run Lightning on SLURM, prepend your python command with `srun` like so: srun python /home/icb/zihe.zheng/miniconda3/envs/multimil/lib/py ...\n",
      "  rank_zero_warn(\n",
      "You are using a CUDA device ('NVIDIA A100-PCIE-40GB MIG 3g.20gb') that has Tensor Cores. To properly utilize them, you should set `torch.set_float32_matmul_precision('medium' | 'high')` which will trade-off precision for performance. For more details, read https://pytorch.org/docs/stable/generated/torch.set_float32_matmul_precision.html#torch.set_float32_matmul_precision\n",
      "/home/icb/zihe.zheng/miniconda3/envs/multimil/lib/python3.10/site-packages/pytorch_lightning/callbacks/model_checkpoint.py:613: UserWarning: Checkpoint directory /ictstr01/home/icb/zihe.zheng/projects/microglia/scvi_log/lightning_logs/version_1/checkpoints exists and is not empty.\n",
      "  rank_zero_warn(f\"Checkpoint directory {dirpath} exists and is not empty.\")\n",
      "LOCAL_RANK: 0 - CUDA_VISIBLE_DEVICES: [MIG-6f66a4db-c267-549f-945a-69946ecc988e]\n"
     ]
    },
    {
     "name": "stdout",
     "output_type": "stream",
     "text": [
      "Epoch 1/200:   0%|                                                                          | 0/200 [00:00<?, ?it/s]"
     ]
    },
    {
     "name": "stderr",
     "output_type": "stream",
     "text": [
      "/home/icb/zihe.zheng/miniconda3/envs/multimil/lib/python3.10/abc.py:119: FutureWarning: SparseDataset is deprecated and will be removed in late 2024. It has been replaced by the public classes CSRDataset and CSCDataset.\n",
      "\n",
      "For instance checks, use `isinstance(X, (anndata.experimental.CSRDataset, anndata.experimental.CSCDataset))` instead.\n",
      "\n",
      "For creation, use `anndata.experimental.sparse_dataset(X)` instead.\n",
      "\n",
      "  return _abc_instancecheck(cls, instance)\n",
      "/home/icb/zihe.zheng/miniconda3/envs/multimil/lib/python3.10/site-packages/torchmetrics/utilities/prints.py:32: DeprecationWarning: This property will be removed in 2.0.0. Use `Metric.updated_called` instead.\n",
      "  return fn(*args, **kwargs)\n",
      "/home/icb/zihe.zheng/miniconda3/envs/multimil/lib/python3.10/site-packages/torchmetrics/utilities/prints.py:32: DeprecationWarning: This property will be removed in 2.0.0. Use `Metric.updated_called` instead.\n",
      "  return fn(*args, **kwargs)\n"
     ]
    },
    {
     "name": "stdout",
     "output_type": "stream",
     "text": [
      "Epoch 3/200:   1%|▍                                           | 2/200 [00:25<37:07, 11.25s/it, loss=0.0373, v_num=1]"
     ]
    },
    {
     "name": "stderr",
     "output_type": "stream",
     "text": [
      "/home/icb/zihe.zheng/miniconda3/envs/multimil/lib/python3.10/site-packages/torchmetrics/utilities/prints.py:32: DeprecationWarning: This property will be removed in 2.0.0. Use `Metric.updated_called` instead.\n",
      "  return fn(*args, **kwargs)\n",
      "/home/icb/zihe.zheng/miniconda3/envs/multimil/lib/python3.10/site-packages/torchmetrics/utilities/prints.py:32: DeprecationWarning: This property will be removed in 2.0.0. Use `Metric.updated_called` instead.\n",
      "  return fn(*args, **kwargs)\n"
     ]
    },
    {
     "name": "stdout",
     "output_type": "stream",
     "text": [
      "Epoch 4/200:   2%|▋                                            | 3/200 [00:28<25:11,  7.67s/it, loss=0.067, v_num=1]"
     ]
    },
    {
     "name": "stderr",
     "output_type": "stream",
     "text": [
      "/home/icb/zihe.zheng/miniconda3/envs/multimil/lib/python3.10/site-packages/torchmetrics/utilities/prints.py:32: DeprecationWarning: This property will be removed in 2.0.0. Use `Metric.updated_called` instead.\n",
      "  return fn(*args, **kwargs)\n",
      "/home/icb/zihe.zheng/miniconda3/envs/multimil/lib/python3.10/site-packages/torchmetrics/utilities/prints.py:32: DeprecationWarning: This property will be removed in 2.0.0. Use `Metric.updated_called` instead.\n",
      "  return fn(*args, **kwargs)\n"
     ]
    },
    {
     "name": "stdout",
     "output_type": "stream",
     "text": [
      "Epoch 5/200:   2%|▉                                           | 4/200 [00:32<19:33,  5.99s/it, loss=0.0602, v_num=1]"
     ]
    },
    {
     "name": "stderr",
     "output_type": "stream",
     "text": [
      "/home/icb/zihe.zheng/miniconda3/envs/multimil/lib/python3.10/site-packages/torchmetrics/utilities/prints.py:32: DeprecationWarning: This property will be removed in 2.0.0. Use `Metric.updated_called` instead.\n",
      "  return fn(*args, **kwargs)\n",
      "/home/icb/zihe.zheng/miniconda3/envs/multimil/lib/python3.10/site-packages/torchmetrics/utilities/prints.py:32: DeprecationWarning: This property will be removed in 2.0.0. Use `Metric.updated_called` instead.\n",
      "  return fn(*args, **kwargs)\n"
     ]
    },
    {
     "name": "stdout",
     "output_type": "stream",
     "text": [
      "Epoch 6/200:   2%|█                                           | 5/200 [00:35<16:27,  5.06s/it, loss=0.0549, v_num=1]"
     ]
    },
    {
     "name": "stderr",
     "output_type": "stream",
     "text": [
      "/home/icb/zihe.zheng/miniconda3/envs/multimil/lib/python3.10/site-packages/torchmetrics/utilities/prints.py:32: DeprecationWarning: This property will be removed in 2.0.0. Use `Metric.updated_called` instead.\n",
      "  return fn(*args, **kwargs)\n",
      "/home/icb/zihe.zheng/miniconda3/envs/multimil/lib/python3.10/site-packages/torchmetrics/utilities/prints.py:32: DeprecationWarning: This property will be removed in 2.0.0. Use `Metric.updated_called` instead.\n",
      "  return fn(*args, **kwargs)\n"
     ]
    },
    {
     "name": "stdout",
     "output_type": "stream",
     "text": [
      "Epoch 7/200:   3%|█▎                                          | 6/200 [00:39<15:20,  4.74s/it, loss=0.0392, v_num=1]"
     ]
    },
    {
     "name": "stderr",
     "output_type": "stream",
     "text": [
      "/home/icb/zihe.zheng/miniconda3/envs/multimil/lib/python3.10/site-packages/torchmetrics/utilities/prints.py:32: DeprecationWarning: This property will be removed in 2.0.0. Use `Metric.updated_called` instead.\n",
      "  return fn(*args, **kwargs)\n",
      "/home/icb/zihe.zheng/miniconda3/envs/multimil/lib/python3.10/site-packages/torchmetrics/utilities/prints.py:32: DeprecationWarning: This property will be removed in 2.0.0. Use `Metric.updated_called` instead.\n",
      "  return fn(*args, **kwargs)\n"
     ]
    },
    {
     "name": "stdout",
     "output_type": "stream",
     "text": [
      "Epoch 8/200:   4%|█▌                                          | 7/200 [00:44<15:08,  4.71s/it, loss=0.0381, v_num=1]"
     ]
    },
    {
     "name": "stderr",
     "output_type": "stream",
     "text": [
      "/home/icb/zihe.zheng/miniconda3/envs/multimil/lib/python3.10/site-packages/torchmetrics/utilities/prints.py:32: DeprecationWarning: This property will be removed in 2.0.0. Use `Metric.updated_called` instead.\n",
      "  return fn(*args, **kwargs)\n",
      "/home/icb/zihe.zheng/miniconda3/envs/multimil/lib/python3.10/site-packages/torchmetrics/utilities/prints.py:32: DeprecationWarning: This property will be removed in 2.0.0. Use `Metric.updated_called` instead.\n",
      "  return fn(*args, **kwargs)\n"
     ]
    },
    {
     "name": "stdout",
     "output_type": "stream",
     "text": [
      "Epoch 9/200:   4%|█▊                                          | 8/200 [00:47<13:32,  4.23s/it, loss=0.0363, v_num=1]"
     ]
    },
    {
     "name": "stderr",
     "output_type": "stream",
     "text": [
      "/home/icb/zihe.zheng/miniconda3/envs/multimil/lib/python3.10/site-packages/torchmetrics/utilities/prints.py:32: DeprecationWarning: This property will be removed in 2.0.0. Use `Metric.updated_called` instead.\n",
      "  return fn(*args, **kwargs)\n",
      "/home/icb/zihe.zheng/miniconda3/envs/multimil/lib/python3.10/site-packages/torchmetrics/utilities/prints.py:32: DeprecationWarning: This property will be removed in 2.0.0. Use `Metric.updated_called` instead.\n",
      "  return fn(*args, **kwargs)\n"
     ]
    },
    {
     "name": "stdout",
     "output_type": "stream",
     "text": [
      "Epoch 10/200:   4%|█▉                                         | 9/200 [00:52<13:42,  4.31s/it, loss=0.0555, v_num=1]"
     ]
    },
    {
     "name": "stderr",
     "output_type": "stream",
     "text": [
      "/home/icb/zihe.zheng/miniconda3/envs/multimil/lib/python3.10/site-packages/torchmetrics/utilities/prints.py:32: DeprecationWarning: This property will be removed in 2.0.0. Use `Metric.updated_called` instead.\n",
      "  return fn(*args, **kwargs)\n",
      "/home/icb/zihe.zheng/miniconda3/envs/multimil/lib/python3.10/site-packages/torchmetrics/utilities/prints.py:32: DeprecationWarning: This property will be removed in 2.0.0. Use `Metric.updated_called` instead.\n",
      "  return fn(*args, **kwargs)\n"
     ]
    },
    {
     "name": "stdout",
     "output_type": "stream",
     "text": [
      "Epoch 11/200:   5%|██                                        | 10/200 [00:55<12:44,  4.02s/it, loss=0.0339, v_num=1]"
     ]
    },
    {
     "name": "stderr",
     "output_type": "stream",
     "text": [
      "/home/icb/zihe.zheng/miniconda3/envs/multimil/lib/python3.10/site-packages/torchmetrics/utilities/prints.py:32: DeprecationWarning: This property will be removed in 2.0.0. Use `Metric.updated_called` instead.\n",
      "  return fn(*args, **kwargs)\n",
      "/home/icb/zihe.zheng/miniconda3/envs/multimil/lib/python3.10/site-packages/torchmetrics/utilities/prints.py:32: DeprecationWarning: This property will be removed in 2.0.0. Use `Metric.updated_called` instead.\n",
      "  return fn(*args, **kwargs)\n"
     ]
    },
    {
     "name": "stdout",
     "output_type": "stream",
     "text": [
      "Epoch 12/200:   6%|██▎                                       | 11/200 [00:58<11:54,  3.78s/it, loss=0.0292, v_num=1]"
     ]
    },
    {
     "name": "stderr",
     "output_type": "stream",
     "text": [
      "/home/icb/zihe.zheng/miniconda3/envs/multimil/lib/python3.10/site-packages/torchmetrics/utilities/prints.py:32: DeprecationWarning: This property will be removed in 2.0.0. Use `Metric.updated_called` instead.\n",
      "  return fn(*args, **kwargs)\n",
      "/home/icb/zihe.zheng/miniconda3/envs/multimil/lib/python3.10/site-packages/torchmetrics/utilities/prints.py:32: DeprecationWarning: This property will be removed in 2.0.0. Use `Metric.updated_called` instead.\n",
      "  return fn(*args, **kwargs)\n"
     ]
    },
    {
     "name": "stdout",
     "output_type": "stream",
     "text": [
      "Epoch 13/200:   6%|██▌                                       | 12/200 [01:01<11:19,  3.61s/it, loss=0.0372, v_num=1]"
     ]
    },
    {
     "name": "stderr",
     "output_type": "stream",
     "text": [
      "/home/icb/zihe.zheng/miniconda3/envs/multimil/lib/python3.10/site-packages/torchmetrics/utilities/prints.py:32: DeprecationWarning: This property will be removed in 2.0.0. Use `Metric.updated_called` instead.\n",
      "  return fn(*args, **kwargs)\n",
      "/home/icb/zihe.zheng/miniconda3/envs/multimil/lib/python3.10/site-packages/torchmetrics/utilities/prints.py:32: DeprecationWarning: This property will be removed in 2.0.0. Use `Metric.updated_called` instead.\n",
      "  return fn(*args, **kwargs)\n"
     ]
    }
   ],
   "source": [
    "mil.train(lr=1e-3)"
   ]
  },
  {
   "cell_type": "code",
   "execution_count": null,
   "id": "3303f942-46e7-470a-b687-27c86b3ab877",
   "metadata": {},
   "outputs": [],
   "source": [
    "mil.plot_losses()"
   ]
  },
  {
   "cell_type": "code",
   "execution_count": null,
   "id": "868caa56-c88c-4afd-911a-7423341d64f3",
   "metadata": {
    "scrolled": true
   },
   "outputs": [],
   "source": [
    "mil.get_model_output()\n",
    "adata"
   ]
  },
  {
   "cell_type": "code",
   "execution_count": null,
   "id": "f9be9143-42ff-43e9-b133-53200ba44914",
   "metadata": {},
   "outputs": [],
   "source": [
    "sc.pl.umap(adata, color=[\"AD\", \"predicted_AD\", \"cell_attn\"], ncols=1, frameon=False, vmax=\"p99\")"
   ]
  },
  {
   "cell_type": "code",
   "execution_count": null,
   "id": "d2facf74-97e0-41ba-85ca-b4b9b0cbe823",
   "metadata": {},
   "outputs": [],
   "source": [
    "new_model = mtm.model.MILClassifier.load_query_data(query, mil)"
   ]
  },
  {
   "cell_type": "code",
   "execution_count": null,
   "id": "5ecbc76f-e7b3-489e-a874-c85ba45a64d0",
   "metadata": {},
   "outputs": [],
   "source": [
    "new_model.get_model_output()\n",
    "query"
   ]
  },
  {
   "cell_type": "code",
   "execution_count": null,
   "id": "5fb78cdc-27ca-4d34-b790-bbae0fb35c30",
   "metadata": {},
   "outputs": [],
   "source": [
    "adata_both = ad.concat([adata, query])"
   ]
  },
  {
   "cell_type": "code",
   "execution_count": null,
   "id": "36ab75a6-c387-4a4d-818d-bd7b3af72792",
   "metadata": {},
   "outputs": [],
   "source": [
    "sc.pl.umap(adata_both, color=[\"ann_level_3_label_final\", \"disease\", \"cell_attn\"], ncols=1, frameon=False, vmax=\"p99\")"
   ]
  },
  {
   "cell_type": "code",
   "execution_count": null,
   "id": "416ac282-69f0-4b29-9019-f4e33b9b08ee",
   "metadata": {},
   "outputs": [],
   "source": [
    "from sklearn.metrics import classification_report\n",
    "\n",
    "print(classification_report(query.obs[\"disease\"], query.obs[\"predicted_disease\"]))"
   ]
  },
  {
   "cell_type": "code",
   "execution_count": null,
   "id": "51bda12a-1cae-4100-a9cd-f251ac75ddd8",
   "metadata": {},
   "outputs": [],
   "source": []
  },
  {
   "cell_type": "code",
   "execution_count": null,
   "id": "ad7a0cc3-154b-45cd-bb7e-1b639d24a825",
   "metadata": {},
   "outputs": [],
   "source": []
  },
  {
   "cell_type": "code",
   "execution_count": null,
   "id": "ae78bbec-069c-4fa4-96c7-43b2c7182ce3",
   "metadata": {},
   "outputs": [],
   "source": []
  },
  {
   "cell_type": "code",
   "execution_count": null,
   "id": "dfe02468-00d7-4449-a287-34e85c9dcb9c",
   "metadata": {},
   "outputs": [],
   "source": []
  },
  {
   "cell_type": "code",
   "execution_count": null,
   "id": "13238c5d-e60d-47d0-b1d7-00b430a01fa6",
   "metadata": {},
   "outputs": [],
   "source": []
  },
  {
   "cell_type": "code",
   "execution_count": null,
   "id": "d0132eb7-6d3f-4c71-b36e-561143567bce",
   "metadata": {},
   "outputs": [],
   "source": []
  },
  {
   "cell_type": "code",
   "execution_count": null,
   "id": "e5753d1b-a635-42cd-9a6d-783c32837a7d",
   "metadata": {},
   "outputs": [],
   "source": []
  },
  {
   "cell_type": "code",
   "execution_count": null,
   "id": "9d6ea535-a4c5-4874-9d88-42cba79b63ed",
   "metadata": {},
   "outputs": [],
   "source": []
  },
  {
   "cell_type": "code",
   "execution_count": null,
   "id": "cfa67e68-f309-4afa-8a13-7a3901181531",
   "metadata": {},
   "outputs": [],
   "source": []
  }
 ],
 "metadata": {
  "kernelspec": {
   "display_name": "multimil",
   "language": "python",
   "name": "multimil"
  },
  "language_info": {
   "codemirror_mode": {
    "name": "ipython",
    "version": 3
   },
   "file_extension": ".py",
   "mimetype": "text/x-python",
   "name": "python",
   "nbconvert_exporter": "python",
   "pygments_lexer": "ipython3",
   "version": "3.10.14"
  }
 },
 "nbformat": 4,
 "nbformat_minor": 5
}
