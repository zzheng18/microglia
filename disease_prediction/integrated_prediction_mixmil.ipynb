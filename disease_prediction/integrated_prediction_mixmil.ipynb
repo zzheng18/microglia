{
 "cells": [
  {
   "cell_type": "code",
   "execution_count": 18,
   "id": "6912986c-bc34-4483-bf92-7c2202be991a",
   "metadata": {},
   "outputs": [],
   "source": [
    "from mixmil.paths import DATA\n",
    "import pandas as pd\n",
    "from tqdm import tqdm\n",
    "from sklearn.preprocessing import StandardScaler\n",
    "import numpy as np\n",
    "import anndata as ad\n",
    "import random\n",
    "from mixmil import MixMIL\n",
    "import torch\n",
    "from sklearn.metrics import roc_auc_score, f1_score\n",
    "import matplotlib.pyplot as plt\n",
    "import scipy.stats as st\n",
    "\n",
    "import scanpy as sc"
   ]
  },
  {
   "cell_type": "code",
   "execution_count": 4,
   "id": "4290feed-02ed-47df-8419-08365852490a",
   "metadata": {},
   "outputs": [
    {
     "name": "stdout",
     "output_type": "stream",
     "text": [
      "['R4917253', 'R9976232', 'R5415701', 'H20.33.036', 'R3121235', 'R6622577', 'R6268135', 'R5138383', 'R3825485', 'R6163933', 'R4345802', 'R7483736', 'R2565200', 'R6476704', 'R1262106', 'R3426726', 'R9936070', 'H21.33.032', 'R7915228', 'R3035452', 'R6847727', 'R9145673', 'R7738727', 'R1476204', 'R3857927', 'H21.33.036', 'R9566976', 'H21.33.015', 'R8799615', 'R4042599', 'R6114572', 'R7095349', 'H21.33.037', 'R4323608', 'R5636935', 'R3874626', 'R7876628', 'R8202775', 'R2393217', 'R7054373', 'R5739959', 'R6698302', 'R3128463', 'H21.33.005', 'R7039412', 'H20.33.015', 'H21.33.028', 'R9354381', 'R5079327', 'R9210731', 'R8635714', 'R7995082', 'H19.33.004', 'R7881801', 'R6289070', 'R4053976', 'R2881301', 'R3978789', 'R9116123', 'H21.33.007', 'R2124216', 'R7286984', 'R2577726', 'R2879330', 'R1327471', 'R7015250', 'R5883172', 'H21.33.025', 'H21.33.019', 'R3922205', 'R6600608', 'R6284240', 'H21.33.043', 'R3814553', 'R3607578', 'R1074668', 'R6913259', 'R7516349', 'R7384738', 'R8075334', 'H21.33.026', 'R2264515', 'R9393519', 'R4470253', 'R4005989', 'R3631183', 'R9064073', 'R7758743', 'R7950545', 'R2649907', 'R3997006', 'R3209518', 'R5126867', 'R8781115', 'R1830086', 'R4388056', 'H21.33.040', 'R2488731', 'R8477425', 'R6939144', 'H21.33.029', 'R5394614', 'R7840275', 'R2197944', 'R1236313', 'R8608442']\n"
     ]
    }
   ],
   "source": [
    "# read integrated data\n",
    "adata = sc.read_h5ad('/lustre/groups/ml01/projects/2024_microglia_zihe.zheng/integrated_data/seaad_rosmap_integrated_harmonized.h5ad')\n",
    "\n",
    "# define parameters\n",
    "sample_key = 'Donor_ID'\n",
    "classification_keys = \"apoe_label\"\n",
    "z_dim = 16\n",
    "categorical_covariate_keys = [classification_keys] + [sample_key]\n",
    "seed = 0\n",
    "\n",
    "# create new adata with multigrate embeddings\n",
    "new_adata = ad.AnnData(X=adata.obsm['X_multigrate'])\n",
    "new_adata.obs = adata.obs.copy()\n",
    "new_adata.obsm = adata.obsm.copy()\n",
    "new_adata = new_adata[~new_adata.obs.apoe_label.isna()]\n",
    "\n",
    "# stratified sampling by category \n",
    "query_samples = []\n",
    "query_proportion = 0.2\n",
    "for cat in new_adata.obs[classification_keys].unique():\n",
    "    adata_cat = new_adata[new_adata.obs[classification_keys] == cat]\n",
    "    samples = list(np.unique(adata_cat.obs[sample_key]))\n",
    "    n_samples = len(samples)\n",
    "    random.seed(seed)\n",
    "    query_samples.extend(random.sample(samples, int(n_samples * query_proportion)))\n",
    "    \n",
    "print(query_samples)\n",
    "\n",
    "# separate query and training adata\n",
    "query = new_adata[new_adata.obs[sample_key].isin(query_samples)].copy()\n",
    "adata = new_adata[~new_adata.obs[sample_key].isin(query_samples)].copy()\n",
    "query.obs[\"ref\"] = \"query\"\n",
    "adata.obs[\"ref\"] = \"reference\"\n",
    "\n",
    "# sort index in both training adata and query \n",
    "idx = adata.obs[sample_key].sort_values().index\n",
    "adata = adata[idx].copy()\n",
    "idx = query.obs[sample_key].sort_values().index\n",
    "query = query[idx].copy()"
   ]
  },
  {
   "cell_type": "code",
   "execution_count": 48,
   "id": "d3ce4305-9a48-4ec5-b849-0584eb679638",
   "metadata": {},
   "outputs": [],
   "source": [
    "train_adata = adata.copy()\n",
    "test_adata = query.copy()"
   ]
  },
  {
   "cell_type": "code",
   "execution_count": 49,
   "id": "93811571-f72c-4ca5-994b-b8014a414226",
   "metadata": {
    "scrolled": true
   },
   "outputs": [],
   "source": [
    "# sex_dict = dict(zip(train_adata.obs['Donor_ID'], train_adata.obs['Sex']))\n",
    "# test_sex_dict = dict(zip(test_adata.obs['Donor ID'], test_adata.obs['Sex']))"
   ]
  },
  {
   "cell_type": "code",
   "execution_count": 50,
   "id": "f68a626c-f9a7-4d70-9bec-ad0ca7147d94",
   "metadata": {
    "scrolled": true
   },
   "outputs": [],
   "source": [
    "train_adata.obs[\"apoe_label\"] = train_adata.obs[\"apoe_label\"].astype('int64')\n",
    "test_adata.obs[\"apoe_label\"] = test_adata.obs[\"apoe_label\"].astype('int64')"
   ]
  },
  {
   "cell_type": "code",
   "execution_count": 51,
   "id": "aa985a89-22d9-44a2-9cda-d15de2b263b7",
   "metadata": {},
   "outputs": [],
   "source": [
    "# prepare train data\n",
    "train_bags = train_adata.obs[\"Donor_ID\"].unique().tolist()\n",
    "Xs = [torch.Tensor(train_adata[train_adata.obs[\"Donor_ID\"] == bag].X) for bag in train_bags]\n",
    "# F = torch.Tensor([[1 if sex_dict[bag] == 'Female' else 0] for bag in train_bags]) # fixed effects for sex\n",
    "F = torch.ones((len(train_bags), 1))\n",
    "Y = torch.Tensor(train_adata.obs[[\"Donor_ID\", \"apoe_label\"]].drop_duplicates().set_index(\"Donor_ID\").loc[train_bags].values)"
   ]
  },
  {
   "cell_type": "code",
   "execution_count": 52,
   "id": "08836096-9c1e-4554-bd5b-e61ccb6516e1",
   "metadata": {},
   "outputs": [],
   "source": [
    "# prepare test data, following official train-test split\n",
    "test_bags = test_adata.obs[\"Donor_ID\"].unique().tolist()\n",
    "test_Xs = [torch.Tensor(test_adata[test_adata.obs[\"Donor_ID\"] == bag].X) for bag in test_bags]\n",
    "# test_F = torch.Tensor([[1 if test_sex_dict[bag] == 'Female' else 0] for bag in test_bags])\n",
    "test_Y = torch.Tensor(test_adata.obs[[\"Donor_ID\", \"apoe_label\"]].drop_duplicates().set_index(\"Donor_ID\").loc[test_bags].values)"
   ]
  },
  {
   "cell_type": "code",
   "execution_count": 53,
   "id": "df4c4675-76cf-4a02-90e8-3a3175d3f5e3",
   "metadata": {},
   "outputs": [
    {
     "name": "stderr",
     "output_type": "stream",
     "text": [
      "/home/icb/zihe.zheng/miniconda3/envs/mixmil2/lib/python3.10/site-packages/sklearn/linear_model/_logistic.py:1905: FutureWarning: 'multi_class' was deprecated in version 1.5 and will be removed in 1.7. From then on, it will always use 'multinomial'. Leave it to its default value to avoid this warning.\n",
      "  warnings.warn(\n"
     ]
    },
    {
     "name": "stdout",
     "output_type": "stream",
     "text": [
      "Macro_F1 0.2566742252456538 Spearman: 0.108\n"
     ]
    }
   ],
   "source": [
    "# initialize model with mean model and Bernoulli likelihood\n",
    "model = MixMIL.init_with_mean_model(Xs, F, Y, likelihood=\"categorical\", mean_field=True)\n",
    "y_pred_mean = model.predict(test_Xs)\n",
    "y_pred_labels = torch.argmax(y_pred_mean, dim=-1)\n",
    "print(\n",
    "    \"Macro_F1\",\n",
    "    f1_score(test_Y, y_pred_labels, average=\"macro\"),\n",
    "    \"Spearman:\",\n",
    "    round(st.spearmanr(test_Y, y_pred_labels).correlation, 3),\n",
    ")"
   ]
  },
  {
   "cell_type": "code",
   "execution_count": 54,
   "id": "18c41337-7a1a-434e-9a62-f332cf4261b8",
   "metadata": {},
   "outputs": [],
   "source": [
    "def to_device(el, device):\n",
    "    \"\"\"\n",
    "    Move a nested structure of elements (dict, list, tuple, torch.Tensor, torch.nn.Module) to the specified device.\n",
    "\n",
    "    Parameters:\n",
    "    - el: Element or nested structure of elements to be moved to the device.\n",
    "    - device (torch.device): The target device, such as 'cuda' for GPU or 'cpu' for CPU.\n",
    "\n",
    "    Returns:\n",
    "    - Transferred element(s) in the same structure: Elements moved to the specified device.\n",
    "    \"\"\"\n",
    "    if isinstance(el, dict):\n",
    "        return {k: to_device(v, device) for k, v in el.items()}\n",
    "    elif isinstance(el, (list, tuple)):\n",
    "        return [to_device(x, device) for x in el]\n",
    "    elif isinstance(el, (torch.Tensor, torch.nn.Module)):\n",
    "        return el.to(device)\n",
    "    else:\n",
    "        return el"
   ]
  },
  {
   "cell_type": "code",
   "execution_count": 55,
   "id": "e8ed0806-4b29-4b1b-bd8a-0f042f5ea991",
   "metadata": {},
   "outputs": [
    {
     "name": "stderr",
     "output_type": "stream",
     "text": [
      "Epoch: 100%|███████████████████████████████████████████████████████████████████████| 1000/1000 [07:14<00:00,  2.30it/s]\n"
     ]
    },
    {
     "name": "stdout",
     "output_type": "stream",
     "text": [
      "Macro_F1 0.2566742252456538 Spearman: 0.108\n"
     ]
    }
   ],
   "source": [
    "# train model for 1000 epochs\n",
    "device = \"cuda:0\" if torch.cuda.is_available() else \"cpu\"\n",
    "model, Xs, F, Y, test_Xs, test_Y = to_device((model, Xs, F, Y, test_Xs, test_Y), device)\n",
    "history = model.train(Xs, F, Y, n_epochs=1000, batch_size = 16, lr = 1e-4)\n",
    "model.to(\"cpu\")\n",
    "test_Xs = [x.cpu() for x in test_Xs]\n",
    "y_pred = model.predict(test_Xs).cpu().numpy()\n",
    "y_pred_labels = torch.argmax(y_pred_mean, dim=-1)\n",
    "y_true = test_Y.cpu().numpy()\n",
    "print(\n",
    "    \"Macro_F1\",\n",
    "    f1_score(y_true, y_pred_labels, average=\"macro\"),\n",
    "    \"Spearman:\",\n",
    "    round(st.spearmanr(y_true, y_pred_labels).correlation, 3),\n",
    ")"
   ]
  },
  {
   "cell_type": "code",
   "execution_count": null,
   "id": "d11643a6-b7fb-41f6-a53a-c480bb31a1eb",
   "metadata": {},
   "outputs": [],
   "source": []
  },
  {
   "cell_type": "code",
   "execution_count": 56,
   "id": "71843111-1ec4-4c49-85e6-3041dd19d5cf",
   "metadata": {},
   "outputs": [
    {
     "data": {
      "image/png": "[encoded data removed]",
      "text/plain": [
       "<Figure size 800x500 with 1 Axes>"
      ]
     },
     "metadata": {},
     "output_type": "display_data"
    }
   ],
   "source": [
    "import matplotlib.pyplot as plt\n",
    "import numpy as np\n",
    "\n",
    "# Extract unique epochs\n",
    "epochs = sorted(set(d['epoch'] for d in history))\n",
    "\n",
    "# Compute average values per epoch\n",
    "metrics = {m: [np.mean([d[m] for d in history if d['epoch'] == e]) for e in epochs] \n",
    "           for m in ['loss', 'll', 'kld']}\n",
    "\n",
    "# Plot\n",
    "plt.figure(figsize=(8, 5))\n",
    "for metric, values in metrics.items():\n",
    "    plt.plot(epochs, values, label=metric)\n",
    "\n",
    "plt.xlabel('Epoch')\n",
    "plt.ylabel('Value')\n",
    "plt.title('Training Metrics per Epoch')\n",
    "plt.legend()\n",
    "plt.grid(True)\n",
    "plt.show()\n"
   ]
  },
  {
   "cell_type": "code",
   "execution_count": null,
   "id": "9f3d4374-bbd9-4bf6-b508-a3e50788f939",
   "metadata": {},
   "outputs": [],
   "source": []
  }
 ],
 "metadata": {
  "kernelspec": {
   "display_name": "mixmil2",
   "language": "python",
   "name": "mixmil2"
  },
  "language_info": {
   "codemirror_mode": {
    "name": "ipython",
    "version": 3
   },
   "file_extension": ".py",
   "mimetype": "text/x-python",
   "name": "python",
   "nbconvert_exporter": "python",
   "pygments_lexer": "ipython3",
   "version": "3.10.14"
  }
 },
 "nbformat": 4,
 "nbformat_minor": 5
}
